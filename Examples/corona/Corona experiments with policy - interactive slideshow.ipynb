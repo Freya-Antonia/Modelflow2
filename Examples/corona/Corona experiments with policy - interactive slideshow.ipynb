{
 "cells": [
  {
   "cell_type": "markdown",
   "metadata": {
    "slideshow": {
     "slide_type": "slide"
    }
   },
   "source": [
    "You are running a jupyter notebook as a slideshow. \n",
    "\n",
    "Press **Space** to proceed. Press **Shift-space** to go back\n",
    "\n",
    "In code cells you press **Shift-Enter** to evaluate your code.\n",
    "\n",
    "You can always use smaller / larger fonts with keyboard shortcuts like **Alt +** and **Alt -** or similar (it could be Ctrl instead of Alt depending on the platform you are on). If the font is messed up, it helps to make it larger/smaller\n",
    "\n",
    "If you want to leave the slideshow and return to the notebook, just press the **upper left X**"
   ]
  },
  {
   "cell_type": "markdown",
   "metadata": {
    "slideshow": {
     "slide_type": "slide"
    }
   },
   "source": [
    "# Modelling spreading of infectious diseases\n",
    "This is an experimental model. Inspirered by https://kagr.shinyapps.io/C19DK/ but for this example without age groups\n",
    "\n",
    "The model is purely for testing the capabilities of ModelFlow, the parameters selected are for ilustration of the dynamic and are not actual estimates. \n",
    "\n",
    "This is a Jupyter Notebook running Python. \n",
    "\n",
    "The notebook is located on github here: https://github.com/IbHansen/Modelflow2\n",
    "\n",
    "Feel free to use this notebook. The notebook should run when it is loaded. \n",
    "\n",
    "If you make changes **To run the notebook** find the menu line above and select **cell>run all** \n",
    "\n",
    "THE Notebook IS PROVIDED \"AS IS\", WITHOUT WARRANTY OF ANY KIND, EXPRESS OR\n",
    "IMPLIED, INCLUDING BUT NOT LIMITED TO THE WARRANTIES OF MERCHANTABILITY,\n",
    "FITNESS FOR A PARTICULAR PURPOSE AND NONINFRINGEMENT. IN NO EVENT SHALL THE\n",
    "AUTHORS OR COPYRIGHT HOLDERS BE LIABLE FOR ANY CLAIM, DAMAGES OR OTHER\n",
    "LIABILITY, WHETHER IN AN ACTION OF CONTRACT, TORT OR OTHERWISE, ARISING FROM,\n",
    "OUT OF OR IN CONNECTION WITH THE SOFTWARE OR THE USE OR OTHER DEALINGS IN THE\n",
    "SOFTWARE.\n",
    "\n",
    "The model is specified as equations. The equations defines the daily transition between the states:\n",
    "\n",
    " - susciptible\n",
    " - exposed\n",
    " - infectious\n",
    " - hospitalized \n",
    " - In ICU \n",
    " - recovered\n",
    " - dead "
   ]
  },
  {
   "cell_type": "markdown",
   "metadata": {
    "slideshow": {
     "slide_type": "slide"
    }
   },
   "source": [
    "The purpose of this notebook is to show the The large effect of small changes in behavior - as expressed with the parameter: \n",
    "probability_of_transmission. This parameter expresses the probability of transmission that COVID-19 is transmitted from one contact. \n",
    "\n",
    "The population is 1 mill persons at the start. \n",
    "\n",
    "First a baseline is run. 10 people are infected at day 30. The baseline assumptions causes a daily growth in \n",
    "infected of about 10 pct. \n",
    "\n",
    "Then a number of experiments are performed. In each experiment the probability of transmission is reduced from day 100. "
   ]
  },
  {
   "cell_type": "markdown",
   "metadata": {
    "slideshow": {
     "slide_type": "slide"
    }
   },
   "source": [
    "# Load Python libraries "
   ]
  },
  {
   "cell_type": "code",
   "execution_count": null,
   "metadata": {
    "scrolled": true,
    "slideshow": {
     "slide_type": "subslide"
    }
   },
   "outputs": [],
   "source": [
    "%matplotlib inline\n",
    "from modelclass import  model\n",
    "from modelnewton import newton_diff\n",
    "from numpy import arange\n",
    "from copy import deepcopy\n",
    "#model.modelflow_auto()"
   ]
  },
  {
   "cell_type": "markdown",
   "metadata": {
    "slideshow": {
     "slide_type": "slide"
    }
   },
   "source": [
    "# Load the model and dataframe. \n",
    "If you want to study the model specification and the parameters in the baseline, the notebook dooing that is located \n",
    "[here](Corona%20specify%20model%20and%20make%20eksperiments.ipynb)"
   ]
  },
  {
   "cell_type": "code",
   "execution_count": null,
   "metadata": {
    "scrolled": true,
    "slideshow": {
     "slide_type": "fragment"
    }
   },
   "outputs": [],
   "source": [
    "mcorona,df  = model.modelload('coronatest.json')  # Get the model and data"
   ]
  },
  {
   "cell_type": "markdown",
   "metadata": {
    "slideshow": {
     "slide_type": "slide"
    }
   },
   "source": [
    "## Create a baseline scenario\n",
    "\n",
    "We start out by creating new model instance for this experiment.\n",
    "A baseline with no change on the probability of transmission is created. and then run a number of experiments which are keept in the model instance. \n",
    "\n",
    "But first the baseline. First the baseline is constructed and simulated. "
   ]
  },
  {
   "cell_type": "code",
   "execution_count": null,
   "metadata": {
    "scrolled": true,
    "slideshow": {
     "slide_type": "subslide"
    }
   },
   "outputs": [],
   "source": [
    "mcorona_new_policy= deepcopy(mcorona)  # make a model instance  for this experiment \n",
    "\n",
    "BASELINE_PROBABILITY_TRANSMISION = 0.04\n",
    "\n",
    "experiment = f'''\n",
    "EXO_EXPOSED                    = 1000      {30} {30}\n",
    "RATE_CONTACT                   = 1\n",
    "PROBABILITY_TRANSMISION        = {BASELINE_PROBABILITY_TRANSMISION}\n",
    "'''\n",
    "\n",
    "baseline = model.update_from_list(df,experiment)                                 # Update the baseline dataframe\n",
    "mcorona_new_policy(baseline\n",
    "                   ,keep = f'{BASELINE_PROBABILITY_TRANSMISION:.0%} (baseline)');  # Run the model on the updated dataframe"
   ]
  },
  {
   "cell_type": "markdown",
   "metadata": {
    "slideshow": {
     "slide_type": "slide"
    }
   },
   "source": [
    "# Now some of the baseline results are shown "
   ]
  },
  {
   "cell_type": "code",
   "execution_count": null,
   "metadata": {
    "scrolled": false,
    "slideshow": {
     "slide_type": "subslide"
    }
   },
   "outputs": [],
   "source": [
    "with mcorona_new_policy.set_smpl(60,75):\n",
    "    figs = mcorona_new_policy.keep_plot('dead hospital_icu infectious',diff=0,legend=1,dec='2',\n",
    "                                        showtype='level',scale='linear');\n",
    "    mcorona_newton = newton_diff(mcorona_new_policy)      # create a newton_diff instance which contains derivatives \n",
    "    eig_dic = mcorona_newton.get_eigenvectors() #  \n",
    "    mcorona_newton.eigplot_all(eig_dic);\n",
    "\n",
    "    "
   ]
  },
  {
   "cell_type": "code",
   "execution_count": null,
   "metadata": {},
   "outputs": [],
   "source": [
    "mcorona_newton.get_feedback(eig_dic)"
   ]
  },
  {
   "cell_type": "code",
   "execution_count": null,
   "metadata": {},
   "outputs": [],
   "source": [
    "    mcorona_newton.eigplot_all({p :v for p,v in eig_dic.items() if p >290} ,maxfig=30);"
   ]
  },
  {
   "cell_type": "markdown",
   "metadata": {
    "slideshow": {
     "slide_type": "slide"
    }
   },
   "source": [
    "## Now,  behavior changes after day 100. \n",
    "We make a number of experiments with lower rate of transmission. "
   ]
  },
  {
   "cell_type": "code",
   "execution_count": null,
   "metadata": {
    "scrolled": true,
    "slideshow": {
     "slide_type": "fragment"
    }
   },
   "outputs": [],
   "source": [
    "for PROBABILITY_TRANSMISION in arange(0.01,0.04,0.005):                # Loop over values for probability of transmission \n",
    "    experiment = f'PROBABILITY_TRANSMISION = {PROBABILITY_TRANSMISION} 100 499' # from day 100 and forward \n",
    "    experiment_dataframe = model.update_from_list(baseline,experiment)    # Update the baseline dataframe\n",
    "    mcorona_new_policy(experiment_dataframe,keep = f'{PROBABILITY_TRANSMISION:.1%}' \n",
    "                      ,max_iterations=500);  # Run the model on the updated dataframe"
   ]
  },
  {
   "cell_type": "markdown",
   "metadata": {
    "slideshow": {
     "slide_type": "slide"
    }
   },
   "source": [
    "## The results for all the experiments can be inspected. \n",
    "You can select the variables you want to look at, and change the way results are displayed"
   ]
  },
  {
   "cell_type": "code",
   "execution_count": null,
   "metadata": {
    "scrolled": false,
    "slideshow": {
     "slide_type": "fragment"
    }
   },
   "outputs": [],
   "source": [
    "mcorona_new_policy.keep_viz('dead hospital_icu infectious')"
   ]
  },
  {
   "cell_type": "markdown",
   "metadata": {
    "scrolled": true,
    "slideshow": {
     "slide_type": "slide"
    }
   },
   "source": [
    "# The take: Small changes in behavior has a big impact on the developement of Covid-19 \n",
    "\n",
    "You can try other experiments [here](Corona%20specify%20model%20and%20make%20eksperiments.ipynb)"
   ]
  }
 ],
 "metadata": {
  "kernelspec": {
   "display_name": "Python 3",
   "language": "python",
   "name": "python3"
  },
  "language_info": {
   "codemirror_mode": {
    "name": "ipython",
    "version": 3
   },
   "file_extension": ".py",
   "mimetype": "text/x-python",
   "name": "python",
   "nbconvert_exporter": "python",
   "pygments_lexer": "ipython3",
   "version": "3.8.6"
  },
  "rise": {
   "autolaunch": true,
   "scroll": true,
   "start_slideshow_at": "beginning"
  },
  "toc": {
   "base_numbering": 1,
   "nav_menu": {},
   "number_sections": true,
   "sideBar": true,
   "skip_h1_title": true,
   "title_cell": "Table of Contents",
   "title_sidebar": "Contents",
   "toc_cell": false,
   "toc_position": {},
   "toc_section_display": true,
   "toc_window_display": false
  }
 },
 "nbformat": 4,
 "nbformat_minor": 4
}
