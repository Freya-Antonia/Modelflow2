{
 "cells": [
  {
   "cell_type": "markdown",
   "metadata": {},
   "source": [
    "# Calibration of Corona model\n",
    "This workbook shows how a parameter in the corona model specified [here](Corona%20specify%20model%20and%20make%20eksperiments.ipynb) can be calibrated to match one of the output variables.\n",
    "\n",
    "The notebook will run when loaded. You can change the cells and run again by press run.  "
   ]
  },
  {
   "cell_type": "code",
   "execution_count": 333,
   "metadata": {},
   "outputs": [
    {
     "name": "stdout",
     "output_type": "stream",
     "text": [
      "The autoreload extension is already loaded. To reload it, use:\n",
      "  %reload_ext autoreload\n"
     ]
    },
    {
     "data": {
      "text/html": [
       "\n",
       "            <style>\n",
       "                div#notebook-container    { width: 95%; }\n",
       "                div#menubar-container     { width: 65%; }\n",
       "                div#maintoolbar-container { width: 99%; }\n",
       "            </style>\n",
       "            "
      ],
      "text/plain": [
       "<IPython.core.display.HTML object>"
      ]
     },
     "metadata": {},
     "output_type": "display_data"
    },
    {
     "data": {
      "text/html": [
       "            <script>\n",
       "                // AUTORUN ALL CELLS ON NOTEBOOK-LOAD!\n",
       "                require(\n",
       "                    ['base/js/namespace', 'jquery'], \n",
       "                    function(jupyter, $) {\n",
       "                        $(jupyter.events).on('kernel_ready.Kernel', function () {\n",
       "                            console.log('Auto-running all cells-below...');\n",
       "                            jupyter.actions.call('jupyter-notebook:run-all-cells-below');\n",
       "                            jupyter.actions.call('jupyter-notebook:save-notebook');\n",
       "                        });\n",
       "                    }\n",
       "                );\n",
       "            </script>"
      ],
      "text/plain": [
       "<IPython.core.display.HTML object>"
      ]
     },
     "metadata": {},
     "output_type": "display_data"
    }
   ],
   "source": [
    "%load_ext autoreload\n",
    "%autoreload 2\n",
    "import os\n",
    "import pandas as pd\n",
    "\n",
    "from modelclass import model\n",
    "from modelinvert import targets_instruments\n",
    "model.modelflow_auto()"
   ]
  },
  {
   "cell_type": "markdown",
   "metadata": {},
   "source": [
    "# Load and run\n",
    "The model and baseline run has been saved in [here](Corona%20specify%20model%20and%20make%20eksperiments.ipynb)"
   ]
  },
  {
   "cell_type": "code",
   "execution_count": 334,
   "metadata": {},
   "outputs": [],
   "source": [
    "mcorona,df  = model.modelload('coronatest.json')  # Get the model and data\n",
    "df.index = df.index-100                           # rebase the days, so we calibrate at time 0\n",
    "df.index.name = 'Day'\n",
    "res = mcorona(df,keep='Basis',silent=1)           # run the baseline "
   ]
  },
  {
   "cell_type": "code",
   "execution_count": 335,
   "metadata": {},
   "outputs": [],
   "source": [
    "def ti_calibrate(mmodel,instrument,target,value,time,delay=0,silent=1,show=1,keep_restore= False):\n",
    "    mmodel.keep_solutions,old_keep_solutions= {},mmodel.keep_solutions\n",
    "    mmodel.keep_solutions['Before calibration'] = mmodel.lastdf.copy(deep=True)\n",
    "    \n",
    "    targetdf=pd.DataFrame(value,index=[time],columns=[target])\n",
    "    ti = targets_instruments(databank=mmodel.lastdf,model=mmodel,targets=targetdf,instruments= [instrument])\n",
    "    \n",
    "    res = ti(mmodel.lastdf,delay=delay,silent=1,debug=1)\n",
    "    res2 = mmodel(res,silent=silent,keep='After calibration')\n",
    "    if show:\n",
    "        figs = mcorona.keep_plot(f'{instrument[0]} {target}',diff=0,legend=0,dec='2',showtype='level',scale='linear');\n",
    "        mmodel.keep_add_vline(figs,time=time) \n",
    "    if keep_restore:\n",
    "        mmodel.keep_solutions,model_calibrate_keep_solutions =  old_keep_solutions,mmodel.keep_solutions\n",
    "    return res2"
   ]
  },
  {
   "cell_type": "markdown",
   "metadata": {},
   "source": [
    "# Now calibrate the parameter to match an infectious growth rate of 3 percent \n",
    "\n",
    "You can try with different values or variables and the pres the run button. "
   ]
  },
  {
   "cell_type": "code",
   "execution_count": 336,
   "metadata": {},
   "outputs": [],
   "source": [
    "target_value = 3   # the value we want to hit \n",
    "time         = 0   # the day we want to calibrate\n",
    "delay        = 5   # the delay in effect\n",
    "\n",
    "res = mcorona(df,keep='Basis',silent=1)\n",
    "res2 = ti_calibrate(mcorona,instrument = ('PROBABILITY_TRANSMISION',0.01),\n",
    "                    target = 'INFECTIOUS_GROWTH',value=target_value,\n",
    "                    time=time,delay=delay,show=False)"
   ]
  },
  {
   "cell_type": "markdown",
   "metadata": {},
   "source": [
    "# And plot the results "
   ]
  },
  {
   "cell_type": "code",
   "execution_count": 337,
   "metadata": {
    "scrolled": false
   },
   "outputs": [
    {
     "data": {
      "application/vnd.jupyter.widget-view+json": {
       "model_id": "4dc74c65659d49cdb363ad12ccba18fc",
       "version_major": 2,
       "version_minor": 0
      },
      "text/plain": [
       "VBox(children=(HBox(children=(SelectMultiple(description='Select one or more', index=(0, 11, 17), layout=Layou…"
      ]
     },
     "metadata": {},
     "output_type": "display_data"
    },
    {
     "data": {
      "application/vnd.jupyter.widget-view+json": {
       "model_id": "33e580e259df44d5a38087a46f96c524",
       "version_major": 2,
       "version_minor": 0
      },
      "text/plain": [
       "Output()"
      ]
     },
     "metadata": {},
     "output_type": "display_data"
    }
   ],
   "source": [
    "figs = mcorona.keep_viznew('dead hospital_icu infectious')"
   ]
  },
  {
   "cell_type": "code",
   "execution_count": 338,
   "metadata": {},
   "outputs": [
    {
     "data": {
      "text/plain": [
       "'Before calibration'"
      ]
     },
     "execution_count": 338,
     "metadata": {},
     "output_type": "execute_result"
    }
   ],
   "source": [
    "list(mcorona.keep_solutions.keys())[0]\n"
   ]
  },
  {
   "cell_type": "code",
   "execution_count": 339,
   "metadata": {},
   "outputs": [
    {
     "data": {
      "application/vnd.jupyter.widget-view+json": {
       "model_id": "f67ea1fdc72b4c2d843144d2e28b41de",
       "version_major": 2,
       "version_minor": 0
      },
      "text/plain": [
       "SelectMultiple(index=(1,), options=('\\\\(\\\\color{red} {highlighted}dd\\\\)', '2', '3'), rows=2, value=('2',))"
      ]
     },
     "metadata": {},
     "output_type": "display_data"
    }
   ],
   "source": [
    "from ipywidgets import widgets\n",
    "ii= widgets.SelectMultiple(value=['2'],options=[r'\\(\\color{red} {highlighted}dd\\)','2','3'],rows=2)\n",
    "display(ii)"
   ]
  },
  {
   "cell_type": "code",
   "execution_count": 340,
   "metadata": {},
   "outputs": [
    {
     "data": {
      "text/plain": [
       "['_dom_classes',\n",
       " '_model_module',\n",
       " '_model_module_version',\n",
       " '_model_name',\n",
       " '_options_labels',\n",
       " '_view_count',\n",
       " '_view_module',\n",
       " '_view_module_version',\n",
       " '_view_name',\n",
       " 'description',\n",
       " 'description_tooltip',\n",
       " 'disabled',\n",
       " 'index',\n",
       " 'layout',\n",
       " 'rows',\n",
       " 'style']"
      ]
     },
     "execution_count": 340,
     "metadata": {},
     "output_type": "execute_result"
    }
   ],
   "source": [
    "ii.keys"
   ]
  },
  {
   "cell_type": "code",
   "execution_count": 341,
   "metadata": {},
   "outputs": [
    {
     "data": {
      "text/plain": [
       "2"
      ]
     },
     "execution_count": 341,
     "metadata": {},
     "output_type": "execute_result"
    }
   ],
   "source": [
    "ii.rows"
   ]
  },
  {
   "cell_type": "code",
   "execution_count": null,
   "metadata": {},
   "outputs": [],
   "source": []
  }
 ],
 "metadata": {
  "kernelspec": {
   "display_name": "Python 3",
   "language": "python",
   "name": "python3"
  },
  "language_info": {
   "codemirror_mode": {
    "name": "ipython",
    "version": 3
   },
   "file_extension": ".py",
   "mimetype": "text/x-python",
   "name": "python",
   "nbconvert_exporter": "python",
   "pygments_lexer": "ipython3",
   "version": "3.7.5"
  },
  "toc": {
   "base_numbering": 1,
   "nav_menu": {},
   "number_sections": true,
   "sideBar": true,
   "skip_h1_title": true,
   "title_cell": "Table of Contents",
   "title_sidebar": "Contents",
   "toc_cell": false,
   "toc_position": {},
   "toc_section_display": true,
   "toc_window_display": false
  }
 },
 "nbformat": 4,
 "nbformat_minor": 4
}
