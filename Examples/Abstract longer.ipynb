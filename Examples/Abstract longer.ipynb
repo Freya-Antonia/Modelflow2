{
 "cells": [
  {
   "cell_type": "markdown",
   "metadata": {
    "slideshow": {
     "slide_type": "slide"
    }
   },
   "source": [
    "# ModelFlow Abstract\n",
    "ModelFlow is a Python toolkit which can handle a wide range of models from small to huge (more than 600000 equation has been handled). It was created to implement macro prudential stress test models in Danmarks Nationalbank and ECB, but it can handle a broad range of models.  \n",
    "\n",
    "**Models can be specified in a Business logic language**. The user can concentrate on the economic content. To specify models incorporating many banks or sectors a **Macro-business logic language** is part of the library. \n",
    "\n",
    "The toolkit covers on-boarding a model, analyzing the logical structure, solving the model, analyzing and comparing the results. \n",
    "\n",
    "Creating a (Macro prudential) model often entails implementing models specified in different ways: Excel, Latex, Eviews, Dynare, Python or other languages. Python''s ecosystem makes it possible to transform many of such model specification into ModelFlow. \n",
    "\n",
    "Modelflow is located on Github [here](https://github.com/IbHansen/ModelFlow2). Jupyter notebooks with the examples can be run on a Binder virtual machine [here](https://mybinder.org/v2/gh/Ibhansen/modelflow2/tobinder?filepath=Examples%2FOverview.ipynb).\n",
    "\n",
    "The repo includes some models implemented in ModelFlow: \n",
    "\n",
    " - FRB/US - Federal Reserve Board  \n",
    " \n",
    " - Q-JEM - Bank of Japan\n",
    " \n",
    " - ADAM - Statistics Denmark\n",
    " \n",
    " - corona - Different models for the spreading of Covid-19 \n",
    " \n",
    "The toolkit is fast, lean, and agile.\n",
    "Models and data can be managed, analyzed and visualized using the full arsenal of Python data science tools. \n",
    "This is achieved by leveraging on the Python ecosystem especially the [Pandas](https://pandas.pydata.org/) and the [numpy](https://www.nature.com/articles/s41586-020-2649-2) libraries. It can be considers a [Domain Specific application](https://www.nature.com/articles/s41586-020-2649-2/figures/2) framework.  \n",
    "\n",
    "**A model in ModelFlow is a system of non-linear equations** specified either as:\n",
    "\n",
    " - A **general model**: $\\textbf{0}  = \\textbf{G}(\\textbf{y}_{t+u} \\cdots \\textbf{y}_t \\cdots \\textbf{y}_{t-r},\\textbf{x}_t \\cdots \\textbf{x}_{t-s})$ \n",
    "\n",
    " - Or as  a **normalized model**: $\\textbf{y}_t  = \\textbf{F}(\\textbf{y}_{t+u} \\cdots \\textbf{y}_t \\cdots \\textbf{y}_{t-r},\\textbf{x}_t \\cdots \\textbf{x}_{t-s})$ \n",
    " \n",
    "The user can provide her own python functions into the model specification. This allows easy incorporation of new functionality. Also the variables can be scalars or matrices. \n",
    "\n",
    "Many stress test, liquidity, macro or other models conforms to this pattern - or can easy be made to conform. The same goes for spreadsheets. \n",
    "\n",
    " - Simultaneous models can be solved by\n",
    "\n",
    "   - Gauss-Seidle (only normalized models) or Newton-Raphson algorithmes if no lead\n",
    "   \n",
    "   - Fair-Taylor or stacked Newton-Raphson if the model contains leads and lags\n",
    "   \n",
    "   - The Jacobian matrix used by Newton-Raphson solvers will be calculated either by symbolic or by numerical differentiation and then handled by sparse matrix libraries.   \n",
    "   \n",
    " - Non-simultaneous models. The formulas will be topological sorted to establish the logical order and calculated. \n",
    " \n",
    "\n",
    "The core function of the library is a transpiler which first parses and analyzes a model specified in the Business logic language then generates Python code which can solve the model. "
   ]
  }
 ],
 "metadata": {
  "kernelspec": {
   "display_name": "Python 3",
   "language": "python",
   "name": "python3"
  },
  "language_info": {
   "codemirror_mode": {
    "name": "ipython",
    "version": 3
   },
   "file_extension": ".py",
   "mimetype": "text/x-python",
   "name": "python",
   "nbconvert_exporter": "python",
   "pygments_lexer": "ipython3",
   "version": "3.7.5"
  },
  "toc": {
   "base_numbering": 1,
   "nav_menu": {},
   "number_sections": true,
   "sideBar": true,
   "skip_h1_title": true,
   "title_cell": "Table of Contents",
   "title_sidebar": "Contents",
   "toc_cell": false,
   "toc_position": {},
   "toc_section_display": true,
   "toc_window_display": false
  }
 },
 "nbformat": 4,
 "nbformat_minor": 4
}
