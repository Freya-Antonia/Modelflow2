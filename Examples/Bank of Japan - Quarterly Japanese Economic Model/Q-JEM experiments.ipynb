{
 "cells": [
  {
   "cell_type": "markdown",
   "metadata": {
    "slideshow": {
     "slide_type": "slide"
    }
   },
   "source": [
    "# The Quarterly Japanese Economic Model (Q-JEM)\n",
    "This workbook implement the \"The Quarterly Japanese Economic Model (Q-JEM): 2019 version\". \n",
    "\n",
    "Press **Space** to proceed. Press **Shift-space** to go back \n",
    "\n",
    "In code cells you press Shift-Enter to evaluate your code.\n",
    "\n",
    "You can always use smaller / larger fonts with keyboard shortcuts like **Alt +** and **Alt -** or similar (it could be Ctrl instead of Alt depending on the platform you are on).\n",
    "\n",
    "If you want to leave the slideshow and return to the notebook, just press the upper left **X** \n"
   ]
  },
  {
   "cell_type": "markdown",
   "metadata": {
    "slideshow": {
     "slide_type": "slide"
    }
   },
   "source": [
    "At http://www.boj.or.jp/en/research/wps_rev/wps_2019/wp19e07.htm/ you will find the working paper describing \n",
    "the model and a zipfile containing all the relevant information needed to use the model. \n",
    "\n",
    "The model logic has been transformed from Eview equation to ModelFlow Business logic and the dataseries has been transformed to a Pandas Dataframe. \n",
    "\n",
    "In this workbook the impulse responses from the working paper section 3.1.1, 3.1.2, 3.1.3, and 3.1.4 has been recreated. \n",
    "\n",
    "The quarters has been rebased to 2001q1 to 2009q4"
   ]
  },
  {
   "cell_type": "markdown",
   "metadata": {
    "slideshow": {
     "slide_type": "slide"
    }
   },
   "source": [
    "## Import Python libraries"
   ]
  },
  {
   "cell_type": "code",
   "execution_count": null,
   "metadata": {
    "cell_style": "center",
    "slideshow": {
     "slide_type": "fragment"
    }
   },
   "outputs": [],
   "source": [
    "import pandas as pd \n",
    "\n",
    "import modelmf\n",
    "from modelclass import model\n",
    "model.modelflow_auto()"
   ]
  },
  {
   "cell_type": "markdown",
   "metadata": {
    "cell_style": "center",
    "slideshow": {
     "slide_type": "slide"
    }
   },
   "source": [
    "## Create model and dataframe "
   ]
  },
  {
   "cell_type": "code",
   "execution_count": null,
   "metadata": {
    "slideshow": {
     "slide_type": "fragment"
    }
   },
   "outputs": [],
   "source": [
    "mqjem, baseline = model.modelload('qjem.pcim',run=1)"
   ]
  },
  {
   "cell_type": "markdown",
   "metadata": {
    "slideshow": {
     "slide_type": "slide"
    }
   },
   "source": [
    "## Define some variable labels \n",
    "This gives more meaningful legends "
   ]
  },
  {
   "cell_type": "code",
   "execution_count": null,
   "metadata": {
    "slideshow": {
     "slide_type": "fragment"
    }
   },
   "outputs": [],
   "source": [
    "legend = {\n",
    "'GDP'   : 'Real gross domestic product, S.A.',\n",
    "'CP'    : 'Real private consumption, S.A.',\n",
    "'U'     : 'Unemployment rate, S.A.',\n",
    "'PGDP'  : 'GDP deflator',\n",
    "'USGDP' : 'Real gross domestic product of the United States, S.A.',\n",
    "'NUSGDP': 'Output gap of the rest of the world',\n",
    "'EX': 'Real exports of goods and services, S.A.',\n",
    "'IM' : 'Real imports of goods and services, S.A.',\n",
    "'INV' : 'Real private non-residential investment, S.A.',\n",
    "'CORE_CPI' : 'Consumer price index (all items, less fresh food), S.A.'\n",
    "}"
   ]
  },
  {
   "cell_type": "markdown",
   "metadata": {
    "slideshow": {
     "slide_type": "slide"
    }
   },
   "source": [
    "## Make experiment with Foreign GDP +1 percent point. "
   ]
  },
  {
   "cell_type": "code",
   "execution_count": null,
   "metadata": {
    "slideshow": {
     "slide_type": "fragment"
    }
   },
   "outputs": [],
   "source": [
    "instruments = [ 'V_NUSGAP','V_USGAP']\n",
    "target      = baseline.loc['2005q1':,['USGDP','NUSGDP']].mfcalc('''\\\n",
    "USGDP  = USGDP*1.01\n",
    "NUSGDP = NUSGDP*1.01\n",
    "''',silent=1)\n",
    "mqjem.invert(baseline,target,instruments); "
   ]
  },
  {
   "cell_type": "markdown",
   "metadata": {
    "slideshow": {
     "slide_type": "slide"
    }
   },
   "source": [
    "## Display the results "
   ]
  },
  {
   "cell_type": "code",
   "execution_count": null,
   "metadata": {
    "slideshow": {
     "slide_type": "fragment"
    }
   },
   "outputs": [],
   "source": [
    "disp = mqjem['GDP CP INV EX IM CORE_CPI'].difpctlevel.mul100.rename(legend).plot(\n",
    "    colrow=2,sharey=0,title='Impact of Foreign GDP +1 percent',top=0.9)"
   ]
  },
  {
   "cell_type": "markdown",
   "metadata": {
    "slideshow": {
     "slide_type": "slide"
    }
   },
   "source": [
    "## Lower Oil prices  "
   ]
  },
  {
   "cell_type": "code",
   "execution_count": null,
   "metadata": {
    "slideshow": {
     "slide_type": "-"
    }
   },
   "outputs": [],
   "source": [
    "instruments = [ 'V_POIL']\n",
    "target      = baseline.loc['2005q1':,['POIL']].mfcalc('''\\\n",
    "POIL  = POIL*0.9\n",
    "''',silent=1)\n",
    "\n",
    "resalt = mqjem.invert(baseline,target,instruments,silent=1)"
   ]
  },
  {
   "cell_type": "code",
   "execution_count": null,
   "metadata": {
    "slideshow": {
     "slide_type": "fragment"
    }
   },
   "outputs": [],
   "source": [
    "disp = mqjem['GDP CP INV EX IM CORE_CPI'].difpctlevel.rename(legend).plot(\n",
    "    colrow=2,sharey=0,title='Impact of 10 percent permanent decrease in oil price',top=0.9)"
   ]
  },
  {
   "cell_type": "markdown",
   "metadata": {
    "slideshow": {
     "slide_type": "slide"
    }
   },
   "source": [
    "## Combine the two previous experiments "
   ]
  },
  {
   "cell_type": "code",
   "execution_count": null,
   "metadata": {
    "slideshow": {
     "slide_type": "-"
    }
   },
   "outputs": [],
   "source": [
    "instruments = [ 'V_POIL','V_NUSGAP','V_USGAP']\n",
    "target      = baseline.loc['2005q1':,['POIL','USGDP','NUSGDP']].mfcalc('''\\\n",
    "POIL  = POIL*0.9\n",
    "USGDP  = USGDP*1.01\n",
    "NUSGDP = NUSGDP*1.01\n",
    "''',silent=1)\n",
    "\n",
    "resalt = mqjem.invert(baseline,target,instruments,silent=1)"
   ]
  },
  {
   "cell_type": "code",
   "execution_count": null,
   "metadata": {
    "slideshow": {
     "slide_type": "fragment"
    }
   },
   "outputs": [],
   "source": [
    "disp = mqjem['GDP CP INV EX IM CORE_CPI'].difpctlevel.mul100.rename(legend).plot(\n",
    "    colrow=2,sharey=0,title='Impact of Foreign gdp GDP +1 and percent 10 percent permanent decrease in oil price',top=0.9)"
   ]
  },
  {
   "cell_type": "markdown",
   "metadata": {
    "slideshow": {
     "slide_type": "slide"
    }
   },
   "source": [
    "## A permanent depreciation of exchange rates. "
   ]
  },
  {
   "cell_type": "code",
   "execution_count": null,
   "metadata": {
    "slideshow": {
     "slide_type": "-"
    }
   },
   "outputs": [],
   "source": [
    "instruments = [ 'V_FXYEN']\n",
    "target      = baseline.loc['2005q1':,['FXYEN']].mfcalc('''\\\n",
    "FXYEN = FXYEN*1.1\n",
    "''',silent=1)\n",
    "\n",
    "resalt = mqjem.invert(baseline,target,instruments,silent=1)\n",
    "\n",
    "disp = mqjem['GDP CP INV EX IM CORE_CPI'].difpctlevel.mul100.rename(legend).plot(\n",
    "    colrow=2,sharey=0,title='Impact of Foreign gdp GDP +1 and percent 10 percent permanent decrease in oil price',top=0.9)"
   ]
  },
  {
   "cell_type": "markdown",
   "metadata": {
    "slideshow": {
     "slide_type": "slide"
    }
   },
   "source": [
    "## Draw the causal structure current periode, used when solving"
   ]
  },
  {
   "cell_type": "code",
   "execution_count": null,
   "metadata": {
    "slideshow": {
     "slide_type": "fragment"
    }
   },
   "outputs": [],
   "source": [
    "mqjem.plotadjacency(size=(19,19));  # delete the # in front to display, takes some time"
   ]
  },
  {
   "cell_type": "markdown",
   "metadata": {
    "slideshow": {
     "slide_type": "slide"
    }
   },
   "source": [
    "## Draw the causal structuretaking all lags, the economic feedback  "
   ]
  },
  {
   "cell_type": "code",
   "execution_count": null,
   "metadata": {
    "scrolled": false,
    "slideshow": {
     "slide_type": "fragment"
    }
   },
   "outputs": [],
   "source": [
    "mqjem.plotadjacency(nolag=True,size=(19,19)); # delete the # in front to display, takes some time"
   ]
  },
  {
   "cell_type": "markdown",
   "metadata": {
    "slideshow": {
     "slide_type": "slide"
    }
   },
   "source": [
    "## How is CPQ determined "
   ]
  },
  {
   "cell_type": "code",
   "execution_count": null,
   "metadata": {
    "slideshow": {
     "slide_type": "fragment"
    }
   },
   "outputs": [],
   "source": [
    "mqjem.cpq.draw(up=2,down=2,HR=0,svg=1,transdic= {'ZPI*' : 'ZPI'}) # we condens all ZPI to one, to make the chart easy"
   ]
  },
  {
   "cell_type": "markdown",
   "metadata": {
    "slideshow": {
     "slide_type": "slide"
    }
   },
   "source": [
    "## Also with values \n",
    "The result can be inspected in the graph/subfolder in PDF format. "
   ]
  },
  {
   "cell_type": "code",
   "execution_count": null,
   "metadata": {
    "scrolled": false,
    "slideshow": {
     "slide_type": "subslide"
    }
   },
   "outputs": [],
   "source": [
    "with mqjem.set_smpl('2001q1','2001q3'):\n",
    "    mqjem.cpq.draw(up=1,down=1,HR=0,svg=1,transdic= {'ZPI*' : 'ZPI'},last=1) # we condens all ZPI to one, to make the chart easy"
   ]
  },
  {
   "cell_type": "markdown",
   "metadata": {
    "slideshow": {
     "slide_type": "slide"
    }
   },
   "source": [
    "## Another Example \n",
    "That determins the export (**EX**) and what is EX going into "
   ]
  },
  {
   "cell_type": "code",
   "execution_count": null,
   "metadata": {
    "slideshow": {
     "slide_type": "fragment"
    }
   },
   "outputs": [],
   "source": [
    "mqjem.ex.draw(up=1,down=1)"
   ]
  },
  {
   "cell_type": "markdown",
   "metadata": {
    "slideshow": {
     "slide_type": "slide"
    }
   },
   "source": [
    "# The values for EX\n",
    "We only look at 3 quarters to make it simple"
   ]
  },
  {
   "cell_type": "code",
   "execution_count": null,
   "metadata": {
    "slideshow": {
     "slide_type": "fragment"
    }
   },
   "outputs": [],
   "source": [
    "with mqjem.set_smpl('2001q1','2001q3'):\n",
    "    mqjem.ex.show"
   ]
  },
  {
   "cell_type": "code",
   "execution_count": null,
   "metadata": {},
   "outputs": [],
   "source": []
  }
 ],
 "metadata": {
  "celltoolbar": "Slideshow",
  "kernelspec": {
   "display_name": "Python 3",
   "language": "python",
   "name": "python3"
  },
  "language_info": {
   "codemirror_mode": {
    "name": "ipython",
    "version": 3
   },
   "file_extension": ".py",
   "mimetype": "text/x-python",
   "name": "python",
   "nbconvert_exporter": "python",
   "pygments_lexer": "ipython3",
   "version": "3.7.5"
  },
  "rise": {
   "autolaunch": true,
   "scroll": true,
   "start_slideshow_at": "beginning"
  },
  "toc": {
   "base_numbering": 1,
   "nav_menu": {},
   "number_sections": true,
   "sideBar": true,
   "skip_h1_title": true,
   "title_cell": "Table of Contents",
   "title_sidebar": "Contents",
   "toc_cell": false,
   "toc_position": {},
   "toc_section_display": true,
   "toc_window_display": false
  }
 },
 "nbformat": 4,
 "nbformat_minor": 2
}
