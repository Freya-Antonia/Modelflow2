{
 "cells": [
  {
   "cell_type": "code",
   "execution_count": 6,
   "id": "0bf2fcab",
   "metadata": {},
   "outputs": [],
   "source": [
    "import dash\n",
    "from jupyter_dash import JupyterDash\n",
    "from jupyter_dash.comms import _send_jupyter_config_comm_request\n",
    "try:\n",
    "    from dash import dcc \n",
    "except:\n",
    "    import dash_core_components as dcc\n",
    "\n",
    "import dash_bootstrap_components as dbc\n",
    "try:\n",
    "    from dash import html\n",
    "except:     \n",
    "    import dash_html_components as html\n",
    "from dash.dependencies import Input, Output, State\n",
    "from  dash_interactive_graphviz import DashInteractiveGraphviz\n",
    "import plotly.graph_objs as go\n",
    "from plotly.graph_objs.scatter.marker import Line\n"
   ]
  },
  {
   "cell_type": "code",
   "execution_count": null,
   "id": "270e2358",
   "metadata": {},
   "outputs": [],
   "source": []
  }
 ],
 "metadata": {
  "hide_input": false,
  "kernelspec": {
   "display_name": "Python 3 (ipykernel)",
   "language": "python",
   "name": "python3"
  },
  "language_info": {
   "codemirror_mode": {
    "name": "ipython",
    "version": 3
   },
   "file_extension": ".py",
   "mimetype": "text/x-python",
   "name": "python",
   "nbconvert_exporter": "python",
   "pygments_lexer": "ipython3",
   "version": "3.8.8"
  },
  "toc": {
   "base_numbering": 1,
   "nav_menu": {},
   "number_sections": true,
   "sideBar": true,
   "skip_h1_title": false,
   "title_cell": "Table of Contents",
   "title_sidebar": "Contents",
   "toc_cell": false,
   "toc_position": {},
   "toc_section_display": true,
   "toc_window_display": false
  }
 },
 "nbformat": 4,
 "nbformat_minor": 5
}
