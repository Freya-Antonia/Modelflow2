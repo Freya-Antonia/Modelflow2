{
 "cells": [
  {
   "cell_type": "markdown",
   "metadata": {
    "slideshow": {
     "slide_type": "slide"
    }
   },
   "source": [
    "# A notebook with the FRB/US model\n",
    "This notebook is based on the the FRB/US model packages located here (https://www.federalreserve.gov/econres/us-models-package.htm).\n",
    "\n",
    "This notebook and the tool used is highly experimental and the results are purely for illustration. \n",
    "\n",
    "You ca run each cell by pressing the run tool or shift+enter"
   ]
  },
  {
   "cell_type": "markdown",
   "metadata": {
    "slideshow": {
     "slide_type": "slide"
    }
   },
   "source": [
    "# Import Python libraries"
   ]
  },
  {
   "cell_type": "code",
   "execution_count": 1,
   "metadata": {
    "slideshow": {
     "slide_type": "-"
    }
   },
   "outputs": [],
   "source": [
    "%matplotlib inline\n",
    "import pandas as pd\n",
    "import  ipywidgets as widgets\n",
    "from IPython.display import display, clear_output\n",
    "import matplotlib.pylab  as plt \n",
    "import seaborn as sns\n",
    "import qgrid\n",
    "from numba import jit\n",
    "\n",
    "import sys\n",
    "sys.path.append('modelflow/')\n",
    "\n",
    "from modelsandbox import newmodel  \n",
    "import modelnet as mn\n",
    "import modelmf\n",
    "from modelclass import ttimer\n"
   ]
  },
  {
   "cell_type": "markdown",
   "metadata": {
    "slideshow": {
     "slide_type": "slide"
    }
   },
   "source": [
    "# Load the model and the data \n",
    "The model and the data has been prepared in a preprocessor step. "
   ]
  },
  {
   "cell_type": "code",
   "execution_count": 2,
   "metadata": {
    "slideshow": {
     "slide_type": "-"
    }
   },
   "outputs": [],
   "source": [
    "turbo = 1   # Determines if the the model is compiled or not \n",
    "\n",
    "# define af function which is in Eviews but not in Python\n",
    "@jit(\"f8(b1,f8,f8)\")\n",
    "def recode(condition,yes,no):\n",
    "    '''Function which recratetes the functionality of @recode from eviews ''' \n",
    "    return yes if condition else no\n",
    "\n",
    "basedf  = pd.read_pickle('data/baseline.pc')\n",
    "ffrbus  = open('model/ffrbusvar.txt','rt').read()"
   ]
  },
  {
   "cell_type": "markdown",
   "metadata": {
    "slideshow": {
     "slide_type": "slide"
    }
   },
   "source": [
    "# Create a model class instance"
   ]
  },
  {
   "cell_type": "code",
   "execution_count": 3,
   "metadata": {
    "slideshow": {
     "slide_type": "-"
    }
   },
   "outputs": [
    {
     "name": "stdout",
     "output_type": "stream",
     "text": [
      "This model has simultaneous elements or cyclical elements. The formulars will be evaluated in input sequence\n"
     ]
    }
   ],
   "source": [
    "#define function which is used by FRB/US\n",
    "@jit(\"f8(b1,f8,f8)\")\n",
    "def recode(condition,yes,no):\n",
    "    '''Function which recratetes the functionality of @recode from eviews ''' \n",
    "    return yes if condition else no\n",
    "\n",
    "mfrbus = newmodel(ffrbus,funks=[recode])\n",
    "mfrbus.use_preorder = True "
   ]
  },
  {
   "cell_type": "markdown",
   "metadata": {
    "slideshow": {
     "slide_type": "slide"
    }
   },
   "source": [
    "# Show solving structure (only current year)"
   ]
  },
  {
   "cell_type": "markdown",
   "metadata": {
    "slideshow": {
     "slide_type": "subslide"
    }
   },
   "source": [
    "figsmall   = mn.draw_adjacency_matrix(mfrbus.endograph,mfrbus.precoreepiorder,\n",
    "                                          mfrbus._superstrongblock,mfrbus._superstrongtype,size=(40,40))"
   ]
  },
  {
   "cell_type": "markdown",
   "metadata": {},
   "source": [
    "mfrbus.drawendo(lag=0,title='FRB/US endogeneous interpendencies',pdf=1)"
   ]
  },
  {
   "cell_type": "markdown",
   "metadata": {},
   "source": [
    "# How is the interest rate determined"
   ]
  },
  {
   "cell_type": "code",
   "execution_count": 4,
   "metadata": {
    "slideshow": {
     "slide_type": "subslide"
    }
   },
   "outputs": [
    {
     "data": {
      "image/svg+xml": [
       "<svg height=\"432pt\" viewBox=\"0.00 0.00 165.34 432.00\" width=\"165pt\" xmlns=\"http://www.w3.org/2000/svg\" xmlns:xlink=\"http://www.w3.org/1999/xlink\">\n",
       "<g class=\"graph\" id=\"graph0\" transform=\"scale(0.376635 0.376635) rotate(0) translate(4 1143)\">\n",
       "<title>TD</title>\n",
       "<polygon fill=\"white\" points=\"-4,4 -4,-1143 435,-1143 435,4 -4,4\" stroke=\"none\"/>\n",
       "<text font-family=\"Times New Roman,serif\" font-size=\"14.00\" text-anchor=\"middle\" x=\"215.5\" y=\"-7.8\">RFF</text>\n",
       "<!-- RFFRULE -->\n",
       "<g class=\"node\" id=\"node1\"><title>RFFRULE</title>\n",
       "<polygon fill=\"#63b8ff\" points=\"235.5,-626 160.5,-626 160.5,-590 235.5,-590 235.5,-626\" stroke=\"black\"/>\n",
       "<text fill=\"blue\" font-family=\"Times New Roman,serif\" font-size=\"14.00\" text-anchor=\"start\" x=\"167\" y=\"-603.8\">RFFRULE</text>\n",
       "</g>\n",
       "<!-- RFF -->\n",
       "<g class=\"node\" id=\"node38\"><title>RFF</title>\n",
       "<polygon fill=\"Turquoise\" points=\"330,-626 276,-626 276,-590 330,-590 330,-626\" stroke=\"black\"/>\n",
       "<text fill=\"blue\" font-family=\"Times New Roman,serif\" font-size=\"14.00\" text-anchor=\"start\" x=\"290\" y=\"-603.8\">RFF</text>\n",
       "</g>\n",
       "<!-- RFFRULE&#45;&gt;RFF -->\n",
       "<g class=\"edge\" id=\"edge26\"><title>RFFRULE-&gt;RFF</title>\n",
       "<path d=\"M235.604,-608C245.371,-608 255.919,-608 265.671,-608\" fill=\"none\" stroke=\"black\"/>\n",
       "<polygon fill=\"black\" points=\"265.865,-611.5 275.865,-608 265.865,-604.5 265.865,-611.5\" stroke=\"black\"/>\n",
       "</g>\n",
       "<!-- ZYHT -->\n",
       "<g class=\"node\" id=\"node2\"><title>ZYHT</title>\n",
       "<polygon fill=\"#63b8ff\" points=\"425.5,-1031 371.5,-1031 371.5,-995 425.5,-995 425.5,-1031\" stroke=\"black\"/>\n",
       "<text fill=\"blue\" font-family=\"Times New Roman,serif\" font-size=\"14.00\" text-anchor=\"start\" x=\"380.5\" y=\"-1008.8\">ZYHT</text>\n",
       "</g>\n",
       "<!-- DELRFF -->\n",
       "<g class=\"node\" id=\"node3\"><title>DELRFF</title>\n",
       "<polygon fill=\"#63b8ff\" points=\"431,-977 366,-977 366,-941 431,-941 431,-977\" stroke=\"black\"/>\n",
       "<text fill=\"blue\" font-family=\"Times New Roman,serif\" font-size=\"14.00\" text-anchor=\"start\" x=\"372.5\" y=\"-954.8\">DELRFF</text>\n",
       "</g>\n",
       "<!-- ZRFF30 -->\n",
       "<g class=\"node\" id=\"node4\"><title>ZRFF30</title>\n",
       "<polygon fill=\"#63b8ff\" points=\"429,-923 368,-923 368,-887 429,-887 429,-923\" stroke=\"black\"/>\n",
       "<text fill=\"blue\" font-family=\"Times New Roman,serif\" font-size=\"14.00\" text-anchor=\"start\" x=\"374.5\" y=\"-900.8\">ZRFF30</text>\n",
       "</g>\n",
       "<!-- DMPRR -->\n",
       "<g class=\"node\" id=\"node5\"><title>DMPRR</title>\n",
       "<polygon fill=\"yellow\" points=\"91,-1085 29,-1085 29,-1049 91,-1049 91,-1085\" stroke=\"black\"/>\n",
       "<text fill=\"blue\" font-family=\"Times New Roman,serif\" font-size=\"14.00\" text-anchor=\"start\" x=\"35\" y=\"-1062.8\">DMPRR</text>\n",
       "</g>\n",
       "<!-- DMPRR&#45;&gt;RFFRULE -->\n",
       "<g class=\"edge\" id=\"edge36\"><title>DMPRR-&gt;RFFRULE</title>\n",
       "<path d=\"M91.2359,-1059.98C102.016,-1055.93 113.169,-1049.66 120,-1040 171.543,-967.14 113.297,-718.369 156,-640 157.247,-637.711 158.735,-635.53 160.393,-633.464\" fill=\"none\" stroke=\"black\"/>\n",
       "<polygon fill=\"black\" points=\"163.089,-635.709 167.482,-626.068 158.036,-630.865 163.089,-635.709\" stroke=\"black\"/>\n",
       "</g>\n",
       "<!-- DMPTR -->\n",
       "<g class=\"node\" id=\"node6\"><title>DMPTR</title>\n",
       "<polygon fill=\"#63b8ff\" points=\"90.5,-59 29.5,-59 29.5,-23 90.5,-23 90.5,-59\" stroke=\"black\"/>\n",
       "<text fill=\"blue\" font-family=\"Times New Roman,serif\" font-size=\"14.00\" text-anchor=\"start\" x=\"36\" y=\"-36.8\">DMPTR</text>\n",
       "</g>\n",
       "<!-- DMPTR(&#45;1) -->\n",
       "<g class=\"node\" id=\"node41\"><title>DMPTR(-1)</title>\n",
       "<polygon fill=\"springgreen\" points=\"239,-302 157,-302 157,-266 239,-266 239,-302\" stroke=\"black\"/>\n",
       "<text fill=\"blue\" font-family=\"Times New Roman,serif\" font-size=\"14.00\" text-anchor=\"start\" x=\"163\" y=\"-279.8\">DMPTR(-1)</text>\n",
       "</g>\n",
       "<!-- DMPTR&#45;&gt;DMPTR(&#45;1) -->\n",
       "<g class=\"edge\" id=\"edge35\"><title>DMPTR-&gt;DMPTR(-1)</title>\n",
       "<path d=\"M90.6306,-49.2403C101.077,-53.4066 112.159,-59.4477 120,-68 169.814,-122.334 187.85,-211.065 194.018,-256.013\" fill=\"none\" stroke=\"black\"/>\n",
       "<polygon fill=\"black\" points=\"190.547,-256.462 195.283,-265.939 197.491,-255.577 190.547,-256.462\" stroke=\"black\"/>\n",
       "</g>\n",
       "<!-- ZGAP30 -->\n",
       "<g class=\"node\" id=\"node7\"><title>ZGAP30</title>\n",
       "<polygon fill=\"#63b8ff\" points=\"430,-869 367,-869 367,-833 430,-833 430,-869\" stroke=\"black\"/>\n",
       "<text fill=\"blue\" font-family=\"Times New Roman,serif\" font-size=\"14.00\" text-anchor=\"start\" x=\"373.5\" y=\"-846.8\">ZGAP30</text>\n",
       "</g>\n",
       "<!-- ZGAP10 -->\n",
       "<g class=\"node\" id=\"node8\"><title>ZGAP10</title>\n",
       "<polygon fill=\"#63b8ff\" points=\"430,-815 367,-815 367,-779 430,-779 430,-815\" stroke=\"black\"/>\n",
       "<text fill=\"blue\" font-family=\"Times New Roman,serif\" font-size=\"14.00\" text-anchor=\"start\" x=\"373.5\" y=\"-792.8\">ZGAP10</text>\n",
       "</g>\n",
       "<!-- RTB -->\n",
       "<g class=\"node\" id=\"node9\"><title>RTB</title>\n",
       "<polygon fill=\"#63b8ff\" points=\"425.5,-761 371.5,-761 371.5,-725 425.5,-725 425.5,-761\" stroke=\"black\"/>\n",
       "<text fill=\"blue\" font-family=\"Times New Roman,serif\" font-size=\"14.00\" text-anchor=\"start\" x=\"384.5\" y=\"-738.8\">RTB</text>\n",
       "</g>\n",
       "<!-- RFFRULE_AERR -->\n",
       "<g class=\"node\" id=\"node10\"><title>RFFRULE_AERR</title>\n",
       "<polygon fill=\"yellow\" points=\"120,-1031 0,-1031 0,-995 120,-995 120,-1031\" stroke=\"black\"/>\n",
       "<text fill=\"blue\" font-family=\"Times New Roman,serif\" font-size=\"14.00\" text-anchor=\"start\" x=\"6\" y=\"-1008.8\">RFFRULE_AERR</text>\n",
       "</g>\n",
       "<!-- RFFRULE_AERR&#45;&gt;RFFRULE -->\n",
       "<g class=\"edge\" id=\"edge3\"><title>RFFRULE_AERR-&gt;RFFRULE</title>\n",
       "<path d=\"M111.322,-994.962C114.609,-992.357 117.569,-989.386 120,-986 210.165,-860.406 81.0819,-775.244 156,-640 157.263,-637.719 158.763,-635.546 160.431,-633.485\" fill=\"none\" stroke=\"black\"/>\n",
       "<polygon fill=\"black\" points=\"163.126,-635.732 167.542,-626.101 158.084,-630.876 163.126,-635.732\" stroke=\"black\"/>\n",
       "</g>\n",
       "<!-- RFF_AERR -->\n",
       "<g class=\"node\" id=\"node11\"><title>RFF_AERR</title>\n",
       "<polygon fill=\"yellow\" points=\"240,-718 156,-718 156,-682 240,-682 240,-718\" stroke=\"black\"/>\n",
       "<text fill=\"blue\" font-family=\"Times New Roman,serif\" font-size=\"14.00\" text-anchor=\"start\" x=\"162\" y=\"-695.8\">RFF_AERR</text>\n",
       "</g>\n",
       "<!-- RFF_AERR&#45;&gt;RFF -->\n",
       "<g class=\"edge\" id=\"edge22\"><title>RFF_AERR-&gt;RFF</title>\n",
       "<path d=\"M223.193,-681.806C228.804,-677.398 234.686,-672.622 240,-668 252.58,-657.058 265.943,-644.287 277.028,-633.347\" fill=\"none\" stroke=\"black\"/>\n",
       "<polygon fill=\"black\" points=\"279.681,-635.645 284.301,-626.111 274.744,-630.683 279.681,-635.645\" stroke=\"black\"/>\n",
       "</g>\n",
       "<!-- ZRFF5 -->\n",
       "<g class=\"node\" id=\"node12\"><title>ZRFF5</title>\n",
       "<polygon fill=\"#63b8ff\" points=\"425.5,-707 371.5,-707 371.5,-671 425.5,-671 425.5,-707\" stroke=\"black\"/>\n",
       "<text fill=\"blue\" font-family=\"Times New Roman,serif\" font-size=\"14.00\" text-anchor=\"start\" x=\"377.5\" y=\"-684.8\">ZRFF5</text>\n",
       "</g>\n",
       "<!-- DMPALT -->\n",
       "<g class=\"node\" id=\"node13\"><title>DMPALT</title>\n",
       "<polygon fill=\"yellow\" points=\"95,-977 25,-977 25,-941 95,-941 95,-977\" stroke=\"black\"/>\n",
       "<text fill=\"blue\" font-family=\"Times New Roman,serif\" font-size=\"14.00\" text-anchor=\"start\" x=\"31\" y=\"-954.8\">DMPALT</text>\n",
       "</g>\n",
       "<!-- DMPALT&#45;&gt;RFFRULE -->\n",
       "<g class=\"edge\" id=\"edge40\"><title>DMPALT-&gt;RFFRULE</title>\n",
       "<path d=\"M95.0779,-950.249C104.534,-946.199 113.876,-940.361 120,-932 197.263,-826.507 91.5541,-753.776 156,-640 157.285,-637.731 158.802,-635.567 160.482,-633.513\" fill=\"none\" stroke=\"black\"/>\n",
       "<polygon fill=\"black\" points=\"163.176,-635.763 167.624,-626.147 158.15,-630.89 163.176,-635.763\" stroke=\"black\"/>\n",
       "</g>\n",
       "<!-- PICXFE(&#45;1) -->\n",
       "<g class=\"node\" id=\"node14\"><title>PICXFE(-1)</title>\n",
       "<polygon fill=\"springgreen\" points=\"101,-923 19,-923 19,-887 101,-887 101,-923\" stroke=\"black\"/>\n",
       "<text fill=\"blue\" font-family=\"Times New Roman,serif\" font-size=\"14.00\" text-anchor=\"start\" x=\"25\" y=\"-900.8\">PICXFE(-1)</text>\n",
       "</g>\n",
       "<!-- PICXFE(&#45;1)&#45;&gt;RFFRULE -->\n",
       "<g class=\"edge\" id=\"edge34\"><title>PICXFE(-1)-&gt;RFFRULE</title>\n",
       "<path d=\"M101.059,-893.244C108.316,-889.446 115.118,-884.477 120,-878 184.391,-792.567 102.001,-732.353 156,-640 157.316,-637.749 158.857,-635.599 160.555,-633.556\" fill=\"none\" stroke=\"black\"/>\n",
       "<polygon fill=\"black\" points=\"163.247,-635.809 167.741,-626.214 158.245,-630.912 163.247,-635.809\" stroke=\"black\"/>\n",
       "</g>\n",
       "<!-- RFFMIN -->\n",
       "<g class=\"node\" id=\"node15\"><title>RFFMIN</title>\n",
       "<polygon fill=\"yellow\" points=\"92.5,-1139 27.5,-1139 27.5,-1103 92.5,-1103 92.5,-1139\" stroke=\"black\"/>\n",
       "<text fill=\"blue\" font-family=\"Times New Roman,serif\" font-size=\"14.00\" text-anchor=\"start\" x=\"34\" y=\"-1116.8\">RFFMIN</text>\n",
       "</g>\n",
       "<!-- RFFMIN&#45;&gt;RFFRULE -->\n",
       "<g class=\"edge\" id=\"edge23\"><title>RFFMIN-&gt;RFFRULE</title>\n",
       "<path d=\"M92.5237,-1113.55C102.92,-1109.49 113.479,-1103.32 120,-1094 178.008,-1011.07 108.049,-729.125 156,-640 157.235,-637.704 158.714,-635.519 160.364,-633.449\" fill=\"none\" stroke=\"black\"/>\n",
       "<polygon fill=\"black\" points=\"163.061,-635.692 167.436,-626.043 157.999,-630.858 163.061,-635.692\" stroke=\"black\"/>\n",
       "</g>\n",
       "<!-- RFFMIN&#45;&gt;RFF -->\n",
       "<g class=\"edge\" id=\"edge11\"><title>RFFMIN-&gt;RFF</title>\n",
       "<path d=\"M92.8008,-1113.4C103.094,-1109.35 113.515,-1103.21 120,-1094 174.057,-1017.22 101.548,-749.496 156,-673 156.872,-671.775 223.536,-642.392 266.472,-623.556\" fill=\"none\" stroke=\"black\"/>\n",
       "<polygon fill=\"black\" points=\"268.015,-626.701 275.768,-619.48 265.204,-620.29 268.015,-626.701\" stroke=\"black\"/>\n",
       "</g>\n",
       "<!-- RFFTLR -->\n",
       "<g class=\"node\" id=\"node16\"><title>RFFTLR</title>\n",
       "<polygon fill=\"#63b8ff\" points=\"93,-869 27,-869 27,-833 93,-833 93,-869\" stroke=\"black\"/>\n",
       "<text fill=\"blue\" font-family=\"Times New Roman,serif\" font-size=\"14.00\" text-anchor=\"start\" x=\"33\" y=\"-846.8\">RFFTLR</text>\n",
       "</g>\n",
       "<!-- RFFTLR&#45;&gt;RFFRULE -->\n",
       "<g class=\"edge\" id=\"edge9\"><title>RFFTLR-&gt;RFFRULE</title>\n",
       "<path d=\"M93.1804,-842.623C103.128,-838.537 113.237,-832.582 120,-824 171.577,-758.552 112.4,-711.012 156,-640 157.364,-637.778 158.942,-635.65 160.669,-633.624\" fill=\"none\" stroke=\"black\"/>\n",
       "<polygon fill=\"black\" points=\"163.357,-635.884 167.923,-626.323 158.392,-630.95 163.357,-635.884\" stroke=\"black\"/>\n",
       "</g>\n",
       "<!-- DMPTLR -->\n",
       "<g class=\"node\" id=\"node17\"><title>DMPTLR</title>\n",
       "<polygon fill=\"yellow\" points=\"95,-815 25,-815 25,-779 95,-779 95,-815\" stroke=\"black\"/>\n",
       "<text fill=\"blue\" font-family=\"Times New Roman,serif\" font-size=\"14.00\" text-anchor=\"start\" x=\"31\" y=\"-792.8\">DMPTLR</text>\n",
       "</g>\n",
       "<!-- DMPTLR&#45;&gt;RFFRULE -->\n",
       "<g class=\"edge\" id=\"edge6\"><title>DMPTLR-&gt;RFFRULE</title>\n",
       "<path d=\"M95.2623,-787.262C104.384,-783.218 113.496,-777.63 120,-770 158.891,-724.374 122.689,-689.846 156,-640 157.599,-637.607 159.436,-635.314 161.426,-633.133\" fill=\"none\" stroke=\"black\"/>\n",
       "<polygon fill=\"black\" points=\"163.885,-635.624 168.661,-626.166 159.03,-630.581 163.885,-635.624\" stroke=\"black\"/>\n",
       "</g>\n",
       "<!-- RFF(&#45;1) -->\n",
       "<g class=\"node\" id=\"node18\"><title>RFF(-1)</title>\n",
       "<polygon fill=\"springgreen\" points=\"428,-653 369,-653 369,-617 428,-617 428,-653\" stroke=\"black\"/>\n",
       "<text fill=\"blue\" font-family=\"Times New Roman,serif\" font-size=\"14.00\" text-anchor=\"start\" x=\"375.5\" y=\"-630.8\">RFF(-1)</text>\n",
       "</g>\n",
       "<!-- ZDIVGR -->\n",
       "<g class=\"node\" id=\"node19\"><title>ZDIVGR</title>\n",
       "<polygon fill=\"#63b8ff\" points=\"431,-599 366,-599 366,-563 431,-563 431,-599\" stroke=\"black\"/>\n",
       "<text fill=\"blue\" font-family=\"Times New Roman,serif\" font-size=\"14.00\" text-anchor=\"start\" x=\"372.5\" y=\"-576.8\">ZDIVGR</text>\n",
       "</g>\n",
       "<!-- ZGAP05 -->\n",
       "<g class=\"node\" id=\"node20\"><title>ZGAP05</title>\n",
       "<polygon fill=\"#63b8ff\" points=\"430,-545 367,-545 367,-509 430,-509 430,-545\" stroke=\"black\"/>\n",
       "<text fill=\"blue\" font-family=\"Times New Roman,serif\" font-size=\"14.00\" text-anchor=\"start\" x=\"373.5\" y=\"-522.8\">ZGAP05</text>\n",
       "</g>\n",
       "<!-- DMPINTAY -->\n",
       "<g class=\"node\" id=\"node21\"><title>DMPINTAY</title>\n",
       "<polygon fill=\"yellow\" points=\"102.5,-761 17.5,-761 17.5,-725 102.5,-725 102.5,-761\" stroke=\"black\"/>\n",
       "<text fill=\"blue\" font-family=\"Times New Roman,serif\" font-size=\"14.00\" text-anchor=\"start\" x=\"24\" y=\"-738.8\">DMPINTAY</text>\n",
       "</g>\n",
       "<!-- DMPINTAY&#45;&gt;RFFRULE -->\n",
       "<g class=\"edge\" id=\"edge27\"><title>DMPINTAY-&gt;RFFRULE</title>\n",
       "<path d=\"M102.73,-728.436C109.005,-725.019 115.029,-720.906 120,-716 146.602,-689.746 132.638,-669.174 156,-640 157.852,-637.687 159.903,-635.442 162.071,-633.284\" fill=\"none\" stroke=\"black\"/>\n",
       "<polygon fill=\"black\" points=\"164.706,-635.62 169.777,-626.317 160.012,-630.428 164.706,-635.62\" stroke=\"black\"/>\n",
       "</g>\n",
       "<!-- ZRFF10 -->\n",
       "<g class=\"node\" id=\"node22\"><title>ZRFF10</title>\n",
       "<polygon fill=\"#63b8ff\" points=\"429,-491 368,-491 368,-455 429,-455 429,-491\" stroke=\"black\"/>\n",
       "<text fill=\"blue\" font-family=\"Times New Roman,serif\" font-size=\"14.00\" text-anchor=\"start\" x=\"374.5\" y=\"-468.8\">ZRFF10</text>\n",
       "</g>\n",
       "<!-- ZYHP -->\n",
       "<g class=\"node\" id=\"node23\"><title>ZYHP</title>\n",
       "<polygon fill=\"#63b8ff\" points=\"425.5,-437 371.5,-437 371.5,-401 425.5,-401 425.5,-437\" stroke=\"black\"/>\n",
       "<text fill=\"blue\" font-family=\"Times New Roman,serif\" font-size=\"14.00\" text-anchor=\"start\" x=\"380.5\" y=\"-414.8\">ZYHP</text>\n",
       "</g>\n",
       "<!-- ZPIC30 -->\n",
       "<g class=\"node\" id=\"node24\"><title>ZPIC30</title>\n",
       "<polygon fill=\"#63b8ff\" points=\"427,-383 370,-383 370,-347 427,-347 427,-383\" stroke=\"black\"/>\n",
       "<text fill=\"blue\" font-family=\"Times New Roman,serif\" font-size=\"14.00\" text-anchor=\"start\" x=\"376.5\" y=\"-360.8\">ZPIC30</text>\n",
       "</g>\n",
       "<!-- PICXFE(&#45;2) -->\n",
       "<g class=\"node\" id=\"node25\"><title>PICXFE(-2)</title>\n",
       "<polygon fill=\"springgreen\" points=\"101,-707 19,-707 19,-671 101,-671 101,-707\" stroke=\"black\"/>\n",
       "<text fill=\"blue\" font-family=\"Times New Roman,serif\" font-size=\"14.00\" text-anchor=\"start\" x=\"25\" y=\"-684.8\">PICXFE(-2)</text>\n",
       "</g>\n",
       "<!-- PICXFE(&#45;2)&#45;&gt;RFFRULE -->\n",
       "<g class=\"edge\" id=\"edge4\"><title>PICXFE(-2)-&gt;RFFRULE</title>\n",
       "<path d=\"M101.169,-671.816C107.568,-668.738 114.038,-665.417 120,-662 135.486,-653.126 151.786,-641.984 165.382,-632.13\" fill=\"none\" stroke=\"black\"/>\n",
       "<polygon fill=\"black\" points=\"167.478,-634.933 173.466,-626.192 163.334,-629.291 167.478,-634.933\" stroke=\"black\"/>\n",
       "</g>\n",
       "<!-- RFFTAY -->\n",
       "<g class=\"node\" id=\"node26\"><title>RFFTAY</title>\n",
       "<polygon fill=\"#63b8ff\" points=\"93.5,-653 26.5,-653 26.5,-617 93.5,-617 93.5,-653\" stroke=\"black\"/>\n",
       "<text fill=\"blue\" font-family=\"Times New Roman,serif\" font-size=\"14.00\" text-anchor=\"start\" x=\"33\" y=\"-630.8\">RFFTAY</text>\n",
       "</g>\n",
       "<!-- RFFTAY&#45;&gt;RFFRULE -->\n",
       "<g class=\"edge\" id=\"edge5\"><title>RFFTAY-&gt;RFFRULE</title>\n",
       "<path d=\"M93.5754,-628.533C110.628,-625.147 131.804,-620.943 150.545,-617.223\" fill=\"none\" stroke=\"black\"/>\n",
       "<polygon fill=\"black\" points=\"151.249,-620.651 160.376,-615.271 149.885,-613.785 151.249,-620.651\" stroke=\"black\"/>\n",
       "</g>\n",
       "<!-- RRFF -->\n",
       "<g class=\"node\" id=\"node27\"><title>RRFF</title>\n",
       "<polygon fill=\"#63b8ff\" points=\"425.5,-329 371.5,-329 371.5,-293 425.5,-293 425.5,-329\" stroke=\"black\"/>\n",
       "<text fill=\"blue\" font-family=\"Times New Roman,serif\" font-size=\"14.00\" text-anchor=\"start\" x=\"380.5\" y=\"-306.8\">RRFF</text>\n",
       "</g>\n",
       "<!-- RFFGEN -->\n",
       "<g class=\"node\" id=\"node28\"><title>RFFGEN</title>\n",
       "<polygon fill=\"#63b8ff\" points=\"93.5,-599 26.5,-599 26.5,-563 93.5,-563 93.5,-599\" stroke=\"black\"/>\n",
       "<text fill=\"blue\" font-family=\"Times New Roman,serif\" font-size=\"14.00\" text-anchor=\"start\" x=\"33\" y=\"-576.8\">RFFGEN</text>\n",
       "</g>\n",
       "<!-- RFFGEN&#45;&gt;RFFRULE -->\n",
       "<g class=\"edge\" id=\"edge33\"><title>RFFGEN-&gt;RFFRULE</title>\n",
       "<path d=\"M93.5754,-587.467C110.628,-590.853 131.804,-595.057 150.545,-598.777\" fill=\"none\" stroke=\"black\"/>\n",
       "<polygon fill=\"black\" points=\"149.885,-602.215 160.376,-600.729 151.249,-595.349 149.885,-602.215\" stroke=\"black\"/>\n",
       "</g>\n",
       "<!-- PICXFE(&#45;3) -->\n",
       "<g class=\"node\" id=\"node29\"><title>PICXFE(-3)</title>\n",
       "<polygon fill=\"springgreen\" points=\"101,-545 19,-545 19,-509 101,-509 101,-545\" stroke=\"black\"/>\n",
       "<text fill=\"blue\" font-family=\"Times New Roman,serif\" font-size=\"14.00\" text-anchor=\"start\" x=\"25\" y=\"-522.8\">PICXFE(-3)</text>\n",
       "</g>\n",
       "<!-- PICXFE(&#45;3)&#45;&gt;RFFRULE -->\n",
       "<g class=\"edge\" id=\"edge19\"><title>PICXFE(-3)-&gt;RFFRULE</title>\n",
       "<path d=\"M101.265,-544.02C107.652,-547.118 114.093,-550.489 120,-554 137.192,-564.22 139.641,-569.495 156,-581 157.438,-582.011 158.91,-583.035 160.402,-584.062\" fill=\"none\" stroke=\"black\"/>\n",
       "<polygon fill=\"black\" points=\"158.815,-587.215 169.057,-589.927 162.742,-581.42 158.815,-587.215\" stroke=\"black\"/>\n",
       "</g>\n",
       "<!-- RFFFIX -->\n",
       "<g class=\"node\" id=\"node30\"><title>RFFFIX</title>\n",
       "<polygon fill=\"yellow\" points=\"90.5,-491 29.5,-491 29.5,-455 90.5,-455 90.5,-491\" stroke=\"black\"/>\n",
       "<text fill=\"blue\" font-family=\"Times New Roman,serif\" font-size=\"14.00\" text-anchor=\"start\" x=\"36\" y=\"-468.8\">RFFFIX</text>\n",
       "</g>\n",
       "<!-- RFFFIX&#45;&gt;RFFRULE -->\n",
       "<g class=\"edge\" id=\"edge20\"><title>RFFFIX-&gt;RFFRULE</title>\n",
       "<path d=\"M90.5927,-481.688C100.912,-485.885 111.92,-491.831 120,-500 147.704,-528.009 130.52,-550.953 156,-581 156.496,-581.585 157.008,-582.162 157.534,-582.732\" fill=\"none\" stroke=\"black\"/>\n",
       "<polygon fill=\"black\" points=\"155.31,-585.442 165.024,-589.671 160.067,-580.307 155.31,-585.442\" stroke=\"black\"/>\n",
       "</g>\n",
       "<!-- DMPTRSH -->\n",
       "<g class=\"node\" id=\"node31\"><title>DMPTRSH</title>\n",
       "<polygon fill=\"yellow\" points=\"237.5,-572 158.5,-572 158.5,-536 237.5,-536 237.5,-572\" stroke=\"black\"/>\n",
       "<text fill=\"blue\" font-family=\"Times New Roman,serif\" font-size=\"14.00\" text-anchor=\"start\" x=\"165\" y=\"-549.8\">DMPTRSH</text>\n",
       "</g>\n",
       "<!-- DMPTRSH&#45;&gt;RFF -->\n",
       "<g class=\"edge\" id=\"edge42\"><title>DMPTRSH-&gt;RFF</title>\n",
       "<path d=\"M233.584,-572.131C244.252,-577.724 256.009,-583.888 266.722,-589.505\" fill=\"none\" stroke=\"black\"/>\n",
       "<polygon fill=\"black\" points=\"265.333,-592.729 275.815,-594.272 268.584,-586.529 265.333,-592.729\" stroke=\"black\"/>\n",
       "</g>\n",
       "<!-- ZPIC58 -->\n",
       "<g class=\"node\" id=\"node32\"><title>ZPIC58</title>\n",
       "<polygon fill=\"#63b8ff\" points=\"427,-275 370,-275 370,-239 427,-239 427,-275\" stroke=\"black\"/>\n",
       "<text fill=\"blue\" font-family=\"Times New Roman,serif\" font-size=\"14.00\" text-anchor=\"start\" x=\"376.5\" y=\"-252.8\">ZPIC58</text>\n",
       "</g>\n",
       "<!-- DMPEX -->\n",
       "<g class=\"node\" id=\"node33\"><title>DMPEX</title>\n",
       "<polygon fill=\"yellow\" points=\"90.5,-437 29.5,-437 29.5,-401 90.5,-401 90.5,-437\" stroke=\"black\"/>\n",
       "<text fill=\"blue\" font-family=\"Times New Roman,serif\" font-size=\"14.00\" text-anchor=\"start\" x=\"36\" y=\"-414.8\">DMPEX</text>\n",
       "</g>\n",
       "<!-- DMPEX&#45;&gt;RFFRULE -->\n",
       "<g class=\"edge\" id=\"edge15\"><title>DMPEX-&gt;RFFRULE</title>\n",
       "<path d=\"M90.7071,-426.785C101.289,-430.914 112.443,-437.048 120,-446 160.056,-493.45 119.691,-530.625 156,-581 156.358,-581.497 156.729,-581.987 157.11,-582.471\" fill=\"none\" stroke=\"black\"/>\n",
       "<polygon fill=\"black\" points=\"154.656,-584.967 164.123,-589.723 159.687,-580.101 154.656,-584.967\" stroke=\"black\"/>\n",
       "</g>\n",
       "<!-- ZYH -->\n",
       "<g class=\"node\" id=\"node34\"><title>ZYH</title>\n",
       "<polygon fill=\"#63b8ff\" points=\"425.5,-221 371.5,-221 371.5,-185 425.5,-185 425.5,-221\" stroke=\"black\"/>\n",
       "<text fill=\"blue\" font-family=\"Times New Roman,serif\" font-size=\"14.00\" text-anchor=\"start\" x=\"384.5\" y=\"-198.8\">ZYH</text>\n",
       "</g>\n",
       "<!-- DMPGEN -->\n",
       "<g class=\"node\" id=\"node35\"><title>DMPGEN</title>\n",
       "<polygon fill=\"yellow\" points=\"95.5,-383 24.5,-383 24.5,-347 95.5,-347 95.5,-383\" stroke=\"black\"/>\n",
       "<text fill=\"blue\" font-family=\"Times New Roman,serif\" font-size=\"14.00\" text-anchor=\"start\" x=\"31\" y=\"-360.8\">DMPGEN</text>\n",
       "</g>\n",
       "<!-- DMPGEN&#45;&gt;RFFRULE -->\n",
       "<g class=\"edge\" id=\"edge24\"><title>DMPGEN-&gt;RFFRULE</title>\n",
       "<path d=\"M95.6682,-374.406C104.799,-378.443 113.814,-384.11 120,-392 172.759,-459.294 108.544,-509.867 156,-581 156.34,-581.51 156.693,-582.012 157.059,-582.507\" fill=\"none\" stroke=\"black\"/>\n",
       "<polygon fill=\"black\" points=\"154.527,-584.924 163.888,-589.886 159.664,-580.169 154.527,-584.924\" stroke=\"black\"/>\n",
       "</g>\n",
       "<!-- PICXFE -->\n",
       "<g class=\"node\" id=\"node36\"><title>PICXFE</title>\n",
       "<polygon fill=\"#63b8ff\" points=\"90.5,-329 29.5,-329 29.5,-293 90.5,-293 90.5,-329\" stroke=\"black\"/>\n",
       "<text fill=\"blue\" font-family=\"Times New Roman,serif\" font-size=\"14.00\" text-anchor=\"start\" x=\"36\" y=\"-306.8\">PICXFE</text>\n",
       "</g>\n",
       "<!-- PICXFE&#45;&gt;RFFRULE -->\n",
       "<g class=\"edge\" id=\"edge38\"><title>PICXFE-&gt;RFFRULE</title>\n",
       "<path d=\"M90.6432,-318.114C101.479,-322.184 112.828,-328.454 120,-338 185.581,-425.287 97.2896,-488.951 156,-581 156.329,-581.516 156.673,-582.025 157.029,-582.526\" fill=\"none\" stroke=\"black\"/>\n",
       "<polygon fill=\"black\" points=\"154.453,-584.897 163.752,-589.975 159.65,-580.206 154.453,-584.897\" stroke=\"black\"/>\n",
       "</g>\n",
       "<!-- RFFALT -->\n",
       "<g class=\"node\" id=\"node37\"><title>RFFALT</title>\n",
       "<polygon fill=\"#63b8ff\" points=\"93,-275 27,-275 27,-239 93,-239 93,-275\" stroke=\"black\"/>\n",
       "<text fill=\"blue\" font-family=\"Times New Roman,serif\" font-size=\"14.00\" text-anchor=\"start\" x=\"33\" y=\"-252.8\">RFFALT</text>\n",
       "</g>\n",
       "<!-- RFFALT&#45;&gt;RFFRULE -->\n",
       "<g class=\"edge\" id=\"edge41\"><title>RFFALT-&gt;RFFRULE</title>\n",
       "<path d=\"M93.2375,-264.974C103.313,-269.042 113.486,-275.087 120,-284 198.457,-391.352 85.9871,-467.959 156,-581 156.185,-581.299 156.375,-581.595 156.569,-581.889\" fill=\"none\" stroke=\"black\"/>\n",
       "<polygon fill=\"black\" points=\"154.101,-584.386 163.28,-589.678 159.404,-579.817 154.101,-584.386\" stroke=\"black\"/>\n",
       "</g>\n",
       "<!-- RFF&#45;&gt;ZYHT -->\n",
       "<g class=\"edge\" id=\"edge25\"><title>RFF-&gt;ZYHT</title>\n",
       "<path d=\"M305.344,-626.337C310.49,-693.134 330.464,-922.821 366,-986 366.11,-986.196 366.223,-986.392 366.337,-986.586\" fill=\"none\" stroke=\"black\"/>\n",
       "<polygon fill=\"black\" points=\"363.729,-988.939 372.565,-994.785 369.303,-984.705 363.729,-988.939\" stroke=\"black\"/>\n",
       "</g>\n",
       "<!-- RFF&#45;&gt;DELRFF -->\n",
       "<g class=\"edge\" id=\"edge10\"><title>RFF-&gt;DELRFF</title>\n",
       "<path d=\"M303.429,-626.283C302.624,-678.03 305.943,-828.462 366,-932 366.113,-932.195 366.228,-932.389 366.345,-932.582\" fill=\"none\" stroke=\"black\"/>\n",
       "<polygon fill=\"black\" points=\"363.763,-934.965 372.646,-940.739 369.302,-930.686 363.763,-934.965\" stroke=\"black\"/>\n",
       "</g>\n",
       "<!-- RFF&#45;&gt;ZRFF30 -->\n",
       "<g class=\"edge\" id=\"edge17\"><title>RFF-&gt;ZRFF30</title>\n",
       "<path d=\"M304.338,-626.167C305.957,-671.845 315.1,-793.841 366,-878 366.242,-878.401 366.493,-878.798 366.75,-879.193\" fill=\"none\" stroke=\"black\"/>\n",
       "<polygon fill=\"black\" points=\"364.052,-881.423 373.064,-886.995 369.494,-877.019 364.052,-881.423\" stroke=\"black\"/>\n",
       "</g>\n",
       "<!-- RFF&#45;&gt;ZGAP30 -->\n",
       "<g class=\"edge\" id=\"edge16\"><title>RFF-&gt;ZGAP30</title>\n",
       "<path d=\"M305.678,-626.229C309.998,-665.334 324.259,-759 366,-824 366.253,-824.394 366.513,-824.785 366.781,-825.174\" fill=\"none\" stroke=\"black\"/>\n",
       "<polygon fill=\"black\" points=\"364.13,-827.461 373.227,-832.893 369.504,-822.974 364.13,-827.461\" stroke=\"black\"/>\n",
       "</g>\n",
       "<!-- RFF&#45;&gt;ZGAP10 -->\n",
       "<g class=\"edge\" id=\"edge28\"><title>RFF-&gt;ZGAP10</title>\n",
       "<path d=\"M307.897,-626.422C315.238,-658.046 333.389,-723.721 366,-770 366.27,-770.383 366.546,-770.763 366.828,-771.142\" fill=\"none\" stroke=\"black\"/>\n",
       "<polygon fill=\"black\" points=\"364.254,-773.515 373.481,-778.722 369.515,-768.897 364.254,-773.515\" stroke=\"black\"/>\n",
       "</g>\n",
       "<!-- RFF&#45;&gt;RTB -->\n",
       "<g class=\"edge\" id=\"edge29\"><title>RFF-&gt;RTB</title>\n",
       "<path d=\"M311.984,-626.002C322.447,-648.452 342.282,-687.359 366,-716 366.482,-716.582 366.978,-717.163 367.485,-717.74\" fill=\"none\" stroke=\"black\"/>\n",
       "<polygon fill=\"black\" points=\"365.083,-720.289 374.573,-724.999 370.092,-715.399 365.083,-720.289\" stroke=\"black\"/>\n",
       "</g>\n",
       "<!-- RFF&#45;&gt;ZRFF5 -->\n",
       "<g class=\"edge\" id=\"edge32\"><title>RFF-&gt;ZRFF5</title>\n",
       "<path d=\"M324.631,-626.041C336.675,-636.555 352.175,-650.055 366,-662 366.818,-662.706 367.647,-663.423 368.485,-664.145\" fill=\"none\" stroke=\"black\"/>\n",
       "<polygon fill=\"black\" points=\"366.267,-666.854 376.131,-670.723 370.833,-661.548 366.267,-666.854\" stroke=\"black\"/>\n",
       "</g>\n",
       "<!-- RFF&#45;&gt;RFF(&#45;1) -->\n",
       "<g class=\"edge\" id=\"edge8\"><title>RFF-&gt;RFF(-1)</title>\n",
       "<path d=\"M330.045,-615.521C339.123,-618.142 349.506,-621.141 359.36,-623.986\" fill=\"none\" stroke=\"black\"/>\n",
       "<polygon fill=\"black\" points=\"358.392,-627.35 368.971,-626.762 360.334,-620.625 358.392,-627.35\" stroke=\"black\"/>\n",
       "</g>\n",
       "<!-- RFF&#45;&gt;ZDIVGR -->\n",
       "<g class=\"edge\" id=\"edge7\"><title>RFF-&gt;ZDIVGR</title>\n",
       "<path d=\"M330.045,-600.479C338.132,-598.144 347.256,-595.509 356.119,-592.95\" fill=\"none\" stroke=\"black\"/>\n",
       "<polygon fill=\"black\" points=\"357.309,-596.249 365.945,-590.112 355.366,-589.524 357.309,-596.249\" stroke=\"black\"/>\n",
       "</g>\n",
       "<!-- RFF&#45;&gt;ZGAP05 -->\n",
       "<g class=\"edge\" id=\"edge39\"><title>RFF-&gt;ZGAP05</title>\n",
       "<path d=\"M324.631,-589.959C336.675,-579.445 352.175,-565.945 366,-554 366.818,-553.294 367.647,-552.577 368.485,-551.855\" fill=\"none\" stroke=\"black\"/>\n",
       "<polygon fill=\"black\" points=\"370.833,-554.452 376.131,-545.277 366.267,-549.146 370.833,-554.452\" stroke=\"black\"/>\n",
       "</g>\n",
       "<!-- RFF&#45;&gt;ZRFF10 -->\n",
       "<g class=\"edge\" id=\"edge12\"><title>RFF-&gt;ZRFF10</title>\n",
       "<path d=\"M311.984,-589.998C322.447,-567.548 342.282,-528.641 366,-500 366.482,-499.418 366.978,-498.837 367.485,-498.26\" fill=\"none\" stroke=\"black\"/>\n",
       "<polygon fill=\"black\" points=\"370.092,-500.601 374.573,-491.001 365.083,-495.711 370.092,-500.601\" stroke=\"black\"/>\n",
       "</g>\n",
       "<!-- RFF&#45;&gt;ZYHP -->\n",
       "<g class=\"edge\" id=\"edge1\"><title>RFF-&gt;ZYHP</title>\n",
       "<path d=\"M307.897,-589.578C315.238,-557.954 333.389,-492.279 366,-446 366.27,-445.617 366.546,-445.237 366.828,-444.858\" fill=\"none\" stroke=\"black\"/>\n",
       "<polygon fill=\"black\" points=\"369.515,-447.103 373.481,-437.278 364.254,-442.485 369.515,-447.103\" stroke=\"black\"/>\n",
       "</g>\n",
       "<!-- RFF&#45;&gt;ZPIC30 -->\n",
       "<g class=\"edge\" id=\"edge2\"><title>RFF-&gt;ZPIC30</title>\n",
       "<path d=\"M305.678,-589.771C309.998,-550.666 324.259,-457 366,-392 366.253,-391.606 366.513,-391.215 366.781,-390.826\" fill=\"none\" stroke=\"black\"/>\n",
       "<polygon fill=\"black\" points=\"369.504,-393.026 373.227,-383.107 364.13,-388.539 369.504,-393.026\" stroke=\"black\"/>\n",
       "</g>\n",
       "<!-- RFF&#45;&gt;RRFF -->\n",
       "<g class=\"edge\" id=\"edge30\"><title>RFF-&gt;RRFF</title>\n",
       "<path d=\"M304.338,-589.833C305.957,-544.155 315.1,-422.159 366,-338 366.242,-337.599 366.493,-337.202 366.75,-336.807\" fill=\"none\" stroke=\"black\"/>\n",
       "<polygon fill=\"black\" points=\"369.494,-338.981 373.064,-329.005 364.052,-334.577 369.494,-338.981\" stroke=\"black\"/>\n",
       "</g>\n",
       "<!-- RFF&#45;&gt;ZPIC58 -->\n",
       "<g class=\"edge\" id=\"edge37\"><title>RFF-&gt;ZPIC58</title>\n",
       "<path d=\"M303.429,-589.717C302.624,-537.97 305.943,-387.538 366,-284 366.113,-283.805 366.228,-283.611 366.345,-283.418\" fill=\"none\" stroke=\"black\"/>\n",
       "<polygon fill=\"black\" points=\"369.302,-285.314 372.646,-275.261 363.763,-281.035 369.302,-285.314\" stroke=\"black\"/>\n",
       "</g>\n",
       "<!-- RFF&#45;&gt;ZYH -->\n",
       "<g class=\"edge\" id=\"edge31\"><title>RFF-&gt;ZYH</title>\n",
       "<path d=\"M305.344,-589.663C310.49,-522.866 330.464,-293.179 366,-230 366.11,-229.804 366.223,-229.608 366.337,-229.414\" fill=\"none\" stroke=\"black\"/>\n",
       "<polygon fill=\"black\" points=\"369.303,-231.295 372.565,-221.215 363.729,-227.061 369.303,-231.295\" stroke=\"black\"/>\n",
       "</g>\n",
       "<!-- RRFIX -->\n",
       "<g class=\"node\" id=\"node39\"><title>RRFIX</title>\n",
       "<polygon fill=\"yellow\" points=\"87.5,-221 32.5,-221 32.5,-185 87.5,-185 87.5,-221\" stroke=\"black\"/>\n",
       "<text fill=\"blue\" font-family=\"Times New Roman,serif\" font-size=\"14.00\" text-anchor=\"start\" x=\"39\" y=\"-198.8\">RRFIX</text>\n",
       "</g>\n",
       "<!-- RRFIX&#45;&gt;RFFRULE -->\n",
       "<g class=\"edge\" id=\"edge21\"><title>RRFIX-&gt;RFFRULE</title>\n",
       "<path d=\"M87.5023,-208.762C99.338,-212.728 112.322,-219.288 120,-230 211.361,-357.457 74.6589,-446.927 156,-581 156.182,-581.301 156.369,-581.598 156.561,-581.894\" fill=\"none\" stroke=\"black\"/>\n",
       "<polygon fill=\"black\" points=\"154.072,-584.369 163.219,-589.715 159.402,-579.831 154.072,-584.369\" stroke=\"black\"/>\n",
       "</g>\n",
       "<!-- RFFINTAY -->\n",
       "<g class=\"node\" id=\"node40\"><title>RFFINTAY</title>\n",
       "<polygon fill=\"#63b8ff\" points=\"101,-167 19,-167 19,-131 101,-131 101,-167\" stroke=\"black\"/>\n",
       "<text fill=\"blue\" font-family=\"Times New Roman,serif\" font-size=\"14.00\" text-anchor=\"start\" x=\"25\" y=\"-144.8\">RFFINTAY</text>\n",
       "</g>\n",
       "<!-- RFFINTAY&#45;&gt;RFFRULE -->\n",
       "<g class=\"edge\" id=\"edge14\"><title>RFFINTAY-&gt;RFFRULE</title>\n",
       "<path d=\"M101.069,-160.37C108.418,-164.203 115.255,-169.284 120,-176 172.141,-249.792 109.658,-503.435 156,-581 156.18,-581.302 156.365,-581.601 156.555,-581.897\" fill=\"none\" stroke=\"black\"/>\n",
       "<polygon fill=\"black\" points=\"154.05,-584.356 163.174,-589.742 159.4,-579.842 154.05,-584.356\" stroke=\"black\"/>\n",
       "</g>\n",
       "<!-- DMPTR(&#45;1)&#45;&gt;RFF -->\n",
       "<g class=\"edge\" id=\"edge13\"><title>DMPTR(-1)-&gt;RFF</title>\n",
       "<path d=\"M204.833,-302.348C222.006,-356.368 272.468,-515.103 293.078,-579.933\" fill=\"none\" stroke=\"black\"/>\n",
       "<polygon fill=\"black\" points=\"289.866,-581.384 296.231,-589.853 296.537,-579.263 289.866,-581.384\" stroke=\"black\"/>\n",
       "</g>\n",
       "<!-- DMPTAY -->\n",
       "<g class=\"node\" id=\"node42\"><title>DMPTAY</title>\n",
       "<polygon fill=\"yellow\" points=\"95.5,-113 24.5,-113 24.5,-77 95.5,-77 95.5,-113\" stroke=\"black\"/>\n",
       "<text fill=\"blue\" font-family=\"Times New Roman,serif\" font-size=\"14.00\" text-anchor=\"start\" x=\"31\" y=\"-90.8\">DMPTAY</text>\n",
       "</g>\n",
       "<!-- DMPTAY&#45;&gt;RFFRULE -->\n",
       "<g class=\"edge\" id=\"edge18\"><title>DMPTAY-&gt;RFFRULE</title>\n",
       "<path d=\"M95.6168,-103.719C104.976,-107.757 114.128,-113.598 120,-122 178.607,-205.864 103.981,-492.898 156,-581 156.179,-581.303 156.362,-581.603 156.551,-581.9\" fill=\"none\" stroke=\"black\"/>\n",
       "<polygon fill=\"black\" points=\"154.034,-584.346 163.14,-589.762 159.399,-579.85 154.034,-584.346\" stroke=\"black\"/>\n",
       "</g>\n",
       "</g>\n",
       "</svg>"
      ],
      "text/plain": [
       "<IPython.core.display.SVG object>"
      ]
     },
     "metadata": {},
     "output_type": "display_data"
    }
   ],
   "source": [
    "mfrbus.RFF.draw(up=2,down=1,HR=0,svg=1,pdf=1)"
   ]
  },
  {
   "cell_type": "code",
   "execution_count": 5,
   "metadata": {},
   "outputs": [
    {
     "data": {
      "text/plain": [
       "Endogeneous: RFF \n",
       "Formular: FRML  <> RFF=(1-DMPTRSH)*(RECODE((RFFRULE)>(RFFMIN),RFFRULE,RFFMIN))+DMPTRSH*(RECODE(((DMPTR(-1)*RFFRULE+(1-DMPTR(-1))*RFFMIN))>(RFFMIN),(DMPTR(-1)*RFFRULE+(1-DMPTR(-1))*RFFMIN),RFFMIN))+RFF_AERR  $"
      ]
     },
     "execution_count": 5,
     "metadata": {},
     "output_type": "execute_result"
    }
   ],
   "source": [
    "mfrbus.RFF"
   ]
  },
  {
   "cell_type": "raw",
   "metadata": {},
   "source": [
    "RFF=(1-DMPTRSH)*(RECODE((RFFRULE)>(RFFMIN),RFFRULE,RFFMIN))+\n",
    "        DMPTRSH*(RECODE(((DMPTR(-1)*RFFRULE+(1-DMPTR(-1))*RFFMIN))>(RFFMIN), \n",
    "                         (DMPTR(-1)*RFFRULE+(1-DMPTR(-1))*RFFMIN),RFFMIN)) \n",
    "        +RFF_AERR  $"
   ]
  },
  {
   "cell_type": "markdown",
   "metadata": {
    "slideshow": {
     "slide_type": "slide"
    }
   },
   "source": [
    "# Run Baseline"
   ]
  },
  {
   "cell_type": "code",
   "execution_count": 6,
   "metadata": {
    "slideshow": {
     "slide_type": "-"
    }
   },
   "outputs": [
    {
     "name": "stdout",
     "output_type": "stream",
     "text": [
      "2020Q1 Solved in 11 iterations\n",
      "2020Q2 Solved in 11 iterations\n",
      "2020Q3 Solved in 11 iterations\n",
      "2020Q4 Solved in 11 iterations\n",
      "2021Q1 Solved in 11 iterations\n",
      "2021Q2 Solved in 11 iterations\n",
      "2021Q3 Solved in 11 iterations\n",
      "2021Q4 Solved in 11 iterations\n",
      "2022Q1 Solved in 11 iterations\n",
      "2022Q2 Solved in 11 iterations\n",
      "2022Q3 Solved in 11 iterations\n",
      "2022Q4 Solved in 11 iterations\n",
      "2023Q1 Solved in 11 iterations\n",
      "2023Q2 Solved in 11 iterations\n",
      "2023Q3 Solved in 11 iterations\n",
      "2023Q4 Solved in 11 iterations\n",
      "2024Q1 Solved in 11 iterations\n",
      "2024Q2 Solved in 11 iterations\n",
      "2024Q3 Solved in 11 iterations\n",
      "2024Q4 Solved in 11 iterations\n",
      "2025Q1 Solved in 11 iterations\n",
      "2025Q2 Solved in 11 iterations\n",
      "2025Q3 Solved in 11 iterations\n",
      "2025Q4 Solved in 11 iterations\n",
      "testmodel solved  \n"
     ]
    }
   ],
   "source": [
    "res = mfrbus(basedf,'2020q1','2025q4',antal= 500,relconv=0.000000001,\n",
    "             conv='XGDPN',first_test=10,ldumpvar=True,ljit=0,silent=0,debug=0)"
   ]
  },
  {
   "cell_type": "code",
   "execution_count": 7,
   "metadata": {},
   "outputs": [
    {
     "data": {
      "image/png": "[encoded data removed]",
      "text/plain": [
       "<Figure size 720x720 with 5 Axes>"
      ]
     },
     "metadata": {},
     "output_type": "display_data"
    }
   ],
   "source": [
    "mfrbus.basedf = basedf\n",
    "_ = mfrbus['XGDPN RFF RFFMIN GFSRPN'].dif.plot(colrow=1,sharey=0)"
   ]
  },
  {
   "cell_type": "markdown",
   "metadata": {},
   "source": [
    "# Run alternative "
   ]
  },
  {
   "cell_type": "code",
   "execution_count": 8,
   "metadata": {},
   "outputs": [
    {
     "name": "stdout",
     "output_type": "stream",
     "text": [
      "Solve Frbus started at :        16:40:38 \n",
      "Compiling chunk 0      16:40:39\n",
      "Compiling a mastersolver      16:40:46\n",
      "Compiling chunk 0      16:40:47\n",
      "Compiling a mastersolver      16:41:00\n",
      "Compiling chunk 0      16:41:01\n",
      "Compiling a mastersolver      16:41:07\n",
      "Solve Frbus took       :            29.1 Seconds\n"
     ]
    }
   ],
   "source": [
    "altdf = basedf.copy()\n",
    "altdf=altdf.mfcalc('''\\\n",
    "rffintay_aerr = rffintay_aerr \n",
    "dmpex    = 0 \n",
    "dmprr    = 0\n",
    "dmptay   = 0\n",
    "dmptlr   = 0 \n",
    "dmpintay = 1\n",
    "dmpalt   = 0\n",
    "dmpgen   = 0\n",
    "\n",
    "RFFMIN = 0.0\n",
    "DMPTRSH = 0\n",
    "'''.upper(),silent=1)\n",
    "with ttimer('Solve Frbus'):\n",
    "    res2 = mfrbus(altdf,'2020q1','2025q4',sim=True,antal= 500,relconv = 0.00000001,\n",
    "                     conv='XGDPN',dumpvar ='rff*',first_test=10,ldumpvar=False,ljit=turbo,silent=1,debug=0)\n"
   ]
  },
  {
   "cell_type": "code",
   "execution_count": 9,
   "metadata": {},
   "outputs": [],
   "source": [
    "trans = {'XGDPN':'GDP real terms (XGDPN)','RFF':'Federal Funds Rate (RFF)','GFSRPN':'Federal Budget surplus',\n",
    "        'RFFMIN':'Minimum Fed Funds'}\n"
   ]
  },
  {
   "cell_type": "code",
   "execution_count": 10,
   "metadata": {
    "scrolled": false
   },
   "outputs": [
    {
     "data": {
      "image/png": "[encoded data removed]",
      "text/plain": [
       "<Figure size 720x720 with 5 Axes>"
      ]
     },
     "metadata": {},
     "output_type": "display_data"
    }
   ],
   "source": [
    "_ = mfrbus['XGDPN RFF RFFMIN GFSRPN'].dif.plot(colrow=1,sharey=0)"
   ]
  },
  {
   "cell_type": "markdown",
   "metadata": {
    "slideshow": {
     "slide_type": "slide"
    }
   },
   "source": [
    "# Create interactive output widgets \n",
    "If you are not familiar with Python and Ipywidgets, don't try to understand the code. \n",
    "Just notice that it is fairly short. "
   ]
  },
  {
   "cell_type": "code",
   "execution_count": 16,
   "metadata": {
    "code_folding": [
     61
    ],
    "slideshow": {
     "slide_type": "subslide"
    }
   },
   "outputs": [
    {
     "data": {
      "application/vnd.jupyter.widget-view+json": {
       "model_id": "02b23ac0f44a4b6199e2628b98574a7a",
       "version_major": 2,
       "version_minor": 0
      },
      "text/plain": [
       "Tab(children=(VBox(children=(Tab(children=(Output(), Output(), Output(), Output(), Output()), _titles={'0': 'L…"
      ]
     },
     "metadata": {},
     "output_type": "display_data"
    }
   ],
   "source": [
    "# Define output widget\n",
    "def vis_alt3(dfs,model,title='Show variables'):\n",
    "    ''' display tabbed widget with results from different dataframes, usuallly 2 but more can be shown'''\n",
    "    avar = dfs[0].columns\n",
    "    outlist =     [widgets.Output() for var in avar]\n",
    "    outdiflist =     [widgets.Output() for var in avar]    \n",
    "    deplist =     [widgets.Output() for var in avar]\n",
    "    reslist =     [widgets.Output() for var in avar]\n",
    "    attlist =     [widgets.Output() for var in avar]\n",
    "    varouttablist =  [widgets.Tab(children = [out,outdif,att,dep,res]) \n",
    "                      for out,outdif,att,dep,res  in zip(outlist,outdiflist,attlist,deplist,reslist)]\n",
    "    for var,varouttab in zip(avar,varouttablist):\n",
    "        for i,tabtext in enumerate(['Level','Change','Attribution','Dependencies','Results']):\n",
    "            varouttab.set_title(i,tabtext)\n",
    "\n",
    "    controllist = [widgets.VBox([varouttab]) for varouttab in varouttablist]\n",
    "    tab = widgets.Tab(children = controllist)\n",
    "    for i,(var,out) in enumerate(zip(avar,controllist)):\n",
    "        tab.set_title(i, var) \n",
    "    \n",
    "    def test1(b):\n",
    "        sel = b['new']\n",
    "        out = outlist[sel]\n",
    "        outdif = outdiflist[sel]\n",
    "        dep = deplist[sel]\n",
    "        res = reslist[sel]\n",
    "        att = attlist[sel]\n",
    "        var = avar[sel]\n",
    "        with out:\n",
    "            clear_output()\n",
    "            fig,ax = plt.subplots(figsize=(10,6))\n",
    "            ax.set_title(var,fontsize=14)\n",
    "            for i,df in enumerate(dfs):\n",
    "                data = df.loc[:,var]\n",
    "                data.plot(ax=ax,legend=False,fontsize=14)\n",
    "                x_pos = data.index[-1]\n",
    "                if i == 0:\n",
    "                    basevalue = data.values[-1]\n",
    "                    ax.text(x_pos, data.values[-1],' Baseline',fontsize=14)\n",
    "                else:\n",
    "                    alt=i if len(dfs) >= 3 else ''\n",
    "                    if abs(data.values[-1]/basevalue-1) > 0.01:\n",
    "                        ax.text(x_pos, data.values[-1]  ,f' Alternative{alt}',fontsize=14)\n",
    "                    else:\n",
    "                        ax.text(x_pos, data.values[-1]  ,f'                and Alternative{alt}',fontsize=14)\n",
    "            plt.show(fig)\n",
    "        with outdif:\n",
    "            clear_output()\n",
    "            fig,ax = plt.subplots(figsize=(10,6))\n",
    "            ax.set_title(var,fontsize=14)\n",
    "            for i,df in enumerate(dfs):\n",
    "                if i == 0:\n",
    "                    basedata = df.loc[:,var]\n",
    "                    x_pos = data.index[-1]\n",
    "            else:\n",
    "                data = df.loc[:,var]-basedata\n",
    "                data.plot(ax=ax,legend=False,fontsize=14)\n",
    "                x_pos = data.index[-1]\n",
    "                alt=i if len(dfs) >= 3 else ''\n",
    "                if abs(data.values[-1]/basevalue-1) > 0.01:\n",
    "                    ax.text(x_pos, data.values[-1]  ,f' Alternative{alt}',fontsize=14)\n",
    "                else:\n",
    "                    ax.text(x_pos, data.values[-1]  ,f'                and Alternative{alt}',fontsize=14)\n",
    "            plt.show(fig)\n",
    "        with dep:\n",
    "            clear_output()\n",
    "            model.draw(var,up=2,down=2,svg=1)\n",
    "        with res:\n",
    "            clear_output()\n",
    "            print(model.get_values(var).T)\n",
    "        with att:\n",
    "            clear_output()\n",
    "            old = model.current_per\n",
    "            #model.smpl(N-20,N)\n",
    "            print('What explains the difference between the baseline and the alternative run ')\n",
    "            print(model.allvar[var]['frml'])\n",
    "            model.explain(var,up=0,dec=1,size=(9,12),svg=1,HR=0)\n",
    "            model.current_per = old\n",
    "            \n",
    "    display(tab) \n",
    "\n",
    "    test1({'new':0})\n",
    "    tab.observe(test1,'selected_index')\n",
    "    return tab\n",
    "\n",
    "# Define data extraction\n",
    "def get_alt(mmodel,pat):\n",
    "    ''' Retrieves variables matching pat from a model '''\n",
    "    varnames = mmodel.vlist(pat)\n",
    "    per = mmodel.current_per\n",
    "    return [mmodel.basedf.loc[per,varnames],mmodel.lastdf.loc[per,varnames]]\n",
    "\n",
    "a = vis_alt3(get_alt(mfrbus,['RFF XGDPN RFFMIN GFSRPN']),mfrbus)\n"
   ]
  },
  {
   "cell_type": "markdown",
   "metadata": {},
   "source": [
    "# Create interactive input widget"
   ]
  },
  {
   "cell_type": "code",
   "execution_count": 34,
   "metadata": {
    "code_folding": [],
    "scrolled": false,
    "slideshow": {
     "slide_type": "subslide"
    }
   },
   "outputs": [
    {
     "data": {
      "application/vnd.jupyter.widget-view+json": {
       "model_id": "aaec173ea730404fa96e0813aa9d4cb6",
       "version_major": 2,
       "version_minor": 0
      },
      "text/plain": [
       "VBox(children=(HBox(children=(Label(value='Input new parameter ', layout=Layout(width='41%')), Label(value='Al…"
      ]
     },
     "metadata": {},
     "output_type": "display_data"
    },
    {
     "ename": "NameError",
     "evalue": "name 'mulstart' is not defined",
     "output_type": "error",
     "traceback": [
      "\u001b[1;31m--------------------------------------------------------\u001b[0m",
      "\u001b[1;31mNameError\u001b[0m              Traceback (most recent call last)",
      "\u001b[1;32mC:\\Anaconda3\\lib\\site-packages\\ipywidgets\\widgets\\widget.py\u001b[0m in \u001b[0;36m_handle_msg\u001b[1;34m(self, msg)\u001b[0m\n\u001b[0;32m    667\u001b[0m                 \u001b[1;32mif\u001b[0m \u001b[1;34m'buffer_paths'\u001b[0m \u001b[1;32min\u001b[0m \u001b[0mdata\u001b[0m\u001b[1;33m:\u001b[0m\u001b[1;33m\u001b[0m\u001b[0m\n\u001b[0;32m    668\u001b[0m                     \u001b[0m_put_buffers\u001b[0m\u001b[1;33m(\u001b[0m\u001b[0mstate\u001b[0m\u001b[1;33m,\u001b[0m \u001b[0mdata\u001b[0m\u001b[1;33m[\u001b[0m\u001b[1;34m'buffer_paths'\u001b[0m\u001b[1;33m]\u001b[0m\u001b[1;33m,\u001b[0m \u001b[0mmsg\u001b[0m\u001b[1;33m[\u001b[0m\u001b[1;34m'buffers'\u001b[0m\u001b[1;33m]\u001b[0m\u001b[1;33m)\u001b[0m\u001b[1;33m\u001b[0m\u001b[0m\n\u001b[1;32m--> 669\u001b[1;33m                 \u001b[0mself\u001b[0m\u001b[1;33m.\u001b[0m\u001b[0mset_state\u001b[0m\u001b[1;33m(\u001b[0m\u001b[0mstate\u001b[0m\u001b[1;33m)\u001b[0m\u001b[1;33m\u001b[0m\u001b[0m\n\u001b[0m\u001b[0;32m    670\u001b[0m \u001b[1;33m\u001b[0m\u001b[0m\n\u001b[0;32m    671\u001b[0m         \u001b[1;31m# Handle a state request.\u001b[0m\u001b[1;33m\u001b[0m\u001b[1;33m\u001b[0m\u001b[0m\n",
      "\u001b[1;32mC:\\Anaconda3\\lib\\site-packages\\ipywidgets\\widgets\\widget.py\u001b[0m in \u001b[0;36mset_state\u001b[1;34m(self, sync_data)\u001b[0m\n\u001b[0;32m    537\u001b[0m                     from_json = self.trait_metadata(name, 'from_json',\n\u001b[0;32m    538\u001b[0m                                                     self._trait_from_json)\n\u001b[1;32m--> 539\u001b[1;33m                     \u001b[0mself\u001b[0m\u001b[1;33m.\u001b[0m\u001b[0mset_trait\u001b[0m\u001b[1;33m(\u001b[0m\u001b[0mname\u001b[0m\u001b[1;33m,\u001b[0m \u001b[0mfrom_json\u001b[0m\u001b[1;33m(\u001b[0m\u001b[0msync_data\u001b[0m\u001b[1;33m[\u001b[0m\u001b[0mname\u001b[0m\u001b[1;33m]\u001b[0m\u001b[1;33m,\u001b[0m \u001b[0mself\u001b[0m\u001b[1;33m)\u001b[0m\u001b[1;33m)\u001b[0m\u001b[1;33m\u001b[0m\u001b[0m\n\u001b[0m\u001b[0;32m    540\u001b[0m \u001b[1;33m\u001b[0m\u001b[0m\n\u001b[0;32m    541\u001b[0m     \u001b[1;32mdef\u001b[0m \u001b[0msend\u001b[0m\u001b[1;33m(\u001b[0m\u001b[0mself\u001b[0m\u001b[1;33m,\u001b[0m \u001b[0mcontent\u001b[0m\u001b[1;33m,\u001b[0m \u001b[0mbuffers\u001b[0m\u001b[1;33m=\u001b[0m\u001b[1;32mNone\u001b[0m\u001b[1;33m)\u001b[0m\u001b[1;33m:\u001b[0m\u001b[1;33m\u001b[0m\u001b[0m\n",
      "\u001b[1;32mC:\\Anaconda3\\lib\\contextlib.py\u001b[0m in \u001b[0;36m__exit__\u001b[1;34m(self, type, value, traceback)\u001b[0m\n\u001b[0;32m     86\u001b[0m         \u001b[1;32mif\u001b[0m \u001b[0mtype\u001b[0m \u001b[1;32mis\u001b[0m \u001b[1;32mNone\u001b[0m\u001b[1;33m:\u001b[0m\u001b[1;33m\u001b[0m\u001b[0m\n\u001b[0;32m     87\u001b[0m             \u001b[1;32mtry\u001b[0m\u001b[1;33m:\u001b[0m\u001b[1;33m\u001b[0m\u001b[0m\n\u001b[1;32m---> 88\u001b[1;33m                 \u001b[0mnext\u001b[0m\u001b[1;33m(\u001b[0m\u001b[0mself\u001b[0m\u001b[1;33m.\u001b[0m\u001b[0mgen\u001b[0m\u001b[1;33m)\u001b[0m\u001b[1;33m\u001b[0m\u001b[0m\n\u001b[0m\u001b[0;32m     89\u001b[0m             \u001b[1;32mexcept\u001b[0m \u001b[0mStopIteration\u001b[0m\u001b[1;33m:\u001b[0m\u001b[1;33m\u001b[0m\u001b[0m\n\u001b[0;32m     90\u001b[0m                 \u001b[1;32mreturn\u001b[0m \u001b[1;32mFalse\u001b[0m\u001b[1;33m\u001b[0m\u001b[0m\n",
      "\u001b[1;32mC:\\Anaconda3\\lib\\site-packages\\traitlets\\traitlets.py\u001b[0m in \u001b[0;36mhold_trait_notifications\u001b[1;34m(self)\u001b[0m\n\u001b[0;32m   1129\u001b[0m                 \u001b[1;32mfor\u001b[0m \u001b[0mchanges\u001b[0m \u001b[1;32min\u001b[0m \u001b[0mcache\u001b[0m\u001b[1;33m.\u001b[0m\u001b[0mvalues\u001b[0m\u001b[1;33m(\u001b[0m\u001b[1;33m)\u001b[0m\u001b[1;33m:\u001b[0m\u001b[1;33m\u001b[0m\u001b[0m\n\u001b[0;32m   1130\u001b[0m                     \u001b[1;32mfor\u001b[0m \u001b[0mchange\u001b[0m \u001b[1;32min\u001b[0m \u001b[0mchanges\u001b[0m\u001b[1;33m:\u001b[0m\u001b[1;33m\u001b[0m\u001b[0m\n\u001b[1;32m-> 1131\u001b[1;33m                         \u001b[0mself\u001b[0m\u001b[1;33m.\u001b[0m\u001b[0mnotify_change\u001b[0m\u001b[1;33m(\u001b[0m\u001b[0mchange\u001b[0m\u001b[1;33m)\u001b[0m\u001b[1;33m\u001b[0m\u001b[0m\n\u001b[0m\u001b[0;32m   1132\u001b[0m \u001b[1;33m\u001b[0m\u001b[0m\n\u001b[0;32m   1133\u001b[0m     \u001b[1;32mdef\u001b[0m \u001b[0m_notify_trait\u001b[0m\u001b[1;33m(\u001b[0m\u001b[0mself\u001b[0m\u001b[1;33m,\u001b[0m \u001b[0mname\u001b[0m\u001b[1;33m,\u001b[0m \u001b[0mold_value\u001b[0m\u001b[1;33m,\u001b[0m \u001b[0mnew_value\u001b[0m\u001b[1;33m)\u001b[0m\u001b[1;33m:\u001b[0m\u001b[1;33m\u001b[0m\u001b[0m\n",
      "\u001b[1;32mC:\\Anaconda3\\lib\\site-packages\\ipywidgets\\widgets\\widget.py\u001b[0m in \u001b[0;36mnotify_change\u001b[1;34m(self, change)\u001b[0m\n\u001b[0;32m    598\u001b[0m                 \u001b[1;31m# Send new state to front-end\u001b[0m\u001b[1;33m\u001b[0m\u001b[1;33m\u001b[0m\u001b[0m\n\u001b[0;32m    599\u001b[0m                 \u001b[0mself\u001b[0m\u001b[1;33m.\u001b[0m\u001b[0msend_state\u001b[0m\u001b[1;33m(\u001b[0m\u001b[0mkey\u001b[0m\u001b[1;33m=\u001b[0m\u001b[0mname\u001b[0m\u001b[1;33m)\u001b[0m\u001b[1;33m\u001b[0m\u001b[0m\n\u001b[1;32m--> 600\u001b[1;33m         \u001b[0msuper\u001b[0m\u001b[1;33m(\u001b[0m\u001b[0mWidget\u001b[0m\u001b[1;33m,\u001b[0m \u001b[0mself\u001b[0m\u001b[1;33m)\u001b[0m\u001b[1;33m.\u001b[0m\u001b[0mnotify_change\u001b[0m\u001b[1;33m(\u001b[0m\u001b[0mchange\u001b[0m\u001b[1;33m)\u001b[0m\u001b[1;33m\u001b[0m\u001b[0m\n\u001b[0m\u001b[0;32m    601\u001b[0m \u001b[1;33m\u001b[0m\u001b[0m\n\u001b[0;32m    602\u001b[0m     \u001b[1;32mdef\u001b[0m \u001b[0m__repr__\u001b[0m\u001b[1;33m(\u001b[0m\u001b[0mself\u001b[0m\u001b[1;33m)\u001b[0m\u001b[1;33m:\u001b[0m\u001b[1;33m\u001b[0m\u001b[0m\n",
      "\u001b[1;32mC:\\Anaconda3\\lib\\site-packages\\traitlets\\traitlets.py\u001b[0m in \u001b[0;36mnotify_change\u001b[1;34m(self, change)\u001b[0m\n\u001b[0;32m   1174\u001b[0m                 \u001b[0mc\u001b[0m \u001b[1;33m=\u001b[0m \u001b[0mgetattr\u001b[0m\u001b[1;33m(\u001b[0m\u001b[0mself\u001b[0m\u001b[1;33m,\u001b[0m \u001b[0mc\u001b[0m\u001b[1;33m.\u001b[0m\u001b[0mname\u001b[0m\u001b[1;33m)\u001b[0m\u001b[1;33m\u001b[0m\u001b[0m\n\u001b[0;32m   1175\u001b[0m \u001b[1;33m\u001b[0m\u001b[0m\n\u001b[1;32m-> 1176\u001b[1;33m             \u001b[0mc\u001b[0m\u001b[1;33m(\u001b[0m\u001b[0mchange\u001b[0m\u001b[1;33m)\u001b[0m\u001b[1;33m\u001b[0m\u001b[0m\n\u001b[0m\u001b[0;32m   1177\u001b[0m \u001b[1;33m\u001b[0m\u001b[0m\n\u001b[0;32m   1178\u001b[0m     \u001b[1;32mdef\u001b[0m \u001b[0m_add_notifiers\u001b[0m\u001b[1;33m(\u001b[0m\u001b[0mself\u001b[0m\u001b[1;33m,\u001b[0m \u001b[0mhandler\u001b[0m\u001b[1;33m,\u001b[0m \u001b[0mname\u001b[0m\u001b[1;33m,\u001b[0m \u001b[0mtype\u001b[0m\u001b[1;33m)\u001b[0m\u001b[1;33m:\u001b[0m\u001b[1;33m\u001b[0m\u001b[0m\n",
      "\u001b[1;32m<ipython-input-34-b17ce5f99fd9>\u001b[0m in \u001b[0;36moradio\u001b[1;34m(b)\u001b[0m\n\u001b[0;32m     17\u001b[0m         \u001b[0mfrom_radio\u001b[0m  \u001b[1;33m=\u001b[0m \u001b[0mb\u001b[0m\u001b[1;33m[\u001b[0m\u001b[1;34m'owner'\u001b[0m\u001b[1;33m]\u001b[0m\u001b[1;33m.\u001b[0m\u001b[0mdescription\u001b[0m\u001b[1;33m\u001b[0m\u001b[0m\n\u001b[0;32m     18\u001b[0m         \u001b[0mbutton_index\u001b[0m \u001b[1;33m=\u001b[0m \u001b[0mb\u001b[0m\u001b[1;33m[\u001b[0m\u001b[1;34m'new'\u001b[0m\u001b[1;33m]\u001b[0m\u001b[1;33m\u001b[0m\u001b[0m\n\u001b[1;32m---> 19\u001b[1;33m         \u001b[0mmulstart\u001b[0m\u001b[1;33m.\u001b[0m\u001b[0mloc\u001b[0m\u001b[1;33m[\u001b[0m\u001b[1;33m:\u001b[0m\u001b[1;33m,\u001b[0m\u001b[0mradiodef\u001b[0m\u001b[1;33m[\u001b[0m\u001b[0mfrom_radio\u001b[0m\u001b[1;33m]\u001b[0m\u001b[1;33m[\u001b[0m\u001b[1;34m'vars'\u001b[0m\u001b[1;33m]\u001b[0m\u001b[1;33m[\u001b[0m\u001b[0mbutton_index\u001b[0m\u001b[1;33m]\u001b[0m\u001b[1;33m]\u001b[0m \u001b[1;33m=\u001b[0m \u001b[1;36m1\u001b[0m \u001b[1;31m# to make sure it existe\u001b[0m\u001b[1;33m\u001b[0m\u001b[0m\n\u001b[0m\u001b[0;32m     20\u001b[0m         \u001b[0mmulstart\u001b[0m\u001b[1;33m.\u001b[0m\u001b[0mloc\u001b[0m\u001b[1;33m[\u001b[0m\u001b[1;33m:\u001b[0m\u001b[1;33m,\u001b[0m\u001b[0mradiodef\u001b[0m\u001b[1;33m[\u001b[0m\u001b[0mfrom_radio\u001b[0m\u001b[1;33m]\u001b[0m\u001b[1;33m[\u001b[0m\u001b[1;34m'vars'\u001b[0m\u001b[1;33m]\u001b[0m\u001b[1;33m]\u001b[0m \u001b[1;33m=\u001b[0m \u001b[1;36m0\u001b[0m\u001b[1;33m\u001b[0m\u001b[0m\n\u001b[0;32m     21\u001b[0m         \u001b[0mmulstart\u001b[0m\u001b[1;33m.\u001b[0m\u001b[0mloc\u001b[0m\u001b[1;33m[\u001b[0m\u001b[1;33m:\u001b[0m\u001b[1;33m,\u001b[0m\u001b[0mradiodef\u001b[0m\u001b[1;33m[\u001b[0m\u001b[0mfrom_radio\u001b[0m\u001b[1;33m]\u001b[0m\u001b[1;33m[\u001b[0m\u001b[1;34m'vars'\u001b[0m\u001b[1;33m]\u001b[0m\u001b[1;33m[\u001b[0m\u001b[0mbutton_index\u001b[0m\u001b[1;33m]\u001b[0m\u001b[1;33m]\u001b[0m \u001b[1;33m=\u001b[0m \u001b[1;36m1\u001b[0m\u001b[1;33m\u001b[0m\u001b[0m\n",
      "\u001b[1;31mNameError\u001b[0m: name 'mulstart' is not defined"
     ]
    }
   ],
   "source": [
    "# Define the imput widget \n",
    "def inputwidget(model,df,wdef,radiodef,varpat='RFF XGDPN RFFMIN GFSRPN DMPTRSH XXIBDUMMY',showout=1):\n",
    "    '''Creates an input widgets for updating variables \n",
    "    \n",
    "    :df: Baseline dataframe \n",
    "    :wdef: dict with definition of variables to be updated by slider\n",
    "    :radiodef: dict of dic. each at first level defines a collection of radiobuttoms\n",
    "               second level defines the text for each leved and the variable to set or reset to 0\n",
    "    :varpat: the variables to show in the output widget\n",
    "    :showout: 1 if the output widget is to be called '''\n",
    "    \n",
    "    wradiolist = [widgets.RadioButtons(options=cont['options'],description=des,layout={'width':'70%'},\n",
    "                                       style={'description_width':'37%'}) for des,cont in radiodef.items()]\n",
    "    # out = widgets.Output()\n",
    "    def oradio(b):\n",
    "        '''Set all radio variables to 0, and the selected variables to 1. '''\n",
    "        from_radio  = b['owner'].description\n",
    "        button_index = b['new']\n",
    "        mulstart.loc[:,radiodef[from_radio]['vars'][button_index]] = 1 # to make sure it existe \n",
    "        mulstart.loc[:,radiodef[from_radio]['vars']] = 0  \n",
    "        mulstart.loc[:,radiodef[from_radio]['vars'][button_index]] = 1 \n",
    "        print(        mulstart.loc[:,radiodef[from_radio]['vars']])\n",
    "            \n",
    "        \n",
    "    for i,des in enumerate(radiodef.keys()):\n",
    "        wradiolist[i].observe(oradio,'index')\n",
    "    if len(wradiolist) <=2:\n",
    "        wradio = widgets.HBox(wradiolist)\n",
    "    else: \n",
    "        wradio = widgets.VBox(wradiolist)\n",
    "\n",
    "            \n",
    "    wexp  = widgets.Label(value=\"Input new parameter \",layout={'width':'41%'})\n",
    "    walt  =  widgets.Label(value=\"Alternative\",layout={'width':'8%'})\n",
    "    wbas  =  widgets.Label(value=\"Baseline\",layout={'width':'8%'})\n",
    "    whead = widgets.HBox([wexp,walt,wbas])\n",
    "    \n",
    "    wset  = [widgets.FloatSlider(description=var,min=min,max=max,value=value,step=0.01,\n",
    "                                layout={'width':'50%'},style={'description_width':'30%'})\n",
    "             for var,(value,min,max) in wdef.items()]\n",
    "    waltval= [widgets.Label(value=f\"{wdef[var][0]:>.2f}\",layout={'width':'8%'})\n",
    "              for var,(value,min,max)  in wdef.items()]\n",
    "    wline = [widgets.HBox([s,v]) for s,v in zip(wset,waltval)]\n",
    "    \n",
    "    wgo   = widgets.Button(description=\"Run\")\n",
    "    wreset   = widgets.Button(description=\"Reset to default\")\n",
    "    wbut  = widgets.HBox([wgo,wreset])\n",
    "    w     = widgets.VBox([whead]+wline+[wradio]+[wbut])\n",
    "\n",
    "    # This function is run when the button is clecked \n",
    "    def run(b):\n",
    "        mulstart       = df.copy()\n",
    "        if 1:\n",
    "            for i,var in enumerate(wdef.keys()):\n",
    "                avar = var+'_AERR'\n",
    "                if avar in mulstart.columns:\n",
    "                    mulstart.loc[model.current_per,avar] =  mulstart.loc[model.current_per,avar] + wset[i].value\n",
    "                else:    \n",
    "                    mulstart.loc[model.current_per,var] =   wset[i].value\n",
    "\n",
    "        #with out:\n",
    "        clear_output()\n",
    "        mul = model(mulstart,'2020q1','2025q4',sim=True,antal= 500,relconv = 0.00000001,\n",
    "             conv='XGDPN',dumpvar ='rff*',first_test=10,ldumpvar=False,ljit=turbo,silent=0,debug=0)\n",
    "\n",
    "        clear_output()\n",
    "        display(w)\n",
    "        #_ = mfrbus['XGDPN RFF RFFMIN GFSRPN'].dif.rename(trans).plot(colrow=1,sharey=0)\n",
    "        if showout:\n",
    "            a = vis_alt3(get_alt(model,varpat),model)\n",
    "\n",
    "    def reset(b):\n",
    "        for i,var in enumerate(wdef.keys()):\n",
    "            wset[i].value  =   wdef[var][0]\n",
    "\n",
    "\n",
    "    # Assign the function to the button  \n",
    "    wgo.on_click(run)\n",
    "    wreset.on_click(reset)\n",
    "    out = widgets.Output()\n",
    "    \n",
    "    return w\n",
    "\n",
    "\n",
    "wdef={'RFFINTAY':[0.0,-3,3],'RFFMIN':[0.0,-20,5]}\n",
    "radiodef = {'Monetary policy reaction':{\n",
    "            'options'  :['Inertial Taylor rule','Taylor rule','Taylor rule with unemployment gap','Estimated rule','Generalized rule','Exogenous nominal funds rate','Exogenous real funds rate'],\n",
    "            'vars'     :['DMPINTAY',            'DMPTAY','DMPTLR'                               , 'DMPALT',        'DMPGEN',          'DMPEX',                        'DMPRR']\n",
    "}}\n",
    "           \n",
    "r2 =       {'Timing of zero lower bound':{\n",
    "             'options'  : ['Yes','No'],\n",
    "             'vars'     : ['DMPTRSH','xxIBDUMMY'] \n",
    "           }}\n",
    "\n",
    "display(inputwidget(mfrbus,basedf,wdef=wdef,radiodef={**radiodef,**r2}),showout=False)  "
   ]
  },
  {
   "cell_type": "code",
   "execution_count": 29,
   "metadata": {},
   "outputs": [
    {
     "data": {
      "text/plain": [
       "Exogeneous : DMPTRSH \n",
       " Values : \n",
       "      2020Q1  2020Q2  2020Q3  2020Q4  2021Q1  2021Q2  2021Q3  2021Q4  2022Q1  \\\n",
       "Base     1.0     1.0     1.0     1.0     1.0     1.0     1.0     1.0     1.0   \n",
       "Last     1.0     1.0     1.0     1.0     1.0     1.0     1.0     1.0     1.0   \n",
       "Diff     0.0     0.0     0.0     0.0     0.0     0.0     0.0     0.0     0.0   \n",
       "\n",
       "      2022Q2  ...  2023Q3  2023Q4  2024Q1  2024Q2  2024Q3  2024Q4  2025Q1  \\\n",
       "Base     1.0  ...     1.0     1.0     1.0     1.0     1.0     1.0     1.0   \n",
       "Last     1.0  ...     1.0     1.0     1.0     1.0     1.0     1.0     1.0   \n",
       "Diff     0.0  ...     0.0     0.0     0.0     0.0     0.0     0.0     0.0   \n",
       "\n",
       "      2025Q2  2025Q3  2025Q4  \n",
       "Base     1.0     1.0     1.0  \n",
       "Last     1.0     1.0     1.0  \n",
       "Diff     0.0     0.0     0.0  \n",
       "\n",
       "[3 rows x 24 columns]"
      ]
     },
     "execution_count": 29,
     "metadata": {},
     "output_type": "execute_result"
    }
   ],
   "source": [
    "mfrbus.DMPTRSH"
   ]
  },
  {
   "cell_type": "code",
   "execution_count": 30,
   "metadata": {},
   "outputs": [
    {
     "data": {
      "text/plain": [
       "{'Monetary policy reaction': {'options': ['Inertial Taylor rule',\n",
       "   'Taylor rule',\n",
       "   'Taylor rule with unemployment gap',\n",
       "   'Estimated rule',\n",
       "   'Generalized rule',\n",
       "   'Exogenous nominal funds rate',\n",
       "   'Exogenous real funds rate'],\n",
       "  'vars': ['DMPINTAY',\n",
       "   'DMPTAY',\n",
       "   'DMPTLR',\n",
       "   'DMPALT',\n",
       "   'DMPGEN',\n",
       "   'DMPEX',\n",
       "   'DMPRR']}}"
      ]
     },
     "execution_count": 30,
     "metadata": {},
     "output_type": "execute_result"
    }
   ],
   "source": [
    "radiodef"
   ]
  },
  {
   "cell_type": "code",
   "execution_count": 38,
   "metadata": {},
   "outputs": [
    {
     "data": {
      "application/vnd.jupyter.widget-view+json": {
       "model_id": "1002bb24648b45948ab05e30c29c759c",
       "version_major": 2,
       "version_minor": 0
      },
      "text/plain": [
       "RadioButtons(options=('a', 'b'), value='a')"
      ]
     },
     "metadata": {},
     "output_type": "display_data"
    }
   ],
   "source": [
    "c = widgets.RadioButtons(options=['a','b'])\n",
    "display(c)"
   ]
  },
  {
   "cell_type": "code",
   "execution_count": 40,
   "metadata": {},
   "outputs": [
    {
     "data": {
      "text/plain": [
       "'b'"
      ]
     },
     "execution_count": 40,
     "metadata": {},
     "output_type": "execute_result"
    }
   ],
   "source": [
    "c.value"
   ]
  },
  {
   "cell_type": "code",
   "execution_count": 42,
   "metadata": {},
   "outputs": [
    {
     "data": {
      "text/plain": [
       "0"
      ]
     },
     "execution_count": 42,
     "metadata": {},
     "output_type": "execute_result"
    }
   ],
   "source": [
    "c.index"
   ]
  },
  {
   "cell_type": "code",
   "execution_count": null,
   "metadata": {},
   "outputs": [],
   "source": []
  }
 ],
 "metadata": {
  "kernelspec": {
   "display_name": "Python 3",
   "language": "python",
   "name": "python3"
  },
  "language_info": {
   "codemirror_mode": {
    "name": "ipython",
    "version": 3
   },
   "file_extension": ".py",
   "mimetype": "text/x-python",
   "name": "python",
   "nbconvert_exporter": "python",
   "pygments_lexer": "ipython3",
   "version": "3.6.4"
  },
  "toc": {
   "base_numbering": 1,
   "nav_menu": {},
   "number_sections": true,
   "sideBar": true,
   "skip_h1_title": false,
   "title_cell": "Table of Contents",
   "title_sidebar": "Contents",
   "toc_cell": false,
   "toc_position": {},
   "toc_section_display": true,
   "toc_window_display": false
  },
  "varInspector": {
   "cols": {
    "lenName": 16,
    "lenType": 16,
    "lenVar": 40
   },
   "kernels_config": {
    "python": {
     "delete_cmd_postfix": "",
     "delete_cmd_prefix": "del ",
     "library": "var_list.py",
     "varRefreshCmd": "print(var_dic_list())"
    },
    "r": {
     "delete_cmd_postfix": ") ",
     "delete_cmd_prefix": "rm(",
     "library": "var_list.r",
     "varRefreshCmd": "cat(var_dic_list()) "
    }
   },
   "oldHeight": 122.4,
   "position": {
    "height": "40px",
    "left": "945.36px",
    "right": "20px",
    "top": "120px",
    "width": "250px"
   },
   "types_to_exclude": [
    "module",
    "function",
    "builtin_function_or_method",
    "instance",
    "_Feature"
   ],
   "varInspector_section_display": "none",
   "window_display": true
  }
 },
 "nbformat": 4,
 "nbformat_minor": 2
}
