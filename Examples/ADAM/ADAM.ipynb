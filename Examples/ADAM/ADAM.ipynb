{
 "cells": [
  {
   "cell_type": "markdown",
   "metadata": {
    "slideshow": {
     "slide_type": "slide"
    }
   },
   "source": [
    "# Run ADAM \n",
    "\n",
    "The model ADAM (Annual Danish Aggregate Model)is a model of the Danish\n",
    "economy maintained and developed by Danmarks Statistik.  A Link to the model: https://www.dst.dk/pubomtale/18836. It has 4624 equations \n",
    "\n",
    "Danmarks Statistik has kindly provided the model version JUN17X and an associated databank for this demo. \n",
    "\n",
    "The model and databank is not the current model and forecast, but serves as an example. \n",
    "\n",
    "This is a basic demo. However you can use all the features of ModelFlow to manipulate the model.  \n",
    "\n",
    "The notebook runs when loaded. To run a cell press Shift-enter, "
   ]
  },
  {
   "cell_type": "markdown",
   "metadata": {
    "slideshow": {
     "slide_type": "slide"
    }
   },
   "source": [
    "# Import ModelFlow and Pandas"
   ]
  },
  {
   "cell_type": "code",
   "execution_count": 1,
   "metadata": {
    "slideshow": {
     "slide_type": "-"
    }
   },
   "outputs": [
    {
     "data": {
      "text/html": [
       "\n",
       "            <style>\n",
       "                div#notebook-container    { width: 95%; }\n",
       "                div#menubar-container     { width: 65%; }\n",
       "                div#maintoolbar-container { width: 99%; }\n",
       "            </style>\n",
       "            "
      ],
      "text/plain": [
       "<IPython.core.display.HTML object>"
      ]
     },
     "metadata": {},
     "output_type": "display_data"
    },
    {
     "data": {
      "text/html": [
       "            <script>\n",
       "                // AUTORUN ALL CELLS ON NOTEBOOK-LOAD!\n",
       "                require(\n",
       "                    ['base/js/namespace', 'jquery'], \n",
       "                    function(jupyter, $) {\n",
       "                        $(jupyter.events).on('kernel_ready.Kernel', function () {\n",
       "                            console.log('Auto-running all cells-below...');\n",
       "                            jupyter.actions.call('jupyter-notebook:run-all-cells-below');\n",
       "                            jupyter.actions.call('jupyter-notebook:save-notebook');\n",
       "                        });\n",
       "                    }\n",
       "                );\n",
       "            </script>"
      ],
      "text/plain": [
       "<IPython.core.display.HTML object>"
      ]
     },
     "metadata": {},
     "output_type": "display_data"
    }
   ],
   "source": [
    "import pandas as pd\n",
    "from ipywidgets import interact,Dropdown,Checkbox\n",
    "\n",
    "\n",
    "from IPython.display import display    # , clear_output\n",
    "\n",
    "from modelclass import model \n",
    "import modeljupyter as mj\n",
    "model.modelflow_auto()"
   ]
  },
  {
   "cell_type": "markdown",
   "metadata": {
    "slideshow": {
     "slide_type": "slide"
    }
   },
   "source": [
    "# load  model and databank\n",
    "The model and baseline has been created in [ADAM - create the model and run.ipynb](ADAM%20-%20create%20the%20model%20and%20run.ipynb)"
   ]
  },
  {
   "cell_type": "code",
   "execution_count": 10,
   "metadata": {},
   "outputs": [
    {
     "name": "stderr",
     "output_type": "stream",
     "text": [
      "Compile prolog: 100%|█████████████████████████████████████████████████████████████████████████| 29/29  3.04s/code chunk\n",
      "Compile core  : 100%|█████████████████████████████████████████████████████████████████████████| 58/58  6.06s/code chunk\n",
      "Compile epilog: 100%|█████████████████████████████████████████████████████████████████████████| 52/52  5.27s/code chunk\n"
     ]
    },
    {
     "ename": "ZeroDivisionError",
     "evalue": "division by zero",
     "output_type": "error",
     "traceback": [
      "\u001b[1;31m---------------------------------------------------------------------------\u001b[0m",
      "\u001b[1;31mZeroDivisionError\u001b[0m                         Traceback (most recent call last)",
      "\u001b[1;32m<ipython-input-10-da84986cd77f>\u001b[0m in \u001b[0;36m<module>\u001b[1;34m\u001b[0m\n\u001b[0;32m      1\u001b[0m \u001b[0mmadam\u001b[0m\u001b[1;33m,\u001b[0m\u001b[0mbasedf0\u001b[0m \u001b[1;33m=\u001b[0m \u001b[0mmodel\u001b[0m\u001b[1;33m.\u001b[0m\u001b[0mmodelload\u001b[0m\u001b[1;33m(\u001b[0m\u001b[1;34m'adam/jul17x.pcim'\u001b[0m\u001b[1;33m)\u001b[0m\u001b[1;33m\u001b[0m\u001b[1;33m\u001b[0m\u001b[0m\n\u001b[1;32m----> 2\u001b[1;33m \u001b[0mbasedf\u001b[0m \u001b[1;33m=\u001b[0m \u001b[0mmadam\u001b[0m\u001b[1;33m(\u001b[0m\u001b[0mbasedf\u001b[0m\u001b[1;33m,\u001b[0m\u001b[0mljit\u001b[0m\u001b[1;33m=\u001b[0m\u001b[1;36m1\u001b[0m\u001b[1;33m)\u001b[0m\u001b[1;33m\u001b[0m\u001b[1;33m\u001b[0m\u001b[0m\n\u001b[0m",
      "\u001b[1;32mC:\\modelflow2\\modelflow\\modelclass.py\u001b[0m in \u001b[0;36m__call__\u001b[1;34m(self, *args, **kwargs)\u001b[0m\n\u001b[0;32m   2790\u001b[0m             \u001b[1;31m# print(f'solver:{solver},solverkwargs:{newkwargs}')\u001b[0m\u001b[1;33m\u001b[0m\u001b[1;33m\u001b[0m\u001b[1;33m\u001b[0m\u001b[0m\n\u001b[0;32m   2791\u001b[0m             \u001b[1;31m# breakpoint()\u001b[0m\u001b[1;33m\u001b[0m\u001b[1;33m\u001b[0m\u001b[1;33m\u001b[0m\u001b[0m\n\u001b[1;32m-> 2792\u001b[1;33m             \u001b[0moutdf\u001b[0m \u001b[1;33m=\u001b[0m \u001b[0mself\u001b[0m\u001b[1;33m.\u001b[0m\u001b[0mmodel_solver\u001b[0m\u001b[1;33m(\u001b[0m\u001b[1;33m*\u001b[0m\u001b[0margs\u001b[0m\u001b[1;33m,\u001b[0m \u001b[1;33m**\u001b[0m\u001b[0mnewkwargs\u001b[0m \u001b[1;33m)\u001b[0m\u001b[1;33m\u001b[0m\u001b[1;33m\u001b[0m\u001b[0m\n\u001b[0m\u001b[0;32m   2793\u001b[0m \u001b[1;33m\u001b[0m\u001b[0m\n\u001b[0;32m   2794\u001b[0m             \u001b[1;32mif\u001b[0m \u001b[0mnewkwargs\u001b[0m\u001b[1;33m.\u001b[0m\u001b[0mget\u001b[0m\u001b[1;33m(\u001b[0m\u001b[1;34m'keep'\u001b[0m\u001b[1;33m,\u001b[0m\u001b[1;34m''\u001b[0m\u001b[1;33m)\u001b[0m\u001b[1;33m:\u001b[0m\u001b[1;33m\u001b[0m\u001b[1;33m\u001b[0m\u001b[0m\n",
      "\u001b[1;32mC:\\modelflow2\\modelflow\\modelclass.py\u001b[0m in \u001b[0;36msim\u001b[1;34m(self, databank, start, slut, silent, samedata, alfa, stats, first_test, max_iterations, conv, absconv, relconv, stringjit, transpile_reset, dumpvar, init, ldumpvar, dumpwith, dumpdecimal, chunk, ljit, timeon, fairopt, **kwargs)\u001b[0m\n\u001b[0;32m   2952\u001b[0m                         \u001b[0mvalues\u001b[0m\u001b[1;33m[\u001b[0m\u001b[0mrow\u001b[0m\u001b[1;33m,\u001b[0m\u001b[0mc\u001b[0m\u001b[1;33m]\u001b[0m\u001b[1;33m=\u001b[0m\u001b[0mvalues\u001b[0m\u001b[1;33m[\u001b[0m\u001b[0mrow\u001b[0m\u001b[1;33m-\u001b[0m\u001b[1;36m1\u001b[0m\u001b[1;33m,\u001b[0m\u001b[0mc\u001b[0m\u001b[1;33m]\u001b[0m\u001b[1;33m\u001b[0m\u001b[1;33m\u001b[0m\u001b[0m\n\u001b[0;32m   2953\u001b[0m                 \u001b[0mitbefore\u001b[0m \u001b[1;33m=\u001b[0m \u001b[0mvalues\u001b[0m\u001b[1;33m[\u001b[0m\u001b[0mrow\u001b[0m\u001b[1;33m,\u001b[0m\u001b[0mconvplace\u001b[0m\u001b[1;33m]\u001b[0m\u001b[1;33m\u001b[0m\u001b[1;33m\u001b[0m\u001b[0m\n\u001b[1;32m-> 2954\u001b[1;33m                 \u001b[0mself\u001b[0m\u001b[1;33m.\u001b[0m\u001b[0mpro2d\u001b[0m\u001b[1;33m(\u001b[0m\u001b[0mvalues\u001b[0m\u001b[1;33m,\u001b[0m \u001b[0mvalues\u001b[0m\u001b[1;33m,\u001b[0m  \u001b[0mrow\u001b[0m \u001b[1;33m,\u001b[0m  \u001b[1;36m1.0\u001b[0m \u001b[1;33m)\u001b[0m\u001b[1;33m\u001b[0m\u001b[1;33m\u001b[0m\u001b[0m\n\u001b[0m\u001b[0;32m   2955\u001b[0m                 \u001b[1;32mfor\u001b[0m \u001b[0miteration\u001b[0m \u001b[1;32min\u001b[0m \u001b[0mrange\u001b[0m\u001b[1;33m(\u001b[0m\u001b[0mmax_iterations\u001b[0m \u001b[1;33m)\u001b[0m\u001b[1;33m:\u001b[0m\u001b[1;33m\u001b[0m\u001b[1;33m\u001b[0m\u001b[0m\n\u001b[0;32m   2956\u001b[0m                     \u001b[1;32mwith\u001b[0m \u001b[0mself\u001b[0m\u001b[1;33m.\u001b[0m\u001b[0mtimer\u001b[0m\u001b[1;33m(\u001b[0m\u001b[1;34mf'Evaluate {self.periode}/{iteration} '\u001b[0m\u001b[1;33m,\u001b[0m\u001b[0mtimeon\u001b[0m\u001b[1;33m)\u001b[0m \u001b[1;32mas\u001b[0m \u001b[0mt\u001b[0m\u001b[1;33m:\u001b[0m\u001b[1;33m\u001b[0m\u001b[1;33m\u001b[0m\u001b[0m\n",
      "\u001b[1;31mZeroDivisionError\u001b[0m: division by zero"
     ]
    }
   ],
   "source": [
    "madam,basedf0 = model.modelload('adam/jul17x.pcim')\n",
    "basedf = madam(basedf,ljit=1)\n"
   ]
  },
  {
   "cell_type": "markdown",
   "metadata": {
    "slideshow": {
     "slide_type": "slide"
    }
   },
   "source": [
    "# Define a interface to experiments\n",
    "\n",
    "The next cell defines interactive widget. \n",
    "\n",
    "You can add additional variables using by adding extra entries to the slidedef dictionary "
   ]
  },
  {
   "cell_type": "code",
   "execution_count": 3,
   "metadata": {},
   "outputs": [
    {
     "data": {
      "application/vnd.jupyter.widget-view+json": {
       "model_id": "dd18fabf84b6470e9688ca9d1290fa7c",
       "version_major": 2,
       "version_minor": 0
      },
      "text/plain": [
       "VBox(children=(HBox(children=(Label(value='Input new parameter ', layout=Layout(width='52%')), Label(value='Al…"
      ]
     },
     "metadata": {},
     "output_type": "display_data"
    },
    {
     "data": {
      "application/vnd.jupyter.widget-view+json": {
       "model_id": "447d098dc74a42d9b6dadecaa98f21d9",
       "version_major": 2,
       "version_minor": 0
      },
      "text/plain": [
       "VBox(children=(Tab(children=(VBox(children=(Tab(children=(Output(), Output(), Output(), Output()), _titles={'0…"
      ]
     },
     "metadata": {},
     "output_type": "display_data"
    }
   ],
   "source": [
    "# ADAM Variable descriptions \n",
    "vtrans = {'ENL'  :'Balance of Payment, surplus','UL':'Unemployment','FY':'Real GDP',\n",
    "         'TFN_O' :'Public surplus','TFN_OY':'Public surplus, Percent of GDP'}\n",
    "\n",
    "# Define some input fields \n",
    "slidedef = {'Value added tax rate':                {'var':'TG','value':-0.05,'min':-0.1, 'max':0.1,'op':'+'},\n",
    "            'Extra labour supply, 1000 ':          {'var':'UQ','value':10,'min':-8,    'max':8,   'op':'+','step':1},\n",
    "            }\n",
    "# Now call the input widget to display the input\n",
    "input = madam.inputwidget(2018,2030,slidedef=slidedef\n",
    "                   ,showout=True,varpat='FY ENL UL TFN_O TFN_OY',trans=vtrans)"
   ]
  },
  {
   "cell_type": "markdown",
   "metadata": {},
   "source": [
    "# Attributions to the results from changed variables"
   ]
  },
  {
   "cell_type": "code",
   "execution_count": 4,
   "metadata": {
    "scrolled": false
   },
   "outputs": [
    {
     "name": "stdout",
     "output_type": "stream",
     "text": [
      "Total dekomp took       :        10.2 Seconds\n",
      "TOTDEKOMP made\n"
     ]
    },
    {
     "data": {
      "application/vnd.jupyter.widget-view+json": {
       "model_id": "1d9619000b7146219f04984945257be9",
       "version_major": 2,
       "version_minor": 0
      },
      "text/plain": [
       "interactive(children=(Dropdown(description='Variable', index=1469, options=('AFCO', 'AFCP', 'AFE', 'AFIBH', 'A…"
      ]
     },
     "metadata": {},
     "output_type": "display_data"
    },
    {
     "data": {
      "text/plain": [
       "None"
      ]
     },
     "metadata": {},
     "output_type": "display_data"
    }
   ],
   "source": [
    "display(madam.get_att_gui(desdic=vtrans))"
   ]
  },
  {
   "cell_type": "markdown",
   "metadata": {
    "slideshow": {
     "slide_type": "slide"
    }
   },
   "source": [
    "# Attributions to an equation from its input. \n",
    "You can decide how many levels back in the dependency tree you want to calculate the attributions "
   ]
  },
  {
   "cell_type": "code",
   "execution_count": 5,
   "metadata": {},
   "outputs": [
    {
     "data": {
      "application/vnd.jupyter.widget-view+json": {
       "model_id": "86bb474f6d0a4bbcb90166b2093d6d96",
       "version_major": 2,
       "version_minor": 0
      },
      "text/plain": [
       "interactive(children=(Dropdown(description='Variable', index=1469, options=('AFCO', 'AFCP', 'AFE', 'AFIBH', 'A…"
      ]
     },
     "metadata": {},
     "output_type": "display_data"
    }
   ],
   "source": [
    "@interact(Threshold = (0.0,10.0,1.))\n",
    "def explain(Variable  = Dropdown(options = sorted(madam.endogene),value='FY'),\n",
    "            Pct       = Checkbox(description='Percent growth',value=False),\n",
    "            Periode   = Dropdown(options = madam.current_per,value=2022),\n",
    "            Threshold = 0.0):\n",
    "    mj.get_frml_latex(madam,Variable)\n",
    "    madam.dekomp_plot(Variable,pct=Pct,threshold=Threshold)\n",
    "    madam.dekomp_plot_per(Variable,pct=Pct,threshold=Threshold,per=Periode,sort=True)\n"
   ]
  },
  {
   "cell_type": "markdown",
   "metadata": {},
   "source": [
    "# Attribution going back in the dependenci tree\n",
    "You might have to zoom in order to look at the actual numbers.\n",
    "Also the result can be inspected in the graph/ folder.\n",
    "\n",
    "Pointing at a variable name will display the variable label."
   ]
  },
  {
   "cell_type": "code",
   "execution_count": 6,
   "metadata": {},
   "outputs": [
    {
     "data": {
      "application/vnd.jupyter.widget-view+json": {
       "model_id": "712a26d265364fa4a47d330ce7c43545",
       "version_major": 2,
       "version_minor": 0
      },
      "text/plain": [
       "interactive(children=(Dropdown(description='Variable', index=1469, options=('AFCO', 'AFCP', 'AFE', 'AFIBH', 'A…"
      ]
     },
     "metadata": {},
     "output_type": "display_data"
    }
   ],
   "source": [
    "@interact\n",
    "def explain(Variable=Dropdown(options = sorted(madam.endogene),value='FY'),\n",
    "            Levels=[0,1,2,3]):\n",
    "    mj.get_frml_latex(madam,Variable)\n",
    "    with madam.set_smpl(2018,2021):  # we look at a smaler time span\n",
    "        _ = madam.explain(Variable,up=Levels,svg=1,dec=2,size=(10,10),des=1)"
   ]
  },
  {
   "cell_type": "markdown",
   "metadata": {},
   "source": [
    "# Just look at the dependecy tree for a variable "
   ]
  },
  {
   "cell_type": "code",
   "execution_count": 8,
   "metadata": {
    "scrolled": false
   },
   "outputs": [
    {
     "data": {
      "application/vnd.jupyter.widget-view+json": {
       "model_id": "43c8350253af45de8661689f57cfd12b",
       "version_major": 2,
       "version_minor": 0
      },
      "text/plain": [
       "interactive(children=(Dropdown(description='Variable', index=1469, options=('AFCO', 'AFCP', 'AFE', 'AFIBH', 'A…"
      ]
     },
     "metadata": {},
     "output_type": "display_data"
    }
   ],
   "source": [
    "@interact\n",
    "def draw(Variable=Dropdown(options = sorted(madam.endogene),value='FY'),\n",
    "        up    =Dropdown(options = [0,1,2,3,4],value=1),\n",
    "        down = Dropdown(options = [0,1,2,3,4],value=1)):\n",
    "    mj.get_frml_latex(madam,Variable)\n",
    "    madam.draw(Variable,up=up,down=down,lag=False,svg=1,HR=0,size=(10,10),pdf=1)"
   ]
  },
  {
   "cell_type": "code",
   "execution_count": null,
   "metadata": {},
   "outputs": [],
   "source": []
  }
 ],
 "metadata": {
  "kernelspec": {
   "display_name": "Python 3",
   "language": "python",
   "name": "python3"
  },
  "language_info": {
   "codemirror_mode": {
    "name": "ipython",
    "version": 3
   },
   "file_extension": ".py",
   "mimetype": "text/x-python",
   "name": "python",
   "nbconvert_exporter": "python",
   "pygments_lexer": "ipython3",
   "version": "3.7.5"
  },
  "toc": {
   "base_numbering": 1,
   "nav_menu": {},
   "number_sections": true,
   "sideBar": true,
   "skip_h1_title": false,
   "title_cell": "Table of Contents",
   "title_sidebar": "Contents",
   "toc_cell": false,
   "toc_position": {
    "height": "calc(100% - 180px)",
    "left": "10px",
    "top": "150px",
    "width": "164.996px"
   },
   "toc_section_display": true,
   "toc_window_display": true
  },
  "varInspector": {
   "cols": {
    "lenName": 16,
    "lenType": 16,
    "lenVar": 40
   },
   "kernels_config": {
    "python": {
     "delete_cmd_postfix": "",
     "delete_cmd_prefix": "del ",
     "library": "var_list.py",
     "varRefreshCmd": "print(var_dic_list())"
    },
    "r": {
     "delete_cmd_postfix": ") ",
     "delete_cmd_prefix": "rm(",
     "library": "var_list.r",
     "varRefreshCmd": "cat(var_dic_list()) "
    }
   },
   "oldHeight": 134.43022200000001,
   "position": {
    "height": "156.55px",
    "left": "1033.67px",
    "right": "20px",
    "top": "238px",
    "width": "612.183px"
   },
   "types_to_exclude": [
    "module",
    "function",
    "builtin_function_or_method",
    "instance",
    "_Feature"
   ],
   "varInspector_section_display": "block",
   "window_display": true
  }
 },
 "nbformat": 4,
 "nbformat_minor": 2
}
