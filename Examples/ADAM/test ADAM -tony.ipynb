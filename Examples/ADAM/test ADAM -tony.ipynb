{
 "cells": [
  {
   "cell_type": "markdown",
   "metadata": {
    "slideshow": {
     "slide_type": "slide"
    }
   },
   "source": [
    "# Run ADAM \n",
    "\n",
    "The model ADAM (Annual Danish Aggregate Model)is a model of the Danish\n",
    "economy maintained and developed by Danmarks Statistik.  A Link to the model: https://www.dst.dk/pubomtale/18836. It has 4624 equations \n",
    "\n",
    "Danmarks Statistik has kindly provided the model version JUN17X and an associated databank for this demo. \n",
    "\n",
    "The model and databank is not the current model and forecast, but serves as an example. \n",
    "\n",
    "This is a basic demo. However you can use all the features of ModelFlow to manipulate the model.  \n",
    "\n",
    "The notebook runs when loaded. To run a cell press Shift-enter, "
   ]
  },
  {
   "cell_type": "markdown",
   "metadata": {
    "slideshow": {
     "slide_type": "slide"
    }
   },
   "source": [
    "# Import ModelFlow and Pandas"
   ]
  },
  {
   "cell_type": "code",
   "execution_count": 10,
   "metadata": {},
   "outputs": [
    {
     "name": "stdout",
     "output_type": "stream",
     "text": [
      "The autoreload extension is already loaded. To reload it, use:\n",
      "  %reload_ext autoreload\n"
     ]
    }
   ],
   "source": [
    "%load_ext autoreload\n",
    "%autoreload 2"
   ]
  },
  {
   "cell_type": "code",
   "execution_count": 2,
   "metadata": {
    "slideshow": {
     "slide_type": "-"
    }
   },
   "outputs": [],
   "source": [
    "import pandas as pd\n",
    "from ipywidgets import interact,Dropdown,Checkbox\n",
    "\n",
    "\n",
    "from IPython.display import display    # , clear_output\n",
    "\n",
    "from modelclass import model \n",
    "from modeldekom import totdif\n",
    "\n",
    "import modeljupyter as mj\n",
    "#model.modelflow_auto() "
   ]
  },
  {
   "cell_type": "markdown",
   "metadata": {
    "slideshow": {
     "slide_type": "slide"
    }
   },
   "source": [
    "# load  model and databank\n",
    "The model and baseline has been created in [ADAM - create the model and run.ipynb](ADAM%20-%20create%20the%20model%20and%20run.ipynb)"
   ]
  },
  {
   "cell_type": "code",
   "execution_count": 3,
   "metadata": {
    "scrolled": true
   },
   "outputs": [
    {
     "name": "stderr",
     "output_type": "stream",
     "text": [
      "Compile prolog: 100%|█████████████████████████████████████████████████████████████████████████| 29/29 65.22code chunk/s\n",
      "Compile core  : 100%|█████████████████████████████████████████████████████████████████████████| 58/58 58.78code chunk/s\n",
      "Compile epilog: 100%|█████████████████████████████████████████████████████████████████████████| 52/52 68.40code chunk/s\n"
     ]
    }
   ],
   "source": [
    "turbo=1\n",
    "madam,basedf0 = model.modelload('adam/jul17x.pcim',run=1,ljit=turbo,stringjit=0)"
   ]
  },
  {
   "cell_type": "markdown",
   "metadata": {
    "slideshow": {
     "slide_type": "slide"
    }
   },
   "source": [
    "# Define a interface to experiments\n",
    "\n",
    "The next cell defines interactive widget. \n",
    "\n",
    "You can add additional variables using by adding extra entries to the slidedef dictionary "
   ]
  },
  {
   "cell_type": "code",
   "execution_count": 15,
   "metadata": {},
   "outputs": [],
   "source": [
    "# ADAM Variable descriptions \n",
    "from modelwidget import sumslidewidget,slidewidget, updatewidget, tabwidget,sheetwidget\n",
    "\n",
    "vtrans = {'ENL'  :'Balance of Payment, surplus','UL':'Unemployment','FY':'Real GDP',\n",
    "         'TFN_O' :'Public surplus','TFN_OY':'Public surplus, Percent of GDP'}\n",
    "\n",
    "# Define some input fields \n",
    "slidedef = {'Value added tax rate':                {'var':'TG','value':-0.0,'min':-0.1, 'max':0.1,'op':'+'},\n",
    "            'Extra labour supply, 1000 ':          {'var':'UQ','value':0,'min':-8,    'max':8,   'op':'+','step':1},\n",
    "            'Productivity increase in percent':    {'var':'dtla dtlb dtle  dtlh dtlne dtlnf dtlng dtlnz dtlqf dtlqz dtlqs'.upper(),'value':0,'min':-8,    'max':8,   'op':'%','step':1},\n",
    "            'Yearly Work hours    ':                       {'var':'HA','value':0,'min':-120,    'max':120,   'op':'+','step':20},\n",
    "            }\n",
    "experiments = {'VAT':'TG',\n",
    "               'Labour supply':'UQ',\n",
    "               'Productivity':'dtla dtlb dtle  dtlh dtlne dtlnf dtlng dtlnz dtlqf dtlqz dtlqs'.upper().split(),\n",
    "              'Work Hours':'HA'}\n",
    "wslide = slidewidget(slidedef)"
   ]
  },
  {
   "cell_type": "code",
   "execution_count": 5,
   "metadata": {
    "scrolled": false
   },
   "outputs": [
    {
     "data": {
      "application/vnd.jupyter.widget-view+json": {
       "model_id": "bf4243aacab040d88b4e7718d3b2392c",
       "version_major": 2,
       "version_minor": 0
      },
      "text/plain": [
       "VBox(children=(VBox(children=(HBox(children=(Label(value='Carbon tax rate, US$ per tonn ', layout=Layout(width…"
      ]
     },
     "metadata": {},
     "output_type": "display_data"
    },
    {
     "data": {
      "application/vnd.jupyter.widget-view+json": {
       "model_id": "445920e014fa4bbca1c677fe583013e7",
       "version_major": 2,
       "version_minor": 0
      },
      "text/plain": [
       "VBox(children=(VBox(children=(SelectMultiple(description='Select one or more', index=(0,), layout=Layout(heigh…"
      ]
     },
     "metadata": {},
     "output_type": "display_data"
    },
    {
     "data": {
      "application/vnd.jupyter.widget-view+json": {
       "model_id": "c5f1cc22bb8b4842a31ca710ceb498e8",
       "version_major": 2,
       "version_minor": 0
      },
      "text/plain": [
       "Output()"
      ]
     },
     "metadata": {},
     "output_type": "display_data"
    }
   ],
   "source": [
    "xx = updatewidget(madam,wslide,varpat='FY ENL UL TFN_O TFN_OY FXO1',outputwidget='keep_viz_prefix',\n",
    "                  basename='Baseline',legend=0,vline =  [(2018,'Forecast')],relativ_start=-1,short = 2)\n",
    "xx.show()"
   ]
  },
  {
   "cell_type": "markdown",
   "metadata": {},
   "source": [
    "# Attributions to the results from changed variables"
   ]
  },
  {
   "cell_type": "code",
   "execution_count": 16,
   "metadata": {},
   "outputs": [
    {
     "data": {
      "application/vnd.jupyter.widget-view+json": {
       "model_id": "0128ac01470d43b8bab05ae014675abc",
       "version_major": 2,
       "version_minor": 0
      },
      "text/plain": [
       "Solving testmodel:   0%|          | 0/13"
      ]
     },
     "metadata": {},
     "output_type": "display_data"
    },
    {
     "data": {
      "application/vnd.jupyter.widget-view+json": {
       "model_id": "2b9bd10b71824f559c74b3e531dbb42e",
       "version_major": 2,
       "version_minor": 0
      },
      "text/plain": [
       "Solving testmodel:   0%|          | 0/13"
      ]
     },
     "metadata": {},
     "output_type": "display_data"
    },
    {
     "data": {
      "application/vnd.jupyter.widget-view+json": {
       "model_id": "b9a8de6494fc458eb0e7c3f85d961960",
       "version_major": 2,
       "version_minor": 0
      },
      "text/plain": [
       "Solving testmodel:   0%|          | 0/13"
      ]
     },
     "metadata": {},
     "output_type": "display_data"
    },
    {
     "data": {
      "application/vnd.jupyter.widget-view+json": {
       "model_id": "534fa962767e40b8afde9adcbd9bcd01",
       "version_major": 2,
       "version_minor": 0
      },
      "text/plain": [
       "Solving testmodel:   0%|          | 0/13"
      ]
     },
     "metadata": {},
     "output_type": "display_data"
    },
    {
     "name": "stdout",
     "output_type": "stream",
     "text": [
      "Total dekomp took       :         0.5960867405 Seconds\n"
     ]
    },
    {
     "data": {
      "application/vnd.jupyter.widget-view+json": {
       "model_id": "e11a2c581c9c454ab54f36379992874b",
       "version_major": 2,
       "version_minor": 0
      },
      "text/plain": [
       "interactive(children=(Dropdown(description='Variable', index=1469, options=('AFCO', 'AFCP', 'AFE', 'AFIBH', 'A…"
      ]
     },
     "metadata": {},
     "output_type": "display_data"
    },
    {
     "data": {
      "text/plain": [
       "None"
      ]
     },
     "metadata": {},
     "output_type": "display_data"
    }
   ],
   "source": [
    "madam.totdekomp = totdif(model=madam,experiments = experiments)\n",
    "display(madam.get_att_gui(desdic=madam.var_description))"
   ]
  },
  {
   "cell_type": "markdown",
   "metadata": {
    "slideshow": {
     "slide_type": "slide"
    }
   },
   "source": [
    "# Attributions to an equation from its input. \n",
    "You can decide how many levels back in the dependency tree you want to calculate the attributions "
   ]
  },
  {
   "cell_type": "code",
   "execution_count": 17,
   "metadata": {
    "scrolled": false
   },
   "outputs": [
    {
     "data": {
      "application/vnd.jupyter.widget-view+json": {
       "model_id": "689ae16b5c59453586e6bef8bfdfdb66",
       "version_major": 2,
       "version_minor": 0
      },
      "text/plain": [
       "interactive(children=(Dropdown(description='Variable', index=1469, options=('AFCO', 'AFCP', 'AFE', 'AFIBH', 'A…"
      ]
     },
     "metadata": {},
     "output_type": "display_data"
    }
   ],
   "source": [
    "@interact(Threshold = (0.0,10.0,1.))\n",
    "def explain(Variable  = Dropdown(options = sorted(madam.endogene),value='FY'),\n",
    "            Pct       = Checkbox(description='Percent growth',value=False),\n",
    "            Periode   = Dropdown(options = madam.current_per,value=2022),\n",
    "            Threshold = 0.0):\n",
    "    mj.get_frml_latex(madam,Variable)\n",
    "    madam.dekomp_plot(Variable,pct=Pct,threshold=Threshold)\n",
    "    madam.dekomp_plot_per(Variable,pct=Pct,threshold=Threshold,per=Periode,sort=True)\n"
   ]
  },
  {
   "cell_type": "markdown",
   "metadata": {},
   "source": [
    "# Attribution going back in the dependency tree\n",
    "You might have to zoom in order to look at the actual numbers.\n",
    "Also the result can be inspected in the graph/ folder.\n",
    "\n",
    "Pointing at a variable name will display the variable label."
   ]
  },
  {
   "cell_type": "code",
   "execution_count": 18,
   "metadata": {
    "scrolled": true
   },
   "outputs": [
    {
     "name": "stdout",
     "output_type": "stream",
     "text": [
      "Still worlking on the layout of this\n",
      "apprun\n",
      "Dash app running on http://127.0.0.1:5006/\n"
     ]
    },
    {
     "name": "stderr",
     "output_type": "stream",
     "text": [
      "C:\\Users\\ibhan\\Anaconda3\\lib\\site-packages\\jupyter_dash\\jupyter_app.py:139: UserWarning: The 'environ['werkzeug.server.shutdown']' function is deprecated and will be removed in Werkzeug 2.1.\n",
      "  func()\n"
     ]
    },
    {
     "data": {
      "text/plain": [
       "Dash_graph(mmodel=<\n",
       "Model name                              :            testmodel \n",
       "Model structure                         :         Simultaneous \n",
       "Number of variables                     :                 8748 \n",
       "Number of exogeneous  variables         :                 4624 \n",
       "Number of endogeneous variables         :                 4124 \n",
       ">, pre_var='FY', filter=0, up=1, down=0, time_att=False, attshow=False, all=1, dashport=5006, debug=False, jupyter=1, show_trigger=1, inline=False, lag=False, threshold=0.5, growthshow=False)"
      ]
     },
     "execution_count": 18,
     "metadata": {},
     "output_type": "execute_result"
    },
    {
     "name": "stdout",
     "output_type": "stream",
     "text": [
      "\n",
      "New Trigger:\n",
      "{\n",
      "  \"states\": {\n",
      "    \"outvar_state.children\": \"FY\"\n",
      "  },\n",
      "  \"triggered\": [\n",
      "    {\n",
      "      \"prop_id\": \"node.value\",\n",
      "      \"value\": \"all\"\n",
      "    }\n",
      "  ],\n",
      "  \"inputs\": {\n",
      "    \"var.value\": \"FY\",\n",
      "    \"gv.selected_node\": null,\n",
      "    \"gv.selected_edge\": null,\n",
      "    \"up.value\": 1,\n",
      "    \"down.value\": 0,\n",
      "    \"filter.value\": 0,\n",
      "    \"orient.value\": \"v\",\n",
      "    \"onclick.value\": \"c\",\n",
      "    \"node.value\": \"all\"\n",
      "  }\n",
      "}\n",
      "outvar_state='FY'\n",
      "self.fokusvar=set() When triggerd\n",
      "self.fokusvar=set() before render\n",
      "\n",
      "New Trigger:\n",
      "{\n",
      "  \"states\": {\n",
      "    \"outvar_state.children\": \"FY\"\n",
      "  },\n",
      "  \"triggered\": [\n",
      "    {\n",
      "      \"prop_id\": \"gv.selected_node\",\n",
      "      \"value\": \"FE\"\n",
      "    },\n",
      "    {\n",
      "      \"prop_id\": \"gv.selected_edge\",\n",
      "      \"value\": null\n",
      "    }\n",
      "  ],\n",
      "  \"inputs\": {\n",
      "    \"var.value\": \"FY\",\n",
      "    \"gv.selected_node\": \"FE\",\n",
      "    \"gv.selected_edge\": null,\n",
      "    \"up.value\": 1,\n",
      "    \"down.value\": 0,\n",
      "    \"filter.value\": 0,\n",
      "    \"orient.value\": \"v\",\n",
      "    \"onclick.value\": \"c\",\n",
      "    \"node.value\": \"all\"\n",
      "  }\n",
      "}\n",
      "outvar_state='FY'\n",
      "self.fokusvar=set() When triggerd\n",
      "self.fokusvar=set() before render\n",
      "\n",
      "New Trigger:\n",
      "{\n",
      "  \"states\": {\n",
      "    \"outvar_state.children\": \"FE\"\n",
      "  },\n",
      "  \"triggered\": [\n",
      "    {\n",
      "      \"prop_id\": \"filter.value\",\n",
      "      \"value\": 30\n",
      "    }\n",
      "  ],\n",
      "  \"inputs\": {\n",
      "    \"var.value\": \"FY\",\n",
      "    \"gv.selected_node\": \"FE\",\n",
      "    \"gv.selected_edge\": null,\n",
      "    \"up.value\": 1,\n",
      "    \"down.value\": 0,\n",
      "    \"filter.value\": 30,\n",
      "    \"orient.value\": \"v\",\n",
      "    \"onclick.value\": \"c\",\n",
      "    \"node.value\": \"all\"\n",
      "  }\n",
      "}\n",
      "outvar_state='FE'\n",
      "self.fokusvar=set() When triggerd\n",
      "self.fokusvar=set() before render\n",
      "\n",
      "New Trigger:\n",
      "{\n",
      "  \"states\": {\n",
      "    \"outvar_state.children\": \"FE\"\n",
      "  },\n",
      "  \"triggered\": [\n",
      "    {\n",
      "      \"prop_id\": \"up.value\",\n",
      "      \"value\": 3\n",
      "    }\n",
      "  ],\n",
      "  \"inputs\": {\n",
      "    \"var.value\": \"FY\",\n",
      "    \"gv.selected_node\": \"FE\",\n",
      "    \"gv.selected_edge\": null,\n",
      "    \"up.value\": 3,\n",
      "    \"down.value\": 0,\n",
      "    \"filter.value\": 30,\n",
      "    \"orient.value\": \"v\",\n",
      "    \"onclick.value\": \"c\",\n",
      "    \"node.value\": \"all\"\n",
      "  }\n",
      "}\n",
      "outvar_state='FE'\n",
      "self.fokusvar=set() When triggerd\n",
      "self.fokusvar=set() before render\n",
      "\n",
      "New Trigger:\n",
      "{\n",
      "  \"states\": {\n",
      "    \"outvar_state.children\": \"FE\"\n",
      "  },\n",
      "  \"triggered\": [\n",
      "    {\n",
      "      \"prop_id\": \"up.value\",\n",
      "      \"value\": 2\n",
      "    }\n",
      "  ],\n",
      "  \"inputs\": {\n",
      "    \"var.value\": \"FY\",\n",
      "    \"gv.selected_node\": \"FE\",\n",
      "    \"gv.selected_edge\": null,\n",
      "    \"up.value\": 2,\n",
      "    \"down.value\": 0,\n",
      "    \"filter.value\": 30,\n",
      "    \"orient.value\": \"v\",\n",
      "    \"onclick.value\": \"c\",\n",
      "    \"node.value\": \"all\"\n",
      "  }\n",
      "}\n",
      "outvar_state='FE'\n",
      "self.fokusvar=set() When triggerd\n",
      "self.fokusvar=set() before render\n",
      "\n",
      "New Trigger:\n",
      "{\n",
      "  \"states\": {\n",
      "    \"outvar_state.children\": \"FE\"\n",
      "  },\n",
      "  \"triggered\": [\n",
      "    {\n",
      "      \"prop_id\": \"onclick.value\",\n",
      "      \"value\": \"d\"\n",
      "    }\n",
      "  ],\n",
      "  \"inputs\": {\n",
      "    \"var.value\": \"FY\",\n",
      "    \"gv.selected_node\": \"FE\",\n",
      "    \"gv.selected_edge\": null,\n",
      "    \"up.value\": 2,\n",
      "    \"down.value\": 0,\n",
      "    \"filter.value\": 30,\n",
      "    \"orient.value\": \"v\",\n",
      "    \"onclick.value\": \"d\",\n",
      "    \"node.value\": \"all\"\n",
      "  }\n",
      "}\n",
      "outvar_state='FE'\n",
      "self.fokusvar=set() When triggerd\n",
      "self.fokusvar=set() on display \n",
      "self.fokusvar=set() before render\n",
      "\n",
      "New Trigger:\n",
      "{\n",
      "  \"states\": {\n",
      "    \"outvar_state.children\": \"FE\"\n",
      "  },\n",
      "  \"triggered\": [\n",
      "    {\n",
      "      \"prop_id\": \"gv.selected_node\",\n",
      "      \"value\": \"FE\"\n",
      "    },\n",
      "    {\n",
      "      \"prop_id\": \"gv.selected_edge\",\n",
      "      \"value\": null\n",
      "    }\n",
      "  ],\n",
      "  \"inputs\": {\n",
      "    \"var.value\": \"FY\",\n",
      "    \"gv.selected_node\": \"FE\",\n",
      "    \"gv.selected_edge\": null,\n",
      "    \"up.value\": 2,\n",
      "    \"down.value\": 0,\n",
      "    \"filter.value\": 30,\n",
      "    \"orient.value\": \"v\",\n",
      "    \"onclick.value\": \"d\",\n",
      "    \"node.value\": \"all\"\n",
      "  }\n",
      "}\n",
      "outvar_state='FE'\n",
      "self.fokusvar=set() When triggerd\n",
      "self.fokusvar={'FE'} on display \n",
      "self.fokusvar={'FE'} before render\n",
      "\n",
      "New Trigger:\n",
      "{\n",
      "  \"states\": {\n",
      "    \"outvar_state.children\": \"FE\"\n",
      "  },\n",
      "  \"triggered\": [\n",
      "    {\n",
      "      \"prop_id\": \"node.value\",\n",
      "      \"value\": \"attshow\"\n",
      "    }\n",
      "  ],\n",
      "  \"inputs\": {\n",
      "    \"var.value\": \"FY\",\n",
      "    \"gv.selected_node\": \"FE\",\n",
      "    \"gv.selected_edge\": null,\n",
      "    \"up.value\": 2,\n",
      "    \"down.value\": 0,\n",
      "    \"filter.value\": 30,\n",
      "    \"orient.value\": \"v\",\n",
      "    \"onclick.value\": \"d\",\n",
      "    \"node.value\": \"attshow\"\n",
      "  }\n",
      "}\n",
      "outvar_state='FE'\n",
      "self.fokusvar={'FE'} When triggerd\n",
      "self.fokusvar={'FE'} on display \n",
      "self.fokusvar={'FE'} before render\n",
      "\n",
      "New Trigger:\n",
      "{\n",
      "  \"states\": {\n",
      "    \"outvar_state.children\": \"FE\"\n",
      "  },\n",
      "  \"triggered\": [\n",
      "    {\n",
      "      \"prop_id\": \"gv.selected_node\",\n",
      "      \"value\": \"FEV\"\n",
      "    },\n",
      "    {\n",
      "      \"prop_id\": \"gv.selected_edge\",\n",
      "      \"value\": null\n",
      "    }\n",
      "  ],\n",
      "  \"inputs\": {\n",
      "    \"var.value\": \"FY\",\n",
      "    \"gv.selected_node\": \"FEV\",\n",
      "    \"gv.selected_edge\": null,\n",
      "    \"up.value\": 2,\n",
      "    \"down.value\": 0,\n",
      "    \"filter.value\": 30,\n",
      "    \"orient.value\": \"v\",\n",
      "    \"onclick.value\": \"d\",\n",
      "    \"node.value\": \"attshow\"\n",
      "  }\n",
      "}\n",
      "outvar_state='FE'\n",
      "self.fokusvar={'FE'} When triggerd\n",
      "self.fokusvar={'FE', 'FEV'} on display \n",
      "self.fokusvar={'FE', 'FEV'} before render\n",
      "\n",
      "New Trigger:\n",
      "{\n",
      "  \"states\": {\n",
      "    \"outvar_state.children\": \"FE\"\n",
      "  },\n",
      "  \"triggered\": [\n",
      "    {\n",
      "      \"prop_id\": \"gv.selected_node\",\n",
      "      \"value\": \"FEV\"\n",
      "    },\n",
      "    {\n",
      "      \"prop_id\": \"gv.selected_edge\",\n",
      "      \"value\": null\n",
      "    }\n",
      "  ],\n",
      "  \"inputs\": {\n",
      "    \"var.value\": \"FY\",\n",
      "    \"gv.selected_node\": \"FEV\",\n",
      "    \"gv.selected_edge\": null,\n",
      "    \"up.value\": 2,\n",
      "    \"down.value\": 0,\n",
      "    \"filter.value\": 30,\n",
      "    \"orient.value\": \"v\",\n",
      "    \"onclick.value\": \"d\",\n",
      "    \"node.value\": \"attshow\"\n",
      "  }\n",
      "}\n",
      "outvar_state='FE'\n",
      "self.fokusvar={'FE', 'FEV'} When triggerd\n",
      "self.fokusvar={'FE'} on display \n",
      "self.fokusvar={'FE'} before render\n",
      "\n",
      "New Trigger:\n",
      "{\n",
      "  \"states\": {\n",
      "    \"outvar_state.children\": \"FE\"\n",
      "  },\n",
      "  \"triggered\": [\n",
      "    {\n",
      "      \"prop_id\": \"gv.selected_node\",\n",
      "      \"value\": \"FE\"\n",
      "    },\n",
      "    {\n",
      "      \"prop_id\": \"gv.selected_edge\",\n",
      "      \"value\": null\n",
      "    }\n",
      "  ],\n",
      "  \"inputs\": {\n",
      "    \"var.value\": \"FY\",\n",
      "    \"gv.selected_node\": \"FE\",\n",
      "    \"gv.selected_edge\": null,\n",
      "    \"up.value\": 2,\n",
      "    \"down.value\": 0,\n",
      "    \"filter.value\": 30,\n",
      "    \"orient.value\": \"v\",\n",
      "    \"onclick.value\": \"d\",\n",
      "    \"node.value\": \"attshow\"\n",
      "  }\n",
      "}\n",
      "outvar_state='FE'\n",
      "self.fokusvar={'FE'} When triggerd\n",
      "self.fokusvar=set() on display \n",
      "self.fokusvar=set() before render\n",
      "\n",
      "New Trigger:\n",
      "{\n",
      "  \"states\": {\n",
      "    \"outvar_state.children\": \"FE\"\n",
      "  },\n",
      "  \"triggered\": [\n",
      "    {\n",
      "      \"prop_id\": \"orient.value\",\n",
      "      \"value\": \"h\"\n",
      "    }\n",
      "  ],\n",
      "  \"inputs\": {\n",
      "    \"var.value\": \"FY\",\n",
      "    \"gv.selected_node\": \"FE\",\n",
      "    \"gv.selected_edge\": null,\n",
      "    \"up.value\": 2,\n",
      "    \"down.value\": 0,\n",
      "    \"filter.value\": 30,\n",
      "    \"orient.value\": \"h\",\n",
      "    \"onclick.value\": \"d\",\n",
      "    \"node.value\": \"attshow\"\n",
      "  }\n",
      "}\n",
      "outvar_state='FE'\n",
      "self.fokusvar=set() When triggerd\n",
      "self.fokusvar=set() on display \n",
      "self.fokusvar=set() before render\n",
      "\n",
      "New Trigger:\n",
      "{\n",
      "  \"states\": {\n",
      "    \"outvar_state.children\": \"FE\"\n",
      "  },\n",
      "  \"triggered\": [\n",
      "    {\n",
      "      \"prop_id\": \"orient.value\",\n",
      "      \"value\": \"v\"\n",
      "    }\n",
      "  ],\n",
      "  \"inputs\": {\n",
      "    \"var.value\": \"FY\",\n",
      "    \"gv.selected_node\": \"FE\",\n",
      "    \"gv.selected_edge\": null,\n",
      "    \"up.value\": 2,\n",
      "    \"down.value\": 0,\n",
      "    \"filter.value\": 30,\n",
      "    \"orient.value\": \"v\",\n",
      "    \"onclick.value\": \"d\",\n",
      "    \"node.value\": \"attshow\"\n",
      "  }\n",
      "}\n",
      "outvar_state='FE'\n",
      "self.fokusvar=set() When triggerd\n",
      "self.fokusvar=set() on display \n",
      "self.fokusvar=set() before render\n",
      "\n",
      "New Trigger:\n",
      "{\n",
      "  \"states\": {\n",
      "    \"outvar_state.children\": \"FE\"\n",
      "  },\n",
      "  \"triggered\": [\n",
      "    {\n",
      "      \"prop_id\": \"var.value\",\n",
      "      \"value\": \"FY\"\n",
      "    }\n",
      "  ],\n",
      "  \"inputs\": {\n",
      "    \"var.value\": \"FY\",\n",
      "    \"gv.selected_node\": \"FE\",\n",
      "    \"gv.selected_edge\": null,\n",
      "    \"up.value\": 2,\n",
      "    \"down.value\": 0,\n",
      "    \"filter.value\": 30,\n",
      "    \"orient.value\": \"v\",\n",
      "    \"onclick.value\": \"d\",\n",
      "    \"node.value\": \"attshow\"\n",
      "  }\n",
      "}\n",
      "outvar_state='FE'\n",
      "self.fokusvar=set() When triggerd\n",
      "self.fokusvar=set() before render\n",
      "\n",
      "New Trigger:\n",
      "{\n",
      "  \"states\": {\n",
      "    \"outvar_state.children\": \"FY\"\n",
      "  },\n",
      "  \"triggered\": [\n",
      "    {\n",
      "      \"prop_id\": \"down.value\",\n",
      "      \"value\": 1\n",
      "    }\n",
      "  ],\n",
      "  \"inputs\": {\n",
      "    \"var.value\": \"FY\",\n",
      "    \"gv.selected_node\": \"FE\",\n",
      "    \"gv.selected_edge\": null,\n",
      "    \"up.value\": 2,\n",
      "    \"down.value\": 1,\n",
      "    \"filter.value\": 30,\n",
      "    \"orient.value\": \"v\",\n",
      "    \"onclick.value\": \"d\",\n",
      "    \"node.value\": \"attshow\"\n",
      "  }\n",
      "}\n",
      "outvar_state='FY'\n",
      "self.fokusvar=set() When triggerd\n",
      "self.fokusvar=set() on display \n",
      "self.fokusvar=set() before render\n"
     ]
    }
   ],
   "source": [
    "madam.modeldash('FY',jupyter=1,dashport = 5006,all = 1,show_trigger=1)"
   ]
  },
  {
   "cell_type": "code",
   "execution_count": 20,
   "metadata": {},
   "outputs": [
    {
     "data": {
      "image/svg+xml": [
       "<svg xmlns=\"http://www.w3.org/2000/svg\" xmlns:xlink=\"http://www.w3.org/1999/xlink\" width=\"432pt\" height=\"25pt\" viewBox=\"0.00 0.00 432.00 24.60\">\n",
       "<g id=\"graph0\" class=\"graph\" transform=\"scale(0.203294 0.203294) rotate(0) translate(4 117)\">\n",
       "<title>TD</title>\n",
       "<polygon fill=\"white\" stroke=\"none\" points=\"-4,4 -4,-117 2121,-117 2121,4 -4,4\"/>\n",
       "<text text-anchor=\"middle\" x=\"1058.5\" y=\"-7.8\" font-family=\"Times New Roman,serif\" font-size=\"14.00\">FM</text>\n",
       "<!-- FM -->\n",
       "<g id=\"node1\" class=\"node\"><title>FM</title>\n",
       "<g id=\"a_node1\"><a xlink:title=\"Import af varer og tjenester i alt\n",
       "FRML &lt;_I&gt; FM               = (FMV*PMV(-1)+FMS*PMS(-1)+FMT*PMT(-1))/PM(-1) $\">\n",
       "<polygon fill=\"red\" stroke=\"black\" points=\"2117,-86 1906,-86 1906,-50 2117,-50 2117,-86\"/>\n",
       "<text text-anchor=\"start\" x=\"1912.5\" y=\"-63.8\" font-family=\"Times New Roman,serif\" font-size=\"14.00\" fill=\"blue\">FM:Import af varer og tjenester i alt</text>\n",
       "</a>\n",
       "</g>\n",
       "</g>\n",
       "<!-- FE59 -->\n",
       "<g id=\"node2\" class=\"node\"><title>FE59</title>\n",
       "<g id=\"a_node2\"><a xlink:title=\"Eksport af SITC 5-9 - kemikalier, bearbejdede varer, maskiner og transportmidler (ekskl. skibe, fly og boreplatforme), andre færdigvarer samt diverse\n",
       "FRML &lt;_SJRD_Z,JR,EXO&gt; FE59=( (EXP(LOG(FE59(-1))+GFE59+EKYFE59*((LOG(FEE59))-(LOG(FEE59(-1))))+EKPFE59*((LOG(PE59/PEE59))-(LOG(PE59(-1)/PEE59(-1)))) - 0.000*((DDEU)-(DDEU(-1)))\n",
       "                                           -TFE59*LOG(FE59(-1)/FE59W(-1))))*(1+JRFE59 ))*(1-DFE59)+ZFE59*DFE59$\">\n",
       "<polygon fill=\"#63b8ff\" stroke=\"black\" points=\"878,-113 0,-113 0,-77 878,-77 878,-113\"/>\n",
       "<text text-anchor=\"start\" x=\"6\" y=\"-90.8\" font-family=\"Times New Roman,serif\" font-size=\"14.00\" fill=\"blue\">FE59:Eksport af SITC 5-9 - kemikalier, bearbejdede varer, maskiner og transportmidler (ekskl. skibe, fly og boreplatforme), andre færdigvarer samt diverse</text>\n",
       "</a>\n",
       "</g>\n",
       "</g>\n",
       "<!-- FM59 -->\n",
       "<g id=\"node4\" class=\"node\"><title>FM59</title>\n",
       "<g id=\"a_node4\"><a xlink:title=\"Import af SITC 5-9 - kemikalier, jern- og metalvarer, andre bearbejdede varer, maskiner m.m., andre færdigvarer plus diverse (1960-)\n",
       "FRML &lt;_I&gt; FM59             = AM59_VMA*FVMA+AM59_VME*FVME+AM59_VMNG*FVMNG+AM59_VMNE*FVMNE+AM59_VMNF*FVMNF+AM59_VMNZ*FVMNZ+AM59_VMB*FVMB\n",
       "                                          +AM59_VMQZ*FVMQZ+AM59_VMQS*FVMQS+AM59_VMQF*FVMQF+AM59_VMH*FVMH+AM59_VMO*FVMO\n",
       "                                          +AM59_CF*FCF+AM59_CV*FCV+AM59_CE*FCE+AM59_CG*FCG+AM59_CB*FCB+AM59_CH*FCH+AM59_CS*FCS+AM59_CT*FCT\n",
       "                                          +AM59_CO*FCO\n",
       "                                          +AM59_IMX*FIMX+AM59_IB*FIB+AM59_IT*FIT+AM59_IKN*FIKN+M59_IL/PM59\n",
       "                                          +AM59_E01*FE01+AM59_E2*FE2+AM59_E3X*FE3X+AM59_E59*FE59+AM59_E7Y*FE7Y+AM59_ESQ*FESQ $\">\n",
       "<polygon fill=\"#63b8ff\" stroke=\"black\" points=\"1702,-86 914,-86 914,-50 1702,-50 1702,-86\"/>\n",
       "<text text-anchor=\"start\" x=\"920\" y=\"-63.8\" font-family=\"Times New Roman,serif\" font-size=\"14.00\" fill=\"blue\">FM59:Import af SITC 5-9 - kemikalier, jern- og metalvarer, andre bearbejdede varer, maskiner m.m., andre færdigvarer plus diverse (1960-)</text>\n",
       "</a>\n",
       "</g>\n",
       "</g>\n",
       "<!-- FE59&#45;&gt;FM59 -->\n",
       "<g id=\"edge4\" class=\"edge\"><title>FE59-&gt;FM59</title>\n",
       "<g id=\"a_edge4\"><a xlink:href=\"bogus\" xlink:title=\" FE59 -&gt; FM59 Min. att. 33%  max: 60%\">\n",
       "<path fill=\"none\" stroke=\"black\" stroke-width=\"6.02013\" d=\"M878.262,-81.3517C886.702,-81.0889 895.139,-80.8261 903.561,-80.5638\"/>\n",
       "<polygon fill=\"black\" stroke=\"black\" stroke-width=\"6.02013\" points=\"903.995,-85.8206 913.826,-80.2442 903.667,-75.2905 903.995,-85.8206\"/>\n",
       "</a>\n",
       "</g>\n",
       "</g>\n",
       "<!-- FMV -->\n",
       "<g id=\"node3\" class=\"node\"><title>FMV</title>\n",
       "<g id=\"a_node3\"><a xlink:title=\"Vareimport i alt\n",
       "FRML &lt;_I&gt; FMV              = ( FM01*PM01(-1)+FM2*PM2(-1)\n",
       "                                           +FM3R*PM3R(-1)+FM3K*PM3K(-1)+FM3Q*PM3Q(-1)\n",
       "                                           +FM59*PM59(-1)+FM7B*PM7B(-1)+FM7Y*PM7Y(-1) )/PMV(-1) $\">\n",
       "<polygon fill=\"#63b8ff\" stroke=\"black\" points=\"1870,-86 1738,-86 1738,-50 1870,-50 1870,-86\"/>\n",
       "<text text-anchor=\"start\" x=\"1744\" y=\"-63.8\" font-family=\"Times New Roman,serif\" font-size=\"14.00\" fill=\"blue\">FMV:Vareimport i alt</text>\n",
       "</a>\n",
       "</g>\n",
       "</g>\n",
       "<!-- FMV&#45;&gt;FM -->\n",
       "<g id=\"edge3\" class=\"edge\"><title>FMV-&gt;FM</title>\n",
       "<g id=\"a_edge3\"><a xlink:href=\"bogus\" xlink:title=\" FMV -&gt; FM Min. att. 104%  max: 126%\">\n",
       "<path fill=\"none\" stroke=\"black\" stroke-width=\"8\" d=\"M1870.02,-68C1878.22,-68 1886.79,-68 1895.48,-68\"/>\n",
       "<polygon fill=\"black\" stroke=\"black\" stroke-width=\"8\" points=\"1895.72,-75.0001 1905.72,-68 1895.72,-61.0001 1895.72,-75.0001\"/>\n",
       "</a>\n",
       "</g>\n",
       "</g>\n",
       "<!-- FM59&#45;&gt;FMV -->\n",
       "<g id=\"edge1\" class=\"edge\"><title>FM59-&gt;FMV</title>\n",
       "<g id=\"a_edge1\"><a xlink:href=\"bogus\" xlink:title=\" FM59 -&gt; FMV Min. att. 68%  max: 88%\">\n",
       "<path fill=\"none\" stroke=\"black\" stroke-width=\"8\" d=\"M1702.14,-68C1711.16,-68 1719.77,-68 1727.89,-68\"/>\n",
       "<polygon fill=\"black\" stroke=\"black\" stroke-width=\"8\" points=\"1727.91,-75.0001 1737.91,-68 1727.91,-61.0001 1727.91,-75.0001\"/>\n",
       "</a>\n",
       "</g>\n",
       "</g>\n",
       "<!-- FVMNZ -->\n",
       "<g id=\"node5\" class=\"node\"><title>FVMNZ</title>\n",
       "<g id=\"a_node5\"><a xlink:title=\"Forbrug af alle andre produkter end energiprodukter i produktionen for erhverv nz\n",
       "FRML &lt;_SJRDF,JR,EXO&gt; FVMNZ=( (EXP(LOG(FVMNZ(-1))+1.00000*((LOG(FXNZ))-(LOG(FXNZ(-1))))+1.00000*((LOG(FVMNZWX))-(LOG(FVMNZWX(-1))))+GFVMNZ\n",
       "                                          -0.48882*(LOG(FVMNZ(-1))-LOG(FVMNZW(-1)))))*(1+JRFVMNZ ))*(1-DFVMNZ)+ZFVMNZ*DFVMNZ$\">\n",
       "<polygon fill=\"#63b8ff\" stroke=\"black\" points=\"699,-59 179,-59 179,-23 699,-23 699,-59\"/>\n",
       "<text text-anchor=\"start\" x=\"185\" y=\"-36.8\" font-family=\"Times New Roman,serif\" font-size=\"14.00\" fill=\"blue\">FVMNZ:Forbrug af alle andre produkter end energiprodukter i produktionen for erhverv nz</text>\n",
       "</a>\n",
       "</g>\n",
       "</g>\n",
       "<!-- FVMNZ&#45;&gt;FM59 -->\n",
       "<g id=\"edge2\" class=\"edge\"><title>FVMNZ-&gt;FM59</title>\n",
       "<g id=\"a_edge2\"><a xlink:href=\"bogus\" xlink:title=\" FVMNZ -&gt; FM59 Min. att. 36%  max: 78%\">\n",
       "<path fill=\"none\" stroke=\"black\" stroke-width=\"7.78009\" d=\"M699.248,-49.0735C763.565,-51.0764 834.021,-53.2706 903.449,-55.4327\"/>\n",
       "<polygon fill=\"black\" stroke=\"black\" stroke-width=\"7.78009\" points=\"903.476,-62.2443 913.684,-55.7514 903.9,-48.6357 903.476,-62.2443\"/>\n",
       "</a>\n",
       "</g>\n",
       "</g>\n",
       "</g>\n",
       "</svg>"
      ],
      "text/plain": [
       "<IPython.core.display.SVG object>"
      ]
     },
     "metadata": {},
     "output_type": "display_data"
    }
   ],
   "source": [
    "madam.draw('fm',filter=30,up=3,down=0,attshow = 1,browser=1)"
   ]
  },
  {
   "cell_type": "code",
   "execution_count": null,
   "metadata": {},
   "outputs": [],
   "source": [
    "madam.att_dic.keys()\n"
   ]
  },
  {
   "cell_type": "code",
   "execution_count": 21,
   "metadata": {},
   "outputs": [
    {
     "data": {
      "text/plain": [
       "Endogeneous: FM: Import af varer og tjenester i alt \n",
       "Formular: FRML <_I> FM               = (FMV*PMV(-1)+FMS*PMS(-1)+FMT*PMT(-1))/PM(-1) $\n",
       "\n",
       "FM : Import af varer og tjenester i alt\n",
       "FMS: Import af øvrige tjenester\n",
       "FMT: Turistudgifter\n",
       "FMV: Vareimport i alt\n",
       "PM : Prisen på M\n",
       "PMS: Prisen på Ms, hvor tallene før 1988 er afstemt med nyberegnet pmv på grundlag af importproduktgruppeprisindeks fra Thage-regimets TAer, jf. MOL22d14.\n",
       "PMT: Prisen på Mt\n",
       "PMV: Prisen på Mv, hvor tallene før 1988 er nyberegnet aggregat på grundlag af importproduktgruppeprisindeks fra Thage-regimets TAer, jf. MOL22d14.\n",
       "\n",
       "Values : \n",
       "              2018          2019          2020          2021          2022  \\\n",
       "Base  1.017872e+06  1.066932e+06  1.115071e+06  1.151295e+06  1.181936e+06   \n",
       "Last  1.015351e+06  1.062988e+06  1.106925e+06  1.139946e+06  1.168115e+06   \n",
       "Diff -2.520977e+03 -3.944634e+03 -8.145744e+03 -1.134901e+04 -1.382131e+04   \n",
       "\n",
       "              2023          2024          2025          2026          2027  \\\n",
       "Base  1.210217e+06  1.236654e+06  1.261802e+06  1.286020e+06  1.309576e+06   \n",
       "Last  1.194309e+06  1.219026e+06  1.242769e+06  1.265833e+06  1.288424e+06   \n",
       "Diff -1.590869e+04 -1.762850e+04 -1.903320e+04 -2.018657e+04 -2.115233e+04   \n",
       "\n",
       "              2028          2029          2030  \n",
       "Base  1.332665e+06  1.355448e+06  1.378041e+06  \n",
       "Last  1.310676e+06  1.332699e+06  1.354571e+06  \n",
       "Diff -2.198949e+04 -2.274867e+04 -2.346963e+04  \n",
       "\n",
       "Input last run: \n",
       "                   2018           2019           2020           2021  \\\n",
       "FMS      354937.998533  370189.635924  383312.116859  393332.513579   \n",
       "FMT       40188.202097   40892.713520   41413.169891   42055.426941   \n",
       "FMV      620602.953820  652278.624982  682526.662965  704847.477782   \n",
       "PM(-1)        1.022047       1.042488       1.063338       1.084604   \n",
       "PMS(-1)       0.985890       1.005608       1.025720       1.046234   \n",
       "PMT(-1)       1.080812       1.102428       1.124477       1.146966   \n",
       "PMV(-1)       1.038298       1.059064       1.080245       1.101850   \n",
       "\n",
       "                  2022           2023           2024           2025  \\\n",
       "FMS      401682.886262  409282.858144  416424.164132  423328.998431   \n",
       "FMT       42842.286655   43730.518963   44696.523920   45719.315909   \n",
       "FMV      723827.333400  741470.242708  758014.057723  773764.830092   \n",
       "PM(-1)        1.106297       1.128423       1.150991       1.174011   \n",
       "PMS(-1)       1.067159       1.088502       1.110272       1.132478   \n",
       "PMT(-1)       1.169906       1.193304       1.217170       1.241513   \n",
       "PMV(-1)       1.123887       1.146365       1.169292       1.192678   \n",
       "\n",
       "                  2026           2027           2028           2029  \\\n",
       "FMS      430124.517748  436887.584627  443661.637237  450473.832115   \n",
       "FMT       46779.511275   47860.650645   48948.815392   50032.918443   \n",
       "FMV      788912.056589  803601.813183  817940.408698  832022.622140   \n",
       "PM(-1)        1.197491       1.221441       1.245870       1.270787   \n",
       "PMS(-1)       1.155127       1.178230       1.201795       1.225830   \n",
       "PMT(-1)       1.266343       1.291670       1.317504       1.343854   \n",
       "PMV(-1)       1.216532       1.240862       1.265679       1.290993   \n",
       "\n",
       "                  2030  \n",
       "FMS      457337.037869  \n",
       "FMT       51104.536643  \n",
       "FMV      845919.660986  \n",
       "PM(-1)        1.296203  \n",
       "PMS(-1)       1.250347  \n",
       "PMT(-1)       1.370731  \n",
       "PMV(-1)       1.316813  "
      ]
     },
     "execution_count": 21,
     "metadata": {},
     "output_type": "execute_result"
    }
   ],
   "source": [
    "madam.fm"
   ]
  },
  {
   "cell_type": "code",
   "execution_count": null,
   "metadata": {},
   "outputs": [],
   "source": []
  }
 ],
 "metadata": {
  "hide_input": false,
  "kernelspec": {
   "display_name": "Python 3 (ipykernel)",
   "language": "python",
   "name": "python3"
  },
  "language_info": {
   "codemirror_mode": {
    "name": "ipython",
    "version": 3
   },
   "file_extension": ".py",
   "mimetype": "text/x-python",
   "name": "python",
   "nbconvert_exporter": "python",
   "pygments_lexer": "ipython3",
   "version": "3.8.8"
  },
  "toc": {
   "base_numbering": 1,
   "nav_menu": {},
   "number_sections": true,
   "sideBar": true,
   "skip_h1_title": false,
   "title_cell": "Table of Contents",
   "title_sidebar": "Contents",
   "toc_cell": false,
   "toc_position": {
    "height": "calc(100% - 180px)",
    "left": "10px",
    "top": "150px",
    "width": "164.996px"
   },
   "toc_section_display": true,
   "toc_window_display": false
  },
  "varInspector": {
   "cols": {
    "lenName": 16,
    "lenType": 16,
    "lenVar": 40
   },
   "kernels_config": {
    "python": {
     "delete_cmd_postfix": "",
     "delete_cmd_prefix": "del ",
     "library": "var_list.py",
     "varRefreshCmd": "print(var_dic_list())"
    },
    "r": {
     "delete_cmd_postfix": ") ",
     "delete_cmd_prefix": "rm(",
     "library": "var_list.r",
     "varRefreshCmd": "cat(var_dic_list()) "
    }
   },
   "oldHeight": 134.43022200000001,
   "position": {
    "height": "156.55px",
    "left": "1033.67px",
    "right": "20px",
    "top": "238px",
    "width": "612.183px"
   },
   "types_to_exclude": [
    "module",
    "function",
    "builtin_function_or_method",
    "instance",
    "_Feature"
   ],
   "varInspector_section_display": "block",
   "window_display": true
  }
 },
 "nbformat": 4,
 "nbformat_minor": 4
}
