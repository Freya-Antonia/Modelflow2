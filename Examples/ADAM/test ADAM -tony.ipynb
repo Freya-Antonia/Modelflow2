{
 "cells": [
  {
   "cell_type": "markdown",
   "metadata": {
    "slideshow": {
     "slide_type": "slide"
    }
   },
   "source": [
    "# Run ADAM \n",
    "\n",
    "The model ADAM (Annual Danish Aggregate Model)is a model of the Danish\n",
    "economy maintained and developed by Danmarks Statistik.  A Link to the model: https://www.dst.dk/pubomtale/18836. It has 4624 equations \n",
    "\n",
    "Danmarks Statistik has kindly provided the model version JUN17X and an associated databank for this demo. \n",
    "\n",
    "The model and databank is not the current model and forecast, but serves as an example. \n",
    "\n",
    "This is a basic demo. However you can use all the features of ModelFlow to manipulate the model.  \n",
    "\n",
    "The notebook runs when loaded. To run a cell press Shift-enter, "
   ]
  },
  {
   "cell_type": "markdown",
   "metadata": {
    "slideshow": {
     "slide_type": "slide"
    }
   },
   "source": [
    "# Import ModelFlow and Pandas"
   ]
  },
  {
   "cell_type": "code",
   "execution_count": 1,
   "metadata": {},
   "outputs": [],
   "source": [
    "%load_ext autoreload\n",
    "%autoreload 2"
   ]
  },
  {
   "cell_type": "code",
   "execution_count": 2,
   "metadata": {
    "slideshow": {
     "slide_type": "-"
    }
   },
   "outputs": [],
   "source": [
    "import pandas as pd\n",
    "from ipywidgets import interact,Dropdown,Checkbox\n",
    "\n",
    "\n",
    "from IPython.display import display    # , clear_output\n",
    "\n",
    "from modelclass import model \n",
    "from modeldekom import totdif\n",
    "\n",
    "import modeljupyter as mj\n",
    "#model.modelflow_auto() "
   ]
  },
  {
   "cell_type": "markdown",
   "metadata": {
    "slideshow": {
     "slide_type": "slide"
    }
   },
   "source": [
    "# load  model and databank\n",
    "The model and baseline has been created in [ADAM - create the model and run.ipynb](ADAM%20-%20create%20the%20model%20and%20run.ipynb)"
   ]
  },
  {
   "cell_type": "code",
   "execution_count": 3,
   "metadata": {},
   "outputs": [
    {
     "name": "stderr",
     "output_type": "stream",
     "text": [
      "Compile prolog: 100%|█████████████████████████████████████████████████████████████████████████| 29/29 64.71code chunk/s\n",
      "Compile core  : 100%|█████████████████████████████████████████████████████████████████████████| 58/58 62.43code chunk/s\n",
      "Compile epilog: 100%|█████████████████████████████████████████████████████████████████████████| 52/52 67.08code chunk/s\n"
     ]
    }
   ],
   "source": [
    "turbo=1\n",
    "madam,basedf0 = model.modelload('adam/jul17x.pcim',run=1,ljit=turbo,stringjit=0)"
   ]
  },
  {
   "cell_type": "markdown",
   "metadata": {
    "slideshow": {
     "slide_type": "slide"
    }
   },
   "source": [
    "# Define a interface to experiments\n",
    "\n",
    "The next cell defines interactive widget. \n",
    "\n",
    "You can add additional variables using by adding extra entries to the slidedef dictionary "
   ]
  },
  {
   "cell_type": "code",
   "execution_count": 4,
   "metadata": {},
   "outputs": [],
   "source": [
    "# ADAM Variable descriptions \n",
    "from modelwidget import sumslidewidget,slidewidget, updatewidget, tabwidget,sheetwidget\n",
    "\n",
    "vtrans = {'ENL'  :'Balance of Payment, surplus','UL':'Unemployment','FY':'Real GDP',\n",
    "         'TFN_O' :'Public surplus','TFN_OY':'Public surplus, Percent of GDP'}\n",
    "\n",
    "# Define some input fields \n",
    "slidedef = {'Value added tax rate':                {'var':'TG','value':-0.0,'min':-0.1, 'max':0.1,'op':'+'},\n",
    "            'Extra labour supply, 1000 ':          {'var':'UQ','value':0,'min':-8,    'max':8,   'op':'+','step':1},\n",
    "            'Productivity increase in percent':    {'var':'dtla dtlb dtle  dtlh dtlne dtlnf dtlng dtlnz dtlqf dtlqz dtlqs'.upper(),'value':0,'min':-8,    'max':8,   'op':'%','step':1},\n",
    "            'Yearly Work hours    ':                       {'var':'HA','value':0,'min':-120,    'max':120,   'op':'+','step':20},\n",
    "            }\n",
    "experiments = {'VAT':'TG',\n",
    "               'Labour supply':'UQ',\n",
    "               'Productivity':'dtla dtlb dtle  dtlh dtlne dtlnf dtlng dtlnz dtlqf dtlqz dtlqs'.upper().split(),\n",
    "              'Work Hours':'HA'}\n",
    "wslide = slidewidget(slidedef)"
   ]
  },
  {
   "cell_type": "code",
   "execution_count": 5,
   "metadata": {
    "scrolled": false
   },
   "outputs": [
    {
     "data": {
      "application/vnd.jupyter.widget-view+json": {
       "model_id": "612db37ffa41468c93f098baa942cd2c",
       "version_major": 2,
       "version_minor": 0
      },
      "text/plain": [
       "VBox(children=(VBox(children=(HBox(children=(Label(value='Carbon tax rate, US$ per tonn ', layout=Layout(width…"
      ]
     },
     "metadata": {},
     "output_type": "display_data"
    },
    {
     "data": {
      "application/vnd.jupyter.widget-view+json": {
       "model_id": "88ea49476f09474b92716ae46d4d9ff6",
       "version_major": 2,
       "version_minor": 0
      },
      "text/plain": [
       "VBox(children=(VBox(children=(SelectMultiple(description='Select one or more', index=(0,), layout=Layout(heigh…"
      ]
     },
     "metadata": {},
     "output_type": "display_data"
    },
    {
     "data": {
      "application/vnd.jupyter.widget-view+json": {
       "model_id": "1b6b032362bc4c18a1ead5d40037409f",
       "version_major": 2,
       "version_minor": 0
      },
      "text/plain": [
       "Output()"
      ]
     },
     "metadata": {},
     "output_type": "display_data"
    }
   ],
   "source": [
    "xx = updatewidget(madam,wslide,varpat='FY ENL UL TFN_O TFN_OY FXO1',outputwidget='keep_viz_prefix',\n",
    "                  basename='Baseline',legend=0,vline =  [(2018,'Forecast')],relativ_start=-1,short = 2)\n",
    "xx.show()"
   ]
  },
  {
   "cell_type": "markdown",
   "metadata": {},
   "source": [
    "# Attributions to the results from changed variables"
   ]
  },
  {
   "cell_type": "code",
   "execution_count": 10,
   "metadata": {},
   "outputs": [
    {
     "data": {
      "application/vnd.jupyter.widget-view+json": {
       "model_id": "091647f7433244e4bfe18ceb8c5fb8fa",
       "version_major": 2,
       "version_minor": 0
      },
      "text/plain": [
       "Solving testmodel:   0%|          | 0/13"
      ]
     },
     "metadata": {},
     "output_type": "display_data"
    },
    {
     "data": {
      "application/vnd.jupyter.widget-view+json": {
       "model_id": "bd4b1d94afd34d11a8f1eb2fdd766134",
       "version_major": 2,
       "version_minor": 0
      },
      "text/plain": [
       "Solving testmodel:   0%|          | 0/13"
      ]
     },
     "metadata": {},
     "output_type": "display_data"
    },
    {
     "data": {
      "application/vnd.jupyter.widget-view+json": {
       "model_id": "a1ca09857d9f4b429e0eeaf9d71ff6d3",
       "version_major": 2,
       "version_minor": 0
      },
      "text/plain": [
       "Solving testmodel:   0%|          | 0/13"
      ]
     },
     "metadata": {},
     "output_type": "display_data"
    },
    {
     "data": {
      "application/vnd.jupyter.widget-view+json": {
       "model_id": "57dbdbcae1544993afd6a074d751f51b",
       "version_major": 2,
       "version_minor": 0
      },
      "text/plain": [
       "Solving testmodel:   0%|          | 0/13"
      ]
     },
     "metadata": {},
     "output_type": "display_data"
    },
    {
     "name": "stdout",
     "output_type": "stream",
     "text": [
      "Total dekomp took       :         0.3776254654 Seconds\n"
     ]
    },
    {
     "data": {
      "application/vnd.jupyter.widget-view+json": {
       "model_id": "cf7bd60ec9cb447b973f2e0024a078dc",
       "version_major": 2,
       "version_minor": 0
      },
      "text/plain": [
       "interactive(children=(Dropdown(description='Variable', index=1469, options=('AFCO', 'AFCP', 'AFE', 'AFIBH', 'A…"
      ]
     },
     "metadata": {},
     "output_type": "display_data"
    },
    {
     "data": {
      "text/plain": [
       "None"
      ]
     },
     "metadata": {},
     "output_type": "display_data"
    }
   ],
   "source": [
    "madam.totdekomp = totdif(model=madam,experiments = experiments)\n",
    "display(madam.get_att_gui(desdic=madam.var_description))"
   ]
  },
  {
   "cell_type": "markdown",
   "metadata": {
    "slideshow": {
     "slide_type": "slide"
    }
   },
   "source": [
    "# Attributions to an equation from its input. \n",
    "You can decide how many levels back in the dependency tree you want to calculate the attributions "
   ]
  },
  {
   "cell_type": "code",
   "execution_count": 11,
   "metadata": {
    "scrolled": false
   },
   "outputs": [
    {
     "data": {
      "application/vnd.jupyter.widget-view+json": {
       "model_id": "86711e19dae64012a6eae7ef36b58da3",
       "version_major": 2,
       "version_minor": 0
      },
      "text/plain": [
       "interactive(children=(Dropdown(description='Variable', index=1469, options=('AFCO', 'AFCP', 'AFE', 'AFIBH', 'A…"
      ]
     },
     "metadata": {},
     "output_type": "display_data"
    }
   ],
   "source": [
    "@interact(Threshold = (0.0,10.0,1.))\n",
    "def explain(Variable  = Dropdown(options = sorted(madam.endogene),value='FY'),\n",
    "            Pct       = Checkbox(description='Percent growth',value=False),\n",
    "            Periode   = Dropdown(options = madam.current_per,value=2022),\n",
    "            Threshold = 0.0):\n",
    "    mj.get_frml_latex(madam,Variable)\n",
    "    madam.dekomp_plot(Variable,pct=Pct,threshold=Threshold)\n",
    "    madam.dekomp_plot_per(Variable,pct=Pct,threshold=Threshold,per=Periode,sort=True)\n"
   ]
  },
  {
   "cell_type": "markdown",
   "metadata": {},
   "source": [
    "# Attribution going back in the dependency tree\n",
    "You might have to zoom in order to look at the actual numbers.\n",
    "Also the result can be inspected in the graph/ folder.\n",
    "\n",
    "Pointing at a variable name will display the variable label."
   ]
  },
  {
   "cell_type": "code",
   "execution_count": 12,
   "metadata": {
    "scrolled": false
   },
   "outputs": [
    {
     "name": "stdout",
     "output_type": "stream",
     "text": [
      "Still worlking on the layout of this\n",
      "apprun\n",
      "Dash app running on http://127.0.0.1:5006/\n"
     ]
    },
    {
     "name": "stderr",
     "output_type": "stream",
     "text": [
      "C:\\Users\\ibhan\\Anaconda3\\lib\\site-packages\\jupyter_dash\\jupyter_app.py:139: UserWarning: The 'environ['werkzeug.server.shutdown']' function is deprecated and will be removed in Werkzeug 2.1.\n",
      "  func()\n"
     ]
    },
    {
     "data": {
      "text/plain": [
       "Dash_graph(mmodel=<\n",
       "Model name                              :            testmodel \n",
       "Model structure                         :         Simultaneous \n",
       "Number of variables                     :                 8748 \n",
       "Number of exogeneous  variables         :                 4624 \n",
       "Number of endogeneous variables         :                 4124 \n",
       ">, pre_var='UL', filter=0, up=1, down=0, time_att=False, attshow=False, all=1, dashport=5006, debug=False, jupyter=1, show_trigger=1, inline=False, lag=False, threshold=0.5, growthshow=False)"
      ]
     },
     "execution_count": 12,
     "metadata": {},
     "output_type": "execute_result"
    },
    {
     "name": "stdout",
     "output_type": "stream",
     "text": [
      "\n",
      "New Trigger:\n",
      "{\n",
      "  \"states\": {\n",
      "    \"outvar_state.children\": \"UL\"\n",
      "  },\n",
      "  \"triggered\": [\n",
      "    {\n",
      "      \"prop_id\": \"node.value\",\n",
      "      \"value\": \"all\"\n",
      "    }\n",
      "  ],\n",
      "  \"inputs\": {\n",
      "    \"var.value\": \"UL\",\n",
      "    \"gv.selected_node\": null,\n",
      "    \"gv.selected_edge\": null,\n",
      "    \"up.value\": 1,\n",
      "    \"down.value\": 0,\n",
      "    \"filter.value\": 0,\n",
      "    \"orient.value\": \"v\",\n",
      "    \"onclick.value\": \"c\",\n",
      "    \"node.value\": \"all\"\n",
      "  }\n",
      "}\n",
      "outvar_state='UL'\n",
      "self.fokusvar=set() When triggerd\n",
      "self.fokusvar=set() before render\n",
      "\n",
      "New Trigger:\n",
      "{\n",
      "  \"states\": {\n",
      "    \"outvar_state.children\": \"UL\"\n",
      "  },\n",
      "  \"triggered\": [\n",
      "    {\n",
      "      \"prop_id\": \"filter.value\",\n",
      "      \"value\": 20\n",
      "    }\n",
      "  ],\n",
      "  \"inputs\": {\n",
      "    \"var.value\": \"UL\",\n",
      "    \"gv.selected_node\": null,\n",
      "    \"gv.selected_edge\": null,\n",
      "    \"up.value\": 1,\n",
      "    \"down.value\": 0,\n",
      "    \"filter.value\": 20,\n",
      "    \"orient.value\": \"v\",\n",
      "    \"onclick.value\": \"c\",\n",
      "    \"node.value\": \"all\"\n",
      "  }\n",
      "}\n",
      "outvar_state='UL'\n",
      "self.fokusvar=set() When triggerd\n",
      "self.fokusvar=set() before render\n",
      "\n",
      "New Trigger:\n",
      "{\n",
      "  \"states\": {\n",
      "    \"outvar_state.children\": \"UL\"\n",
      "  },\n",
      "  \"triggered\": [\n",
      "    {\n",
      "      \"prop_id\": \"up.value\",\n",
      "      \"value\": 3\n",
      "    }\n",
      "  ],\n",
      "  \"inputs\": {\n",
      "    \"var.value\": \"UL\",\n",
      "    \"gv.selected_node\": null,\n",
      "    \"gv.selected_edge\": null,\n",
      "    \"up.value\": 3,\n",
      "    \"down.value\": 0,\n",
      "    \"filter.value\": 20,\n",
      "    \"orient.value\": \"v\",\n",
      "    \"onclick.value\": \"c\",\n",
      "    \"node.value\": \"all\"\n",
      "  }\n",
      "}\n",
      "outvar_state='UL'\n",
      "self.fokusvar=set() When triggerd\n",
      "self.fokusvar=set() before render\n",
      "\n",
      "New Trigger:\n",
      "{\n",
      "  \"states\": {\n",
      "    \"outvar_state.children\": \"UL\"\n",
      "  },\n",
      "  \"triggered\": [\n",
      "    {\n",
      "      \"prop_id\": \"onclick.value\",\n",
      "      \"value\": \"d\"\n",
      "    }\n",
      "  ],\n",
      "  \"inputs\": {\n",
      "    \"var.value\": \"UL\",\n",
      "    \"gv.selected_node\": null,\n",
      "    \"gv.selected_edge\": null,\n",
      "    \"up.value\": 3,\n",
      "    \"down.value\": 0,\n",
      "    \"filter.value\": 20,\n",
      "    \"orient.value\": \"v\",\n",
      "    \"onclick.value\": \"d\",\n",
      "    \"node.value\": \"all\"\n",
      "  }\n",
      "}\n",
      "outvar_state='UL'\n",
      "self.fokusvar=set() When triggerd\n",
      "self.fokusvar=set() on display \n",
      "self.fokusvar=set() before render\n",
      "\n",
      "New Trigger:\n",
      "{\n",
      "  \"states\": {\n",
      "    \"outvar_state.children\": \"UL\"\n",
      "  },\n",
      "  \"triggered\": [\n",
      "    {\n",
      "      \"prop_id\": \"gv.selected_node\",\n",
      "      \"value\": \"QNF\"\n",
      "    },\n",
      "    {\n",
      "      \"prop_id\": \"gv.selected_edge\",\n",
      "      \"value\": null\n",
      "    }\n",
      "  ],\n",
      "  \"inputs\": {\n",
      "    \"var.value\": \"UL\",\n",
      "    \"gv.selected_node\": \"QNF\",\n",
      "    \"gv.selected_edge\": null,\n",
      "    \"up.value\": 3,\n",
      "    \"down.value\": 0,\n",
      "    \"filter.value\": 20,\n",
      "    \"orient.value\": \"v\",\n",
      "    \"onclick.value\": \"d\",\n",
      "    \"node.value\": \"all\"\n",
      "  }\n",
      "}\n",
      "outvar_state='UL'\n",
      "self.fokusvar=set() When triggerd\n",
      "self.fokusvar={'QNF'} on display \n",
      "self.fokusvar={'QNF'} before render\n",
      "\n",
      "New Trigger:\n",
      "{\n",
      "  \"states\": {\n",
      "    \"outvar_state.children\": \"UL\"\n",
      "  },\n",
      "  \"triggered\": [\n",
      "    {\n",
      "      \"prop_id\": \"gv.selected_node\",\n",
      "      \"value\": \"QQF\"\n",
      "    },\n",
      "    {\n",
      "      \"prop_id\": \"gv.selected_edge\",\n",
      "      \"value\": null\n",
      "    }\n",
      "  ],\n",
      "  \"inputs\": {\n",
      "    \"var.value\": \"UL\",\n",
      "    \"gv.selected_node\": \"QQF\",\n",
      "    \"gv.selected_edge\": null,\n",
      "    \"up.value\": 3,\n",
      "    \"down.value\": 0,\n",
      "    \"filter.value\": 20,\n",
      "    \"orient.value\": \"v\",\n",
      "    \"onclick.value\": \"d\",\n",
      "    \"node.value\": \"all\"\n",
      "  }\n",
      "}\n",
      "outvar_state='UL'\n",
      "self.fokusvar={'QNF'} When triggerd\n",
      "self.fokusvar={'QNF', 'QQF'} on display \n",
      "self.fokusvar={'QNF', 'QQF'} before render\n",
      "\n",
      "New Trigger:\n",
      "{\n",
      "  \"states\": {\n",
      "    \"outvar_state.children\": \"UL\"\n",
      "  },\n",
      "  \"triggered\": [\n",
      "    {\n",
      "      \"prop_id\": \"node.value\",\n",
      "      \"value\": \"attshow\"\n",
      "    }\n",
      "  ],\n",
      "  \"inputs\": {\n",
      "    \"var.value\": \"UL\",\n",
      "    \"gv.selected_node\": \"QQF\",\n",
      "    \"gv.selected_edge\": null,\n",
      "    \"up.value\": 3,\n",
      "    \"down.value\": 0,\n",
      "    \"filter.value\": 20,\n",
      "    \"orient.value\": \"v\",\n",
      "    \"onclick.value\": \"d\",\n",
      "    \"node.value\": \"attshow\"\n",
      "  }\n",
      "}\n",
      "outvar_state='UL'\n",
      "self.fokusvar={'QNF', 'QQF'} When triggerd\n",
      "self.fokusvar={'QNF', 'QQF'} on display \n",
      "self.fokusvar={'QNF', 'QQF'} before render\n",
      "\n",
      "New Trigger:\n",
      "{\n",
      "  \"states\": {\n",
      "    \"outvar_state.children\": \"UL\"\n",
      "  },\n",
      "  \"triggered\": [\n",
      "    {\n",
      "      \"prop_id\": \"gv.selected_node\",\n",
      "      \"value\": \"QQF\"\n",
      "    },\n",
      "    {\n",
      "      \"prop_id\": \"gv.selected_edge\",\n",
      "      \"value\": null\n",
      "    }\n",
      "  ],\n",
      "  \"inputs\": {\n",
      "    \"var.value\": \"UL\",\n",
      "    \"gv.selected_node\": \"QQF\",\n",
      "    \"gv.selected_edge\": null,\n",
      "    \"up.value\": 3,\n",
      "    \"down.value\": 0,\n",
      "    \"filter.value\": 20,\n",
      "    \"orient.value\": \"v\",\n",
      "    \"onclick.value\": \"d\",\n",
      "    \"node.value\": \"attshow\"\n",
      "  }\n",
      "}\n",
      "outvar_state='UL'\n",
      "self.fokusvar={'QNF', 'QQF'} When triggerd\n",
      "self.fokusvar={'QNF'} on display \n",
      "self.fokusvar={'QNF'} before render\n",
      "\n",
      "New Trigger:\n",
      "{\n",
      "  \"states\": {\n",
      "    \"outvar_state.children\": \"UL\"\n",
      "  },\n",
      "  \"triggered\": [\n",
      "    {\n",
      "      \"prop_id\": \"gv.selected_node\",\n",
      "      \"value\": \"QNF\"\n",
      "    },\n",
      "    {\n",
      "      \"prop_id\": \"gv.selected_edge\",\n",
      "      \"value\": null\n",
      "    }\n",
      "  ],\n",
      "  \"inputs\": {\n",
      "    \"var.value\": \"UL\",\n",
      "    \"gv.selected_node\": \"QNF\",\n",
      "    \"gv.selected_edge\": null,\n",
      "    \"up.value\": 3,\n",
      "    \"down.value\": 0,\n",
      "    \"filter.value\": 20,\n",
      "    \"orient.value\": \"v\",\n",
      "    \"onclick.value\": \"d\",\n",
      "    \"node.value\": \"attshow\"\n",
      "  }\n",
      "}\n",
      "outvar_state='UL'\n",
      "self.fokusvar={'QNF'} When triggerd\n",
      "self.fokusvar=set() on display \n",
      "self.fokusvar=set() before render\n"
     ]
    }
   ],
   "source": [
    "madam.modeldash('UL',jupyter=1,dashport = 5006,all = 1,show_trigger=1)"
   ]
  },
  {
   "cell_type": "code",
   "execution_count": 9,
   "metadata": {},
   "outputs": [
    {
     "name": "stdout",
     "output_type": "stream",
     "text": [
      "\n",
      "New Trigger:\n",
      "{\n",
      "  \"states\": {\n",
      "    \"outvar_state.children\": \"UL\"\n",
      "  },\n",
      "  \"triggered\": [\n",
      "    {\n",
      "      \"prop_id\": \"node.value\",\n",
      "      \"value\": \"all\"\n",
      "    }\n",
      "  ],\n",
      "  \"inputs\": {\n",
      "    \"var.value\": \"UL\",\n",
      "    \"gv.selected_node\": null,\n",
      "    \"gv.selected_edge\": null,\n",
      "    \"up.value\": 1,\n",
      "    \"down.value\": 0,\n",
      "    \"filter.value\": 0,\n",
      "    \"orient.value\": \"v\",\n",
      "    \"onclick.value\": \"c\",\n",
      "    \"node.value\": \"all\"\n",
      "  }\n",
      "}\n",
      "outvar_state='UL'\n",
      "self.fokusvar=set() When triggerd\n",
      "self.fokusvar=set() before render\n",
      "No graph FM\n"
     ]
    },
    {
     "ename": "TypeError",
     "evalue": "write() argument must be str, not None",
     "output_type": "error",
     "traceback": [
      "\u001b[1;31m---------------------------------------------------------------------------\u001b[0m",
      "\u001b[1;31mTypeError\u001b[0m                                 Traceback (most recent call last)",
      "\u001b[1;32m~\\AppData\\Local\\Temp/ipykernel_452/2007867403.py\u001b[0m in \u001b[0;36m<module>\u001b[1;34m\u001b[0m\n\u001b[1;32m----> 1\u001b[1;33m \u001b[0mmadam\u001b[0m\u001b[1;33m.\u001b[0m\u001b[0mdraw\u001b[0m\u001b[1;33m(\u001b[0m\u001b[1;34m'fm'\u001b[0m\u001b[1;33m,\u001b[0m\u001b[0mfilter\u001b[0m\u001b[1;33m=\u001b[0m\u001b[1;36m30\u001b[0m\u001b[1;33m,\u001b[0m\u001b[0mup\u001b[0m\u001b[1;33m=\u001b[0m\u001b[1;36m1\u001b[0m\u001b[1;33m,\u001b[0m\u001b[0mdown\u001b[0m\u001b[1;33m=\u001b[0m\u001b[1;36m0\u001b[0m\u001b[1;33m,\u001b[0m\u001b[0mattshow\u001b[0m \u001b[1;33m=\u001b[0m \u001b[1;36m1\u001b[0m\u001b[1;33m,\u001b[0m\u001b[0mbrowser\u001b[0m\u001b[1;33m=\u001b[0m\u001b[1;36m1\u001b[0m\u001b[1;33m)\u001b[0m\u001b[1;33m\u001b[0m\u001b[1;33m\u001b[0m\u001b[0m\n\u001b[0m",
      "\u001b[1;32mC:\\modelflow2\\modelflow\\modelclass.py\u001b[0m in \u001b[0;36mdraw\u001b[1;34m(self, navn, down, up, lag, endo, filter, **kwargs)\u001b[0m\n\u001b[0;32m   1984\u001b[0m                      self.upwalk(graph, navn.upper(), maxlevel=down, lpre=False,filter=filter))\n\u001b[0;32m   1985\u001b[0m         \u001b[0malllinks\u001b[0m \u001b[1;33m=\u001b[0m \u001b[0mchain\u001b[0m\u001b[1;33m(\u001b[0m\u001b[0muplinks\u001b[0m\u001b[1;33m,\u001b[0m \u001b[0mdownlinks\u001b[0m\u001b[1;33m)\u001b[0m\u001b[1;33m\u001b[0m\u001b[1;33m\u001b[0m\u001b[0m\n\u001b[1;32m-> 1986\u001b[1;33m         \u001b[1;32mreturn\u001b[0m \u001b[0mself\u001b[0m\u001b[1;33m.\u001b[0m\u001b[0mtodot2\u001b[0m\u001b[1;33m(\u001b[0m\u001b[0malllinks\u001b[0m\u001b[1;33m,\u001b[0m \u001b[0mnavn\u001b[0m\u001b[1;33m=\u001b[0m\u001b[0mnavn\u001b[0m\u001b[1;33m.\u001b[0m\u001b[0mupper\u001b[0m\u001b[1;33m(\u001b[0m\u001b[1;33m)\u001b[0m\u001b[1;33m,\u001b[0m \u001b[0mdown\u001b[0m\u001b[1;33m=\u001b[0m\u001b[0mdown\u001b[0m\u001b[1;33m,\u001b[0m \u001b[0mup\u001b[0m\u001b[1;33m=\u001b[0m\u001b[0mup\u001b[0m\u001b[1;33m,\u001b[0m \u001b[0mfilter\u001b[0m \u001b[1;33m=\u001b[0m \u001b[0mfilter\u001b[0m\u001b[1;33m,\u001b[0m  \u001b[1;33m**\u001b[0m\u001b[0mkwargs\u001b[0m\u001b[1;33m)\u001b[0m\u001b[1;33m\u001b[0m\u001b[1;33m\u001b[0m\u001b[0m\n\u001b[0m\u001b[0;32m   1987\u001b[0m \u001b[1;33m\u001b[0m\u001b[0m\n\u001b[0;32m   1988\u001b[0m     \u001b[1;32mdef\u001b[0m \u001b[0mtrans\u001b[0m\u001b[1;33m(\u001b[0m\u001b[0mself\u001b[0m\u001b[1;33m,\u001b[0m \u001b[0mind\u001b[0m\u001b[1;33m,\u001b[0m \u001b[0mroot\u001b[0m\u001b[1;33m,\u001b[0m \u001b[0mtransdic\u001b[0m\u001b[1;33m=\u001b[0m\u001b[1;32mNone\u001b[0m\u001b[1;33m,\u001b[0m \u001b[0mdebug\u001b[0m\u001b[1;33m=\u001b[0m\u001b[1;32mFalse\u001b[0m\u001b[1;33m)\u001b[0m\u001b[1;33m:\u001b[0m\u001b[1;33m\u001b[0m\u001b[1;33m\u001b[0m\u001b[0m\n",
      "\u001b[1;32mC:\\modelflow2\\modelflow\\modelclass.py\u001b[0m in \u001b[0;36mtodot2\u001b[1;34m(self, alledges, navn, **kwargs)\u001b[0m\n\u001b[0;32m   2573\u001b[0m             \u001b[1;32mreturn\u001b[0m \u001b[0mdot\u001b[0m\u001b[1;33m\u001b[0m\u001b[1;33m\u001b[0m\u001b[0m\n\u001b[0;32m   2574\u001b[0m \u001b[1;33m\u001b[0m\u001b[0m\n\u001b[1;32m-> 2575\u001b[1;33m         \u001b[0mself\u001b[0m\u001b[1;33m.\u001b[0m\u001b[0mdisplay_graph\u001b[0m\u001b[1;33m(\u001b[0m\u001b[0mdot\u001b[0m\u001b[1;33m,\u001b[0m \u001b[0mfname\u001b[0m\u001b[1;33m,\u001b[0m \u001b[1;33m**\u001b[0m\u001b[0mkwargs\u001b[0m\u001b[1;33m)\u001b[0m\u001b[1;33m\u001b[0m\u001b[1;33m\u001b[0m\u001b[0m\n\u001b[0m\u001b[0;32m   2576\u001b[0m         \u001b[1;32mreturn\u001b[0m\u001b[1;33m\u001b[0m\u001b[1;33m\u001b[0m\u001b[0m\n\u001b[0;32m   2577\u001b[0m \u001b[1;33m\u001b[0m\u001b[0m\n",
      "\u001b[1;32mC:\\modelflow2\\modelflow\\modelclass.py\u001b[0m in \u001b[0;36mdisplay_graph\u001b[1;34m(out, fname, **kwargs)\u001b[0m\n\u001b[0;32m   2657\u001b[0m         \u001b[0mfilename\u001b[0m \u001b[1;33m=\u001b[0m \u001b[0mpath\u001b[0m \u001b[1;33m/\u001b[0m \u001b[1;33m(\u001b[0m\u001b[0mfname\u001b[0m \u001b[1;33m+\u001b[0m \u001b[1;34m'.gv'\u001b[0m\u001b[1;33m)\u001b[0m\u001b[1;33m\u001b[0m\u001b[1;33m\u001b[0m\u001b[0m\n\u001b[0;32m   2658\u001b[0m         \u001b[1;32mwith\u001b[0m \u001b[0mopen\u001b[0m\u001b[1;33m(\u001b[0m\u001b[0mfilename\u001b[0m\u001b[1;33m,\u001b[0m \u001b[1;34m'w'\u001b[0m\u001b[1;33m)\u001b[0m \u001b[1;32mas\u001b[0m \u001b[0mf\u001b[0m\u001b[1;33m:\u001b[0m\u001b[1;33m\u001b[0m\u001b[1;33m\u001b[0m\u001b[0m\n\u001b[1;32m-> 2659\u001b[1;33m             \u001b[0mf\u001b[0m\u001b[1;33m.\u001b[0m\u001b[0mwrite\u001b[0m\u001b[1;33m(\u001b[0m\u001b[0mout\u001b[0m\u001b[1;33m)\u001b[0m\u001b[1;33m\u001b[0m\u001b[1;33m\u001b[0m\u001b[0m\n\u001b[0m\u001b[0;32m   2660\u001b[0m \u001b[1;33m\u001b[0m\u001b[0m\n\u001b[0;32m   2661\u001b[0m         \u001b[0mpngname\u001b[0m \u001b[1;33m=\u001b[0m \u001b[0mfilename\u001b[0m\u001b[1;33m.\u001b[0m\u001b[0mwith_suffix\u001b[0m\u001b[1;33m(\u001b[0m\u001b[1;34m'.png'\u001b[0m\u001b[1;33m)\u001b[0m\u001b[1;33m\u001b[0m\u001b[1;33m\u001b[0m\u001b[0m\n",
      "\u001b[1;31mTypeError\u001b[0m: write() argument must be str, not None"
     ]
    }
   ],
   "source": [
    "madam.draw('fm',filter=30,up=1,down=0,attshow = 1,browser=1)"
   ]
  },
  {
   "cell_type": "code",
   "execution_count": null,
   "metadata": {},
   "outputs": [],
   "source": [
    "madam.att_dic.keys()\n"
   ]
  },
  {
   "cell_type": "code",
   "execution_count": null,
   "metadata": {},
   "outputs": [],
   "source": [
    "madam.fm"
   ]
  }
 ],
 "metadata": {
  "hide_input": false,
  "kernelspec": {
   "display_name": "Python 3 (ipykernel)",
   "language": "python",
   "name": "python3"
  },
  "language_info": {
   "codemirror_mode": {
    "name": "ipython",
    "version": 3
   },
   "file_extension": ".py",
   "mimetype": "text/x-python",
   "name": "python",
   "nbconvert_exporter": "python",
   "pygments_lexer": "ipython3",
   "version": "3.8.8"
  },
  "toc": {
   "base_numbering": 1,
   "nav_menu": {},
   "number_sections": true,
   "sideBar": true,
   "skip_h1_title": false,
   "title_cell": "Table of Contents",
   "title_sidebar": "Contents",
   "toc_cell": false,
   "toc_position": {
    "height": "calc(100% - 180px)",
    "left": "10px",
    "top": "150px",
    "width": "164.996px"
   },
   "toc_section_display": true,
   "toc_window_display": false
  },
  "varInspector": {
   "cols": {
    "lenName": 16,
    "lenType": 16,
    "lenVar": 40
   },
   "kernels_config": {
    "python": {
     "delete_cmd_postfix": "",
     "delete_cmd_prefix": "del ",
     "library": "var_list.py",
     "varRefreshCmd": "print(var_dic_list())"
    },
    "r": {
     "delete_cmd_postfix": ") ",
     "delete_cmd_prefix": "rm(",
     "library": "var_list.r",
     "varRefreshCmd": "cat(var_dic_list()) "
    }
   },
   "oldHeight": 134.43022200000001,
   "position": {
    "height": "156.55px",
    "left": "1033.67px",
    "right": "20px",
    "top": "238px",
    "width": "612.183px"
   },
   "types_to_exclude": [
    "module",
    "function",
    "builtin_function_or_method",
    "instance",
    "_Feature"
   ],
   "varInspector_section_display": "block",
   "window_display": true
  }
 },
 "nbformat": 4,
 "nbformat_minor": 4
}
