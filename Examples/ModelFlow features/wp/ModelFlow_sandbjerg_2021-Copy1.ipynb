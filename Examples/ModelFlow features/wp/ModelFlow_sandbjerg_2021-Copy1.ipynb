{
 "cells": [
  {
   "cell_type": "code",
   "execution_count": 1,
   "metadata": {
    "slideshow": {
     "slide_type": "skip"
    }
   },
   "outputs": [],
   "source": [
    "%matplotlib inline"
   ]
  },
  {
   "cell_type": "code",
   "execution_count": 2,
   "metadata": {
    "slideshow": {
     "slide_type": "skip"
    }
   },
   "outputs": [],
   "source": [
    "import matplotlib.pyplot as plt \n",
    "import pandas as pd               # Python data science library\n",
    "#import numpy as np\n",
    "#import re\n",
    "#import sys\n",
    "\n",
    "from modelclass import model\n",
    "#import modelpattern as pt\n",
    "#import modelmanipulation as mp    # Module for model text processing\n",
    "#from modelmanipulation import explode\n"
   ]
  },
  {
   "cell_type": "markdown",
   "metadata": {
    "slideshow": {
     "slide_type": "slide"
    }
   },
   "source": [
    "# ModelFlow, A library to manage and solve Models\n",
    "Sandbjerg november 2021\n",
    "\n",
    "Ib Hansen <br> \n",
    "Ib.hansen.iv@gmail.com\n",
    "\n",
    "Work done at Danmarks Nationalbank, ECB and Hansen Ølkonometri. "
   ]
  },
  {
   "cell_type": "markdown",
   "metadata": {
    "slideshow": {
     "slide_type": "slide"
    }
   },
   "source": [
    "**Problem**:<br>\n",
    "Stress-test model for banks<br>\n",
    "Complicated and slow **Excel** workbook <br>\n",
    "Difficult to maintain and change"
   ]
  },
  {
   "cell_type": "markdown",
   "metadata": {
    "slideshow": {
     "slide_type": "fragment"
    }
   },
   "source": [
    "**Solution**:<br>\n",
    "Separate specification (at a high level of abstraction) and solution code.<br> \n",
    "Python comes **batteries included**. Data management, text processing, visualization ..."
   ]
  },
  {
   "cell_type": "markdown",
   "metadata": {
    "slideshow": {
     "slide_type": "fragment"
    }
   },
   "source": [
    "**Implementation** of **minimum workable toolkit** <br>\n",
    "A **transpiler**: Takes a model in a **domain specific** Business logic language:<br>\n",
    "Create **solver** and **utility** functions using Python libraries. <br>\n"
   ]
  },
  {
   "cell_type": "markdown",
   "metadata": {
    "slideshow": {
     "slide_type": "skip"
    }
   },
   "source": [
    "**Refactor and refine**<br>\n",
    "Larger models, Faster transpiler, Newton and Gauss solvers, Logical structure, Derivatives, Visualization, Front ends ...\n"
   ]
  },
  {
   "cell_type": "markdown",
   "metadata": {
    "slideshow": {
     "slide_type": "slide"
    }
   },
   "source": [
    "## Refine and refactor\n",
    "To suit the needs of the different models thrown at the toolkit.\n",
    "\n",
    "**Specify very large (or small) models** as concise and intuitive equations. 1 million equation and more can be handled.\n",
    "\n",
    "**Agile model development** Model are specified at a high level of abstraction and are processed fast. Experiments with model specification are agile and fast. \n",
    "\n",
    "**Onboarding models and combining from different sources**. Recycling and combining models specified in different ways: Excel, Latex, Dynare, Python or other languages. \n",
    "\n",
    "**A rich set of analytical tools for model and result analytic** helps to understand the model and its results. \n",
    "\n",
    "**The user can extend and modify the tools** to her or his needs. All code is in Python and the core is quite small.       "
   ]
  },
  {
   "cell_type": "markdown",
   "metadata": {
    "slideshow": {
     "slide_type": "slide"
    }
   },
   "source": [
    "## What is a Model in ModelFlow\n",
    "ModelFlow is created to handle models. The term [**model**](https://en.wikipedia.org/wiki/Model) can mean a lot of different concepts. \n",
    "\n",
    "The scope of models handled by ModelFlow is **discrete** models which is the same for each time frame, can be formulated as **mathematical equations** and *can* have **lagged** and **leaded** variables. <br>\n",
    "This allows the system to handle quite a large range of models."
   ]
  },
  {
   "cell_type": "markdown",
   "metadata": {
    "slideshow": {
     "slide_type": "skip"
    }
   },
   "source": [
    "A model with:\n",
    "\n",
    " - $\\textbf n$ number of endogeneous variables\n",
    " - $\\textbf k$ number of exogeneous variables \n",
    " - $\\textbf u$ max lead of endogeneous variables\n",
    " - $\\textbf r$ max lag of endogeneous variables \n",
    " - $\\textbf s$ max lag of exogeneous variables \n",
    " - $t$ time frame (year, quarter, day second or another another unit)\n",
    " \n",
    "can be written in two ways, **normalized** or **un-normalized** form"
   ]
  },
  {
   "cell_type": "markdown",
   "metadata": {
    "slideshow": {
     "slide_type": "subslide"
    }
   },
   "source": [
    "### Normalized model\n",
    "Each endogenous variable is on the left hand side one time - and only one time.<br>\n",
    "\\begin{eqnarray}\n",
    "y_t^1 & = & f^1(y_{t+u}^1...,y_{t+u}^n...,y_t^2...,y_{t}^n...y_{t-r}^1...,y_{t-r}^n,x_t^1...x_{t}^k,...x_{t-s}^1...,x_{t-s}^k) \\\\\n",
    "y_t^2 & = & f^2(y_{t+u}^1...,y_{t+u}^n...,y_t^1...,y_{t}^n...y_{t-r}^1...,y_{t-r}^n,x_t^1...x_{t}^k,...x_{t-s}^1...,x_{t-s}^k) \\\\\n",
    "\\vdots \\\\\n",
    "y_t^n & = & f^n(y_{t+u}^1...,y_{t+u}^n...,y_t^1...,y_{t}^{n-1}...y_{t-r}^1...,y_{t-r}^n,x_t^1...x_{t}^r,x..._{t-s}^1...,x_{t-s}^k)\n",
    "\\end{eqnarray}\n",
    "\n",
    "\n",
    "Written in matrix notation where  $\\textbf{y}_t$ and $\\textbf{x}_t$ are vectors of endogenous/exogenous  variables for time t<br>\n",
    "\n",
    "\\begin{eqnarray}  \n",
    "\\textbf{y}_t & = & \\textbf{F}(\\textbf{y}_{t+u} \\cdots \\textbf{y}_t \\cdots \\textbf{y}_{t-r},\\textbf{x}_t \\cdots \\textbf{x}_{t-s})\n",
    "\\end{eqnarray}\n",
    "\n",
    "\n",
    "ModelFlow allows variable (the  𝐱 'es and the  𝐲 'es the to be scalars, matrices, arrays or pandas dataframes."
   ]
  },
  {
   "cell_type": "markdown",
   "metadata": {
    "slideshow": {
     "slide_type": "subslide"
    }
   },
   "source": [
    "### Un-normalized form\n",
    "Some models can not easy be specified as normalized formulas. Especially   models with equilibrium  conditions can more suitable be specified in the more generalized un-normalized form.\n",
    "\n",
    "Written in matrix notation like before:\n",
    "\n",
    "\\begin{eqnarray}  \n",
    "\\textbf{0}& = & \\textbf{F}(\\textbf{y}_{t+u} \\cdots \\textbf{y}_t \\cdots \\textbf{y}_{t-r},\\textbf{x}_t \\cdots \\textbf{x}_{t-s})\n",
    "\\end{eqnarray}\n",
    "\n",
    "The number of endogenous variables and equations should still be the same."
   ]
  },
  {
   "cell_type": "markdown",
   "metadata": {
    "slideshow": {
     "slide_type": "skip"
    }
   },
   "source": [
    "#### Model solution \n",
    "For a normalized model:\n",
    "\n",
    "\\begin{eqnarray}  \n",
    "\\textbf{y}_t & = & \\textbf{F}(\\textbf{y}_{t+u} \\cdots \\textbf{y}_t \\cdots \\textbf{y}_{t-r},\\textbf{x}_t \\cdots \\textbf{x}_{t-r})     \n",
    "\\end{eqnarray}\n",
    "\n",
    "a solution is  $\\textbf{y}_t^*$ so that:\n",
    "\n",
    "\n",
    "\\begin{eqnarray}  \n",
    "\\textbf{y}_t^* & = & \\textbf{F}(\\textbf{y}_{t+u} \\cdots \\textbf{y}_t^* \\cdots \\textbf{y}_{t-r},\\textbf{x}_t \\cdots \\textbf{x}_{t-r})     \n",
    "\\end{eqnarray}"
   ]
  },
  {
   "cell_type": "markdown",
   "metadata": {
    "slideshow": {
     "slide_type": "skip"
    }
   },
   "source": [
    "For the un-normalized model:\n",
    "\\begin{eqnarray}  \n",
    "\\textbf{0}& = & \\textbf{F}(\\textbf{y}_{t+u} \\cdots \\textbf{y}_t \\cdots \\textbf{y}_{t-r},\\textbf{x}_t \\cdots \\textbf{x}_{t-s})\n",
    "\\end{eqnarray}\n",
    "\n",
    "\n",
    "a solution $\\textbf{y}_t^*$ is \n",
    "\n",
    "\\begin{eqnarray}  \n",
    "\\textbf{0} & = & \\textbf{G}(\\textbf{y}_{t+u} \\cdots \\textbf{y}_t^* \\cdots \\textbf{y}_{t-r},\\textbf{x}_t \\cdots \\textbf{x}_{t-r})     \n",
    "\\end{eqnarray}\n",
    "\n",
    "Some models can have more than one solution. In this case the solution can depend on the starting point of the solution algorithm. "
   ]
  },
  {
   "cell_type": "markdown",
   "metadata": {
    "slideshow": {
     "slide_type": "skip"
    }
   },
   "source": [
    "## Model derivatives \n",
    "\n",
    "Both for solving and for analyzing the causal structure of a model it can be useful to define different matrices of derivatives for a model $\\textbf F()$ like this:\n",
    "\n",
    "\\begin{align}  \n",
    "\\textbf{A}_t & = & \\frac{\\partial \\textbf{F}}{\\partial \\textbf{y}_t^T}  \\hphantom{\\hspace{5 mm} i=1, \\cdots , r}   \n",
    " &\\hspace{1 mm}\\mbox{Derivatives with respect to current endogeneous variables} \\\\ \\\\\n",
    "\\textbf{E}_t^i & = & \\frac{\\partial \\textbf{F}}{\\partial \\textbf{y}_{t-i}^T } \\hspace{5 mm} i=1, \\cdots , r  &\\hspace{1 mm}\\mbox{  Derivatives with respect to lagged endogeneous variables  } \\\\  \\\\\n",
    "\\textbf{D}_t^j & = & \\frac{\\partial \\textbf{F}}{\\partial \\textbf{y}_{t+j}^T } \\hspace{5 mm} j=1, \\cdots , u  &\\hspace{1 mm}\\mbox{  Derivatives with respect to leaded endogeneous variables  } \\\\  \\\\\n",
    "\\textbf{F}_t^k & = & \\frac{\\partial \\textbf{F}}{\\partial \\textbf{x}_{t-i} ^T} \\hspace{5 mm} k=0, \\cdots , s  &\\hspace{1 mm}\\mbox{  Derivatives with respect to current and lagged exogeneous variables  }\\\\ \n",
    "\\end{align}\n",
    "\n",
    "For un-normalized models the derivative matrices are just the dervatives of $\\textbf G$ instead of $\\textbf F$"
   ]
  },
  {
   "cell_type": "markdown",
   "metadata": {
    "slideshow": {
     "slide_type": "slide"
    }
   },
   "source": [
    "## Model solutions"
   ]
  },
  {
   "cell_type": "markdown",
   "metadata": {
    "slideshow": {
     "slide_type": "notes"
    }
   },
   "source": [
    "There are numerous methods to solve models (systems) as mentioned above. ModelFlow can apply 3 different types of model solution methods: \n",
    "\n",
    " 1. If the model has **no contemporaneous feedback**, the equations can be sorted \n",
    " [Topological](https://en.wikipedia.org/wiki/Topological_sorting) and then the equations can be calculated in the topological order. This is the same as a spreadsheet would do.  \n",
    " 2. If the model has **contemporaneous feedback** model is solved with an iterative method. Here variants of well known solution methods are used: \n",
    "     1. [Gauss-Seidle](https://en.wikipedia.org/wiki/Gauss%E2%80%93Seidel_method) (**Gauss**) which can handle large systems, is fairly robust and don't need the calculation of derivatives\n",
    "     2. [Newthon-Raphson](https://en.wikipedia.org/wiki/Newton%27s_method) (**Newton**) which requires the calculation of derivatives and solving of a large linear system but typically converges in fewer iterations. \n",
    " \n",
    "Nearly all of the models solved by ModelFlow don't contain leaded endogenous variables. Therefor they can be solved one period at a time. For large sparse nonlinear models Gauss works fine. It solves a model quite fast and we don't need the additional handiwork of handling derivatives and large linear systems that Newton methods require. Moreover many models in question do not have smooth derivatives. The order in which the equation are calculated can have a large impact on the convergence speed. \n",
    "\n",
    "For some models the Newton algorithm works better. Some models are not able to converge with Gauss-Seidle other models are just faster using Newton. Also the ordering of equations does not matter for the convergence speed. \n",
    "\n",
    "However some models like FRB/US and other with **rational expectations** or **model consistent expectations** contains leaded endogenous variables. Such models typical has to be solved as one system for for all projection periods. In this case, the Gauss variation [Fair-Taylor](https://fairmodel.econ.yale.edu/rayfair/pdf/1983A.PDF) or Stacked-Newton Method.  The **stacked Newton** methods can be used in all cases, but if not needed, it will usually use more memory and be slower. "
   ]
  },
  {
   "cell_type": "markdown",
   "metadata": {
    "slideshow": {
     "slide_type": "fragment"
    }
   },
   "source": [
    "| Model  | No contemporaneous feedback | Contemporaneous feedback | Leaded variables |\n",
    "| --- | --- | --- |--- | \n",
    "|Normalized | Calculate | Gauss or <br> Newton  | Fair Taylor or <br> Stacked Newton|\n",
    "|Un-normalized | Newton | Newton | Stacked Newton |"
   ]
  },
  {
   "cell_type": "markdown",
   "metadata": {
    "slideshow": {
     "slide_type": "skip"
    }
   },
   "source": [
    "# Implementation of solving algorithms in Python\n",
    "Solving a model entails a number of steps:\n",
    "\n",
    "1. Specification of the model \n",
    "2. Create a dependency graph. \n",
    "2. Establish a solve order and separate the the model into smaller sub-models\n",
    "2. Create a python function which can evaluating $f_i(y_1^{k},\\cdots,y_{i-1}^{k},y_{i+1}^{k-1},\\cdots,y_{n}^{k-1},z)$\n",
    "3. If needed, create a python function which can evaluate the Jacobimatrices: $\\bf{A,E,D}$  or $\\bf{\\bar A,\\bar E,\\bar D}$ \n",
    "3. Apply a solve function using the elements above to the data. "
   ]
  },
  {
   "cell_type": "markdown",
   "metadata": {
    "slideshow": {
     "slide_type": "skip"
    }
   },
   "source": [
    " \n",
    "\n",
    "### Normalized model"
   ]
  },
  {
   "cell_type": "markdown",
   "metadata": {
    "slideshow": {
     "slide_type": "skip"
    }
   },
   "source": [
    "\n",
    "#### Calculation, No contemporaneous feedback\n",
    "\n",
    "In systems with no lags each period can be solved in succession\n",
    "The equations has to be evaluated in a logical (topological sorted) order. "
   ]
  },
  {
   "cell_type": "markdown",
   "metadata": {
    "slideshow": {
     "slide_type": "skip"
    }
   },
   "source": [
    "Let $z$ be all predetermined values: all exogenous variable and lagged endogenous variable.\n",
    "\n",
    "Order the $n$ endogeneous variables in topological order.\n",
    "    \n",
    "For each time period we can find a solution by\n",
    "\n",
    "for $i$ = 1 to $n$ \n",
    "\n",
    ">$y_{i}^{k} = f_i(y_1^{k},\\cdots,y_{i-1}^{k},y_{i+1}^{k-1},\\cdots,y_{n}^{k-1},z)$\n"
   ]
  },
  {
   "cell_type": "markdown",
   "metadata": {
    "slideshow": {
     "slide_type": "skip"
    }
   },
   "source": [
    "#### The Gauss-Seidel algorithm. Normalized  models with contemporaneous feedback\n",
    "The Gauss-Seidel algorithm is quite straight forward. It basically iterate over the formulas, until convergence. \n",
    "\n",
    "let:<br>\n",
    "$z$ be all predetermined values: all exogenous variable and lagged endogenous variable.<br>\n",
    "$n$ be the number of endogenous variables.<br>\n",
    "$\\alpha$ dampening factor which can be applyed to selected equations\n",
    "\n",
    "\n",
    "   \n",
    "For each time period we can find a solution by doing Gauss-Seidel iterations: \n",
    "\n",
    "for $k = 1$ to convergence\n",
    "\n",
    ">for $i$ = 1 to $n$ \n",
    ">\n",
    ">>$y_{i}^{k} = (1-\\alpha) * y_{i}^{{k-1}} + \\alpha f_i(y_1^{k},\\cdots,y_{i-1}^{k},y_{i+1}^{k-1},\\cdots,y_{n}^{k-1},z)$"
   ]
  },
  {
   "cell_type": "markdown",
   "metadata": {
    "slideshow": {
     "slide_type": "skip"
    }
   },
   "source": [
    "#### The Newton-Raphson algorithme. Models with contemporaneous feedback\n",
    "\n",
    "Let $\\bf z$ be a vector all predetermined values: all exogenous variable and lagged endogenous variable.\n",
    "\n",
    "For each time period we can find a solution by doing Newton-Raphson iterations:<br>\n",
    "\n",
    "for $k = 1$ to convergence<br>\n",
    "\n",
    ">$\\bf y = \\bf {F(y^{k-1},z) }$\n",
    ">\n",
    ">$\\bf y^{k} =  \\bf y - \\alpha \\times  \\bf{(A-I)}^{-1} \\times ( \\bf {y - y^{k-1} })$\n",
    "\n",
    "The expression: $\\bf{(A-I)}^{-1}\\times  ( \\bf {y - y^{k-1} })$ is the same as the solution to: \n",
    "\n",
    "$\\bf {y- y^{k-1} } = \\bf (A-I) \\times \\bf x$\n",
    "\n",
    "This problem can be solved much more efficient than performing $\\bf{(A-I)}^{-1}\\times  ( \\bf {y - y^{k-1} })$\n",
    "\n",
    "The Scipy library provides a number of solvers to this linear set of equations. There are both solvers using  factorization and iterative methods, and there are solvers for dense and sparce matrices. All linear solvers  can easily be incorporated into ModelFlows Newton-Raphson nonlinear solver."
   ]
  },
  {
   "cell_type": "markdown",
   "metadata": {
    "slideshow": {
     "slide_type": "skip"
    }
   },
   "source": [
    "#### Stacked Newton-Raphson all  periods in one go. Models with both leaded and lagged endogeneous variable\n",
    "\n",
    "If the model has leaded endogenous variables it can in general not be solved one time period at a time. We have to solve the model for all time frames as one large model. \n",
    "\n",
    "$$\\bf{\\bar A} =\\begin{bmatrix} \n",
    "\t\t\\bf{A_1}   & \\bf{D_1^1} & \\bf{D_1^2} & \\bf{0}     &\\bf{0}      &\\bf{0}      &\\bf{0}      &\\bf{0}  \\\\\n",
    "        \\bf{E_2^1} & \\bf{A_2}   & \\bf{D_2^1} & \\bf{D_2^2} &\\bf{0}      &\\bf{0}      &\\bf{0}      &\\bf{0} \\\\       \n",
    "        \\bf{E_3^2} & \\bf{E_3^1} & \\bf{A_3}   & \\bf{D_3^1} & \\bf{D_3^2} &\\bf{0}      &\\bf{0}      &\\bf{0} \\\\       \n",
    "        \\bf{E_4^3} & \\bf{E_4^2} & \\bf{E_4^1} & \\bf{A_4}   & \\bf{D_4^1} & \\bf{D_4^2} &\\bf{0}      & \\bf{0} \\\\       \n",
    "        \\bf{0}     & \\bf{E_5^3} & \\bf{E_5^2} & \\bf{E_5^1} & \\bf{A_5}   & \\bf{D_5^1} & \\bf{D_5^2} &\\bf{0}\\\\       \n",
    "        \\bf{0}     & \\bf{0}     & \\bf{E_6^3} & \\bf{E_6^2} & \\bf{E_6^1} & \\bf{A_6}   & \\bf{D_6^1} & \\bf{D_6^2}\\\\       \n",
    "        \\bf{0}     & \\bf{0}     & \\bf{0}     & \\bf{E_7^3} & \\bf{E_7^2} & \\bf{E_7^1} & \\bf{A_7}   & \\bf{D_7^1} \\\\       \n",
    "        \\bf{0}     & \\bf{0}     & \\bf{0}     & \\bf{0}     & \\bf{E_8^3} & \\bf{E_8^2} & \\bf{E_8^1} & \\bf{A_8} \\\\       \n",
    "\\end{bmatrix} \\bar y = \\begin{bmatrix}\\bf{y_1}\\\\\\bf{y_2}\\\\\\bf{y_3}\\\\ \\bf{y_4} \\\\\\bf{y_5} \\\\\\bf{y_6} \\\\ \\bf{y_7} \\\\ \\bf{y_8} \\end{bmatrix} \\bar F = \\begin{bmatrix}\\bf{F}\\\\\\bf{F}\\\\\\bf{F}\\\\ \\bf{F} \\\\\\bf{F} \\\\\\bf{F} \\\\ \\bf{F} \\\\ \\bf{F} \\end{bmatrix}$$\n"
   ]
  },
  {
   "cell_type": "markdown",
   "metadata": {
    "slideshow": {
     "slide_type": "skip"
    }
   },
   "source": [
    "Now the solution algorithme looks like this. \n",
    "\n",
    "Again let $\\bf z$ be a vector all predetermined values: all exogenous variable and lagged endogenous variable.\n",
    "\n",
    ">for $k = 1$ to convergence<br>\n",
    ">>$\\bf{\\bar y} = \\bf {\\bar F(\\bar y^{k-1},\\bar z) }$<br>\n",
    ">>$\\bf {\\bar y^{k}} =  \\bf{\\bar y} - \\alpha \\times \\bf{(\\bar A-I)}^{-1}\\times ( \\bf {\\bar y - \\bar y^{k-1} })$\n",
    "\n",
    "Notice that the model $\\bf F$ is the same for all time periods.<br>\n",
    "However, as time can be an exogenous variable the result of $\\bf{F}$ can depend on time. This allows \n",
    "us to specify terminal conditions. \n",
    "\n",
    "The update frequency of $\\bf{\\bar A}$ and $\\alpha$ and the value of $\\alpha$ can be set to manage the speed and stability of the algorithm. \n",
    "\n",
    "We solve the problem: $$( \\bf {\\bar y - \\bar y^{k-1} }) = \\bf{(\\bar A-I)}\\times \\bf x $$ instead of inverting  $\\bf{A}$. \n",
    "\n",
    "Python gives access to very efficient sparse libraries. The [Scipy library](https://scipy.org/scipylib/index.html) utilizes the [Intel® Math Kernel Library](https://software.intel.com/en-us/mkl). Any of the available routines for solving linear systems can easily be incorporated. "
   ]
  },
  {
   "cell_type": "markdown",
   "metadata": {
    "slideshow": {
     "slide_type": "skip"
    }
   },
   "source": [
    "## Create a model instance which calculates the Jacobi matrices.\n",
    "The derivatives of all formulas with respect to all endogenous variables are needed.    \n",
    "\n",
    "First step is to specifying a model in the business logic language which calculate all the non-zero elements<br>\n",
    "In ModelFlow this can be done by **symbolic**, by **numerical differentiation** or by a combination.  \n",
    "\n",
    "\n",
    "The formula for calculating  $\\dfrac{\\partial{numerator }}{{\\partial denominator(-lag)}}$ is written as:                             \n",
    "\n",
    "\\< numerator  \\>\\_\\_p\\_\\_\\< denominator >\\_\\_lag\\_\\_\\< lag\\> = derivative expression\n",
    "\n",
    "Just another instance of a ModelFlow model class. "
   ]
  },
  {
   "cell_type": "markdown",
   "metadata": {
    "slideshow": {
     "slide_type": "skip"
    }
   },
   "source": [
    "### A small Solow model to show the construction of the Jacobi matrix. \n",
    "An example can be helpful<br> \n",
    "First a small model is defined - in this case a solow growth model: "
   ]
  },
  {
   "cell_type": "code",
   "execution_count": 3,
   "metadata": {
    "slideshow": {
     "slide_type": "skip"
    }
   },
   "outputs": [],
   "source": [
    "fsolow = '''\\\n",
    "Y         = a * k**alfa * l **(1-alfa) \n",
    "C         = (1-SAVING_RATIO)  * Y \n",
    "I         = Y - C \n",
    "diff(K)   = I-depreciates_rate * K(-1)\n",
    "diff(l)   = labor_growth * L(-1) \n",
    "K_i= K/L '''\n",
    "msolow = model.from_eq(fsolow)"
   ]
  },
  {
   "cell_type": "code",
   "execution_count": 4,
   "metadata": {
    "slideshow": {
     "slide_type": "skip"
    }
   },
   "outputs": [
    {
     "name": "stdout",
     "output_type": "stream",
     "text": [
      "FRML <> Y         = A * K**ALFA * L **(1-ALFA)  $\n",
      "FRML <> C         = (1-SAVING_RATIO)  * Y  $\n",
      "FRML <> I         = Y - C  $\n",
      "FRML <> K=K(-1)+(I-DEPRECIATES_RATE * K(-1))$\n",
      "FRML <> L=L(-1)+(LABOR_GROWTH * L(-1))$\n",
      "FRML <> K_I= K/L  $\n"
     ]
    }
   ],
   "source": [
    "print(msolow.equations)"
   ]
  },
  {
   "cell_type": "markdown",
   "metadata": {
    "slideshow": {
     "slide_type": "skip"
    }
   },
   "source": [
    "### Create some data and solve the model "
   ]
  },
  {
   "cell_type": "code",
   "execution_count": 5,
   "metadata": {
    "slideshow": {
     "slide_type": "skip"
    }
   },
   "outputs": [],
   "source": [
    "N = 100\n",
    "df = pd.DataFrame({'L':[100]*N,'K':[100]*N})\n",
    "df.loc[:,'ALFA'] = 0.5\n",
    "df.loc[:,'A'] = 1.\n",
    "df.loc[:,'DEPRECIATES_RATE'] = 0.05\n",
    "df.loc[:,'LABOR_GROWTH'] = 0.01\n",
    "df.loc[:,'SAVING_RATIO'] = 0.05\n",
    "msolow(df,max_iterations=100,first_test=10,silent=1);"
   ]
  },
  {
   "cell_type": "markdown",
   "metadata": {
    "slideshow": {
     "slide_type": "skip"
    }
   },
   "source": [
    "### Create an differentiation instance of the model\n",
    "Use symbolic differentiation when possible else use numerical differentiation.  "
   ]
  },
  {
   "cell_type": "code",
   "execution_count": 6,
   "metadata": {
    "slideshow": {
     "slide_type": "skip"
    }
   },
   "outputs": [],
   "source": [
    "from modelnewton import newton_diff\n",
    "msolow.smpl(3,5);  # we only want a few years "
   ]
  },
  {
   "cell_type": "markdown",
   "metadata": {
    "slideshow": {
     "slide_type": "skip"
    }
   },
   "source": [
    "### Symbolic differentiation "
   ]
  },
  {
   "cell_type": "code",
   "execution_count": 7,
   "metadata": {
    "slideshow": {
     "slide_type": "skip"
    }
   },
   "outputs": [
    {
     "name": "stdout",
     "output_type": "stream",
     "text": [
      "* Problem sympify  K = K(-1)+(I-DEPRECIATES_RATE * K(-1))\n",
      "* Problem sympify  L = L(-1)+(LABOR_GROWTH * L(-1))\n",
      "FRML  <> C__p__Y___lag___0 = 1 - SAVING_RATIO   $\n",
      "FRML  <> I__p__C___lag___0 = -1   $\n",
      "FRML  <> I__p__Y___lag___0 = 1   $\n",
      "FRML  <> K__p__I___lag___0 = 0   $\n",
      "FRML  <> K__p__K___lag___1 = (((K(-1)+0.0025)+(I-DEPRECIATES_RATE*(K(-1)+0.0025)))-((K(-1)-0.0025)+(I-DEPRECIATES_RATE*(K(-1)-0.0025))))/0.005   $\n",
      "FRML  <> K_I__p__K___lag___0 = 1/L   $\n",
      "FRML  <> K_I__p__L___lag___0 = -K/L**2   $\n",
      "FRML  <> L__p__L___lag___1 = (((L(-1)+0.0025)+(LABOR_GROWTH*(L(-1)+0.0025)))-((L(-1)-0.0025)+(LABOR_GROWTH*(L(-1)-0.0025))))/0.005   $\n",
      "FRML  <> Y__p__K___lag___0 = A*ALFA*K**ALFA*L**(1 - ALFA)/K   $\n",
      "FRML  <> Y__p__L___lag___0 = A*K**ALFA*L**(1 - ALFA)*(1 - ALFA)/L   $\n"
     ]
    }
   ],
   "source": [
    "newton = newton_diff(msolow)\n",
    "print(newton.diff_model.equations) "
   ]
  },
  {
   "cell_type": "markdown",
   "metadata": {
    "slideshow": {
     "slide_type": "skip"
    }
   },
   "source": [
    "### Numerical differentiation "
   ]
  },
  {
   "cell_type": "code",
   "execution_count": 8,
   "metadata": {
    "slideshow": {
     "slide_type": "skip"
    }
   },
   "outputs": [
    {
     "name": "stdout",
     "output_type": "stream",
     "text": [
      "FRML  <> C__p__Y___lag___0 = (((1-SAVING_RATIO)*(Y+0.0025))-((1-SAVING_RATIO)*(Y-0.0025)))/0.005   $\n",
      "FRML  <> I__p__C___lag___0 = ((Y-(C+0.0025))-(Y-(C-0.0025)))/0.005   $\n",
      "FRML  <> I__p__Y___lag___0 = (((Y+0.0025)-C)-((Y-0.0025)-C))/0.005   $\n",
      "FRML  <> K__p__I___lag___0 = ((K(-1)+((I+0.0025)-DEPRECIATES_RATE*K(-1)))-(K(-1)+((I-0.0025)-DEPRECIATES_RATE*K(-1))))/0.005   $\n",
      "FRML  <> K__p__K___lag___1 = (((K(-1)+0.0025)+(I-DEPRECIATES_RATE*(K(-1)+0.0025)))-((K(-1)-0.0025)+(I-DEPRECIATES_RATE*(K(-1)-0.0025))))/0.005   $\n",
      "FRML  <> K_I__p__K___lag___0 = (((K+0.0025)/L)-((K-0.0025)/L))/0.005   $\n",
      "FRML  <> K_I__p__L___lag___0 = ((K/(L+0.0025))-(K/(L-0.0025)))/0.005   $\n",
      "FRML  <> L__p__L___lag___1 = (((L(-1)+0.0025)+(LABOR_GROWTH*(L(-1)+0.0025)))-((L(-1)-0.0025)+(LABOR_GROWTH*(L(-1)-0.0025))))/0.005   $\n",
      "FRML  <> Y__p__K___lag___0 = ((A*(K+0.0025)**ALFA*L**(1-ALFA))-(A*(K-0.0025)**ALFA*L**(1-ALFA)))/0.005   $\n",
      "FRML  <> Y__p__L___lag___0 = ((A*K**ALFA*(L+0.0025)**(1-ALFA))-(A*K**ALFA*(L-0.0025)**(1-ALFA)))/0.005   $\n"
     ]
    }
   ],
   "source": [
    "newton2 = newton_diff(msolow,forcenum=1)\n",
    "print(newton2.diff_model.equations)"
   ]
  },
  {
   "cell_type": "markdown",
   "metadata": {
    "slideshow": {
     "slide_type": "skip"
    }
   },
   "source": [
    "### Display the full stacked matrix\n",
    "To make the sparcity clear all zero values are shown as blank \n"
   ]
  },
  {
   "cell_type": "code",
   "execution_count": 9,
   "metadata": {
    "scrolled": false,
    "slideshow": {
     "slide_type": "skip"
    }
   },
   "outputs": [
    {
     "data": {
      "text/html": [
       "<div>\n",
       "<style scoped>\n",
       "    .dataframe tbody tr th:only-of-type {\n",
       "        vertical-align: middle;\n",
       "    }\n",
       "\n",
       "    .dataframe tbody tr th {\n",
       "        vertical-align: top;\n",
       "    }\n",
       "\n",
       "    .dataframe thead tr th {\n",
       "        text-align: left;\n",
       "    }\n",
       "\n",
       "    .dataframe thead tr:last-of-type th {\n",
       "        text-align: right;\n",
       "    }\n",
       "</style>\n",
       "<table border=\"1\" class=\"dataframe\">\n",
       "  <thead>\n",
       "    <tr>\n",
       "      <th></th>\n",
       "      <th>per</th>\n",
       "      <th colspan=\"6\" halign=\"left\">3</th>\n",
       "      <th colspan=\"6\" halign=\"left\">4</th>\n",
       "      <th colspan=\"6\" halign=\"left\">5</th>\n",
       "    </tr>\n",
       "    <tr>\n",
       "      <th></th>\n",
       "      <th>var</th>\n",
       "      <th>C</th>\n",
       "      <th>I</th>\n",
       "      <th>K</th>\n",
       "      <th>K_I</th>\n",
       "      <th>L</th>\n",
       "      <th>Y</th>\n",
       "      <th>C</th>\n",
       "      <th>I</th>\n",
       "      <th>K</th>\n",
       "      <th>K_I</th>\n",
       "      <th>L</th>\n",
       "      <th>Y</th>\n",
       "      <th>C</th>\n",
       "      <th>I</th>\n",
       "      <th>K</th>\n",
       "      <th>K_I</th>\n",
       "      <th>L</th>\n",
       "      <th>Y</th>\n",
       "    </tr>\n",
       "    <tr>\n",
       "      <th>per</th>\n",
       "      <th>var</th>\n",
       "      <th></th>\n",
       "      <th></th>\n",
       "      <th></th>\n",
       "      <th></th>\n",
       "      <th></th>\n",
       "      <th></th>\n",
       "      <th></th>\n",
       "      <th></th>\n",
       "      <th></th>\n",
       "      <th></th>\n",
       "      <th></th>\n",
       "      <th></th>\n",
       "      <th></th>\n",
       "      <th></th>\n",
       "      <th></th>\n",
       "      <th></th>\n",
       "      <th></th>\n",
       "      <th></th>\n",
       "    </tr>\n",
       "  </thead>\n",
       "  <tbody>\n",
       "    <tr>\n",
       "      <th rowspan=\"6\" valign=\"top\">3</th>\n",
       "      <th>C</th>\n",
       "      <td>-1.00</td>\n",
       "      <td></td>\n",
       "      <td></td>\n",
       "      <td></td>\n",
       "      <td></td>\n",
       "      <td>0.95</td>\n",
       "      <td></td>\n",
       "      <td></td>\n",
       "      <td></td>\n",
       "      <td></td>\n",
       "      <td></td>\n",
       "      <td></td>\n",
       "      <td></td>\n",
       "      <td></td>\n",
       "      <td></td>\n",
       "      <td></td>\n",
       "      <td></td>\n",
       "      <td></td>\n",
       "    </tr>\n",
       "    <tr>\n",
       "      <th>I</th>\n",
       "      <td>-1.00</td>\n",
       "      <td>-1.00</td>\n",
       "      <td></td>\n",
       "      <td></td>\n",
       "      <td></td>\n",
       "      <td>1.00</td>\n",
       "      <td></td>\n",
       "      <td></td>\n",
       "      <td></td>\n",
       "      <td></td>\n",
       "      <td></td>\n",
       "      <td></td>\n",
       "      <td></td>\n",
       "      <td></td>\n",
       "      <td></td>\n",
       "      <td></td>\n",
       "      <td></td>\n",
       "      <td></td>\n",
       "    </tr>\n",
       "    <tr>\n",
       "      <th>K</th>\n",
       "      <td></td>\n",
       "      <td></td>\n",
       "      <td>-1.00</td>\n",
       "      <td></td>\n",
       "      <td></td>\n",
       "      <td></td>\n",
       "      <td></td>\n",
       "      <td></td>\n",
       "      <td></td>\n",
       "      <td></td>\n",
       "      <td></td>\n",
       "      <td></td>\n",
       "      <td></td>\n",
       "      <td></td>\n",
       "      <td></td>\n",
       "      <td></td>\n",
       "      <td></td>\n",
       "      <td></td>\n",
       "    </tr>\n",
       "    <tr>\n",
       "      <th>K_I</th>\n",
       "      <td></td>\n",
       "      <td></td>\n",
       "      <td>0.01</td>\n",
       "      <td>-1.00</td>\n",
       "      <td>-0.01</td>\n",
       "      <td></td>\n",
       "      <td></td>\n",
       "      <td></td>\n",
       "      <td></td>\n",
       "      <td></td>\n",
       "      <td></td>\n",
       "      <td></td>\n",
       "      <td></td>\n",
       "      <td></td>\n",
       "      <td></td>\n",
       "      <td></td>\n",
       "      <td></td>\n",
       "      <td></td>\n",
       "    </tr>\n",
       "    <tr>\n",
       "      <th>L</th>\n",
       "      <td></td>\n",
       "      <td></td>\n",
       "      <td></td>\n",
       "      <td></td>\n",
       "      <td>-1.00</td>\n",
       "      <td></td>\n",
       "      <td></td>\n",
       "      <td></td>\n",
       "      <td></td>\n",
       "      <td></td>\n",
       "      <td></td>\n",
       "      <td></td>\n",
       "      <td></td>\n",
       "      <td></td>\n",
       "      <td></td>\n",
       "      <td></td>\n",
       "      <td></td>\n",
       "      <td></td>\n",
       "    </tr>\n",
       "    <tr>\n",
       "      <th>Y</th>\n",
       "      <td></td>\n",
       "      <td></td>\n",
       "      <td>0.51</td>\n",
       "      <td></td>\n",
       "      <td>0.49</td>\n",
       "      <td>-1.00</td>\n",
       "      <td></td>\n",
       "      <td></td>\n",
       "      <td></td>\n",
       "      <td></td>\n",
       "      <td></td>\n",
       "      <td></td>\n",
       "      <td></td>\n",
       "      <td></td>\n",
       "      <td></td>\n",
       "      <td></td>\n",
       "      <td></td>\n",
       "      <td></td>\n",
       "    </tr>\n",
       "    <tr>\n",
       "      <th rowspan=\"6\" valign=\"top\">4</th>\n",
       "      <th>C</th>\n",
       "      <td></td>\n",
       "      <td></td>\n",
       "      <td></td>\n",
       "      <td></td>\n",
       "      <td></td>\n",
       "      <td></td>\n",
       "      <td>-1.00</td>\n",
       "      <td></td>\n",
       "      <td></td>\n",
       "      <td></td>\n",
       "      <td></td>\n",
       "      <td>0.95</td>\n",
       "      <td></td>\n",
       "      <td></td>\n",
       "      <td></td>\n",
       "      <td></td>\n",
       "      <td></td>\n",
       "      <td></td>\n",
       "    </tr>\n",
       "    <tr>\n",
       "      <th>I</th>\n",
       "      <td></td>\n",
       "      <td></td>\n",
       "      <td></td>\n",
       "      <td></td>\n",
       "      <td></td>\n",
       "      <td></td>\n",
       "      <td>-1.00</td>\n",
       "      <td>-1.00</td>\n",
       "      <td></td>\n",
       "      <td></td>\n",
       "      <td></td>\n",
       "      <td>1.00</td>\n",
       "      <td></td>\n",
       "      <td></td>\n",
       "      <td></td>\n",
       "      <td></td>\n",
       "      <td></td>\n",
       "      <td></td>\n",
       "    </tr>\n",
       "    <tr>\n",
       "      <th>K</th>\n",
       "      <td></td>\n",
       "      <td></td>\n",
       "      <td>0.95</td>\n",
       "      <td></td>\n",
       "      <td></td>\n",
       "      <td></td>\n",
       "      <td></td>\n",
       "      <td></td>\n",
       "      <td>-1.00</td>\n",
       "      <td></td>\n",
       "      <td></td>\n",
       "      <td></td>\n",
       "      <td></td>\n",
       "      <td></td>\n",
       "      <td></td>\n",
       "      <td></td>\n",
       "      <td></td>\n",
       "      <td></td>\n",
       "    </tr>\n",
       "    <tr>\n",
       "      <th>K_I</th>\n",
       "      <td></td>\n",
       "      <td></td>\n",
       "      <td></td>\n",
       "      <td></td>\n",
       "      <td></td>\n",
       "      <td></td>\n",
       "      <td></td>\n",
       "      <td></td>\n",
       "      <td>0.01</td>\n",
       "      <td>-1.00</td>\n",
       "      <td>-0.01</td>\n",
       "      <td></td>\n",
       "      <td></td>\n",
       "      <td></td>\n",
       "      <td></td>\n",
       "      <td></td>\n",
       "      <td></td>\n",
       "      <td></td>\n",
       "    </tr>\n",
       "    <tr>\n",
       "      <th>L</th>\n",
       "      <td></td>\n",
       "      <td></td>\n",
       "      <td></td>\n",
       "      <td></td>\n",
       "      <td>1.01</td>\n",
       "      <td></td>\n",
       "      <td></td>\n",
       "      <td></td>\n",
       "      <td></td>\n",
       "      <td></td>\n",
       "      <td>-1.00</td>\n",
       "      <td></td>\n",
       "      <td></td>\n",
       "      <td></td>\n",
       "      <td></td>\n",
       "      <td></td>\n",
       "      <td></td>\n",
       "      <td></td>\n",
       "    </tr>\n",
       "    <tr>\n",
       "      <th>Y</th>\n",
       "      <td></td>\n",
       "      <td></td>\n",
       "      <td></td>\n",
       "      <td></td>\n",
       "      <td></td>\n",
       "      <td></td>\n",
       "      <td></td>\n",
       "      <td></td>\n",
       "      <td>0.51</td>\n",
       "      <td></td>\n",
       "      <td>0.49</td>\n",
       "      <td>-1.00</td>\n",
       "      <td></td>\n",
       "      <td></td>\n",
       "      <td></td>\n",
       "      <td></td>\n",
       "      <td></td>\n",
       "      <td></td>\n",
       "    </tr>\n",
       "    <tr>\n",
       "      <th rowspan=\"6\" valign=\"top\">5</th>\n",
       "      <th>C</th>\n",
       "      <td></td>\n",
       "      <td></td>\n",
       "      <td></td>\n",
       "      <td></td>\n",
       "      <td></td>\n",
       "      <td></td>\n",
       "      <td></td>\n",
       "      <td></td>\n",
       "      <td></td>\n",
       "      <td></td>\n",
       "      <td></td>\n",
       "      <td></td>\n",
       "      <td>-1.00</td>\n",
       "      <td></td>\n",
       "      <td></td>\n",
       "      <td></td>\n",
       "      <td></td>\n",
       "      <td>0.95</td>\n",
       "    </tr>\n",
       "    <tr>\n",
       "      <th>I</th>\n",
       "      <td></td>\n",
       "      <td></td>\n",
       "      <td></td>\n",
       "      <td></td>\n",
       "      <td></td>\n",
       "      <td></td>\n",
       "      <td></td>\n",
       "      <td></td>\n",
       "      <td></td>\n",
       "      <td></td>\n",
       "      <td></td>\n",
       "      <td></td>\n",
       "      <td>-1.00</td>\n",
       "      <td>-1.00</td>\n",
       "      <td></td>\n",
       "      <td></td>\n",
       "      <td></td>\n",
       "      <td>1.00</td>\n",
       "    </tr>\n",
       "    <tr>\n",
       "      <th>K</th>\n",
       "      <td></td>\n",
       "      <td></td>\n",
       "      <td></td>\n",
       "      <td></td>\n",
       "      <td></td>\n",
       "      <td></td>\n",
       "      <td></td>\n",
       "      <td></td>\n",
       "      <td>0.95</td>\n",
       "      <td></td>\n",
       "      <td></td>\n",
       "      <td></td>\n",
       "      <td></td>\n",
       "      <td></td>\n",
       "      <td>-1.00</td>\n",
       "      <td></td>\n",
       "      <td></td>\n",
       "      <td></td>\n",
       "    </tr>\n",
       "    <tr>\n",
       "      <th>K_I</th>\n",
       "      <td></td>\n",
       "      <td></td>\n",
       "      <td></td>\n",
       "      <td></td>\n",
       "      <td></td>\n",
       "      <td></td>\n",
       "      <td></td>\n",
       "      <td></td>\n",
       "      <td></td>\n",
       "      <td></td>\n",
       "      <td></td>\n",
       "      <td></td>\n",
       "      <td></td>\n",
       "      <td></td>\n",
       "      <td>0.01</td>\n",
       "      <td>-1.00</td>\n",
       "      <td>-0.01</td>\n",
       "      <td></td>\n",
       "    </tr>\n",
       "    <tr>\n",
       "      <th>L</th>\n",
       "      <td></td>\n",
       "      <td></td>\n",
       "      <td></td>\n",
       "      <td></td>\n",
       "      <td></td>\n",
       "      <td></td>\n",
       "      <td></td>\n",
       "      <td></td>\n",
       "      <td></td>\n",
       "      <td></td>\n",
       "      <td>1.01</td>\n",
       "      <td></td>\n",
       "      <td></td>\n",
       "      <td></td>\n",
       "      <td></td>\n",
       "      <td></td>\n",
       "      <td>-1.00</td>\n",
       "      <td></td>\n",
       "    </tr>\n",
       "    <tr>\n",
       "      <th>Y</th>\n",
       "      <td></td>\n",
       "      <td></td>\n",
       "      <td></td>\n",
       "      <td></td>\n",
       "      <td></td>\n",
       "      <td></td>\n",
       "      <td></td>\n",
       "      <td></td>\n",
       "      <td></td>\n",
       "      <td></td>\n",
       "      <td></td>\n",
       "      <td></td>\n",
       "      <td></td>\n",
       "      <td></td>\n",
       "      <td>0.51</td>\n",
       "      <td></td>\n",
       "      <td>0.49</td>\n",
       "      <td>-1.00</td>\n",
       "    </tr>\n",
       "  </tbody>\n",
       "</table>\n",
       "</div>"
      ],
      "text/plain": [
       "per          3                                         4                       \\\n",
       "var          C      I      K    K_I      L      Y      C      I      K    K_I   \n",
       "per var                                                                         \n",
       "3   C    -1.00                               0.95                               \n",
       "    I    -1.00  -1.00                        1.00                               \n",
       "    K                  -1.00                                                    \n",
       "    K_I                 0.01  -1.00  -0.01                                      \n",
       "    L                                -1.00                                      \n",
       "    Y                   0.51          0.49  -1.00                               \n",
       "4   C                                              -1.00                        \n",
       "    I                                              -1.00  -1.00                 \n",
       "    K                   0.95                                     -1.00          \n",
       "    K_I                                                           0.01  -1.00   \n",
       "    L                                 1.01                                      \n",
       "    Y                                                             0.51          \n",
       "5   C                                                                           \n",
       "    I                                                                           \n",
       "    K                                                             0.95          \n",
       "    K_I                                                                         \n",
       "    L                                                                           \n",
       "    Y                                                                           \n",
       "\n",
       "per                        5                                     \n",
       "var          L      Y      C      I      K    K_I      L      Y  \n",
       "per var                                                          \n",
       "3   C                                                            \n",
       "    I                                                            \n",
       "    K                                                            \n",
       "    K_I                                                          \n",
       "    L                                                            \n",
       "    Y                                                            \n",
       "4   C            0.95                                            \n",
       "    I            1.00                                            \n",
       "    K                                                            \n",
       "    K_I  -0.01                                                   \n",
       "    L    -1.00                                                   \n",
       "    Y     0.49  -1.00                                            \n",
       "5   C                  -1.00                               0.95  \n",
       "    I                  -1.00  -1.00                        1.00  \n",
       "    K                                -1.00                       \n",
       "    K_I                               0.01  -1.00  -0.01         \n",
       "    L     1.01                                     -1.00         \n",
       "    Y                                 0.51          0.49  -1.00  "
      ]
     },
     "execution_count": 9,
     "metadata": {},
     "output_type": "execute_result"
    }
   ],
   "source": [
    "stacked_df = newton.get_diff_df_tot()\n",
    "stacked_df.applymap(lambda x:f'{x:,.2f}' if x != 0.0 else ' ') "
   ]
  },
  {
   "cell_type": "markdown",
   "metadata": {
    "slideshow": {
     "slide_type": "skip"
    }
   },
   "source": [
    "### The results can also be displayed"
   ]
  }
 ],
 "metadata": {
  "hide_input": false,
  "kernelspec": {
   "display_name": "Python 3 (ipykernel)",
   "language": "python",
   "name": "python3"
  },
  "language_info": {
   "codemirror_mode": {
    "name": "ipython",
    "version": 3
   },
   "file_extension": ".py",
   "mimetype": "text/x-python",
   "name": "python",
   "nbconvert_exporter": "python",
   "pygments_lexer": "ipython3",
   "version": "3.8.8"
  },
  "toc": {
   "base_numbering": 1,
   "nav_menu": {},
   "number_sections": true,
   "sideBar": true,
   "skip_h1_title": false,
   "title_cell": "Table of Contents",
   "title_sidebar": "Contents",
   "toc_cell": false,
   "toc_position": {
    "height": "calc(100% - 180px)",
    "left": "10px",
    "top": "150px",
    "width": "196.274px"
   },
   "toc_section_display": true,
   "toc_window_display": false
  },
  "varInspector": {
   "cols": {
    "lenName": 16,
    "lenType": 16,
    "lenVar": 40
   },
   "kernels_config": {
    "python": {
     "delete_cmd_postfix": "",
     "delete_cmd_prefix": "del ",
     "library": "var_list.py",
     "varRefreshCmd": "print(var_dic_list())"
    },
    "r": {
     "delete_cmd_postfix": ") ",
     "delete_cmd_prefix": "rm(",
     "library": "var_list.r",
     "varRefreshCmd": "cat(var_dic_list()) "
    }
   },
   "oldHeight": 489.31922199999997,
   "position": {
    "height": "40px",
    "left": "702.8px",
    "right": "20px",
    "top": "51px",
    "width": "524.708px"
   },
   "types_to_exclude": [
    "module",
    "function",
    "builtin_function_or_method",
    "instance",
    "_Feature"
   ],
   "varInspector_section_display": "none",
   "window_display": true
  }
 },
 "nbformat": 4,
 "nbformat_minor": 2
}
