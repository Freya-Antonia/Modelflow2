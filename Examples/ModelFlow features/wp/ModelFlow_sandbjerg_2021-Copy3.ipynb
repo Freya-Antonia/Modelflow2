{
 "cells": [
  {
   "cell_type": "code",
   "execution_count": 41,
   "metadata": {
    "slideshow": {
     "slide_type": "skip"
    }
   },
   "outputs": [],
   "source": [
    "%matplotlib inline"
   ]
  },
  {
   "cell_type": "code",
   "execution_count": 42,
   "metadata": {
    "slideshow": {
     "slide_type": "skip"
    }
   },
   "outputs": [],
   "source": [
    "import matplotlib.pyplot as plt \n",
    "import pandas as pd               # Python data science library\n",
    "#import numpy as np\n",
    "#import re\n",
    "#import sys\n",
    "\n",
    "from modelclass import model\n",
    "#import modelpattern as pt\n",
    "#import modelmanipulation as mp    # Module for model text processing\n",
    "#from modelmanipulation import explode\n"
   ]
  },
  {
   "cell_type": "markdown",
   "metadata": {
    "slideshow": {
     "slide_type": "slide"
    }
   },
   "source": [
    "# ModelFlow, A library to manage and solve Models\n",
    "Sandbjerg november 2021\n",
    "\n",
    "Ib Hansen <br> \n",
    "Ib.hansen.iv@gmail.com\n",
    "\n",
    "Work done at Danmarks Nationalbank, ECB and Hansen Ølkonometri. "
   ]
  },
  {
   "cell_type": "markdown",
   "metadata": {
    "slideshow": {
     "slide_type": "slide"
    }
   },
   "source": [
    "**Problem**:<br>\n",
    "Stress-test model for banks<br>\n",
    "Complicated and slow **Excel** workbook <br>\n",
    "Difficult to maintain and change"
   ]
  },
  {
   "cell_type": "markdown",
   "metadata": {
    "slideshow": {
     "slide_type": "fragment"
    }
   },
   "source": [
    "**Solution**:<br>\n",
    "Separate specification (at a high level of abstraction) and solution code.<br> \n",
    "Python comes **batteries included**. Data management, text processing, visualization ..."
   ]
  },
  {
   "cell_type": "markdown",
   "metadata": {
    "slideshow": {
     "slide_type": "fragment"
    }
   },
   "source": [
    "**Implementation** of **minimum workable toolkit** <br>\n",
    "A **transpiler**: Takes a model in a **domain specific** Business logic language:<br>\n",
    "Create **solver** and **utility** functions using Python libraries. <br>\n"
   ]
  },
  {
   "cell_type": "markdown",
   "metadata": {
    "slideshow": {
     "slide_type": "skip"
    }
   },
   "source": [
    "**Refactor and refine**<br>\n",
    "Larger models, Faster transpiler, Newton and Gauss solvers, Logical structure, Derivatives, Visualization, Front ends ...\n"
   ]
  },
  {
   "cell_type": "markdown",
   "metadata": {
    "slideshow": {
     "slide_type": "slide"
    }
   },
   "source": [
    "## Refine and refactor\n",
    "To suit the needs of the different models thrown at the toolkit.\n",
    "\n",
    "**Specify very large (or small) models** as concise and intuitive equations. 1 million equation and more can be handled.\n",
    "\n",
    "**Agile model development** Model are specified at a high level of abstraction and are processed fast. Experiments with model specification are agile and fast. \n",
    "\n",
    "**Onboarding models and combining from different sources**. Recycling and combining models specified in different ways: Excel, Latex, Dynare, Python or other languages. \n",
    "\n",
    "**A rich set of analytical tools for model and result analytic** helps to understand the model and its results. \n",
    "\n",
    "**The user can extend and modify the tools** to her or his needs. All code is in Python and the core is quite small.       "
   ]
  },
  {
   "cell_type": "markdown",
   "metadata": {
    "slideshow": {
     "slide_type": "slide"
    }
   },
   "source": [
    "## What is a Model in ModelFlow\n",
    "ModelFlow is created to handle models. The term [**model**](https://en.wikipedia.org/wiki/Model) can mean a lot of different concepts. \n",
    "\n",
    "The scope of models handled by ModelFlow is **discrete** models which is the same for each time frame, can be formulated as **mathematical equations** and *can* have **lagged** and **leaded** variables. <br>\n",
    "This allows the system to handle quite a large range of models."
   ]
  },
  {
   "cell_type": "markdown",
   "metadata": {
    "slideshow": {
     "slide_type": "skip"
    }
   },
   "source": [
    "A model with:\n",
    "\n",
    " - $\\textbf n$ number of endogeneous variables\n",
    " - $\\textbf k$ number of exogeneous variables \n",
    " - $\\textbf u$ max lead of endogeneous variables\n",
    " - $\\textbf r$ max lag of endogeneous variables \n",
    " - $\\textbf s$ max lag of exogeneous variables \n",
    " - $t$ time frame (year, quarter, day second or another another unit)\n",
    " \n",
    "can be written in two ways, **normalized** or **un-normalized** form"
   ]
  },
  {
   "cell_type": "markdown",
   "metadata": {
    "slideshow": {
     "slide_type": "subslide"
    }
   },
   "source": [
    "### Normalized model\n",
    "Each endogenous variable is on the left hand side one time - and only one time.<br>\n",
    "\\begin{eqnarray}\n",
    "y_t^1 & = & f^1(y_{t+u}^1...,y_{t+u}^n...,y_t^2...,y_{t}^n...y_{t-r}^1...,y_{t-r}^n,x_t^1...x_{t}^k,...x_{t-s}^1...,x_{t-s}^k) \\\\\n",
    "y_t^2 & = & f^2(y_{t+u}^1...,y_{t+u}^n...,y_t^1...,y_{t}^n...y_{t-r}^1...,y_{t-r}^n,x_t^1...x_{t}^k,...x_{t-s}^1...,x_{t-s}^k) \\\\\n",
    "\\vdots \\\\\n",
    "y_t^n & = & f^n(y_{t+u}^1...,y_{t+u}^n...,y_t^1...,y_{t}^{n-1}...y_{t-r}^1...,y_{t-r}^n,x_t^1...x_{t}^r,x..._{t-s}^1...,x_{t-s}^k)\n",
    "\\end{eqnarray}\n",
    "\n",
    "\n",
    "Written in matrix notation where  $\\textbf{y}_t$ and $\\textbf{x}_t$ are vectors of endogenous/exogenous  variables for time t<br>\n",
    "\n",
    "\\begin{eqnarray}  \n",
    "\\textbf{y}_t & = & \\textbf{F}(\\textbf{y}_{t+u} \\cdots \\textbf{y}_t \\cdots \\textbf{y}_{t-r},\\textbf{x}_t \\cdots \\textbf{x}_{t-s})\n",
    "\\end{eqnarray}\n",
    "\n",
    "\n",
    "ModelFlow allows variable to be scalars, matrices, arrays or pandas dataframes."
   ]
  },
  {
   "cell_type": "markdown",
   "metadata": {
    "slideshow": {
     "slide_type": "subslide"
    }
   },
   "source": [
    "### Un-normalized form\n",
    "Some models can not easy be specified as normalized formulas. Especially   models with equilibrium  conditions can more suitable be specified in the more generalized un-normalized form.\n",
    "\n",
    "Written in matrix notation like before:\n",
    "\n",
    "\\begin{eqnarray}  \n",
    "\\textbf{0}& = & \\textbf{F}(\\textbf{y}_{t+u} \\cdots \\textbf{y}_t \\cdots \\textbf{y}_{t-r},\\textbf{x}_t \\cdots \\textbf{x}_{t-s})\n",
    "\\end{eqnarray}\n",
    "\n",
    "The number of endogenous variables and equations should still be the same."
   ]
  },
  {
   "cell_type": "markdown",
   "metadata": {
    "slideshow": {
     "slide_type": "skip"
    }
   },
   "source": [
    "#### Model solution \n",
    "For a normalized model:\n",
    "\n",
    "\\begin{eqnarray}  \n",
    "\\textbf{y}_t & = & \\textbf{F}(\\textbf{y}_{t+u} \\cdots \\textbf{y}_t \\cdots \\textbf{y}_{t-r},\\textbf{x}_t \\cdots \\textbf{x}_{t-r})     \n",
    "\\end{eqnarray}\n",
    "\n",
    "a solution is  $\\textbf{y}_t^*$ so that:\n",
    "\n",
    "\n",
    "\\begin{eqnarray}  \n",
    "\\textbf{y}_t^* & = & \\textbf{F}(\\textbf{y}_{t+u} \\cdots \\textbf{y}_t^* \\cdots \\textbf{y}_{t-r},\\textbf{x}_t \\cdots \\textbf{x}_{t-r})     \n",
    "\\end{eqnarray}"
   ]
  },
  {
   "cell_type": "markdown",
   "metadata": {
    "slideshow": {
     "slide_type": "skip"
    }
   },
   "source": [
    "For the un-normalized model:\n",
    "\\begin{eqnarray}  \n",
    "\\textbf{0}& = & \\textbf{F}(\\textbf{y}_{t+u} \\cdots \\textbf{y}_t \\cdots \\textbf{y}_{t-r},\\textbf{x}_t \\cdots \\textbf{x}_{t-s})\n",
    "\\end{eqnarray}\n",
    "\n",
    "\n",
    "a solution $\\textbf{y}_t^*$ is \n",
    "\n",
    "\\begin{eqnarray}  \n",
    "\\textbf{0} & = & \\textbf{G}(\\textbf{y}_{t+u} \\cdots \\textbf{y}_t^* \\cdots \\textbf{y}_{t-r},\\textbf{x}_t \\cdots \\textbf{x}_{t-r})     \n",
    "\\end{eqnarray}\n",
    "\n",
    "Some models can have more than one solution. In this case the solution can depend on the starting point of the solution algorithm. "
   ]
  },
  {
   "cell_type": "markdown",
   "metadata": {
    "slideshow": {
     "slide_type": "skip"
    }
   },
   "source": [
    "## Model derivatives \n",
    "\n",
    "Both for solving and for analyzing the causal structure of a model it can be useful to define different matrices of derivatives for a model $\\textbf F()$ like this:\n",
    "\n",
    "\\begin{align}  \n",
    "\\textbf{A}_t & = & \\frac{\\partial \\textbf{F}}{\\partial \\textbf{y}_t^T}  \\hphantom{\\hspace{5 mm} i=1, \\cdots , r}   \n",
    " &\\hspace{1 mm}\\mbox{Derivatives with respect to current endogeneous variables} \\\\ \\\\\n",
    "\\textbf{E}_t^i & = & \\frac{\\partial \\textbf{F}}{\\partial \\textbf{y}_{t-i}^T } \\hspace{5 mm} i=1, \\cdots , r  &\\hspace{1 mm}\\mbox{  Derivatives with respect to lagged endogeneous variables  } \\\\  \\\\\n",
    "\\textbf{D}_t^j & = & \\frac{\\partial \\textbf{F}}{\\partial \\textbf{y}_{t+j}^T } \\hspace{5 mm} j=1, \\cdots , u  &\\hspace{1 mm}\\mbox{  Derivatives with respect to leaded endogeneous variables  } \\\\  \\\\\n",
    "\\textbf{F}_t^k & = & \\frac{\\partial \\textbf{F}}{\\partial \\textbf{x}_{t-i} ^T} \\hspace{5 mm} k=0, \\cdots , s  &\\hspace{1 mm}\\mbox{  Derivatives with respect to current and lagged exogeneous variables  }\\\\ \n",
    "\\end{align}\n",
    "\n",
    "For un-normalized models the derivative matrices are just the dervatives of $\\textbf G$ instead of $\\textbf F$"
   ]
  },
  {
   "cell_type": "markdown",
   "metadata": {
    "slideshow": {
     "slide_type": "slide"
    }
   },
   "source": [
    "## Model solutions"
   ]
  },
  {
   "cell_type": "markdown",
   "metadata": {
    "slideshow": {
     "slide_type": "notes"
    }
   },
   "source": [
    "There are numerous methods to solve models (systems) as mentioned above. ModelFlow can apply 3 different types of model solution methods: \n",
    "\n",
    " 1. If the model has **no contemporaneous feedback**, the equations can be sorted \n",
    " [Topological](https://en.wikipedia.org/wiki/Topological_sorting) and then the equations can be calculated in the topological order. This is the same as a spreadsheet would do.  \n",
    " 2. If the model has **contemporaneous feedback** model is solved with an iterative method. Here variants of well known solution methods are used: \n",
    "     1. [Gauss-Seidle](https://en.wikipedia.org/wiki/Gauss%E2%80%93Seidel_method) (**Gauss**) which can handle large systems, is fairly robust and don't need the calculation of derivatives\n",
    "     2. [Newthon-Raphson](https://en.wikipedia.org/wiki/Newton%27s_method) (**Newton**) which requires the calculation of derivatives and solving of a large linear system but typically converges in fewer iterations. \n",
    " \n",
    "Nearly all of the models solved by ModelFlow don't contain leaded endogenous variables. Therefor they can be solved one period at a time. For large sparse nonlinear models Gauss works fine. It solves a model quite fast and we don't need the additional handiwork of handling derivatives and large linear systems that Newton methods require. Moreover many models in question do not have smooth derivatives. The order in which the equation are calculated can have a large impact on the convergence speed. \n",
    "\n",
    "For some models the Newton algorithm works better. Some models are not able to converge with Gauss-Seidle other models are just faster using Newton. Also the ordering of equations does not matter for the convergence speed. \n",
    "\n",
    "However some models like FRB/US and other with **rational expectations** or **model consistent expectations** contains leaded endogenous variables. Such models typical has to be solved as one system for for all projection periods. In this case, the Gauss variation [Fair-Taylor](https://fairmodel.econ.yale.edu/rayfair/pdf/1983A.PDF) or Stacked-Newton Method.  The **stacked Newton** methods can be used in all cases, but if not needed, it will usually use more memory and be slower. "
   ]
  },
  {
   "cell_type": "markdown",
   "metadata": {
    "slideshow": {
     "slide_type": "fragment"
    }
   },
   "source": [
    "| Model  | No contemporaneous feedback | Contemporaneous feedback | Leaded variables |\n",
    "| --- | --- | --- |--- | \n",
    "|Normalized | Calculate | Gauss or <br> Newton  | Fair Taylor or <br> Stacked Newton|\n",
    "|Un-normalized | Newton | Newton | Stacked Newton |"
   ]
  },
  {
   "cell_type": "markdown",
   "metadata": {
    "slideshow": {
     "slide_type": "skip"
    }
   },
   "source": [
    "# Implementation of solving algorithms in Python\n",
    "Solving a model entails a number of steps:\n",
    "\n",
    "1. Specification of the model \n",
    "2. Create a dependency graph. \n",
    "2. Establish a solve order and separate the the model into smaller sub-models\n",
    "2. Create a python function which can evaluating $f_i(y_1^{k},\\cdots,y_{i-1}^{k},y_{i+1}^{k-1},\\cdots,y_{n}^{k-1},z)$\n",
    "3. If needed, create a python function which can evaluate the Jacobimatrices: $\\bf{A,E,D}$  or $\\bf{\\bar A,\\bar E,\\bar D}$ \n",
    "3. Apply a solve function using the elements above to the data. "
   ]
  },
  {
   "cell_type": "markdown",
   "metadata": {
    "slideshow": {
     "slide_type": "skip"
    }
   },
   "source": [
    " \n",
    "\n",
    "### Normalized model"
   ]
  },
  {
   "cell_type": "markdown",
   "metadata": {
    "slideshow": {
     "slide_type": "skip"
    }
   },
   "source": [
    "\n",
    "#### Calculation, No contemporaneous feedback\n",
    "\n",
    "In systems with no lags each period can be solved in succession\n",
    "The equations has to be evaluated in a logical (topological sorted) order. "
   ]
  },
  {
   "cell_type": "markdown",
   "metadata": {
    "slideshow": {
     "slide_type": "skip"
    }
   },
   "source": [
    "Let $z$ be all predetermined values: all exogenous variable and lagged endogenous variable.\n",
    "\n",
    "Order the $n$ endogeneous variables in topological order.\n",
    "    \n",
    "For each time period we can find a solution by\n",
    "\n",
    "for $i$ = 1 to $n$ \n",
    "\n",
    ">$y_{i}^{k} = f_i(y_1^{k},\\cdots,y_{i-1}^{k},y_{i+1}^{k-1},\\cdots,y_{n}^{k-1},z)$\n"
   ]
  },
  {
   "cell_type": "markdown",
   "metadata": {
    "slideshow": {
     "slide_type": "skip"
    }
   },
   "source": [
    "#### The Gauss-Seidel algorithm. Normalized  models with contemporaneous feedback\n",
    "The Gauss-Seidel algorithm is quite straight forward. It basically iterate over the formulas, until convergence. \n",
    "\n",
    "let:<br>\n",
    "$z$ be all predetermined values: all exogenous variable and lagged endogenous variable.<br>\n",
    "$n$ be the number of endogenous variables.<br>\n",
    "$\\alpha$ dampening factor which can be applyed to selected equations\n",
    "\n",
    "\n",
    "   \n",
    "For each time period we can find a solution by doing Gauss-Seidel iterations: \n",
    "\n",
    "for $k = 1$ to convergence\n",
    "\n",
    ">for $i$ = 1 to $n$ \n",
    ">\n",
    ">>$y_{i}^{k} = (1-\\alpha) * y_{i}^{{k-1}} + \\alpha f_i(y_1^{k},\\cdots,y_{i-1}^{k},y_{i+1}^{k-1},\\cdots,y_{n}^{k-1},z)$"
   ]
  },
  {
   "cell_type": "markdown",
   "metadata": {
    "slideshow": {
     "slide_type": "skip"
    }
   },
   "source": [
    "#### The Newton-Raphson algorithme. Models with contemporaneous feedback\n",
    "\n",
    "Let $\\bf z$ be a vector all predetermined values: all exogenous variable and lagged endogenous variable.\n",
    "\n",
    "For each time period we can find a solution by doing Newton-Raphson iterations:<br>\n",
    "\n",
    "for $k = 1$ to convergence<br>\n",
    "\n",
    ">$\\bf y = \\bf {F(y^{k-1},z) }$\n",
    ">\n",
    ">$\\bf y^{k} =  \\bf y - \\alpha \\times  \\bf{(A-I)}^{-1} \\times ( \\bf {y - y^{k-1} })$\n",
    "\n",
    "The expression: $\\bf{(A-I)}^{-1}\\times  ( \\bf {y - y^{k-1} })$ is the same as the solution to: \n",
    "\n",
    "$\\bf {y- y^{k-1} } = \\bf (A-I) \\times \\bf x$\n",
    "\n",
    "This problem can be solved much more efficient than performing $\\bf{(A-I)}^{-1}\\times  ( \\bf {y - y^{k-1} })$\n",
    "\n",
    "The Scipy library provides a number of solvers to this linear set of equations. There are both solvers using  factorization and iterative methods, and there are solvers for dense and sparce matrices. All linear solvers  can easily be incorporated into ModelFlows Newton-Raphson nonlinear solver."
   ]
  },
  {
   "cell_type": "markdown",
   "metadata": {
    "slideshow": {
     "slide_type": "skip"
    }
   },
   "source": [
    "#### Stacked Newton-Raphson all  periods in one go. Models with both leaded and lagged endogeneous variable\n",
    "\n",
    "If the model has leaded endogenous variables it can in general not be solved one time period at a time. We have to solve the model for all time frames as one large model. \n",
    "\n",
    "$$\\bf{\\bar A} =\\begin{bmatrix} \n",
    "\t\t\\bf{A_1}   & \\bf{D_1^1} & \\bf{D_1^2} & \\bf{0}     &\\bf{0}      &\\bf{0}      &\\bf{0}      &\\bf{0}  \\\\\n",
    "        \\bf{E_2^1} & \\bf{A_2}   & \\bf{D_2^1} & \\bf{D_2^2} &\\bf{0}      &\\bf{0}      &\\bf{0}      &\\bf{0} \\\\       \n",
    "        \\bf{E_3^2} & \\bf{E_3^1} & \\bf{A_3}   & \\bf{D_3^1} & \\bf{D_3^2} &\\bf{0}      &\\bf{0}      &\\bf{0} \\\\       \n",
    "        \\bf{E_4^3} & \\bf{E_4^2} & \\bf{E_4^1} & \\bf{A_4}   & \\bf{D_4^1} & \\bf{D_4^2} &\\bf{0}      & \\bf{0} \\\\       \n",
    "        \\bf{0}     & \\bf{E_5^3} & \\bf{E_5^2} & \\bf{E_5^1} & \\bf{A_5}   & \\bf{D_5^1} & \\bf{D_5^2} &\\bf{0}\\\\       \n",
    "        \\bf{0}     & \\bf{0}     & \\bf{E_6^3} & \\bf{E_6^2} & \\bf{E_6^1} & \\bf{A_6}   & \\bf{D_6^1} & \\bf{D_6^2}\\\\       \n",
    "        \\bf{0}     & \\bf{0}     & \\bf{0}     & \\bf{E_7^3} & \\bf{E_7^2} & \\bf{E_7^1} & \\bf{A_7}   & \\bf{D_7^1} \\\\       \n",
    "        \\bf{0}     & \\bf{0}     & \\bf{0}     & \\bf{0}     & \\bf{E_8^3} & \\bf{E_8^2} & \\bf{E_8^1} & \\bf{A_8} \\\\       \n",
    "\\end{bmatrix} \\bar y = \\begin{bmatrix}\\bf{y_1}\\\\\\bf{y_2}\\\\\\bf{y_3}\\\\ \\bf{y_4} \\\\\\bf{y_5} \\\\\\bf{y_6} \\\\ \\bf{y_7} \\\\ \\bf{y_8} \\end{bmatrix} \\bar F = \\begin{bmatrix}\\bf{F}\\\\\\bf{F}\\\\\\bf{F}\\\\ \\bf{F} \\\\\\bf{F} \\\\\\bf{F} \\\\ \\bf{F} \\\\ \\bf{F} \\end{bmatrix}$$\n"
   ]
  },
  {
   "cell_type": "markdown",
   "metadata": {
    "slideshow": {
     "slide_type": "skip"
    }
   },
   "source": [
    "Now the solution algorithme looks like this. \n",
    "\n",
    "Again let $\\bf z$ be a vector all predetermined values: all exogenous variable and lagged endogenous variable.\n",
    "\n",
    ">for $k = 1$ to convergence<br>\n",
    ">>$\\bf{\\bar y} = \\bf {\\bar F(\\bar y^{k-1},\\bar z) }$<br>\n",
    ">>$\\bf {\\bar y^{k}} =  \\bf{\\bar y} - \\alpha \\times \\bf{(\\bar A-I)}^{-1}\\times ( \\bf {\\bar y - \\bar y^{k-1} })$\n",
    "\n",
    "Notice that the model $\\bf F$ is the same for all time periods.<br>\n",
    "However, as time can be an exogenous variable the result of $\\bf{F}$ can depend on time. This allows \n",
    "us to specify terminal conditions. \n",
    "\n",
    "The update frequency of $\\bf{\\bar A}$ and $\\alpha$ and the value of $\\alpha$ can be set to manage the speed and stability of the algorithm. \n",
    "\n",
    "We solve the problem: $$( \\bf {\\bar y - \\bar y^{k-1} }) = \\bf{(\\bar A-I)}\\times \\bf x $$ instead of inverting  $\\bf{A}$. \n",
    "\n",
    "Python gives access to very efficient sparse libraries. The [Scipy library](https://scipy.org/scipylib/index.html) utilizes the [Intel® Math Kernel Library](https://software.intel.com/en-us/mkl). Any of the available routines for solving linear systems can easily be incorporated. "
   ]
  },
  {
   "cell_type": "markdown",
   "metadata": {
    "slideshow": {
     "slide_type": "skip"
    }
   },
   "source": [
    "## Create a model instance which calculates the Jacobi matrices.\n",
    "The derivatives of all formulas with respect to all endogenous variables are needed.    \n",
    "\n",
    "First step is to specifying a model in the business logic language which calculate all the non-zero elements<br>\n",
    "In ModelFlow this can be done by **symbolic**, by **numerical differentiation** or by a combination.  \n",
    "\n",
    "\n",
    "The formula for calculating  $\\dfrac{\\partial{numerator }}{{\\partial denominator(-lag)}}$ is written as:                             \n",
    "\n",
    "\\< numerator  \\>\\_\\_p\\_\\_\\< denominator >\\_\\_lag\\_\\_\\< lag\\> = derivative expression\n",
    "\n",
    "Just another instance of a ModelFlow model class. "
   ]
  },
  {
   "cell_type": "markdown",
   "metadata": {
    "slideshow": {
     "slide_type": "skip"
    }
   },
   "source": [
    "### A small Solow model to show the construction of the Jacobi matrix. \n",
    "An example can be helpful<br> \n",
    "First a small model is defined - in this case a solow growth model: "
   ]
  },
  {
   "cell_type": "code",
   "execution_count": 43,
   "metadata": {
    "slideshow": {
     "slide_type": "skip"
    }
   },
   "outputs": [],
   "source": [
    "fsolow = '''\\\n",
    "Y         = a * k**alfa * l **(1-alfa) \n",
    "C         = (1-SAVING_RATIO)  * Y \n",
    "I         = Y - C \n",
    "diff(K)   = I-depreciates_rate * K(-1)\n",
    "diff(l)   = labor_growth * L(-1) \n",
    "K_i= K/L '''\n",
    "msolow = model.from_eq(fsolow)"
   ]
  },
  {
   "cell_type": "code",
   "execution_count": 44,
   "metadata": {
    "slideshow": {
     "slide_type": "skip"
    }
   },
   "outputs": [
    {
     "name": "stdout",
     "output_type": "stream",
     "text": [
      "FRML <> Y         = A * K**ALFA * L **(1-ALFA)  $\n",
      "FRML <> C         = (1-SAVING_RATIO)  * Y  $\n",
      "FRML <> I         = Y - C  $\n",
      "FRML <> K=K(-1)+(I-DEPRECIATES_RATE * K(-1))$\n",
      "FRML <> L=L(-1)+(LABOR_GROWTH * L(-1))$\n",
      "FRML <> K_I= K/L  $\n"
     ]
    }
   ],
   "source": [
    "print(msolow.equations)"
   ]
  },
  {
   "cell_type": "markdown",
   "metadata": {
    "slideshow": {
     "slide_type": "skip"
    }
   },
   "source": [
    "### Create some data and solve the model "
   ]
  },
  {
   "cell_type": "code",
   "execution_count": 45,
   "metadata": {
    "slideshow": {
     "slide_type": "skip"
    }
   },
   "outputs": [],
   "source": [
    "N = 100\n",
    "df = pd.DataFrame({'L':[100]*N,'K':[100]*N})\n",
    "df.loc[:,'ALFA'] = 0.5\n",
    "df.loc[:,'A'] = 1.\n",
    "df.loc[:,'DEPRECIATES_RATE'] = 0.05\n",
    "df.loc[:,'LABOR_GROWTH'] = 0.01\n",
    "df.loc[:,'SAVING_RATIO'] = 0.05\n",
    "msolow(df,max_iterations=100,first_test=10,silent=1);"
   ]
  },
  {
   "cell_type": "markdown",
   "metadata": {
    "slideshow": {
     "slide_type": "skip"
    }
   },
   "source": [
    "### Create an differentiation instance of the model\n",
    "Use symbolic differentiation when possible else use numerical differentiation.  "
   ]
  },
  {
   "cell_type": "code",
   "execution_count": 46,
   "metadata": {
    "slideshow": {
     "slide_type": "skip"
    }
   },
   "outputs": [],
   "source": [
    "from modelnewton import newton_diff\n",
    "msolow.smpl(3,5);  # we only want a few years "
   ]
  },
  {
   "cell_type": "markdown",
   "metadata": {
    "slideshow": {
     "slide_type": "skip"
    }
   },
   "source": [
    "### Symbolic differentiation "
   ]
  },
  {
   "cell_type": "code",
   "execution_count": 47,
   "metadata": {
    "slideshow": {
     "slide_type": "skip"
    }
   },
   "outputs": [
    {
     "name": "stdout",
     "output_type": "stream",
     "text": [
      "FRML  <> C__p__Y___lag___0 = 1-SAVING_RATIO   $\n",
      "FRML  <> I__p__C___lag___0 = -1   $\n",
      "FRML  <> I__p__Y___lag___0 = 1   $\n",
      "FRML  <> K__p__I___lag___0 = 1   $\n",
      "FRML  <> K__p__K___lag___1 = 1-DEPRECIATES_RATE   $\n",
      "FRML  <> K_I__p__K___lag___0 = 1/L   $\n",
      "FRML  <> K_I__p__L___lag___0 = -K/L**2   $\n",
      "FRML  <> L__p__L___lag___1 = LABOR_GROWTH+1   $\n",
      "FRML  <> Y__p__K___lag___0 = A*ALFA*K**ALFA*L**(1-ALFA)/K   $\n",
      "FRML  <> Y__p__L___lag___0 = A*K**ALFA*L**(1-ALFA)*(1-ALFA)/L   $\n"
     ]
    }
   ],
   "source": [
    "newton = newton_diff(msolow)\n",
    "print(newton.diff_model.equations) "
   ]
  },
  {
   "cell_type": "markdown",
   "metadata": {
    "slideshow": {
     "slide_type": "skip"
    }
   },
   "source": [
    "### Numerical differentiation "
   ]
  },
  {
   "cell_type": "code",
   "execution_count": 48,
   "metadata": {
    "slideshow": {
     "slide_type": "skip"
    }
   },
   "outputs": [
    {
     "name": "stdout",
     "output_type": "stream",
     "text": [
      "FRML  <> C__p__Y___lag___0 = (((1-SAVING_RATIO)*(Y+0.0025))-((1-SAVING_RATIO)*(Y-0.0025)))/0.005   $\n",
      "FRML  <> I__p__C___lag___0 = ((Y-(C+0.0025))-(Y-(C-0.0025)))/0.005   $\n",
      "FRML  <> I__p__Y___lag___0 = (((Y+0.0025)-C)-((Y-0.0025)-C))/0.005   $\n",
      "FRML  <> K__p__I___lag___0 = ((K(-1)+((I+0.0025)-DEPRECIATES_RATE*K(-1)))-(K(-1)+((I-0.0025)-DEPRECIATES_RATE*K(-1))))/0.005   $\n",
      "FRML  <> K__p__K___lag___1 = (((K(-1)+0.0025)+(I-DEPRECIATES_RATE*(K(-1)+0.0025)))-((K(-1)-0.0025)+(I-DEPRECIATES_RATE*(K(-1)-0.0025))))/0.005   $\n",
      "FRML  <> K_I__p__K___lag___0 = (((K+0.0025)/L)-((K-0.0025)/L))/0.005   $\n",
      "FRML  <> K_I__p__L___lag___0 = ((K/(L+0.0025))-(K/(L-0.0025)))/0.005   $\n",
      "FRML  <> L__p__L___lag___1 = (((L(-1)+0.0025)+(LABOR_GROWTH*(L(-1)+0.0025)))-((L(-1)-0.0025)+(LABOR_GROWTH*(L(-1)-0.0025))))/0.005   $\n",
      "FRML  <> Y__p__K___lag___0 = ((A*(K+0.0025)**ALFA*L**(1-ALFA))-(A*(K-0.0025)**ALFA*L**(1-ALFA)))/0.005   $\n",
      "FRML  <> Y__p__L___lag___0 = ((A*K**ALFA*(L+0.0025)**(1-ALFA))-(A*K**ALFA*(L-0.0025)**(1-ALFA)))/0.005   $\n"
     ]
    }
   ],
   "source": [
    "newton2 = newton_diff(msolow,forcenum=1)\n",
    "print(newton2.diff_model.equations)"
   ]
  },
  {
   "cell_type": "markdown",
   "metadata": {
    "slideshow": {
     "slide_type": "skip"
    }
   },
   "source": [
    "### Display the full stacked matrix\n",
    "To make the sparcity clear all zero values are shown as blank \n"
   ]
  },
  {
   "cell_type": "code",
   "execution_count": 49,
   "metadata": {
    "scrolled": false,
    "slideshow": {
     "slide_type": "skip"
    }
   },
   "outputs": [
    {
     "data": {
      "text/html": [
       "<div>\n",
       "<style scoped>\n",
       "    .dataframe tbody tr th:only-of-type {\n",
       "        vertical-align: middle;\n",
       "    }\n",
       "\n",
       "    .dataframe tbody tr th {\n",
       "        vertical-align: top;\n",
       "    }\n",
       "\n",
       "    .dataframe thead tr th {\n",
       "        text-align: left;\n",
       "    }\n",
       "\n",
       "    .dataframe thead tr:last-of-type th {\n",
       "        text-align: right;\n",
       "    }\n",
       "</style>\n",
       "<table border=\"1\" class=\"dataframe\">\n",
       "  <thead>\n",
       "    <tr>\n",
       "      <th></th>\n",
       "      <th>per</th>\n",
       "      <th colspan=\"6\" halign=\"left\">3</th>\n",
       "      <th colspan=\"6\" halign=\"left\">4</th>\n",
       "      <th colspan=\"6\" halign=\"left\">5</th>\n",
       "    </tr>\n",
       "    <tr>\n",
       "      <th></th>\n",
       "      <th>var</th>\n",
       "      <th>C</th>\n",
       "      <th>I</th>\n",
       "      <th>K</th>\n",
       "      <th>K_I</th>\n",
       "      <th>L</th>\n",
       "      <th>Y</th>\n",
       "      <th>C</th>\n",
       "      <th>I</th>\n",
       "      <th>K</th>\n",
       "      <th>K_I</th>\n",
       "      <th>L</th>\n",
       "      <th>Y</th>\n",
       "      <th>C</th>\n",
       "      <th>I</th>\n",
       "      <th>K</th>\n",
       "      <th>K_I</th>\n",
       "      <th>L</th>\n",
       "      <th>Y</th>\n",
       "    </tr>\n",
       "    <tr>\n",
       "      <th>per</th>\n",
       "      <th>var</th>\n",
       "      <th></th>\n",
       "      <th></th>\n",
       "      <th></th>\n",
       "      <th></th>\n",
       "      <th></th>\n",
       "      <th></th>\n",
       "      <th></th>\n",
       "      <th></th>\n",
       "      <th></th>\n",
       "      <th></th>\n",
       "      <th></th>\n",
       "      <th></th>\n",
       "      <th></th>\n",
       "      <th></th>\n",
       "      <th></th>\n",
       "      <th></th>\n",
       "      <th></th>\n",
       "      <th></th>\n",
       "    </tr>\n",
       "  </thead>\n",
       "  <tbody>\n",
       "    <tr>\n",
       "      <th rowspan=\"6\" valign=\"top\">3</th>\n",
       "      <th>C</th>\n",
       "      <td>-1.00</td>\n",
       "      <td></td>\n",
       "      <td></td>\n",
       "      <td></td>\n",
       "      <td></td>\n",
       "      <td>0.95</td>\n",
       "      <td></td>\n",
       "      <td></td>\n",
       "      <td></td>\n",
       "      <td></td>\n",
       "      <td></td>\n",
       "      <td></td>\n",
       "      <td></td>\n",
       "      <td></td>\n",
       "      <td></td>\n",
       "      <td></td>\n",
       "      <td></td>\n",
       "      <td></td>\n",
       "    </tr>\n",
       "    <tr>\n",
       "      <th>I</th>\n",
       "      <td>-1.00</td>\n",
       "      <td>-1.00</td>\n",
       "      <td></td>\n",
       "      <td></td>\n",
       "      <td></td>\n",
       "      <td>1.00</td>\n",
       "      <td></td>\n",
       "      <td></td>\n",
       "      <td></td>\n",
       "      <td></td>\n",
       "      <td></td>\n",
       "      <td></td>\n",
       "      <td></td>\n",
       "      <td></td>\n",
       "      <td></td>\n",
       "      <td></td>\n",
       "      <td></td>\n",
       "      <td></td>\n",
       "    </tr>\n",
       "    <tr>\n",
       "      <th>K</th>\n",
       "      <td></td>\n",
       "      <td>1.00</td>\n",
       "      <td>-1.00</td>\n",
       "      <td></td>\n",
       "      <td></td>\n",
       "      <td></td>\n",
       "      <td></td>\n",
       "      <td></td>\n",
       "      <td></td>\n",
       "      <td></td>\n",
       "      <td></td>\n",
       "      <td></td>\n",
       "      <td></td>\n",
       "      <td></td>\n",
       "      <td></td>\n",
       "      <td></td>\n",
       "      <td></td>\n",
       "      <td></td>\n",
       "    </tr>\n",
       "    <tr>\n",
       "      <th>K_I</th>\n",
       "      <td></td>\n",
       "      <td></td>\n",
       "      <td>0.01</td>\n",
       "      <td>-1.00</td>\n",
       "      <td>-0.01</td>\n",
       "      <td></td>\n",
       "      <td></td>\n",
       "      <td></td>\n",
       "      <td></td>\n",
       "      <td></td>\n",
       "      <td></td>\n",
       "      <td></td>\n",
       "      <td></td>\n",
       "      <td></td>\n",
       "      <td></td>\n",
       "      <td></td>\n",
       "      <td></td>\n",
       "      <td></td>\n",
       "    </tr>\n",
       "    <tr>\n",
       "      <th>L</th>\n",
       "      <td></td>\n",
       "      <td></td>\n",
       "      <td></td>\n",
       "      <td></td>\n",
       "      <td>-1.00</td>\n",
       "      <td></td>\n",
       "      <td></td>\n",
       "      <td></td>\n",
       "      <td></td>\n",
       "      <td></td>\n",
       "      <td></td>\n",
       "      <td></td>\n",
       "      <td></td>\n",
       "      <td></td>\n",
       "      <td></td>\n",
       "      <td></td>\n",
       "      <td></td>\n",
       "      <td></td>\n",
       "    </tr>\n",
       "    <tr>\n",
       "      <th>Y</th>\n",
       "      <td></td>\n",
       "      <td></td>\n",
       "      <td>0.51</td>\n",
       "      <td></td>\n",
       "      <td>0.49</td>\n",
       "      <td>-1.00</td>\n",
       "      <td></td>\n",
       "      <td></td>\n",
       "      <td></td>\n",
       "      <td></td>\n",
       "      <td></td>\n",
       "      <td></td>\n",
       "      <td></td>\n",
       "      <td></td>\n",
       "      <td></td>\n",
       "      <td></td>\n",
       "      <td></td>\n",
       "      <td></td>\n",
       "    </tr>\n",
       "    <tr>\n",
       "      <th rowspan=\"6\" valign=\"top\">4</th>\n",
       "      <th>C</th>\n",
       "      <td></td>\n",
       "      <td></td>\n",
       "      <td></td>\n",
       "      <td></td>\n",
       "      <td></td>\n",
       "      <td></td>\n",
       "      <td>-1.00</td>\n",
       "      <td></td>\n",
       "      <td></td>\n",
       "      <td></td>\n",
       "      <td></td>\n",
       "      <td>0.95</td>\n",
       "      <td></td>\n",
       "      <td></td>\n",
       "      <td></td>\n",
       "      <td></td>\n",
       "      <td></td>\n",
       "      <td></td>\n",
       "    </tr>\n",
       "    <tr>\n",
       "      <th>I</th>\n",
       "      <td></td>\n",
       "      <td></td>\n",
       "      <td></td>\n",
       "      <td></td>\n",
       "      <td></td>\n",
       "      <td></td>\n",
       "      <td>-1.00</td>\n",
       "      <td>-1.00</td>\n",
       "      <td></td>\n",
       "      <td></td>\n",
       "      <td></td>\n",
       "      <td>1.00</td>\n",
       "      <td></td>\n",
       "      <td></td>\n",
       "      <td></td>\n",
       "      <td></td>\n",
       "      <td></td>\n",
       "      <td></td>\n",
       "    </tr>\n",
       "    <tr>\n",
       "      <th>K</th>\n",
       "      <td></td>\n",
       "      <td></td>\n",
       "      <td>0.95</td>\n",
       "      <td></td>\n",
       "      <td></td>\n",
       "      <td></td>\n",
       "      <td></td>\n",
       "      <td>1.00</td>\n",
       "      <td>-1.00</td>\n",
       "      <td></td>\n",
       "      <td></td>\n",
       "      <td></td>\n",
       "      <td></td>\n",
       "      <td></td>\n",
       "      <td></td>\n",
       "      <td></td>\n",
       "      <td></td>\n",
       "      <td></td>\n",
       "    </tr>\n",
       "    <tr>\n",
       "      <th>K_I</th>\n",
       "      <td></td>\n",
       "      <td></td>\n",
       "      <td></td>\n",
       "      <td></td>\n",
       "      <td></td>\n",
       "      <td></td>\n",
       "      <td></td>\n",
       "      <td></td>\n",
       "      <td>0.01</td>\n",
       "      <td>-1.00</td>\n",
       "      <td>-0.01</td>\n",
       "      <td></td>\n",
       "      <td></td>\n",
       "      <td></td>\n",
       "      <td></td>\n",
       "      <td></td>\n",
       "      <td></td>\n",
       "      <td></td>\n",
       "    </tr>\n",
       "    <tr>\n",
       "      <th>L</th>\n",
       "      <td></td>\n",
       "      <td></td>\n",
       "      <td></td>\n",
       "      <td></td>\n",
       "      <td>1.01</td>\n",
       "      <td></td>\n",
       "      <td></td>\n",
       "      <td></td>\n",
       "      <td></td>\n",
       "      <td></td>\n",
       "      <td>-1.00</td>\n",
       "      <td></td>\n",
       "      <td></td>\n",
       "      <td></td>\n",
       "      <td></td>\n",
       "      <td></td>\n",
       "      <td></td>\n",
       "      <td></td>\n",
       "    </tr>\n",
       "    <tr>\n",
       "      <th>Y</th>\n",
       "      <td></td>\n",
       "      <td></td>\n",
       "      <td></td>\n",
       "      <td></td>\n",
       "      <td></td>\n",
       "      <td></td>\n",
       "      <td></td>\n",
       "      <td></td>\n",
       "      <td>0.51</td>\n",
       "      <td></td>\n",
       "      <td>0.49</td>\n",
       "      <td>-1.00</td>\n",
       "      <td></td>\n",
       "      <td></td>\n",
       "      <td></td>\n",
       "      <td></td>\n",
       "      <td></td>\n",
       "      <td></td>\n",
       "    </tr>\n",
       "    <tr>\n",
       "      <th rowspan=\"6\" valign=\"top\">5</th>\n",
       "      <th>C</th>\n",
       "      <td></td>\n",
       "      <td></td>\n",
       "      <td></td>\n",
       "      <td></td>\n",
       "      <td></td>\n",
       "      <td></td>\n",
       "      <td></td>\n",
       "      <td></td>\n",
       "      <td></td>\n",
       "      <td></td>\n",
       "      <td></td>\n",
       "      <td></td>\n",
       "      <td>-1.00</td>\n",
       "      <td></td>\n",
       "      <td></td>\n",
       "      <td></td>\n",
       "      <td></td>\n",
       "      <td>0.95</td>\n",
       "    </tr>\n",
       "    <tr>\n",
       "      <th>I</th>\n",
       "      <td></td>\n",
       "      <td></td>\n",
       "      <td></td>\n",
       "      <td></td>\n",
       "      <td></td>\n",
       "      <td></td>\n",
       "      <td></td>\n",
       "      <td></td>\n",
       "      <td></td>\n",
       "      <td></td>\n",
       "      <td></td>\n",
       "      <td></td>\n",
       "      <td>-1.00</td>\n",
       "      <td>-1.00</td>\n",
       "      <td></td>\n",
       "      <td></td>\n",
       "      <td></td>\n",
       "      <td>1.00</td>\n",
       "    </tr>\n",
       "    <tr>\n",
       "      <th>K</th>\n",
       "      <td></td>\n",
       "      <td></td>\n",
       "      <td></td>\n",
       "      <td></td>\n",
       "      <td></td>\n",
       "      <td></td>\n",
       "      <td></td>\n",
       "      <td></td>\n",
       "      <td>0.95</td>\n",
       "      <td></td>\n",
       "      <td></td>\n",
       "      <td></td>\n",
       "      <td></td>\n",
       "      <td>1.00</td>\n",
       "      <td>-1.00</td>\n",
       "      <td></td>\n",
       "      <td></td>\n",
       "      <td></td>\n",
       "    </tr>\n",
       "    <tr>\n",
       "      <th>K_I</th>\n",
       "      <td></td>\n",
       "      <td></td>\n",
       "      <td></td>\n",
       "      <td></td>\n",
       "      <td></td>\n",
       "      <td></td>\n",
       "      <td></td>\n",
       "      <td></td>\n",
       "      <td></td>\n",
       "      <td></td>\n",
       "      <td></td>\n",
       "      <td></td>\n",
       "      <td></td>\n",
       "      <td></td>\n",
       "      <td>0.01</td>\n",
       "      <td>-1.00</td>\n",
       "      <td>-0.01</td>\n",
       "      <td></td>\n",
       "    </tr>\n",
       "    <tr>\n",
       "      <th>L</th>\n",
       "      <td></td>\n",
       "      <td></td>\n",
       "      <td></td>\n",
       "      <td></td>\n",
       "      <td></td>\n",
       "      <td></td>\n",
       "      <td></td>\n",
       "      <td></td>\n",
       "      <td></td>\n",
       "      <td></td>\n",
       "      <td>1.01</td>\n",
       "      <td></td>\n",
       "      <td></td>\n",
       "      <td></td>\n",
       "      <td></td>\n",
       "      <td></td>\n",
       "      <td>-1.00</td>\n",
       "      <td></td>\n",
       "    </tr>\n",
       "    <tr>\n",
       "      <th>Y</th>\n",
       "      <td></td>\n",
       "      <td></td>\n",
       "      <td></td>\n",
       "      <td></td>\n",
       "      <td></td>\n",
       "      <td></td>\n",
       "      <td></td>\n",
       "      <td></td>\n",
       "      <td></td>\n",
       "      <td></td>\n",
       "      <td></td>\n",
       "      <td></td>\n",
       "      <td></td>\n",
       "      <td></td>\n",
       "      <td>0.51</td>\n",
       "      <td></td>\n",
       "      <td>0.49</td>\n",
       "      <td>-1.00</td>\n",
       "    </tr>\n",
       "  </tbody>\n",
       "</table>\n",
       "</div>"
      ],
      "text/plain": [
       "per          3                                         4                       \\\n",
       "var          C      I      K    K_I      L      Y      C      I      K    K_I   \n",
       "per var                                                                         \n",
       "3   C    -1.00                               0.95                               \n",
       "    I    -1.00  -1.00                        1.00                               \n",
       "    K            1.00  -1.00                                                    \n",
       "    K_I                 0.01  -1.00  -0.01                                      \n",
       "    L                                -1.00                                      \n",
       "    Y                   0.51          0.49  -1.00                               \n",
       "4   C                                              -1.00                        \n",
       "    I                                              -1.00  -1.00                 \n",
       "    K                   0.95                               1.00  -1.00          \n",
       "    K_I                                                           0.01  -1.00   \n",
       "    L                                 1.01                                      \n",
       "    Y                                                             0.51          \n",
       "5   C                                                                           \n",
       "    I                                                                           \n",
       "    K                                                             0.95          \n",
       "    K_I                                                                         \n",
       "    L                                                                           \n",
       "    Y                                                                           \n",
       "\n",
       "per                        5                                     \n",
       "var          L      Y      C      I      K    K_I      L      Y  \n",
       "per var                                                          \n",
       "3   C                                                            \n",
       "    I                                                            \n",
       "    K                                                            \n",
       "    K_I                                                          \n",
       "    L                                                            \n",
       "    Y                                                            \n",
       "4   C            0.95                                            \n",
       "    I            1.00                                            \n",
       "    K                                                            \n",
       "    K_I  -0.01                                                   \n",
       "    L    -1.00                                                   \n",
       "    Y     0.49  -1.00                                            \n",
       "5   C                  -1.00                               0.95  \n",
       "    I                  -1.00  -1.00                        1.00  \n",
       "    K                          1.00  -1.00                       \n",
       "    K_I                               0.01  -1.00  -0.01         \n",
       "    L     1.01                                     -1.00         \n",
       "    Y                                 0.51          0.49  -1.00  "
      ]
     },
     "execution_count": 49,
     "metadata": {},
     "output_type": "execute_result"
    }
   ],
   "source": [
    "stacked_df = newton.get_diff_df_tot()\n",
    "stacked_df.applymap(lambda x:f'{x:,.2f}' if x != 0.0 else ' ') "
   ]
  },
  {
   "cell_type": "markdown",
   "metadata": {
    "slideshow": {
     "slide_type": "skip"
    }
   },
   "source": [
    "## Speeding up solving through Just In Time compilation (Numba)\n",
    "Python is an interpreted language. So slow\n",
    "\n",
    "\n",
    "\n",
    "\n",
    "**Numba** is a Just In time Compiler.<br>\n",
    "Experience with a Danish model (1700 equations) shows a speedup from 5 million floating point \n",
    "operations per second (MFlops) to 800 MFlops. But compilation takes time.  \n",
    "\n",
    "Also experiments with the **Cython** library has been performed. This library will translate the Python code to C++ code. Then a C++ compiler can compile the code and the run time will be improved a lot. \n",
    "\n",
    "Also matrices can be used. This will force the use of the highly optimized routines in the \n",
    "Numpy library. "
   ]
  },
  {
   "cell_type": "markdown",
   "metadata": {
    "slideshow": {
     "slide_type": "skip"
    }
   },
   "source": [
    "## Specification of model in Business Logic Language\n",
    "The Business logic Language is a Python like language, where each function $f_i$ from above is specified as:\n",
    "\n",
    "```\n",
    "FRML <options> <left hand side> = <right hand side> $ ... \n",
    "```\n",
    "\n",
    "The ```<left hand side>``` should not contain transformations, but can be a tuple which match the ```<right hand side>```. A  \\$ separates each formular.\n",
    "\n",
    "Time is implicit, so $var_t$ is written as ```var```, while $var_{t-1}$ is written as ```var(-1)``` and $var_{t+1}$ is written as ```var(+1)```. Case does not matter. everything is eventual made into upper case. \n",
    "\n",
    "It is important to be able to create short and expressive models, therefor. Stress test models should be able to handle many bank and sectors without repeating text. So on top of the **Business logic language**. there is a **Macro Business Logic language**. The primary goal of this is to allow (conditional) looping and normalization of formulas.   \n",
    "\n",
    "The user can specify any conforming python function on the right hand side"
   ]
  },
  {
   "cell_type": "markdown",
   "metadata": {
    "slideshow": {
     "slide_type": "slide"
    }
   },
   "source": [
    "# Onboarding a model \n",
    "**Python has incredible strong tools both for interacting with other systems like Excel and Matlab. Some of the sources, from which models has been recycled are: \n",
    "\n",
    "- Latex \n",
    "    - Model written in Latex - with some rules to allow text processing. \n",
    "- Eviews\n",
    "- Excel \n",
    "    - Calculation model from Excel workbook  \n",
    "    - Grabbing coefficients from excel workbooks \n",
    "- Matlab \n",
    "    - Wrapping matlab models into python functions, which can be used in ModelFlow  \n",
    "    - Grabbing coefficients from matlab .mat files. \n",
    "- Aremos models \n",
    "- TSP models \n",
    "\n",
    "Grabbing models and transforming them to Business logic language usually requires a tailor-made Python program. However in the ModelFlow folder there are different examples of such grabbing. "
   ]
  },
  {
   "cell_type": "markdown",
   "metadata": {
    "slideshow": {
     "slide_type": "skip"
    }
   },
   "source": [
    "## The model structure\n",
    "\n",
    "The logical structure of a model is useful for several reasons. \n",
    "\n",
    "The structure of **contemporaneous endogenous variable** is used to establish the calculation sequence and identify simultaneous systems (strong graphcomponents). \n",
    "\n",
    "The structure of a model can be seen as a directed graph. All variables are node in the graph. \n",
    "If a variable $b$ is on the right side of the formula defining variable $a$ there is an edge from $b$ to $a$. "
   ]
  },
  {
   "cell_type": "markdown",
   "metadata": {
    "slideshow": {
     "slide_type": "skip"
    }
   },
   "source": [
    "### First we define the nodes (vertices) of the dependency graph.\n",
    "\n",
    "The set of nodes is the set of relevant variables. Actually we want to look \n",
    "at **two dependency graphs**: one containing *all variables*, \n",
    "and one only containing *endogenous contemporaneous variable* (the $y^j_t$'s). So we define two sets S and E:\n",
    "\n",
    "**All endogenous, exogenous, contemporaneous and lagged variables**\n",
    "\n",
    "$S=\\{y^j_{t-i}|j=1..n,i=1..r   \\} \\cup \\{x^j_{t-i}|j=1..k,i=1..s   \\}$ "
   ]
  },
  {
   "cell_type": "markdown",
   "metadata": {
    "slideshow": {
     "slide_type": "skip"
    }
   },
   "source": [
    "**Contemporaneous endogenous variables**\n",
    "\n",
    "$E=\\{y^j_{t}|j=1..n    \\}$ \n",
    "\n",
    "\n",
    "Naturally:\n",
    "$E \\subseteq S$"
   ]
  },
  {
   "cell_type": "markdown",
   "metadata": {
    "slideshow": {
     "slide_type": "skip"
    }
   },
   "source": [
    "### Then we define the edges of the dependency graph.  \n",
    "Again two sets are relevant: \n",
    "\n",
    "**From all variables to contemporaneous endogenous variables**\n",
    "\n",
    "$T = \\{(a,b) | a \\in E, b \\in S\\}$ a is on the right side of b "
   ]
  },
  {
   "cell_type": "markdown",
   "metadata": {
    "slideshow": {
     "slide_type": "skip"
    }
   },
   "source": [
    "### And we can construct useful dependency graphs\n",
    "The we can define a graph TG which defines the data dependency of the model:\n",
    "\n",
    "$TG = (S,T)$ The graph defined by nodes S and edges T.\n",
    "\n",
    "TG can be used when exploring the dependencies in the model. This is useful for the user when drilling down the results. "
   ]
  },
  {
   "cell_type": "markdown",
   "metadata": {
    "slideshow": {
     "slide_type": "skip"
    }
   },
   "source": [
    "However for preparing the solution a smaller graph has to be used. When solving the model for a specific period both exogenous and lagged endogenous variables are predetermined. Therefor we define the the dependency graph for contemporaneous endogenous variables:\n",
    "\n",
    "$TE = (E,T_e)$ The graph defined by nodes $S$ and edges $T_e$.\n",
    "\n",
    "TE is used to determine if the model is simultaneous or not. \n",
    "\n",
    "If the model is not simultaneous, then TE have no cycles, that is, it is a \n",
    "Directed Acyclical Graph (DAG). Then we can find an order in which the formulas can\n",
    "be calculated. This is called a topological order. \n",
    "\n",
    "The topological order is a linear ordering of nodes (vertices) such that for every edge (v,u), node v comes before u in the ordering. \n",
    "\n",
    "A topological order is created by doing a topological sort of TE.   \n",
    "\n",
    "If TE, the dependency graph associated with F is **not** a Directed Acyclical Graph (A DAG).\n",
    "Then F has contemporaneous feedback and is simultaneous. Or - in Excel speak - the \n",
    "model has circular references. And we need to use an iterative methods to solve the model. Sometime a model contains several simultaneous blocks. Then each block is a strong element of the graph. Each formula which is not part of a simultaneous bloc is in itself a strong element. \n",
    "\n",
    "A condensed graph where each strong element is condensed to a node is a DAG. \n",
    "So the condensed graph have a topological order. This can be used when solving the model. \n",
    "\n",
    "The dependency graphs are constructed, analyzed and manipulated through the **Networkx** Python library. "
   ]
  },
  {
   "cell_type": "markdown",
   "metadata": {
    "slideshow": {
     "slide_type": "skip"
    }
   },
   "source": [
    "####  Total dependency graphs\n",
    "This shows $TG$ mentioned above. "
   ]
  },
  {
   "cell_type": "code",
   "execution_count": 50,
   "metadata": {
    "slideshow": {
     "slide_type": "skip"
    }
   },
   "outputs": [
    {
     "data": {
      "image/svg+xml": [
       "<svg xmlns=\"http://www.w3.org/2000/svg\" xmlns:xlink=\"http://www.w3.org/1999/xlink\" width=\"432pt\" height=\"221pt\" viewBox=\"0.00 0.00 432.00 220.57\">\n",
       "<g id=\"graph0\" class=\"graph\" transform=\"scale(0.735945 0.735945) rotate(0) translate(4 295.714)\">\n",
       "<title>TD</title>\n",
       "<polygon fill=\"white\" stroke=\"none\" points=\"-4,4 -4,-295.714 583,-295.714 583,4 -4,4\"/>\n",
       "<text text-anchor=\"middle\" x=\"289.5\" y=\"-7.8\" font-family=\"Times New Roman,serif\" font-size=\"14.00\">Total graph</text>\n",
       "<!-- DEPRECIATES_RATE -->\n",
       "<g id=\"node1\" class=\"node\"><title>DEPRECIATES_RATE</title>\n",
       "<g id=\"a_node1\"><a xlink:title=\"DEPRECIATES_RATE\n",
       "Exogen\">\n",
       "<polygon fill=\"yellow\" stroke=\"black\" points=\"154,-275 0,-275 0,-239 154,-239 154,-275\"/>\n",
       "<text text-anchor=\"start\" x=\"6\" y=\"-252.8\" font-family=\"Times New Roman,serif\" font-size=\"14.00\" fill=\"blue\">DEPRECIATES_RATE:</text>\n",
       "</a>\n",
       "</g>\n",
       "</g>\n",
       "<!-- K -->\n",
       "<g id=\"node5\" class=\"node\"><title>K</title>\n",
       "<g id=\"a_node5\"><a xlink:title=\"K\n",
       "FRML &lt;&gt; K=K(-1)+(I-DEPRECIATES_RATE * K(-1))$\">\n",
       "<polygon fill=\"#63b8ff\" stroke=\"black\" points=\"244,-275 190,-275 190,-239 244,-239 244,-275\"/>\n",
       "<text text-anchor=\"start\" x=\"211\" y=\"-252.8\" font-family=\"Times New Roman,serif\" font-size=\"14.00\" fill=\"blue\">K:</text>\n",
       "</a>\n",
       "</g>\n",
       "</g>\n",
       "<!-- DEPRECIATES_RATE&#45;&gt;K -->\n",
       "<g id=\"edge11\" class=\"edge\"><title>DEPRECIATES_RATE-&gt;K</title>\n",
       "<g id=\"a_edge11\"><a xlink:href=\"bogus\" xlink:title=\" DEPRECIATES_RATE -&gt; K Min. att. 0%  max: 0%\">\n",
       "<path fill=\"none\" stroke=\"black\" d=\"M154.265,-257C163.194,-257 171.958,-257 179.952,-257\"/>\n",
       "<polygon fill=\"black\" stroke=\"black\" points=\"179.965,-260.5 189.965,-257 179.965,-253.5 179.965,-260.5\"/>\n",
       "</a>\n",
       "</g>\n",
       "</g>\n",
       "<!-- Y -->\n",
       "<g id=\"node2\" class=\"node\"><title>Y</title>\n",
       "<g id=\"a_node2\"><a xlink:title=\"Y\n",
       "FRML &lt;&gt; Y         = A * K**ALFA * L **(1-ALFA)  $\">\n",
       "<polygon fill=\"#63b8ff\" stroke=\"black\" points=\"366.5,-221 312.5,-221 312.5,-185 366.5,-185 366.5,-221\"/>\n",
       "<text text-anchor=\"start\" x=\"333.5\" y=\"-198.8\" font-family=\"Times New Roman,serif\" font-size=\"14.00\" fill=\"blue\">Y:</text>\n",
       "</a>\n",
       "</g>\n",
       "</g>\n",
       "<!-- I -->\n",
       "<g id=\"node4\" class=\"node\"><title>I</title>\n",
       "<g id=\"a_node4\"><a xlink:title=\"I\n",
       "FRML &lt;&gt; I         = Y - C  $\">\n",
       "<polygon fill=\"#63b8ff\" stroke=\"black\" points=\"579,-244 525,-244 525,-208 579,-208 579,-244\"/>\n",
       "<text text-anchor=\"start\" x=\"548\" y=\"-221.8\" font-family=\"Times New Roman,serif\" font-size=\"14.00\" fill=\"blue\">I:</text>\n",
       "</a>\n",
       "</g>\n",
       "</g>\n",
       "<!-- Y&#45;&gt;I -->\n",
       "<g id=\"edge2\" class=\"edge\"><title>Y-&gt;I</title>\n",
       "<g id=\"a_edge2\"><a xlink:href=\"bogus\" xlink:title=\" Y -&gt; I Min. att. 0%  max: 0%\">\n",
       "<path fill=\"none\" stroke=\"black\" d=\"M366.734,-205.866C404.022,-209.941 472.491,-217.422 514.65,-222.028\"/>\n",
       "<polygon fill=\"black\" stroke=\"black\" points=\"514.445,-225.527 524.766,-223.134 515.206,-218.568 514.445,-225.527\"/>\n",
       "</a>\n",
       "</g>\n",
       "</g>\n",
       "<!-- C -->\n",
       "<g id=\"node10\" class=\"node\"><title>C</title>\n",
       "<g id=\"a_node10\"><a xlink:title=\"C\n",
       "FRML &lt;&gt; C         = (1-SAVING_RATIO)  * Y  $\">\n",
       "<polygon fill=\"#63b8ff\" stroke=\"black\" points=\"489,-198 435,-198 435,-162 489,-162 489,-198\"/>\n",
       "<text text-anchor=\"start\" x=\"456\" y=\"-175.8\" font-family=\"Times New Roman,serif\" font-size=\"14.00\" fill=\"blue\">C:</text>\n",
       "</a>\n",
       "</g>\n",
       "</g>\n",
       "<!-- Y&#45;&gt;C -->\n",
       "<g id=\"edge5\" class=\"edge\"><title>Y-&gt;C</title>\n",
       "<g id=\"a_edge5\"><a xlink:href=\"bogus\" xlink:title=\" Y -&gt; C Min. att. 0%  max: 0%\">\n",
       "<path fill=\"none\" stroke=\"black\" d=\"M366.647,-198.009C383.7,-194.754 406.19,-190.462 424.934,-186.884\"/>\n",
       "<polygon fill=\"black\" stroke=\"black\" points=\"425.738,-190.294 434.904,-184.981 424.425,-183.418 425.738,-190.294\"/>\n",
       "</a>\n",
       "</g>\n",
       "</g>\n",
       "<!-- A -->\n",
       "<g id=\"node3\" class=\"node\"><title>A</title>\n",
       "<g id=\"a_node3\"><a xlink:title=\"A\n",
       "Exogen\">\n",
       "<polygon fill=\"yellow\" stroke=\"black\" points=\"244,-221 190,-221 190,-185 244,-185 244,-221\"/>\n",
       "<text text-anchor=\"start\" x=\"211\" y=\"-198.8\" font-family=\"Times New Roman,serif\" font-size=\"14.00\" fill=\"blue\">A:</text>\n",
       "</a>\n",
       "</g>\n",
       "</g>\n",
       "<!-- A&#45;&gt;Y -->\n",
       "<g id=\"edge3\" class=\"edge\"><title>A-&gt;Y</title>\n",
       "<g id=\"a_edge3\"><a xlink:href=\"bogus\" xlink:title=\" A -&gt; Y Min. att. 0%  max: 0%\">\n",
       "<path fill=\"none\" stroke=\"black\" d=\"M244.147,-203C261.122,-203 283.481,-203 302.174,-203\"/>\n",
       "<polygon fill=\"black\" stroke=\"black\" points=\"302.404,-206.5 312.404,-203 302.404,-199.5 302.404,-206.5\"/>\n",
       "</a>\n",
       "</g>\n",
       "</g>\n",
       "<!-- I&#45;&gt;K -->\n",
       "<g id=\"edge6\" class=\"edge\"><title>I-&gt;K</title>\n",
       "<g id=\"a_edge6\"><a xlink:href=\"bogus\" xlink:title=\" I -&gt; K Min. att. 0%  max: 0%\">\n",
       "<path fill=\"none\" stroke=\"black\" d=\"M524.946,-239.314C495.333,-253.637 445.11,-275.502 399,-284 346.987,-293.586 331.778,-294.785 280,-284 271.065,-282.139 261.839,-278.918 253.322,-275.335\"/>\n",
       "<polygon fill=\"black\" stroke=\"black\" points=\"254.619,-272.081 244.062,-271.189 251.759,-278.47 254.619,-272.081\"/>\n",
       "</a>\n",
       "</g>\n",
       "</g>\n",
       "<!-- K&#45;&gt;Y -->\n",
       "<g id=\"edge10\" class=\"edge\"><title>K-&gt;Y</title>\n",
       "<g id=\"a_edge10\"><a xlink:href=\"bogus\" xlink:title=\" K -&gt; Y Min. att. 0%  max: 0%\">\n",
       "<path fill=\"none\" stroke=\"black\" d=\"M244.147,-245.283C261.437,-237.534 284.315,-227.282 303.213,-218.813\"/>\n",
       "<polygon fill=\"black\" stroke=\"black\" points=\"304.71,-221.978 312.404,-214.694 301.847,-215.59 304.71,-221.978\"/>\n",
       "</a>\n",
       "</g>\n",
       "</g>\n",
       "<!-- K_I -->\n",
       "<g id=\"node9\" class=\"node\"><title>K_I</title>\n",
       "<g id=\"a_node9\"><a xlink:title=\"K_I\n",
       "FRML &lt;&gt; K_I= K/L  $\">\n",
       "<polygon fill=\"#63b8ff\" stroke=\"black\" points=\"366.5,-167 312.5,-167 312.5,-131 366.5,-131 366.5,-167\"/>\n",
       "<text text-anchor=\"start\" x=\"327.5\" y=\"-144.8\" font-family=\"Times New Roman,serif\" font-size=\"14.00\" fill=\"blue\">K_I:</text>\n",
       "</a>\n",
       "</g>\n",
       "</g>\n",
       "<!-- K&#45;&gt;K_I -->\n",
       "<g id=\"edge17\" class=\"edge\"><title>K-&gt;K_I</title>\n",
       "<g id=\"a_edge17\"><a xlink:href=\"bogus\" xlink:title=\" K -&gt; K_I Min. att. 0%  max: 0%\">\n",
       "<path fill=\"none\" stroke=\"black\" d=\"M236.356,-238.808C239.007,-235.936 241.635,-232.941 244,-230 262.076,-207.522 258.08,-194.749 280,-176 286.721,-170.251 294.87,-165.478 302.924,-161.626\"/>\n",
       "<polygon fill=\"black\" stroke=\"black\" points=\"304.502,-164.756 312.245,-157.525 301.682,-158.349 304.502,-164.756\"/>\n",
       "</a>\n",
       "</g>\n",
       "</g>\n",
       "<!-- K(&#45;1) -->\n",
       "<g id=\"node11\" class=\"node\"><title>K(-1)</title>\n",
       "<g id=\"a_node11\"><a xlink:title=\"K\n",
       "FRML &lt;&gt; K=K(-1)+(I-DEPRECIATES_RATE * K(-1))$\">\n",
       "<polygon fill=\"springgreen\" stroke=\"black\" points=\"367,-275 312,-275 312,-239 367,-239 367,-275\"/>\n",
       "<text text-anchor=\"start\" x=\"318.5\" y=\"-252.8\" font-family=\"Times New Roman,serif\" font-size=\"14.00\" fill=\"blue\">K(-1):K</text>\n",
       "</a>\n",
       "</g>\n",
       "</g>\n",
       "<!-- K&#45;&gt;K(&#45;1) -->\n",
       "<g id=\"edge4\" class=\"edge\"><title>K-&gt;K(-1)</title>\n",
       "<g id=\"a_edge4\"><a xlink:href=\"bogus\" xlink:title=\" K -&gt; K(-1) Min. att. 0%  max: 0%\">\n",
       "<path fill=\"none\" stroke=\"black\" d=\"M244.147,-251.322C261.005,-250.129 283.175,-249.932 301.789,-250.73\"/>\n",
       "<polygon fill=\"black\" stroke=\"black\" points=\"301.81,-254.237 311.988,-251.296 302.197,-247.248 301.81,-254.237\"/>\n",
       "</a>\n",
       "</g>\n",
       "</g>\n",
       "<!-- L(&#45;1) -->\n",
       "<g id=\"node6\" class=\"node\"><title>L(-1)</title>\n",
       "<g id=\"a_node6\"><a xlink:title=\"L\n",
       "FRML &lt;&gt; L=L(-1)+(LABOR_GROWTH * L(-1))$\">\n",
       "<polygon fill=\"springgreen\" stroke=\"black\" points=\"366.5,-59 312.5,-59 312.5,-23 366.5,-23 366.5,-59\"/>\n",
       "<text text-anchor=\"start\" x=\"319.5\" y=\"-36.8\" font-family=\"Times New Roman,serif\" font-size=\"14.00\" fill=\"blue\">L(-1):L</text>\n",
       "</a>\n",
       "</g>\n",
       "</g>\n",
       "<!-- L -->\n",
       "<g id=\"node12\" class=\"node\"><title>L</title>\n",
       "<g id=\"a_node12\"><a xlink:title=\"L\n",
       "FRML &lt;&gt; L=L(-1)+(LABOR_GROWTH * L(-1))$\">\n",
       "<polygon fill=\"#63b8ff\" stroke=\"black\" points=\"244,-86 190,-86 190,-50 244,-50 244,-86\"/>\n",
       "<text text-anchor=\"start\" x=\"211\" y=\"-63.8\" font-family=\"Times New Roman,serif\" font-size=\"14.00\" fill=\"blue\">L:</text>\n",
       "</a>\n",
       "</g>\n",
       "</g>\n",
       "<!-- L(&#45;1)&#45;&gt;L -->\n",
       "<g id=\"edge9\" class=\"edge\"><title>L(-1)-&gt;L</title>\n",
       "<g id=\"a_edge9\"><a xlink:href=\"bogus\" xlink:title=\"NA\">\n",
       "<path fill=\"none\" stroke=\"black\" stroke-width=\"0.5\" d=\"M312.404,-52.522C295.361,-57.5493 272.874,-62.7777 254.122,-66.1502\"/>\n",
       "<polygon fill=\"black\" stroke=\"black\" stroke-width=\"0.5\" points=\"253.432,-62.7169 244.147,-67.8198 254.587,-69.6209 253.432,-62.7169\"/>\n",
       "</a>\n",
       "</g>\n",
       "</g>\n",
       "<!-- LABOR_GROWTH -->\n",
       "<g id=\"node7\" class=\"node\"><title>LABOR_GROWTH</title>\n",
       "<g id=\"a_node7\"><a xlink:title=\"LABOR_GROWTH\n",
       "Exogen\">\n",
       "<polygon fill=\"yellow\" stroke=\"black\" points=\"143.5,-86 10.5,-86 10.5,-50 143.5,-50 143.5,-86\"/>\n",
       "<text text-anchor=\"start\" x=\"17\" y=\"-63.8\" font-family=\"Times New Roman,serif\" font-size=\"14.00\" fill=\"blue\">LABOR_GROWTH:</text>\n",
       "</a>\n",
       "</g>\n",
       "</g>\n",
       "<!-- LABOR_GROWTH&#45;&gt;L -->\n",
       "<g id=\"edge16\" class=\"edge\"><title>LABOR_GROWTH-&gt;L</title>\n",
       "<g id=\"a_edge16\"><a xlink:href=\"bogus\" xlink:title=\" LABOR_GROWTH -&gt; L Min. att. 0%  max: 0%\">\n",
       "<path fill=\"none\" stroke=\"black\" d=\"M143.767,-68C156.182,-68 168.737,-68 179.82,-68\"/>\n",
       "<polygon fill=\"black\" stroke=\"black\" points=\"179.942,-71.5001 189.942,-68 179.942,-64.5001 179.942,-71.5001\"/>\n",
       "</a>\n",
       "</g>\n",
       "</g>\n",
       "<!-- SAVING_RATIO -->\n",
       "<g id=\"node8\" class=\"node\"><title>SAVING_RATIO</title>\n",
       "<g id=\"a_node8\"><a xlink:title=\"SAVING_RATIO\n",
       "Exogen\">\n",
       "<polygon fill=\"yellow\" stroke=\"black\" points=\"399,-113 280,-113 280,-77 399,-77 399,-113\"/>\n",
       "<text text-anchor=\"start\" x=\"286.5\" y=\"-90.8\" font-family=\"Times New Roman,serif\" font-size=\"14.00\" fill=\"blue\">SAVING_RATIO:</text>\n",
       "</a>\n",
       "</g>\n",
       "</g>\n",
       "<!-- SAVING_RATIO&#45;&gt;C -->\n",
       "<g id=\"edge12\" class=\"edge\"><title>SAVING_RATIO-&gt;C</title>\n",
       "<g id=\"a_edge12\"><a xlink:href=\"bogus\" xlink:title=\" SAVING_RATIO -&gt; C Min. att. 0%  max: 0%\">\n",
       "<path fill=\"none\" stroke=\"black\" d=\"M383.854,-113.086C389.098,-115.828 394.267,-118.815 399,-122 412.811,-131.292 426.503,-143.674 437.493,-154.611\"/>\n",
       "<polygon fill=\"black\" stroke=\"black\" points=\"435.137,-157.207 444.638,-161.896 440.135,-152.306 435.137,-157.207\"/>\n",
       "</a>\n",
       "</g>\n",
       "</g>\n",
       "<!-- C&#45;&gt;I -->\n",
       "<g id=\"edge15\" class=\"edge\"><title>C-&gt;I</title>\n",
       "<g id=\"a_edge15\"><a xlink:href=\"bogus\" xlink:title=\" C -&gt; I Min. att. 0%  max: 0%\">\n",
       "<path fill=\"none\" stroke=\"black\" d=\"M489.403,-193.802C497.744,-198.162 507.096,-203.05 515.944,-207.675\"/>\n",
       "<polygon fill=\"black\" stroke=\"black\" points=\"514.435,-210.836 524.919,-212.367 517.678,-204.632 514.435,-210.836\"/>\n",
       "</a>\n",
       "</g>\n",
       "</g>\n",
       "<!-- K(&#45;1)&#45;&gt;K -->\n",
       "<g id=\"edge7\" class=\"edge\"><title>K(-1)-&gt;K</title>\n",
       "<g id=\"a_edge7\"><a xlink:href=\"bogus\" xlink:title=\"NA\">\n",
       "<path fill=\"none\" stroke=\"black\" stroke-width=\"0.5\" d=\"M311.988,-262.704C295.054,-263.882 272.871,-264.065 254.309,-263.252\"/>\n",
       "<polygon fill=\"black\" stroke=\"black\" stroke-width=\"0.5\" points=\"254.328,-259.748 244.147,-262.678 253.933,-266.737 254.328,-259.748\"/>\n",
       "</a>\n",
       "</g>\n",
       "</g>\n",
       "<!-- L&#45;&gt;Y -->\n",
       "<g id=\"edge13\" class=\"edge\"><title>L-&gt;Y</title>\n",
       "<g id=\"a_edge13\"><a xlink:href=\"bogus\" xlink:title=\" L -&gt; Y Min. att. 0%  max: 0%\">\n",
       "<path fill=\"none\" stroke=\"black\" d=\"M226.689,-86.0797C239.994,-113.196 265.405,-162.646 280,-176 286.584,-182.024 294.746,-186.916 302.863,-190.796\"/>\n",
       "<polygon fill=\"black\" stroke=\"black\" points=\"301.708,-194.11 312.273,-194.893 304.502,-187.692 301.708,-194.11\"/>\n",
       "</a>\n",
       "</g>\n",
       "</g>\n",
       "<!-- L&#45;&gt;L(&#45;1) -->\n",
       "<g id=\"edge14\" class=\"edge\"><title>L-&gt;L(-1)</title>\n",
       "<g id=\"a_edge14\"><a xlink:href=\"bogus\" xlink:title=\" L -&gt; L(-1) Min. att. 0%  max: 0%\">\n",
       "<path fill=\"none\" stroke=\"black\" d=\"M244.147,-56.463C261.2,-51.4353 283.69,-46.2085 302.434,-42.8397\"/>\n",
       "<polygon fill=\"black\" stroke=\"black\" points=\"303.119,-46.274 312.404,-41.1724 301.964,-39.3698 303.119,-46.274\"/>\n",
       "</a>\n",
       "</g>\n",
       "</g>\n",
       "<!-- L&#45;&gt;K_I -->\n",
       "<g id=\"edge8\" class=\"edge\"><title>L-&gt;K_I</title>\n",
       "<g id=\"a_edge8\"><a xlink:href=\"bogus\" xlink:title=\" L -&gt; K_I Min. att. 0%  max: 0%\">\n",
       "<path fill=\"none\" stroke=\"black\" d=\"M235.882,-86.0214C247.708,-97.2982 263.943,-111.606 280,-122 287.143,-126.624 295.207,-130.884 303.013,-134.588\"/>\n",
       "<polygon fill=\"black\" stroke=\"black\" points=\"301.775,-137.87 312.327,-138.817 304.669,-131.496 301.775,-137.87\"/>\n",
       "</a>\n",
       "</g>\n",
       "</g>\n",
       "<!-- ALFA -->\n",
       "<g id=\"node13\" class=\"node\"><title>ALFA</title>\n",
       "<g id=\"a_node13\"><a xlink:title=\"ALFA\n",
       "Exogen\">\n",
       "<polygon fill=\"yellow\" stroke=\"black\" points=\"244,-167 190,-167 190,-131 244,-131 244,-167\"/>\n",
       "<text text-anchor=\"start\" x=\"197\" y=\"-144.8\" font-family=\"Times New Roman,serif\" font-size=\"14.00\" fill=\"blue\">ALFA:</text>\n",
       "</a>\n",
       "</g>\n",
       "</g>\n",
       "<!-- ALFA&#45;&gt;Y -->\n",
       "<g id=\"edge1\" class=\"edge\"><title>ALFA-&gt;Y</title>\n",
       "<g id=\"a_edge1\"><a xlink:href=\"bogus\" xlink:title=\" ALFA -&gt; Y Min. att. 0%  max: 0%\">\n",
       "<path fill=\"none\" stroke=\"black\" d=\"M244.147,-160.717C261.437,-168.466 284.315,-178.718 303.213,-187.187\"/>\n",
       "<polygon fill=\"black\" stroke=\"black\" points=\"301.847,-190.41 312.404,-191.306 304.71,-184.022 301.847,-190.41\"/>\n",
       "</a>\n",
       "</g>\n",
       "</g>\n",
       "</g>\n",
       "</svg>"
      ],
      "text/plain": [
       "<IPython.core.display.SVG object>"
      ]
     },
     "metadata": {},
     "output_type": "display_data"
    }
   ],
   "source": [
    "msolow.drawmodel(title='Total graph',all=0)"
   ]
  },
  {
   "cell_type": "markdown",
   "metadata": {
    "slideshow": {
     "slide_type": "skip"
    }
   },
   "source": [
    "### The dependency graph for contemporaneous endogenous variables (TE)"
   ]
  },
  {
   "cell_type": "code",
   "execution_count": 51,
   "metadata": {
    "slideshow": {
     "slide_type": "skip"
    }
   },
   "outputs": [
    {
     "data": {
      "image/svg+xml": [
       "<svg xmlns=\"http://www.w3.org/2000/svg\" xmlns:xlink=\"http://www.w3.org/1999/xlink\" width=\"432pt\" height=\"123pt\" viewBox=\"0.00 0.00 432.00 123.19\">\n",
       "<g id=\"graph0\" class=\"graph\" transform=\"scale(0.84375 0.84375) rotate(0) translate(4 142.002)\">\n",
       "<title>TD</title>\n",
       "<polygon fill=\"white\" stroke=\"none\" points=\"-4,4 -4,-142.002 508,-142.002 508,4 -4,4\"/>\n",
       "<text text-anchor=\"middle\" x=\"252\" y=\"-7.8\" font-family=\"Times New Roman,serif\" font-size=\"14.00\">Contemporaneous endo</text>\n",
       "<!-- Y -->\n",
       "<g id=\"node1\" class=\"node\"><title>Y</title>\n",
       "<g id=\"a_node1\"><a xlink:title=\"Y\n",
       "FRML &lt;&gt; Y         = A * K**ALFA * L **(1-ALFA)  $\">\n",
       "<polygon fill=\"#63b8ff\" stroke=\"black\" points=\"144,-106 90,-106 90,-70 144,-70 144,-106\"/>\n",
       "<text text-anchor=\"start\" x=\"111\" y=\"-83.8\" font-family=\"Times New Roman,serif\" font-size=\"14.00\" fill=\"blue\">Y:</text>\n",
       "</a>\n",
       "</g>\n",
       "</g>\n",
       "<!-- I -->\n",
       "<g id=\"node2\" class=\"node\"><title>I</title>\n",
       "<g id=\"a_node2\"><a xlink:title=\"I\n",
       "FRML &lt;&gt; I         = Y - C  $\">\n",
       "<polygon fill=\"#63b8ff\" stroke=\"black\" points=\"324,-125 270,-125 270,-89 324,-89 324,-125\"/>\n",
       "<text text-anchor=\"start\" x=\"293\" y=\"-102.8\" font-family=\"Times New Roman,serif\" font-size=\"14.00\" fill=\"blue\">I:</text>\n",
       "</a>\n",
       "</g>\n",
       "</g>\n",
       "<!-- Y&#45;&gt;I -->\n",
       "<g id=\"edge1\" class=\"edge\"><title>Y-&gt;I</title>\n",
       "<g id=\"a_edge1\"><a xlink:href=\"bogus\" xlink:title=\" Y -&gt; I Min. att. 0%  max: 0%\">\n",
       "<path fill=\"none\" stroke=\"black\" d=\"M135.724,-106.015C147.243,-116.392 163.202,-128.449 180,-134 206.455,-142.742 237.2,-134.801 260.388,-125.317\"/>\n",
       "<polygon fill=\"black\" stroke=\"black\" points=\"262.06,-128.406 269.828,-121.202 259.263,-121.989 262.06,-128.406\"/>\n",
       "</a>\n",
       "</g>\n",
       "</g>\n",
       "<!-- C -->\n",
       "<g id=\"node4\" class=\"node\"><title>C</title>\n",
       "<g id=\"a_node4\"><a xlink:title=\"C\n",
       "FRML &lt;&gt; C         = (1-SAVING_RATIO)  * Y  $\">\n",
       "<polygon fill=\"#63b8ff\" stroke=\"black\" points=\"234,-125 180,-125 180,-89 234,-89 234,-125\"/>\n",
       "<text text-anchor=\"start\" x=\"201\" y=\"-102.8\" font-family=\"Times New Roman,serif\" font-size=\"14.00\" fill=\"blue\">C:</text>\n",
       "</a>\n",
       "</g>\n",
       "</g>\n",
       "<!-- Y&#45;&gt;C -->\n",
       "<g id=\"edge3\" class=\"edge\"><title>Y-&gt;C</title>\n",
       "<g id=\"a_edge3\"><a xlink:href=\"bogus\" xlink:title=\" Y -&gt; C Min. att. 0%  max: 0%\">\n",
       "<path fill=\"none\" stroke=\"black\" d=\"M144.403,-93.7006C152.481,-95.4448 161.507,-97.3935 170.105,-99.2499\"/>\n",
       "<polygon fill=\"black\" stroke=\"black\" points=\"169.406,-102.68 179.919,-101.369 170.883,-95.8372 169.406,-102.68\"/>\n",
       "</a>\n",
       "</g>\n",
       "</g>\n",
       "<!-- K -->\n",
       "<g id=\"node6\" class=\"node\"><title>K</title>\n",
       "<g id=\"a_node6\"><a xlink:title=\"K\n",
       "FRML &lt;&gt; K=K(-1)+(I-DEPRECIATES_RATE * K(-1))$\">\n",
       "<polygon fill=\"#63b8ff\" stroke=\"black\" points=\"414,-87 360,-87 360,-51 414,-51 414,-87\"/>\n",
       "<text text-anchor=\"start\" x=\"381\" y=\"-64.8\" font-family=\"Times New Roman,serif\" font-size=\"14.00\" fill=\"blue\">K:</text>\n",
       "</a>\n",
       "</g>\n",
       "</g>\n",
       "<!-- I&#45;&gt;K -->\n",
       "<g id=\"edge2\" class=\"edge\"><title>I-&gt;K</title>\n",
       "<g id=\"a_edge2\"><a xlink:href=\"bogus\" xlink:title=\" I -&gt; K Min. att. 0%  max: 0%\">\n",
       "<path fill=\"none\" stroke=\"black\" d=\"M324.403,-95.5987C332.657,-92.0346 341.9,-88.0434 350.665,-84.2584\"/>\n",
       "<polygon fill=\"black\" stroke=\"black\" points=\"352.126,-87.4399 359.919,-80.2623 349.351,-81.0135 352.126,-87.4399\"/>\n",
       "</a>\n",
       "</g>\n",
       "</g>\n",
       "<!-- K_I -->\n",
       "<g id=\"node3\" class=\"node\"><title>K_I</title>\n",
       "<g id=\"a_node3\"><a xlink:title=\"K_I\n",
       "FRML &lt;&gt; K_I= K/L  $\">\n",
       "<polygon fill=\"#63b8ff\" stroke=\"black\" points=\"504,-64 450,-64 450,-28 504,-28 504,-64\"/>\n",
       "<text text-anchor=\"start\" x=\"465\" y=\"-41.8\" font-family=\"Times New Roman,serif\" font-size=\"14.00\" fill=\"blue\">K_I:</text>\n",
       "</a>\n",
       "</g>\n",
       "</g>\n",
       "<!-- C&#45;&gt;I -->\n",
       "<g id=\"edge7\" class=\"edge\"><title>C-&gt;I</title>\n",
       "<g id=\"a_edge7\"><a xlink:href=\"bogus\" xlink:title=\" C -&gt; I Min. att. 0%  max: 0%\">\n",
       "<path fill=\"none\" stroke=\"black\" d=\"M234.403,-107C242.393,-107 251.311,-107 259.824,-107\"/>\n",
       "<polygon fill=\"black\" stroke=\"black\" points=\"259.919,-110.5 269.919,-107 259.919,-103.5 259.919,-110.5\"/>\n",
       "</a>\n",
       "</g>\n",
       "</g>\n",
       "<!-- L -->\n",
       "<g id=\"node5\" class=\"node\"><title>L</title>\n",
       "<g id=\"a_node5\"><a xlink:title=\"L\n",
       "FRML &lt;&gt; L=L(-1)+(LABOR_GROWTH * L(-1))$\">\n",
       "<polygon fill=\"#63b8ff\" stroke=\"black\" points=\"54,-73 0,-73 0,-37 54,-37 54,-73\"/>\n",
       "<text text-anchor=\"start\" x=\"21\" y=\"-50.8\" font-family=\"Times New Roman,serif\" font-size=\"14.00\" fill=\"blue\">L:</text>\n",
       "</a>\n",
       "</g>\n",
       "</g>\n",
       "<!-- L&#45;&gt;Y -->\n",
       "<g id=\"edge6\" class=\"edge\"><title>L-&gt;Y</title>\n",
       "<g id=\"a_edge6\"><a xlink:href=\"bogus\" xlink:title=\" L -&gt; Y Min. att. 0%  max: 0%\">\n",
       "<path fill=\"none\" stroke=\"black\" d=\"M54.4029,-64.9011C62.5689,-67.9633 71.703,-71.3886 80.3848,-74.6443\"/>\n",
       "<polygon fill=\"black\" stroke=\"black\" points=\"79.3267,-77.9855 89.919,-78.2196 81.7846,-71.4312 79.3267,-77.9855\"/>\n",
       "</a>\n",
       "</g>\n",
       "</g>\n",
       "<!-- L&#45;&gt;K_I -->\n",
       "<g id=\"edge4\" class=\"edge\"><title>L-&gt;K_I</title>\n",
       "<g id=\"a_edge4\"><a xlink:href=\"bogus\" xlink:title=\" L -&gt; K_I Min. att. 0%  max: 0%\">\n",
       "<path fill=\"none\" stroke=\"black\" d=\"M54.2728,-47.2537C88.7693,-37.7832 151.367,-23 206,-23 206,-23 206,-23 298,-23 347.489,-23 404.083,-31.8526 439.919,-38.5735\"/>\n",
       "<polygon fill=\"black\" stroke=\"black\" points=\"439.416,-42.0409 449.897,-40.4909 440.737,-35.1667 439.416,-42.0409\"/>\n",
       "</a>\n",
       "</g>\n",
       "</g>\n",
       "<!-- K&#45;&gt;Y -->\n",
       "<g id=\"edge5\" class=\"edge\"><title>K-&gt;Y</title>\n",
       "<g id=\"a_edge5\"><a xlink:href=\"bogus\" xlink:title=\" K -&gt; Y Min. att. 0%  max: 0%\">\n",
       "<path fill=\"none\" stroke=\"black\" d=\"M359.94,-69.7651C320.805,-71.0557 244.558,-74.1197 180,-80 171.624,-80.7629 162.638,-81.797 154.179,-82.8681\"/>\n",
       "<polygon fill=\"black\" stroke=\"black\" points=\"153.658,-79.4064 144.198,-84.1774 154.568,-86.347 153.658,-79.4064\"/>\n",
       "</a>\n",
       "</g>\n",
       "</g>\n",
       "<!-- K&#45;&gt;K_I -->\n",
       "<g id=\"edge8\" class=\"edge\"><title>K-&gt;K_I</title>\n",
       "<g id=\"a_edge8\"><a xlink:href=\"bogus\" xlink:title=\" K -&gt; K_I Min. att. 0%  max: 0%\">\n",
       "<path fill=\"none\" stroke=\"black\" d=\"M414.403,-62.0992C422.481,-59.9879 431.507,-57.6289 440.105,-55.3818\"/>\n",
       "<polygon fill=\"black\" stroke=\"black\" points=\"441.129,-58.7316 449.919,-52.8166 439.359,-51.9591 441.129,-58.7316\"/>\n",
       "</a>\n",
       "</g>\n",
       "</g>\n",
       "</g>\n",
       "</svg>"
      ],
      "text/plain": [
       "<IPython.core.display.SVG object>"
      ]
     },
     "metadata": {},
     "output_type": "display_data"
    }
   ],
   "source": [
    "msolow.drawendo(title='Contemporaneous endo')"
   ]
  },
  {
   "cell_type": "markdown",
   "metadata": {
    "slideshow": {
     "slide_type": "skip"
    }
   },
   "source": [
    "#### And the adjacency matrix of the graph\n",
    "The graph can also be represented as a adjacency matrix. This is a is a square matrix A. $A_{i,j}$  is one when there is an edge from node i to node j, and zero when there is no edge.\n",
    "\n",
    "If the graph is a DAG the adjacency matrix, and the elements are in a topological order, is a lover triangular matrix. "
   ]
  },
  {
   "cell_type": "code",
   "execution_count": 52,
   "metadata": {
    "slideshow": {
     "slide_type": "skip"
    }
   },
   "outputs": [
    {
     "data": {
      "image/png": "[encoded data removed]",
      "text/plain": [
       "<Figure size 576x576 with 1 Axes>"
      ]
     },
     "metadata": {
      "needs_background": "light"
     },
     "output_type": "display_data"
    }
   ],
   "source": [
    "a = msolow.plotadjacency(size=(8,8))"
   ]
  },
  {
   "cell_type": "markdown",
   "metadata": {
    "slideshow": {
     "slide_type": "skip"
    }
   },
   "source": [
    "## Solution ordering \n",
    "\n",
    "### For normalized models: \n",
    "For a model **without contemporaneous feedback**, the topoligical sorted order is then used as calculating order. \n",
    "\n",
    "For a model **with contemporaneous feedback** and no leaded variables, ModelFlow divides a model into three parts. A recursive **prolog** model, a recursive **epilog** model, the rest is the simultaneous **core** model. Inside the core model the ordering of the equations are preserved.  It may be that the core model contains several strong componens, which each could be solved as a simultanous system, however it is solved as one simultanous system.  \n",
    "\n",
    "Only the core model is solved as a simultaneous system. The prolog model is calculated once before the solving og the simultaneous system, the epilog model is calculated once after the solution of the simultanous system. \n",
    "For most models this significantly reduce the computational burden of solving the model. \n",
    "\n",
    "For a model with leaded variables where the model is stacked. All  equations are created equal. "
   ]
  },
  {
   "cell_type": "code",
   "execution_count": 53,
   "metadata": {
    "slideshow": {
     "slide_type": "skip"
    }
   },
   "outputs": [
    {
     "name": "stdout",
     "output_type": "stream",
     "text": [
      "The prolog variables ['L']\n",
      "The core   variables ['Y', 'C', 'I', 'K']\n",
      "The epilog variables ['K_I']\n"
     ]
    }
   ],
   "source": [
    "# The preorder\n",
    "print(f'The prolog variables {msolow.preorder}')\n",
    "print(f'The core   variables {msolow.coreorder}')\n",
    "print(f'The epilog variables {msolow.epiorder}')"
   ]
  },
  {
   "cell_type": "markdown",
   "metadata": {
    "slideshow": {
     "slide_type": "skip"
    }
   },
   "source": [
    "# Some Model manipulation capabilities  "
   ]
  },
  {
   "cell_type": "markdown",
   "metadata": {
    "slideshow": {
     "slide_type": "skip"
    }
   },
   "source": [
    "## Model inversion aka Target/instruments or Goal Seek \n",
    "In ordet to answer questions like: \n",
    "\n",
    "- How much capital has to be injected in order to maintain a certain GDP level in a stressed scenario? \n",
    "- How much loans has to be shredded by the banks in order to maintain a minimum level of capital (slim to fit)? \n",
    "- How much capital has to be injected in order to keep all bank above a certain capital threshold ?\n",
    "- What probability of transmission result in infected 2 weeks later "
   ]
  },
  {
   "cell_type": "markdown",
   "metadata": {
    "slideshow": {
     "slide_type": "skip"
    }
   },
   "source": [
    "The model instance is capable to **\"invert\"** a model. To use the terminology of Tinbergen(1955) that is to calculate the value of some exogenous variables - **the instruments** which is required in order to achieve a certain target value for some endogenous variables - **the targets**. \n",
    "\n",
    "To use the terminology of Excel it is a goal/seek functionality with multiple cells as goals and multiple cells as targets.  "
   ]
  },
  {
   "cell_type": "markdown",
   "metadata": {
    "slideshow": {
     "slide_type": "skip"
    }
   },
   "source": [
    "The problem can be thought as follows: From the generic description of a model: $\\textbf{y}_t= \\textbf{F}(\\textbf{x}_{t})$. Here $\\textbf{x}_{t}$ are all predetermined variables - lagged endogenous and all exogenous variables. \n",
    "\n",
    "It can be useful to allow a **delay**, when finding the instruments. In this case we want to look at  $\\textbf{y}_t= \\textbf{F}(\\textbf{x}_{t-delay})$ \n",
    "\n",
    "Think of a condensed model ($\\textbf{G}$) with a few endogenous variables($\\bar{\\textbf{y}}_t$):\n",
    "the targets and a few exogenous variables($\\bar{\\textbf{x}}_{t-delay}$): the instrument variables. All the rest of the predetermined variables are fixed:  \n",
    "$\\bar{\\textbf{y}}_t= \\textbf{G}(\\bar{\\textbf{x}}_{t-delay})$\n",
    "\n",
    "If we invert G we have a model where  instruments are functions of targets:\n",
    "$\\bar{\\textbf{x}_{t-delay}}= \\textbf{G}^{-1}(\\bar{\\textbf{y}_{t}})$. Then all we have to do is to find\n",
    "$\\textbf{G}^{-1}(\\bar{\\textbf{y}_{t}})$\n",
    "\n",
    "The approximated Jacobi matrix of $\\textbf{G}$ : \n",
    "$\\textbf{J}_t \\approx \\frac{\\Delta \\textbf{G} }{\\Delta \\bar{\\textbf{x}}_{t-delay}}$ is used to find the instruments"
   ]
  },
  {
   "cell_type": "markdown",
   "metadata": {
    "slideshow": {
     "slide_type": "skip"
    }
   },
   "source": [
    "### And how to solve for the instruments \n",
    "For most models $\\bar{\\textbf{x}}_{t-delay}= \\textbf{G}^{-1}(\\bar{\\textbf{y}_{t}})$ do not have a nice close form solution. However it can be solved numerically. We  turn to Newton–Raphson method.\n",
    "\n",
    "So $\\bar{\\textbf{x}}_{t-delay}= \\textbf{G}^{-1}(\\bar{\\textbf{y}_{t}^*})$ will be found using :\n",
    "\n",
    "for $k$ = 1 to convergence  \n",
    "\n",
    ">$\\bar{\\textbf{x}}_{t-delay,end}^k= \\bar{\\textbf{x}}_{t-delay,end}^{k-1}+ \\textbf{J}^{-1}_t \\times (\\bar{\\textbf{y}_{t}^*}-\n",
    "\\bar{\\textbf{y}_{t}}^{k-1})$\n",
    "\n",
    ">$\\bar{\\textbf{y}}_t^{k}= \\textbf{G}(\\bar{\\textbf{x}}_{t-delay}^{k})$\n",
    "\n",
    "convergence: $\\mid\\bar{\\textbf{y}_{t}^*}-\n",
    "\\bar{\\textbf{y}_{t}}\n",
    "\\mid\\leq \\epsilon$\n",
    "\n",
    "Now we just need to find: \n",
    "\n",
    "$\\textbf{J}_t = \\frac{\\partial \\textbf{G} }{\\partial \\bar{\\textbf{x}}_{t-delay}}$\n",
    "\n",
    "A number of differentiation methods can be used (symbolic, automated or numerical). ModelFlow uses numerical differentiation, as it is quite simple and fast.\n",
    "\n",
    "$\\textbf{J}_t \\approx \\frac{\\Delta \\textbf{G} }{\\Delta \\bar{\\textbf{x}}_{t-delay}}$\n",
    "\n",
    "That means that we should run the model one time for each instrument, and record the \n",
    "effect on each of the targets, then we have $\\textbf{J}_t$ \n",
    "\n",
    "In order for $\\textbf{J}_t$ to be invertible there has to be the same number of targets and instruments. \n",
    "\n",
    "However, each instrument can be a basket of exogenous variable. They will be adjusted in fixed proportions. This can be useful for instance when using bank leverage as instruments. Then the leverage instrument can consist of several loan types.  \n",
    "\n",
    "You will notice that the level of $\\bar{\\textbf{x}}$ is updated (by  $\\textbf{J}^{-1}_t \\times (\\bar{\\textbf{y}_{t}^*}-\n",
    "\\bar{\\textbf{y}_{t}}^{k-1})$) in all periods from $t-delay$ to $end$, where $end$ is the last timeframe in the dataframe. This is useful for many applications including calibration of disease spreading models and in economic models, where the instruments are level variable (i.e. not change variables). If this is not suitable, it can be changed in a future release. \n",
    "\n",
    "The target/instrument functionality is implemented in the python class `targets_instruments` specified in **ModelFlows** `modelinvert` module.  "
   ]
  },
  {
   "cell_type": "markdown",
   "metadata": {
    "slideshow": {
     "slide_type": "skip"
    }
   },
   "source": [
    "### An example\n",
    "The workflow is as follow:\n",
    "\n",
    "1.  Define the targets\n",
    "2.  Define the instruments \n",
    "3.  Create a target_instrument class istance\n",
    "4. Solve the problem \n",
    "\n",
    "Step one is to define the targets. This is done by creating a dataframe where the target values are set. "
   ]
  },
  {
   "cell_type": "code",
   "execution_count": 54,
   "metadata": {
    "slideshow": {
     "slide_type": "skip"
    }
   },
   "outputs": [
    {
     "data": {
      "text/html": [
       "<div>\n",
       "<style scoped>\n",
       "    .dataframe tbody tr th:only-of-type {\n",
       "        vertical-align: middle;\n",
       "    }\n",
       "\n",
       "    .dataframe tbody tr th {\n",
       "        vertical-align: top;\n",
       "    }\n",
       "\n",
       "    .dataframe thead th {\n",
       "        text-align: right;\n",
       "    }\n",
       "</style>\n",
       "<table border=\"1\" class=\"dataframe\">\n",
       "  <thead>\n",
       "    <tr style=\"text-align: right;\">\n",
       "      <th></th>\n",
       "      <th>L</th>\n",
       "      <th>K</th>\n",
       "      <th>ALFA</th>\n",
       "      <th>A</th>\n",
       "      <th>DEPRECIATES_RATE</th>\n",
       "      <th>LABOR_GROWTH</th>\n",
       "      <th>SAVING_RATIO</th>\n",
       "      <th>Y</th>\n",
       "      <th>C</th>\n",
       "      <th>I</th>\n",
       "      <th>K_I</th>\n",
       "    </tr>\n",
       "  </thead>\n",
       "  <tbody>\n",
       "    <tr>\n",
       "      <th>0</th>\n",
       "      <td>100.000000</td>\n",
       "      <td>100.000000</td>\n",
       "      <td>0.5</td>\n",
       "      <td>1.0</td>\n",
       "      <td>0.05</td>\n",
       "      <td>0.01</td>\n",
       "      <td>0.05</td>\n",
       "      <td>0.000000</td>\n",
       "      <td>0.000000</td>\n",
       "      <td>0.000000</td>\n",
       "      <td>0.000000</td>\n",
       "    </tr>\n",
       "    <tr>\n",
       "      <th>1</th>\n",
       "      <td>101.000000</td>\n",
       "      <td>100.025580</td>\n",
       "      <td>0.5</td>\n",
       "      <td>1.0</td>\n",
       "      <td>0.05</td>\n",
       "      <td>0.01</td>\n",
       "      <td>0.05</td>\n",
       "      <td>100.511609</td>\n",
       "      <td>95.486029</td>\n",
       "      <td>5.025580</td>\n",
       "      <td>0.990352</td>\n",
       "    </tr>\n",
       "    <tr>\n",
       "      <th>2</th>\n",
       "      <td>102.010000</td>\n",
       "      <td>100.076226</td>\n",
       "      <td>0.5</td>\n",
       "      <td>1.0</td>\n",
       "      <td>0.05</td>\n",
       "      <td>0.01</td>\n",
       "      <td>0.05</td>\n",
       "      <td>101.038487</td>\n",
       "      <td>95.986562</td>\n",
       "      <td>5.051924</td>\n",
       "      <td>0.981043</td>\n",
       "    </tr>\n",
       "    <tr>\n",
       "      <th>3</th>\n",
       "      <td>103.030100</td>\n",
       "      <td>100.151443</td>\n",
       "      <td>0.5</td>\n",
       "      <td>1.0</td>\n",
       "      <td>0.05</td>\n",
       "      <td>0.01</td>\n",
       "      <td>0.05</td>\n",
       "      <td>101.580575</td>\n",
       "      <td>96.501546</td>\n",
       "      <td>5.079029</td>\n",
       "      <td>0.972060</td>\n",
       "    </tr>\n",
       "    <tr>\n",
       "      <th>4</th>\n",
       "      <td>104.060401</td>\n",
       "      <td>100.250762</td>\n",
       "      <td>0.5</td>\n",
       "      <td>1.0</td>\n",
       "      <td>0.05</td>\n",
       "      <td>0.01</td>\n",
       "      <td>0.05</td>\n",
       "      <td>102.137821</td>\n",
       "      <td>97.030930</td>\n",
       "      <td>5.106891</td>\n",
       "      <td>0.963390</td>\n",
       "    </tr>\n",
       "    <tr>\n",
       "      <th>...</th>\n",
       "      <td>...</td>\n",
       "      <td>...</td>\n",
       "      <td>...</td>\n",
       "      <td>...</td>\n",
       "      <td>...</td>\n",
       "      <td>...</td>\n",
       "      <td>...</td>\n",
       "      <td>...</td>\n",
       "      <td>...</td>\n",
       "      <td>...</td>\n",
       "      <td>...</td>\n",
       "    </tr>\n",
       "    <tr>\n",
       "      <th>95</th>\n",
       "      <td>257.353755</td>\n",
       "      <td>185.913822</td>\n",
       "      <td>0.5</td>\n",
       "      <td>1.0</td>\n",
       "      <td>0.05</td>\n",
       "      <td>0.01</td>\n",
       "      <td>0.05</td>\n",
       "      <td>218.736417</td>\n",
       "      <td>207.799596</td>\n",
       "      <td>10.936821</td>\n",
       "      <td>0.722406</td>\n",
       "    </tr>\n",
       "    <tr>\n",
       "      <th>96</th>\n",
       "      <td>259.927293</td>\n",
       "      <td>187.661027</td>\n",
       "      <td>0.5</td>\n",
       "      <td>1.0</td>\n",
       "      <td>0.05</td>\n",
       "      <td>0.01</td>\n",
       "      <td>0.05</td>\n",
       "      <td>220.857924</td>\n",
       "      <td>209.815028</td>\n",
       "      <td>11.042896</td>\n",
       "      <td>0.721975</td>\n",
       "    </tr>\n",
       "    <tr>\n",
       "      <th>97</th>\n",
       "      <td>262.526565</td>\n",
       "      <td>189.428077</td>\n",
       "      <td>0.5</td>\n",
       "      <td>1.0</td>\n",
       "      <td>0.05</td>\n",
       "      <td>0.01</td>\n",
       "      <td>0.05</td>\n",
       "      <td>223.002024</td>\n",
       "      <td>211.851922</td>\n",
       "      <td>11.150101</td>\n",
       "      <td>0.721558</td>\n",
       "    </tr>\n",
       "    <tr>\n",
       "      <th>98</th>\n",
       "      <td>265.151831</td>\n",
       "      <td>191.215119</td>\n",
       "      <td>0.5</td>\n",
       "      <td>1.0</td>\n",
       "      <td>0.05</td>\n",
       "      <td>0.01</td>\n",
       "      <td>0.05</td>\n",
       "      <td>225.168912</td>\n",
       "      <td>213.910466</td>\n",
       "      <td>11.258446</td>\n",
       "      <td>0.721153</td>\n",
       "    </tr>\n",
       "    <tr>\n",
       "      <th>99</th>\n",
       "      <td>267.803349</td>\n",
       "      <td>193.022302</td>\n",
       "      <td>0.5</td>\n",
       "      <td>1.0</td>\n",
       "      <td>0.05</td>\n",
       "      <td>0.01</td>\n",
       "      <td>0.05</td>\n",
       "      <td>227.358789</td>\n",
       "      <td>215.990850</td>\n",
       "      <td>11.367939</td>\n",
       "      <td>0.720761</td>\n",
       "    </tr>\n",
       "  </tbody>\n",
       "</table>\n",
       "<p>100 rows × 11 columns</p>\n",
       "</div>"
      ],
      "text/plain": [
       "             L           K  ALFA    A  DEPRECIATES_RATE  LABOR_GROWTH  \\\n",
       "0   100.000000  100.000000   0.5  1.0              0.05          0.01   \n",
       "1   101.000000  100.025580   0.5  1.0              0.05          0.01   \n",
       "2   102.010000  100.076226   0.5  1.0              0.05          0.01   \n",
       "3   103.030100  100.151443   0.5  1.0              0.05          0.01   \n",
       "4   104.060401  100.250762   0.5  1.0              0.05          0.01   \n",
       "..         ...         ...   ...  ...               ...           ...   \n",
       "95  257.353755  185.913822   0.5  1.0              0.05          0.01   \n",
       "96  259.927293  187.661027   0.5  1.0              0.05          0.01   \n",
       "97  262.526565  189.428077   0.5  1.0              0.05          0.01   \n",
       "98  265.151831  191.215119   0.5  1.0              0.05          0.01   \n",
       "99  267.803349  193.022302   0.5  1.0              0.05          0.01   \n",
       "\n",
       "    SAVING_RATIO           Y           C          I       K_I  \n",
       "0           0.05    0.000000    0.000000   0.000000  0.000000  \n",
       "1           0.05  100.511609   95.486029   5.025580  0.990352  \n",
       "2           0.05  101.038487   95.986562   5.051924  0.981043  \n",
       "3           0.05  101.580575   96.501546   5.079029  0.972060  \n",
       "4           0.05  102.137821   97.030930   5.106891  0.963390  \n",
       "..           ...         ...         ...        ...       ...  \n",
       "95          0.05  218.736417  207.799596  10.936821  0.722406  \n",
       "96          0.05  220.857924  209.815028  11.042896  0.721975  \n",
       "97          0.05  223.002024  211.851922  11.150101  0.721558  \n",
       "98          0.05  225.168912  213.910466  11.258446  0.721153  \n",
       "99          0.05  227.358789  215.990850  11.367939  0.720761  \n",
       "\n",
       "[100 rows x 11 columns]"
      ]
     },
     "execution_count": 54,
     "metadata": {},
     "output_type": "execute_result"
    }
   ],
   "source": [
    "msolow.basedf"
   ]
  },
  {
   "cell_type": "markdown",
   "metadata": {
    "slideshow": {
     "slide_type": "skip"
    }
   },
   "source": [
    "**Define Targets**"
   ]
  },
  {
   "cell_type": "code",
   "execution_count": 55,
   "metadata": {
    "slideshow": {
     "slide_type": "skip"
    }
   },
   "outputs": [
    {
     "data": {
      "text/html": [
       "<div>\n",
       "<style scoped>\n",
       "    .dataframe tbody tr th:only-of-type {\n",
       "        vertical-align: middle;\n",
       "    }\n",
       "\n",
       "    .dataframe tbody tr th {\n",
       "        vertical-align: top;\n",
       "    }\n",
       "\n",
       "    .dataframe thead th {\n",
       "        text-align: right;\n",
       "    }\n",
       "</style>\n",
       "<table border=\"1\" class=\"dataframe\">\n",
       "  <thead>\n",
       "    <tr style=\"text-align: right;\">\n",
       "      <th></th>\n",
       "      <th>L</th>\n",
       "      <th>K</th>\n",
       "    </tr>\n",
       "  </thead>\n",
       "  <tbody>\n",
       "    <tr>\n",
       "      <th>50</th>\n",
       "      <td>194.463182</td>\n",
       "      <td>135.971544</td>\n",
       "    </tr>\n",
       "    <tr>\n",
       "      <th>51</th>\n",
       "      <td>196.107814</td>\n",
       "      <td>136.933236</td>\n",
       "    </tr>\n",
       "    <tr>\n",
       "      <th>52</th>\n",
       "      <td>197.768892</td>\n",
       "      <td>137.911105</td>\n",
       "    </tr>\n",
       "    <tr>\n",
       "      <th>53</th>\n",
       "      <td>199.446581</td>\n",
       "      <td>138.905161</td>\n",
       "    </tr>\n",
       "    <tr>\n",
       "      <th>54</th>\n",
       "      <td>201.141047</td>\n",
       "      <td>139.915414</td>\n",
       "    </tr>\n",
       "  </tbody>\n",
       "</table>\n",
       "</div>"
      ],
      "text/plain": [
       "             L           K\n",
       "50  194.463182  135.971544\n",
       "51  196.107814  136.933236\n",
       "52  197.768892  137.911105\n",
       "53  199.446581  138.905161\n",
       "54  201.141047  139.915414"
      ]
     },
     "execution_count": 55,
     "metadata": {},
     "output_type": "execute_result"
    }
   ],
   "source": [
    "target = msolow.basedf.loc[50:,['L','K']]+[30,10]\n",
    "target.head()"
   ]
  },
  {
   "cell_type": "markdown",
   "metadata": {
    "slideshow": {
     "slide_type": "skip"
    }
   },
   "source": [
    "Then we have to provide the instruments. This is **a list of list of tuples**. \n",
    "-  Each element in the outer list is an instrument. \n",
    "-  Each element in the inner list is an instrument variable \n",
    "-  Each element of the tuple contains a variable name and the associated impulse $\\Delta$. \n",
    "\n",
    "The $\\Delta variable$ is used in the numerical differentiation. Also if one instrument contains several variables, the proportion of each variable will be determined by the relative $\\Delta  variable$. \n",
    "\n",
    "For this experiment the inner list only contains one variable. "
   ]
  },
  {
   "cell_type": "markdown",
   "metadata": {
    "slideshow": {
     "slide_type": "skip"
    }
   },
   "source": [
    "**Define Instruments**"
   ]
  },
  {
   "cell_type": "code",
   "execution_count": 56,
   "metadata": {
    "slideshow": {
     "slide_type": "skip"
    }
   },
   "outputs": [],
   "source": [
    "instruments = [ [('LABOR_GROWTH',0.001)] , [('DEPRECIATES_RATE',0.001)]]"
   ]
  },
  {
   "cell_type": "markdown",
   "metadata": {
    "slideshow": {
     "slide_type": "skip"
    }
   },
   "source": [
    "**Run the experiment** \n",
    "\n",
    "For models which are relative linear we don't need to update  𝐉𝑡  for each iteration and time frame. As our small toy model is nonlinear, the jacobi matrix has to be updated frequently. This is controlled by the nonlin=True option below."
   ]
  },
  {
   "cell_type": "code",
   "execution_count": 57,
   "metadata": {
    "slideshow": {
     "slide_type": "skip"
    }
   },
   "outputs": [
    {
     "data": {
      "application/vnd.jupyter.widget-view+json": {
       "model_id": "ddb83086233f4eaebca56e622486ff6e",
       "version_major": 2,
       "version_minor": 0
      },
      "text/plain": [
       "Finding instruments :   0%|          | 0/50"
      ]
     },
     "metadata": {},
     "output_type": "display_data"
    }
   ],
   "source": [
    "result = msolow.invert(msolow.lastdf,target,instruments,nonlin=True)"
   ]
  },
  {
   "cell_type": "markdown",
   "metadata": {
    "slideshow": {
     "slide_type": "skip"
    }
   },
   "source": [
    "And do the result match the target?"
   ]
  },
  {
   "cell_type": "code",
   "execution_count": 58,
   "metadata": {
    "slideshow": {
     "slide_type": "skip"
    }
   },
   "outputs": [
    {
     "data": {
      "image/png": "[encoded data removed]",
      "text/plain": [
       "<Figure size 432x288 with 1 Axes>"
      ]
     },
     "metadata": {
      "needs_background": "light"
     },
     "output_type": "display_data"
    }
   ],
   "source": [
    "(result-target).loc[50:,['L','K']].plot();"
   ]
  },
  {
   "cell_type": "markdown",
   "metadata": {
    "slideshow": {
     "slide_type": "skip"
    }
   },
   "source": [
    "So we got results for the target variable very close to the target values. "
   ]
  },
  {
   "cell_type": "code",
   "execution_count": 59,
   "metadata": {
    "slideshow": {
     "slide_type": "skip"
    }
   },
   "outputs": [
    {
     "data": {
      "text/plain": [
       "0       0.000000\n",
       "1     100.511609\n",
       "2     101.038487\n",
       "3     101.580575\n",
       "4     102.137821\n",
       "         ...    \n",
       "95    218.736417\n",
       "96    220.857924\n",
       "97    223.002024\n",
       "98    225.168912\n",
       "99    227.358789\n",
       "Name: Y, Length: 100, dtype: float64"
      ]
     },
     "execution_count": 59,
     "metadata": {},
     "output_type": "execute_result"
    }
   ],
   "source": [
    "msolow.smpl(90,100)  # we only want a few years \n",
    "\n",
    "msolow.basedf.Y"
   ]
  },
  {
   "cell_type": "code",
   "execution_count": 60,
   "metadata": {
    "slideshow": {
     "slide_type": "skip"
    }
   },
   "outputs": [
    {
     "data": {
      "text/plain": [
       "0       0.000000\n",
       "1     100.511609\n",
       "2     101.038487\n",
       "3     101.580575\n",
       "4     102.137821\n",
       "         ...    \n",
       "95    237.269232\n",
       "96    239.389730\n",
       "97    241.532869\n",
       "98    243.698846\n",
       "99    245.887858\n",
       "Name: Y, Length: 100, dtype: float64"
      ]
     },
     "execution_count": 60,
     "metadata": {},
     "output_type": "execute_result"
    }
   ],
   "source": [
    "msolow.lastdf.Y"
   ]
  },
  {
   "cell_type": "markdown",
   "metadata": {
    "slideshow": {
     "slide_type": "skip"
    }
   },
   "source": [
    "### Shortfall targets\n",
    "Above the target for each target variable is a certain values. Sometime we we need targets being above a certain shortfall value. In this case an instrument should be used to make the achieve the target threshold only if the target is belove the target. This is activated by an option:**shortfall=True**.\n",
    "\n",
    "This feature can be useful calculating the amount of deleverage needed for banks to achieve a certain threshold of capital. "
   ]
  },
  {
   "cell_type": "markdown",
   "metadata": {
    "slideshow": {
     "slide_type": "skip"
    }
   },
   "source": [
    "## Attribution / Explanation \n",
    "\n",
    "Experience shows that it is useful to be able to explain the difference between the result from two runs. \n",
    "The first level of understanding the difference is to look at selected formulas and find out, how much each input variables accounts for. \n",
    "The second level of understanding the difference is to look at the attribution of the \n",
    "exogenous variables to the results of the model.  \n",
    "\n",
    "If we have:\n",
    "\n",
    "$y = f(a,b)$\n",
    "\n",
    "and we have two solutions where the variables differs by $\\Delta y, \\Delta a, \\Delta b$\n",
    "\n",
    "How much of $\\Delta y$ can be explained by $\\Delta a$ and $\\Delta b$ ?\n",
    "\n",
    "Analytical the attributions $\\Omega a$ and $\\Omega b$ can  be calculated like this: \n",
    "\n",
    "$\\Delta y = \\underbrace{\\Delta a \\dfrac{\\partial {f}}{\\partial{a}}(a,b)}_{\\Omega a} + \n",
    "\\underbrace{\\Delta b \\dfrac{\\partial {f}}{\\partial{b}}(a,b)}_{\\Omega b}+Residual$"
   ]
  },
  {
   "cell_type": "markdown",
   "metadata": {
    "slideshow": {
     "slide_type": "skip"
    }
   },
   "source": [
    "ModelFlow will do a numerical approximation of $\\Omega a$ and $\\Omega b$. This is done by looking at the two runs of the model:\n",
    "\n",
    "\\begin{eqnarray}  \n",
    "y_0&=&f(a_{0},b_{0}) \\\\\n",
    "y_1&=&f(a_0+\\Delta a,b_{0}+ \\Delta b)\n",
    "\\end{eqnarray}\n",
    "\n",
    "So $\\Omega a$ and $\\Omega b$ can be determined:\n",
    "\n",
    "\\begin{eqnarray}  \n",
    "\\Omega f_a&=&f(a_1,b_1 )-f(a_1-\\Delta a,b_1) \\\\\n",
    "\\Omega f_b&=&f(a_1,b_1 )-f(a_1,b_1-\\Delta  b)\n",
    "\\end{eqnarray}\n",
    "\n",
    "\n",
    "\n",
    "And: \n",
    "\n",
    "\\begin{eqnarray}\n",
    "residual = \\Omega f_a + \\Omega f_b -(y_1 - y_0) \n",
    "\\end{eqnarray}\n",
    "If the model is fairly linear, the residual will be small. "
   ]
  },
  {
   "cell_type": "markdown",
   "metadata": {
    "slideshow": {
     "slide_type": "skip"
    }
   },
   "source": [
    "### Formula attribution\n",
    "Attribution analysis on the formula level is performed by the method **.dekomp**. \n"
   ]
  },
  {
   "cell_type": "markdown",
   "metadata": {
    "slideshow": {
     "slide_type": "skip"
    }
   },
   "source": [
    "### Model Attribution\n",
    "\n",
    "At the model level we start by finding which exogenous variables have changed between two runs."
   ]
  },
  {
   "cell_type": "markdown",
   "metadata": {
    "slideshow": {
     "slide_type": "skip"
    }
   },
   "source": [
    "## Python functions can be incorporated\n",
    "### A mean variance problem\n",
    "\n",
    "If we look at a fairly general mean variance optimization problem which has been adopted to banks it looks like this:  \n",
    "\n",
    "\\begin{eqnarray}  \n",
    "\\mathbf x & &\\mbox{Position in each asset(+)/liability(-) type}\\\\\n",
    "\\mathbf x & &\\mbox{Position in each asset(+)/liability(-) type}\\\\\n",
    "\\mathbf \\Sigma & &\\mbox{Covariance matrix} \\\\\n",
    "\\mathbf r & &\\mbox{Return vector}\\\\\n",
    "\\lambda & &\\mbox{Risk aversion}\\\\\n",
    "\\mathbf{riskweights}& &\\text{Vector of risk weights, liabilities has riskweight = 0}\\\\\n",
    "Capital& &\\mbox{Max of sum of risk weighted assets}\\\\\n",
    "\\mathbf{lcrweights}& &\\text{Vector of LCR weights, liabilities has lcrweight = 0}\\\\\n",
    "LCR& &\\text{Min of sum of lcr weighted assets}\\\\\n",
    "\\mathbf{leverageweight}&&\\text{Vector of leverage weights, liabilities has leverageweight = 0}\\\\\n",
    "Equity&&\\mbox{Max sum of leverage weighted positions}\\\\\n",
    "Budget&&\\mbox{initial sum of the positions}\\\\\n",
    "\\end{eqnarray}\n",
    "\n",
    "\\begin{eqnarray}\n",
    "\\mbox{minimize:}  & \\lambda \\mathbf x^T \\mathbf \\Sigma \\mathbf x - (1-\\lambda) \\mathbf r^T \\mathbf x & \\mbox{If }\\lambda \\mbox{ = 1 minimize risk, if } \\lambda\\mbox{ = 0 maximize return }\\\\\n",
    "\\mbox{subject to:} & \\mathbf x \\succeq \\mathbf{x^{min}} &\\mbox{Minimum positions}\\\\ \n",
    "                   & \\mathbf x \\preceq \\mathbf{x^{max}} &\\mbox{Maximum positions}\\\\ \n",
    "                   & \\mathbf{riskweights}^T\\mathbf x \\leq Capital &\\mbox{Risk weighted assets <= capital}\\\\ \n",
    "                   & \\mathbf{lcrweights}^T\\mathbf x \\geq LCR &\\mbox{lcr weighted assets >= LCR target}\\\\ \n",
    "                   & \\mathbf{leverageweight}^T\\mathbf x \\leq equity &\\mbox{leverage weighted assets <= equity}\\\\ \n",
    "                   & \\mathbf 1^T\\mathbf x = Budget & \\mbox{Sum of positions = B}\n",
    "\\end{eqnarray}"
   ]
  },
  {
   "cell_type": "markdown",
   "metadata": {
    "slideshow": {
     "slide_type": "skip"
    }
   },
   "source": [
    "### The mean variance problem in the business language language \n",
    "\n",
    "Wrap optimizing in the CVX library into a Python function: <br>In the business logic language this problem can be specified like this:\n",
    "\n",
    "``` \n",
    "positions =  mv_opt(msigma,return,riskaversion, budget, \n",
    "            [[risk_weights] , [-lcr_weights] , [leverage_weights]],\n",
    "              [capital, -lcr , equity] ,min_position,max_position) \n",
    "```\n",
    "\n",
    "Where the arguments are appropriately dimensioned CVX matrices and vectors. \n",
    "\n",
    "For a more elaborate example there is an special notebook on the subject of optimization.\n",
    "\n",
    "Also it should be mentioned that there is an expansion of the basic problem taking transaction cost into account. "
   ]
  },
  {
   "cell_type": "markdown",
   "metadata": {
    "slideshow": {
     "slide_type": "skip"
    }
   },
   "source": [
    "## Stability\n",
    "Jacobi matrices can be used to evaluate the stability properties of the model. To do this we first look at a linearized version of the model. We are interested in the effect of shocks to the system. Will shocks be \n",
    "damped or will they be amplified. "
   ]
  },
  {
   "cell_type": "markdown",
   "metadata": {
    "slideshow": {
     "slide_type": "slide"
    }
   },
   "source": [
    "## Live models\n",
    "**Showtime** "
   ]
  },
  {
   "cell_type": "markdown",
   "metadata": {
    "slideshow": {
     "slide_type": "slide"
    }
   },
   "source": [
    "# Summary\n",
    "ModelFlow allows easy implementation of models in Python, Which is a powerful and agile language. ModelFlow leverage on the rich ecosystem of Python in order to: \n",
    "\n",
    "-  Separates the specification of a model and the code which solves the model. So the user can concentrate on the economic and not the implementation of the model.\n",
    "-  Can include user specified Python function in the model definition. \n",
    "-  Can solve very large m,odels\n",
    "-  Can solve simultaneous models.\n",
    "-  Keeps tab on the dependencies of the formulas. This allows for easy Tracing of results. \n",
    "-  Can perform model inversion (goal seek) with multiple targets and instruments\n",
    "-  Can attribute changes in results to input variables. Both for individual formulas and the complete model \n",
    "-  Can include optimizing behavior \n",
    " \n",
    "The purpose of this notebook has been to give a broad introduction to model management using ModelFlow. \n",
    "Using the tool requires some knowledge of python. The required knowledge depends on the complexity of the model. So ModelFlow can be used in Python training.  \n",
    "\n",
    "To get more in-depth knowledge there is a Sphinx based documentation of the library. There you can find the \n",
    "calling conventions and documentation of all elements.\n",
    "\n",
    "All suggestions and recommendations are welcome "
   ]
  },
  {
   "cell_type": "markdown",
   "metadata": {
    "slideshow": {
     "slide_type": "skip"
    }
   },
   "source": [
    "# Literature:\n",
    "\n",
    "\n",
    "Aho, Lam, Sethi, Ullman (2006), Compilers: Principles, Techniques, and\n",
    "Tools (2nd Edition), Addison-Wesley\n",
    "\n",
    "Berndsen, Ron (1995), [Causal ordering in economic\n",
    "models](https://kundoc.com/pdf-causal-ordering-in-economic-models-.html),\n",
    "Decision Support Systems 15 (1995) 157-165\n",
    "\n",
    "Danmarks Nationalbank (2004), [MONA -- a quarterly model of Danish\n",
    "economy](http://www.nationalbanken.dk/da/publikationer/Documents/2003/11/mona_web.pdf)\n",
    "\n",
    "Denning, Peter J. (2006), [The Locality\n",
    "Principle](http://denninginstitute.com/pjd/PUBS/locality_2006.pdf),\n",
    "Chapter in *Communication Networks and Systems* (J Barria, Ed.).\n",
    "Imperial College Press\n",
    "\n",
    "Gilli, Manfred (1992), [Causal Ordering and Beyond, International\n",
    "Economic Review, Vol. 33, No. 4 (Nov., 1992), pp.\n",
    "957-971](http://www.jstor.org/stable/2527152?seq=1#page_scan_tab_contents)\n",
    "\n",
    "McKinney, Wes (2011),[pandas: a Foundational Python Library for Data Analysis and\n",
    "Statistics,] Presented at\n",
    "PyHPC2011](http://www.scribd.com/doc/71048089/pandas-a-Foundational-Python-Library-for-Data-Analysis-and-Statistics)\n",
    "\n",
    "Numba (2015) documentation,\n",
    "[http://numba.pydata.org/numba-doc/0.20.0/user/index.html](http://numba.pydata.org/numba-doc/0.20.0/user/index.html%20)\n",
    "\n",
    "Pauletto, G. (1997), [Computational Solution of Large-Scale\n",
    "Macroeconometric\n",
    "Models](http://link.springer.com/book/10.1007%2F978-1-4757-2631-2),\n",
    "ISBN 9781441947789\n",
    "\n",
    "E. Petersen, Christian & A. Sims, Christopher. (1987). Computer Simulation of Large-Scale Econometric Models: Project Link. International Journal of High Performance Computing Applications (http://citeseerx.ist.psu.edu/viewdoc/download?doi=10.1.1.853.6387&rep=rep1&type=pdf)\n",
    "\n",
    "Tinberger, Jan (1956), Economic policy: Principles and Design,\n",
    "Amsterdam,\n",
    "\n",
    "\n",
    "# Footnotes\n",
    "$^1$: The author has been able to draw on experience creating software\n",
    "    for solving the macroeconomic models ADAM in Hansen Econometric.\n",
    "\n",
    "$^2$: In this work a number of staff in Danmarks Nationalbank made\n",
    "    significant contributions: Jens Boldt and Jacob Ejsing to the\n",
    "    program. Rasmus Tommerup and Lindis Oma by being the first to\n",
    "    implement a stress test model in the system.\n",
    "\n",
    "$^3$: In ECB Marco Gross, Mathias Sydow and many other collegues has been of great help. \n",
    "\n",
    "$^4$: The system has benefited from discussions with participants in meetings at: IMF, Bank of Japan, Bank of England, FED Board, Oxford University, Banque de France, Single Resolution Board \n",
    "\n",
    "$^5$: Ast stands for: [Abstract Syntax\n",
    "    Tree](https://en.wikipedia.org/wiki/Abstract_syntax_tree)\n",
    "\n",
    "$^6$: Re stands for[: Regular\n",
    "    expression](https://en.wikipedia.org/wiki/Regular_expression)"
   ]
  },
  {
   "cell_type": "code",
   "execution_count": null,
   "metadata": {},
   "outputs": [],
   "source": []
  }
 ],
 "metadata": {
  "hide_input": false,
  "kernelspec": {
   "display_name": "Python 3 (ipykernel)",
   "language": "python",
   "name": "python3"
  },
  "language_info": {
   "codemirror_mode": {
    "name": "ipython",
    "version": 3
   },
   "file_extension": ".py",
   "mimetype": "text/x-python",
   "name": "python",
   "nbconvert_exporter": "python",
   "pygments_lexer": "ipython3",
   "version": "3.8.8"
  },
  "toc": {
   "base_numbering": 1,
   "nav_menu": {},
   "number_sections": true,
   "sideBar": true,
   "skip_h1_title": false,
   "title_cell": "Table of Contents",
   "title_sidebar": "Contents",
   "toc_cell": false,
   "toc_position": {
    "height": "calc(100% - 180px)",
    "left": "10px",
    "top": "150px",
    "width": "414.25px"
   },
   "toc_section_display": true,
   "toc_window_display": true
  },
  "varInspector": {
   "cols": {
    "lenName": 16,
    "lenType": 16,
    "lenVar": 40
   },
   "kernels_config": {
    "python": {
     "delete_cmd_postfix": "",
     "delete_cmd_prefix": "del ",
     "library": "var_list.py",
     "varRefreshCmd": "print(var_dic_list())"
    },
    "r": {
     "delete_cmd_postfix": ") ",
     "delete_cmd_prefix": "rm(",
     "library": "var_list.r",
     "varRefreshCmd": "cat(var_dic_list()) "
    }
   },
   "oldHeight": 489.31922199999997,
   "position": {
    "height": "40px",
    "left": "702.8px",
    "right": "20px",
    "top": "51px",
    "width": "524.708px"
   },
   "types_to_exclude": [
    "module",
    "function",
    "builtin_function_or_method",
    "instance",
    "_Feature"
   ],
   "varInspector_section_display": "none",
   "window_display": true
  }
 },
 "nbformat": 4,
 "nbformat_minor": 2
}
