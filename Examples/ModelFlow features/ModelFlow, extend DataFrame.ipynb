{
 "cells": [
  {
   "cell_type": "markdown",
   "metadata": {
    "slideshow": {
     "slide_type": "slide"
    }
   },
   "source": [
    "# ModelFlow, a toolkit\n",
    "Python is an incredible and versatile language embedded a powerful ecosystem. For data\n",
    "science \n",
    "the Pandas library is a powerful \"Swiss Army Knife\".\n",
    "\n",
    "In economic and for modeling banks we need  **lagged variables**\n",
    "and **simultaneous formulas** (circular references in Excel speak).\n",
    "\n",
    "ModelFlow, a toolkit to enable  lagged variables and simultaneous formulas.\n",
    "\n",
    "This notebook ModelFlow to extend dataframes. Other notebooks show ModelFlow as a class. "
   ]
  },
  {
   "cell_type": "markdown",
   "metadata": {
    "slideshow": {
     "slide_type": "slide"
    }
   },
   "source": [
    "# Jupyter\n",
    "\n",
    "This is a Jupyter notebook. Jupyter is a Python Shell \n",
    "\n",
    "You will notice **input cells** (marked:In\\[\\]) and **output cells** (marked: Out\\[\\]) \n",
    "\n",
    "It is live, so you can try it out yourself, if you have access to the\n",
    "ModelFlow toolkit, else you just have to watch.\n",
    "\n",
    "This Jupyter notebook show how ModelFlow can extend pandas dataframes to run models. \n",
    "\n",
    "The notebook focus on a simple example and do not explore all the features and\n",
    "options. Also the models are toy models created to be small but still illustrative."
   ]
  },
  {
   "cell_type": "markdown",
   "metadata": {
    "slideshow": {
     "slide_type": "slide"
    }
   },
   "source": [
    "# Import stuff"
   ]
  },
  {
   "cell_type": "code",
   "execution_count": 12,
   "metadata": {
    "slideshow": {
     "slide_type": "-"
    }
   },
   "outputs": [],
   "source": [
    "import pandas as pd               # Python data science library\n",
    "import sys\n",
    "from IPython.display import SVG, display\n",
    "sys.path.append('modelflow/')\n",
    "import modelmf     # This will extend pandas dataframes with ModelFlow "
   ]
  },
  {
   "cell_type": "markdown",
   "metadata": {
    "slideshow": {
     "slide_type": "slide"
    }
   },
   "source": [
    "# Create a Pandas Dataframe\n",
    "We make up some data.\n",
    "\n",
    "Pandas dataframes are tables with **row** and **column** names. Columns are variables, and rows are the time dimension. "
   ]
  },
  {
   "cell_type": "code",
   "execution_count": 13,
   "metadata": {
    "slideshow": {
     "slide_type": "-"
    }
   },
   "outputs": [
    {
     "data": {
      "text/html": [
       "<div>\n",
       "<style scoped>\n",
       "    .dataframe tbody tr th:only-of-type {\n",
       "        vertical-align: middle;\n",
       "    }\n",
       "\n",
       "    .dataframe tbody tr th {\n",
       "        vertical-align: top;\n",
       "    }\n",
       "\n",
       "    .dataframe thead th {\n",
       "        text-align: right;\n",
       "    }\n",
       "</style>\n",
       "<table border=\"1\" class=\"dataframe\">\n",
       "  <thead>\n",
       "    <tr style=\"text-align: right;\">\n",
       "      <th></th>\n",
       "      <th>LOAN</th>\n",
       "      <th>SECURITIES</th>\n",
       "      <th>CASH</th>\n",
       "      <th>DEPOSIT</th>\n",
       "      <th>BONDS</th>\n",
       "      <th>NEW_LOAN</th>\n",
       "    </tr>\n",
       "  </thead>\n",
       "  <tbody>\n",
       "    <tr>\n",
       "      <th>2018</th>\n",
       "      <td>100</td>\n",
       "      <td>10</td>\n",
       "      <td>4</td>\n",
       "      <td>100</td>\n",
       "      <td>1</td>\n",
       "      <td>1</td>\n",
       "    </tr>\n",
       "    <tr>\n",
       "      <th>2019</th>\n",
       "      <td>100</td>\n",
       "      <td>11</td>\n",
       "      <td>4</td>\n",
       "      <td>100</td>\n",
       "      <td>2</td>\n",
       "      <td>20</td>\n",
       "    </tr>\n",
       "    <tr>\n",
       "      <th>2020</th>\n",
       "      <td>100</td>\n",
       "      <td>12</td>\n",
       "      <td>4</td>\n",
       "      <td>100</td>\n",
       "      <td>3</td>\n",
       "      <td>30</td>\n",
       "    </tr>\n",
       "    <tr>\n",
       "      <th>2021</th>\n",
       "      <td>100</td>\n",
       "      <td>13</td>\n",
       "      <td>4</td>\n",
       "      <td>100</td>\n",
       "      <td>10</td>\n",
       "      <td>40</td>\n",
       "    </tr>\n",
       "  </tbody>\n",
       "</table>\n",
       "</div>"
      ],
      "text/plain": [
       "      LOAN  SECURITIES  CASH  DEPOSIT  BONDS  NEW_LOAN\n",
       "2018   100          10     4      100      1         1\n",
       "2019   100          11     4      100      2        20\n",
       "2020   100          12     4      100      3        30\n",
       "2021   100          13     4      100     10        40"
      ]
     },
     "execution_count": 13,
     "metadata": {},
     "output_type": "execute_result"
    }
   ],
   "source": [
    "df = pd.DataFrame({'LOAN': [100,100,100,100],'SECURITIES': [10,11,12,13],\n",
    "                   'CASH': [4,4,4,4],         'DEPOSIT'  : [100,100,100,100],\n",
    "                   'BONDS':[1,2,3,10],         'NEW_LOAN' :  [1,20,30,40] },\n",
    "                  index=[2018,2019,2020,2021])\n",
    "df"
   ]
  },
  {
   "cell_type": "markdown",
   "metadata": {
    "slideshow": {
     "slide_type": "slide"
    }
   },
   "source": [
    "# A model, where Pandas don't work out of the box \n",
    "A very small stylized dynamic model of the balance sheet of a bank is created. "
   ]
  },
  {
   "cell_type": "code",
   "execution_count": 14,
   "metadata": {
    "slideshow": {
     "slide_type": "-"
    }
   },
   "outputs": [],
   "source": [
    "fmodel = '''\\\n",
    "£ Stock\n",
    "ASSETS  = LOAN + SECURITIES + CASH\n",
    "FUNDING = DEPOSIT + BONDS\n",
    "EQUITY  = ASSETS - FUNDING \n",
    "LIABILITIES = FUNDING + EQUITY \n",
    "\n",
    "£ stock flow\n",
    "DEPOSIT   = DEPOSIT(-1) + NEW_DEPOSIT\n",
    "LOAN      = LOAN(-1)+  NEW_LOAN \n",
    "NEW_BONDS =  (NEW_LOAN - NEW_DEPOSIT) \n",
    "BONDS     = BONDS(-1) + NEW_BONDS'''"
   ]
  },
  {
   "cell_type": "markdown",
   "metadata": {
    "slideshow": {
     "slide_type": "slide"
    }
   },
   "source": [
    "# Apply the model on the dataframe.\n",
    "\n",
    "To do this we use dataframe.mfcalc."
   ]
  },
  {
   "cell_type": "code",
   "execution_count": 15,
   "metadata": {
    "slideshow": {
     "slide_type": "-"
    }
   },
   "outputs": [
    {
     "name": "stdout",
     "output_type": "stream",
     "text": [
      "Will start calculating: testmodel\n",
      "2019  solved\n",
      "2020  solved\n",
      "2021  solved\n",
      "testmodel calculated \n"
     ]
    },
    {
     "data": {
      "text/html": [
       "<div>\n",
       "<style scoped>\n",
       "    .dataframe tbody tr th:only-of-type {\n",
       "        vertical-align: middle;\n",
       "    }\n",
       "\n",
       "    .dataframe tbody tr th {\n",
       "        vertical-align: top;\n",
       "    }\n",
       "\n",
       "    .dataframe thead th {\n",
       "        text-align: right;\n",
       "    }\n",
       "</style>\n",
       "<table border=\"1\" class=\"dataframe\">\n",
       "  <thead>\n",
       "    <tr style=\"text-align: right;\">\n",
       "      <th></th>\n",
       "      <th>LOAN</th>\n",
       "      <th>SECURITIES</th>\n",
       "      <th>CASH</th>\n",
       "      <th>DEPOSIT</th>\n",
       "      <th>BONDS</th>\n",
       "      <th>NEW_LOAN</th>\n",
       "      <th>LIABILITIES</th>\n",
       "      <th>ASSETS</th>\n",
       "      <th>NEW_DEPOSIT</th>\n",
       "      <th>EQUITY</th>\n",
       "      <th>FUNDING</th>\n",
       "      <th>NEW_BONDS</th>\n",
       "    </tr>\n",
       "  </thead>\n",
       "  <tbody>\n",
       "    <tr>\n",
       "      <th>2018</th>\n",
       "      <td>100.0</td>\n",
       "      <td>10.0</td>\n",
       "      <td>4.0</td>\n",
       "      <td>100.0</td>\n",
       "      <td>1.0</td>\n",
       "      <td>1.0</td>\n",
       "      <td>0.0</td>\n",
       "      <td>0.0</td>\n",
       "      <td>0.0</td>\n",
       "      <td>0.0</td>\n",
       "      <td>0.0</td>\n",
       "      <td>0.0</td>\n",
       "    </tr>\n",
       "    <tr>\n",
       "      <th>2019</th>\n",
       "      <td>120.0</td>\n",
       "      <td>11.0</td>\n",
       "      <td>4.0</td>\n",
       "      <td>100.0</td>\n",
       "      <td>21.0</td>\n",
       "      <td>20.0</td>\n",
       "      <td>135.0</td>\n",
       "      <td>135.0</td>\n",
       "      <td>0.0</td>\n",
       "      <td>14.0</td>\n",
       "      <td>121.0</td>\n",
       "      <td>20.0</td>\n",
       "    </tr>\n",
       "    <tr>\n",
       "      <th>2020</th>\n",
       "      <td>150.0</td>\n",
       "      <td>12.0</td>\n",
       "      <td>4.0</td>\n",
       "      <td>100.0</td>\n",
       "      <td>51.0</td>\n",
       "      <td>30.0</td>\n",
       "      <td>166.0</td>\n",
       "      <td>166.0</td>\n",
       "      <td>0.0</td>\n",
       "      <td>15.0</td>\n",
       "      <td>151.0</td>\n",
       "      <td>30.0</td>\n",
       "    </tr>\n",
       "    <tr>\n",
       "      <th>2021</th>\n",
       "      <td>190.0</td>\n",
       "      <td>13.0</td>\n",
       "      <td>4.0</td>\n",
       "      <td>100.0</td>\n",
       "      <td>91.0</td>\n",
       "      <td>40.0</td>\n",
       "      <td>207.0</td>\n",
       "      <td>207.0</td>\n",
       "      <td>0.0</td>\n",
       "      <td>16.0</td>\n",
       "      <td>191.0</td>\n",
       "      <td>40.0</td>\n",
       "    </tr>\n",
       "  </tbody>\n",
       "</table>\n",
       "</div>"
      ],
      "text/plain": [
       "       LOAN  SECURITIES  CASH  DEPOSIT  BONDS  NEW_LOAN  LIABILITIES  ASSETS  \\\n",
       "2018  100.0        10.0   4.0    100.0    1.0       1.0          0.0     0.0   \n",
       "2019  120.0        11.0   4.0    100.0   21.0      20.0        135.0   135.0   \n",
       "2020  150.0        12.0   4.0    100.0   51.0      30.0        166.0   166.0   \n",
       "2021  190.0        13.0   4.0    100.0   91.0      40.0        207.0   207.0   \n",
       "\n",
       "      NEW_DEPOSIT  EQUITY  FUNDING  NEW_BONDS  \n",
       "2018          0.0     0.0      0.0        0.0  \n",
       "2019          0.0    14.0    121.0       20.0  \n",
       "2020          0.0    15.0    151.0       30.0  \n",
       "2021          0.0    16.0    191.0       40.0  "
      ]
     },
     "execution_count": 15,
     "metadata": {},
     "output_type": "execute_result"
    }
   ],
   "source": [
    "df.mfcalc(fmodel)"
   ]
  },
  {
   "cell_type": "markdown",
   "metadata": {
    "slideshow": {
     "slide_type": "slide"
    }
   },
   "source": [
    "# Notice:\n",
    "* The model is run from 2019. It cant run 2018 as as there is no values for laggged variables in 2018. \n",
    "* The model is calculated even when the formulas where not in the logical order. \n",
    "* Variables in the model missing from the dataframe are set to 0"
   ]
  },
  {
   "cell_type": "markdown",
   "metadata": {
    "slideshow": {
     "slide_type": "slide"
    }
   },
   "source": [
    "# There is more \n",
    "The result from a model run can be used straight in python programs.\n",
    "\n",
    "But, A model instance ```<dataframe>.mf``` contains\n",
    "\n",
    "*  The first and last solution of the model\n",
    "*  The directed graph of which variable contributes to which variable\n",
    "*  All formulas in the model \n",
    "\n",
    "This makes it a powerful tool for model and result analysis."
   ]
  },
  {
   "cell_type": "markdown",
   "metadata": {
    "slideshow": {
     "slide_type": "slide"
    }
   },
   "source": [
    "# Make another experiment \n",
    "First we update some exogenous variables (variables which are only on the right hand side of the model). Then we run the model again. "
   ]
  },
  {
   "cell_type": "code",
   "execution_count": 16,
   "metadata": {},
   "outputs": [
    {
     "name": "stdout",
     "output_type": "stream",
     "text": [
      "Will start calculating: testmodel\n",
      "2019  solved\n",
      "2020  solved\n",
      "2021  solved\n",
      "testmodel calculated \n"
     ]
    },
    {
     "data": {
      "text/html": [
       "<div>\n",
       "<style scoped>\n",
       "    .dataframe tbody tr th:only-of-type {\n",
       "        vertical-align: middle;\n",
       "    }\n",
       "\n",
       "    .dataframe tbody tr th {\n",
       "        vertical-align: top;\n",
       "    }\n",
       "\n",
       "    .dataframe thead th {\n",
       "        text-align: right;\n",
       "    }\n",
       "</style>\n",
       "<table border=\"1\" class=\"dataframe\">\n",
       "  <thead>\n",
       "    <tr style=\"text-align: right;\">\n",
       "      <th></th>\n",
       "      <th>LOAN</th>\n",
       "      <th>SECURITIES</th>\n",
       "      <th>CASH</th>\n",
       "      <th>DEPOSIT</th>\n",
       "      <th>BONDS</th>\n",
       "      <th>NEW_LOAN</th>\n",
       "      <th>NEW_DEPOSIT</th>\n",
       "      <th>LIABILITIES</th>\n",
       "      <th>ASSETS</th>\n",
       "      <th>EQUITY</th>\n",
       "      <th>FUNDING</th>\n",
       "      <th>NEW_BONDS</th>\n",
       "    </tr>\n",
       "  </thead>\n",
       "  <tbody>\n",
       "    <tr>\n",
       "      <th>2018</th>\n",
       "      <td>100.0</td>\n",
       "      <td>10.0</td>\n",
       "      <td>4.0</td>\n",
       "      <td>100.0</td>\n",
       "      <td>1.0</td>\n",
       "      <td>1.0</td>\n",
       "      <td>1.0</td>\n",
       "      <td>0.0</td>\n",
       "      <td>0.0</td>\n",
       "      <td>0.0</td>\n",
       "      <td>0.0</td>\n",
       "      <td>0.0</td>\n",
       "    </tr>\n",
       "    <tr>\n",
       "      <th>2019</th>\n",
       "      <td>140.0</td>\n",
       "      <td>11.0</td>\n",
       "      <td>4.0</td>\n",
       "      <td>130.0</td>\n",
       "      <td>11.0</td>\n",
       "      <td>40.0</td>\n",
       "      <td>30.0</td>\n",
       "      <td>155.0</td>\n",
       "      <td>155.0</td>\n",
       "      <td>14.0</td>\n",
       "      <td>141.0</td>\n",
       "      <td>10.0</td>\n",
       "    </tr>\n",
       "    <tr>\n",
       "      <th>2020</th>\n",
       "      <td>190.0</td>\n",
       "      <td>12.0</td>\n",
       "      <td>4.0</td>\n",
       "      <td>155.0</td>\n",
       "      <td>36.0</td>\n",
       "      <td>50.0</td>\n",
       "      <td>25.0</td>\n",
       "      <td>206.0</td>\n",
       "      <td>206.0</td>\n",
       "      <td>15.0</td>\n",
       "      <td>191.0</td>\n",
       "      <td>25.0</td>\n",
       "    </tr>\n",
       "    <tr>\n",
       "      <th>2021</th>\n",
       "      <td>270.0</td>\n",
       "      <td>13.0</td>\n",
       "      <td>4.0</td>\n",
       "      <td>205.0</td>\n",
       "      <td>66.0</td>\n",
       "      <td>80.0</td>\n",
       "      <td>50.0</td>\n",
       "      <td>287.0</td>\n",
       "      <td>287.0</td>\n",
       "      <td>16.0</td>\n",
       "      <td>271.0</td>\n",
       "      <td>30.0</td>\n",
       "    </tr>\n",
       "  </tbody>\n",
       "</table>\n",
       "</div>"
      ],
      "text/plain": [
       "       LOAN  SECURITIES  CASH  DEPOSIT  BONDS  NEW_LOAN  NEW_DEPOSIT  \\\n",
       "2018  100.0        10.0   4.0    100.0    1.0       1.0          1.0   \n",
       "2019  140.0        11.0   4.0    130.0   11.0      40.0         30.0   \n",
       "2020  190.0        12.0   4.0    155.0   36.0      50.0         25.0   \n",
       "2021  270.0        13.0   4.0    205.0   66.0      80.0         50.0   \n",
       "\n",
       "      LIABILITIES  ASSETS  EQUITY  FUNDING  NEW_BONDS  \n",
       "2018          0.0     0.0     0.0      0.0        0.0  \n",
       "2019        155.0   155.0    14.0    141.0       10.0  \n",
       "2020        206.0   206.0    15.0    191.0       25.0  \n",
       "2021        287.0   287.0    16.0    271.0       30.0  "
      ]
     },
     "execution_count": 16,
     "metadata": {},
     "output_type": "execute_result"
    }
   ],
   "source": [
    "df['NEW_LOAN']= [1,40,50,80]\n",
    "df['NEW_DEPOSIT']= [1,30,25,50]\n",
    "df.mfcalc(fmodel)"
   ]
  },
  {
   "cell_type": "markdown",
   "metadata": {
    "slideshow": {
     "slide_type": "slide"
    }
   },
   "source": [
    "# Visualizing \n",
    "The results can be compared and visualized. \n",
    "\n",
    "Wildcards can be used to select the variables to visualize.\n",
    "\n",
    "If this is not sufficient the whole suite of Python visualization (as Matplotlib, Seaborn, Plotly) can be used on top of the resulting dataframes. "
   ]
  },
  {
   "cell_type": "markdown",
   "metadata": {
    "scrolled": true,
    "slideshow": {
     "slide_type": "slide"
    }
   },
   "source": [
    "# Plot the last result"
   ]
  },
  {
   "cell_type": "code",
   "execution_count": 17,
   "metadata": {
    "scrolled": true
   },
   "outputs": [
    {
     "data": {
      "image/png": "[encoded data removed]",
      "text/plain": [
       "<Figure size 720x288 with 12 Axes>"
      ]
     },
     "metadata": {
      "needs_background": "light"
     },
     "output_type": "display_data"
    }
   ],
   "source": [
    "_ = df.mf['*'].plot()"
   ]
  },
  {
   "cell_type": "markdown",
   "metadata": {
    "slideshow": {
     "slide_type": "slide"
    }
   },
   "source": [
    "# Plot the difference between the first and last run "
   ]
  },
  {
   "cell_type": "code",
   "execution_count": 18,
   "metadata": {},
   "outputs": [
    {
     "data": {
      "image/png": "[encoded data removed]",
      "text/plain": [
       "<Figure size 720x288 with 12 Axes>"
      ]
     },
     "metadata": {
      "needs_background": "light"
     },
     "output_type": "display_data"
    }
   ],
   "source": [
    "_ = df.mf['*'].dif.plot()"
   ]
  },
  {
   "cell_type": "markdown",
   "metadata": {
    "slideshow": {
     "slide_type": "slide"
    }
   },
   "source": [
    "# Or as heatmap "
   ]
  },
  {
   "cell_type": "code",
   "execution_count": 19,
   "metadata": {},
   "outputs": [
    {
     "data": {
      "image/png": "[encoded data removed]",
      "text/plain": [
       "<Figure size 841.68x595.44 with 2 Axes>"
      ]
     },
     "metadata": {
      "needs_background": "light"
     },
     "output_type": "display_data"
    }
   ],
   "source": [
    "_ = df.mf[['*']].dif.heat(title='All',annot=True)"
   ]
  },
  {
   "cell_type": "markdown",
   "metadata": {
    "slideshow": {
     "slide_type": "slide"
    }
   },
   "source": [
    "# The stucture of the model (dependency graph)"
   ]
  },
  {
   "cell_type": "code",
   "execution_count": 20,
   "metadata": {},
   "outputs": [
    {
     "data": {
      "image/png": "[encoded data removed]",
      "text/plain": [
       "<IPython.core.display.Image object>"
      ]
     },
     "metadata": {},
     "output_type": "display_data"
    }
   ],
   "source": [
    "df.mf.drawmodel()"
   ]
  },
  {
   "cell_type": "code",
   "execution_count": 21,
   "metadata": {
    "scrolled": false,
    "slideshow": {
     "slide_type": "subslide"
    }
   },
   "outputs": [
    {
     "data": {
      "image/svg+xml": [
       "<svg height=\"391pt\" viewBox=\"0.00 0.00 432.00 390.53\" width=\"432pt\" xmlns=\"http://www.w3.org/2000/svg\" xmlns:xlink=\"http://www.w3.org/1999/xlink\">\n",
       "<g class=\"graph\" id=\"graph0\" transform=\"scale(0.411514 0.411514) rotate(0) translate(4 945)\">\n",
       "<title>TD</title>\n",
       "<polygon fill=\"white\" points=\"-4,4 -4,-945 1045.78,-945 1045.78,4 -4,4\" stroke=\"none\"/>\n",
       "<text font-family=\"Times New Roman,serif\" font-size=\"14.00\" text-anchor=\"middle\" x=\"520.892\" y=\"-7.8\">A_model_graph</text>\n",
       "<!-- LIABILITIES -->\n",
       "<g class=\"node\" id=\"node1\"><title>LIABILITIES</title>\n",
       "<polygon fill=\"#63b8ff\" points=\"949,-146 746,-146 746,-23 949,-23 949,-146\" stroke=\"black\"/>\n",
       "<polygon fill=\"none\" points=\"751.5,-119.5 751.5,-140.5 944.5,-140.5 944.5,-119.5 751.5,-119.5\" stroke=\"black\"/>\n",
       "<text fill=\"blue\" font-family=\"Times New Roman,serif\" font-size=\"14.00\" text-anchor=\"start\" x=\"808.5\" y=\"-126.3\">LIABILITIES</text>\n",
       "<polygon fill=\"none\" points=\"751.5,-96.5 751.5,-117.5 785.5,-117.5 785.5,-96.5 751.5,-96.5\" stroke=\"black\"/>\n",
       "<text fill=\"blue\" font-family=\"Times New Roman,serif\" font-size=\"14.00\" text-anchor=\"start\" x=\"754.5\" y=\"-103.3\">Per</text>\n",
       "<polygon fill=\"none\" points=\"787.5,-96.5 787.5,-117.5 838.5,-117.5 838.5,-96.5 787.5,-96.5\" stroke=\"black\"/>\n",
       "<text fill=\"blue\" font-family=\"Times New Roman,serif\" font-size=\"14.00\" text-anchor=\"start\" x=\"799\" y=\"-103.3\">2019</text>\n",
       "<polygon fill=\"none\" points=\"840.5,-96.5 840.5,-117.5 891.5,-117.5 891.5,-96.5 840.5,-96.5\" stroke=\"black\"/>\n",
       "<text fill=\"blue\" font-family=\"Times New Roman,serif\" font-size=\"14.00\" text-anchor=\"start\" x=\"852\" y=\"-103.3\">2020</text>\n",
       "<polygon fill=\"none\" points=\"893.5,-96.5 893.5,-117.5 944.5,-117.5 944.5,-96.5 893.5,-96.5\" stroke=\"black\"/>\n",
       "<text fill=\"blue\" font-family=\"Times New Roman,serif\" font-size=\"14.00\" text-anchor=\"start\" x=\"905\" y=\"-103.3\">2021</text>\n",
       "<polygon fill=\"none\" points=\"751.5,-73.5 751.5,-94.5 785.5,-94.5 785.5,-73.5 751.5,-73.5\" stroke=\"black\"/>\n",
       "<text fill=\"blue\" font-family=\"Times New Roman,serif\" font-size=\"14.00\" text-anchor=\"start\" x=\"754.5\" y=\"-80.3\">Base</text>\n",
       "<polygon fill=\"none\" points=\"787.5,-73.5 787.5,-94.5 838.5,-94.5 838.5,-73.5 787.5,-73.5\" stroke=\"black\"/>\n",
       "<text fill=\"blue\" font-family=\"Times New Roman,serif\" font-size=\"14.00\" text-anchor=\"start\" x=\"790.5\" y=\"-80.3\">135.000</text>\n",
       "<polygon fill=\"none\" points=\"840.5,-73.5 840.5,-94.5 891.5,-94.5 891.5,-73.5 840.5,-73.5\" stroke=\"black\"/>\n",
       "<text fill=\"blue\" font-family=\"Times New Roman,serif\" font-size=\"14.00\" text-anchor=\"start\" x=\"843.5\" y=\"-80.3\">166.000</text>\n",
       "<polygon fill=\"none\" points=\"893.5,-73.5 893.5,-94.5 944.5,-94.5 944.5,-73.5 893.5,-73.5\" stroke=\"black\"/>\n",
       "<text fill=\"blue\" font-family=\"Times New Roman,serif\" font-size=\"14.00\" text-anchor=\"start\" x=\"896.5\" y=\"-80.3\">207.000</text>\n",
       "<polygon fill=\"none\" points=\"751.5,-50.5 751.5,-71.5 785.5,-71.5 785.5,-50.5 751.5,-50.5\" stroke=\"black\"/>\n",
       "<text fill=\"blue\" font-family=\"Times New Roman,serif\" font-size=\"14.00\" text-anchor=\"start\" x=\"754.5\" y=\"-57.3\">Last</text>\n",
       "<polygon fill=\"none\" points=\"787.5,-50.5 787.5,-71.5 838.5,-71.5 838.5,-50.5 787.5,-50.5\" stroke=\"black\"/>\n",
       "<text fill=\"blue\" font-family=\"Times New Roman,serif\" font-size=\"14.00\" text-anchor=\"start\" x=\"790.5\" y=\"-57.3\">155.000</text>\n",
       "<polygon fill=\"none\" points=\"840.5,-50.5 840.5,-71.5 891.5,-71.5 891.5,-50.5 840.5,-50.5\" stroke=\"black\"/>\n",
       "<text fill=\"blue\" font-family=\"Times New Roman,serif\" font-size=\"14.00\" text-anchor=\"start\" x=\"843.5\" y=\"-57.3\">206.000</text>\n",
       "<polygon fill=\"none\" points=\"893.5,-50.5 893.5,-71.5 944.5,-71.5 944.5,-50.5 893.5,-50.5\" stroke=\"black\"/>\n",
       "<text fill=\"blue\" font-family=\"Times New Roman,serif\" font-size=\"14.00\" text-anchor=\"start\" x=\"896.5\" y=\"-57.3\">287.000</text>\n",
       "<polygon fill=\"none\" points=\"751.5,-27.5 751.5,-48.5 785.5,-48.5 785.5,-27.5 751.5,-27.5\" stroke=\"black\"/>\n",
       "<text fill=\"blue\" font-family=\"Times New Roman,serif\" font-size=\"14.00\" text-anchor=\"start\" x=\"754.5\" y=\"-34.3\">Diff</text>\n",
       "<polygon fill=\"none\" points=\"787.5,-27.5 787.5,-48.5 838.5,-48.5 838.5,-27.5 787.5,-27.5\" stroke=\"black\"/>\n",
       "<text fill=\"blue\" font-family=\"Times New Roman,serif\" font-size=\"14.00\" text-anchor=\"start\" x=\"797.5\" y=\"-34.3\">20.000</text>\n",
       "<polygon fill=\"none\" points=\"840.5,-27.5 840.5,-48.5 891.5,-48.5 891.5,-27.5 840.5,-27.5\" stroke=\"black\"/>\n",
       "<text fill=\"blue\" font-family=\"Times New Roman,serif\" font-size=\"14.00\" text-anchor=\"start\" x=\"850.5\" y=\"-34.3\">40.000</text>\n",
       "<polygon fill=\"none\" points=\"893.5,-27.5 893.5,-48.5 944.5,-48.5 944.5,-27.5 893.5,-27.5\" stroke=\"black\"/>\n",
       "<text fill=\"blue\" font-family=\"Times New Roman,serif\" font-size=\"14.00\" text-anchor=\"start\" x=\"903.5\" y=\"-34.3\">80.000</text>\n",
       "<polygon fill=\"none\" points=\"748,-25 748,-144 947,-144 947,-25 748,-25\" stroke=\"black\"/>\n",
       "</g>\n",
       "<!-- LOAN -->\n",
       "<g class=\"node\" id=\"node2\"><title>LOAN</title>\n",
       "<polygon fill=\"#63b8ff\" points=\"203,-782 0,-782 0,-659 203,-659 203,-782\" stroke=\"black\"/>\n",
       "<polygon fill=\"none\" points=\"5.5,-755.5 5.5,-776.5 198.5,-776.5 198.5,-755.5 5.5,-755.5\" stroke=\"black\"/>\n",
       "<text fill=\"blue\" font-family=\"Times New Roman,serif\" font-size=\"14.00\" text-anchor=\"start\" x=\"82.5\" y=\"-762.3\">LOAN</text>\n",
       "<polygon fill=\"none\" points=\"5.5,-732.5 5.5,-753.5 39.5,-753.5 39.5,-732.5 5.5,-732.5\" stroke=\"black\"/>\n",
       "<text fill=\"blue\" font-family=\"Times New Roman,serif\" font-size=\"14.00\" text-anchor=\"start\" x=\"8.5\" y=\"-739.3\">Per</text>\n",
       "<polygon fill=\"none\" points=\"41.5,-732.5 41.5,-753.5 92.5,-753.5 92.5,-732.5 41.5,-732.5\" stroke=\"black\"/>\n",
       "<text fill=\"blue\" font-family=\"Times New Roman,serif\" font-size=\"14.00\" text-anchor=\"start\" x=\"53\" y=\"-739.3\">2019</text>\n",
       "<polygon fill=\"none\" points=\"94.5,-732.5 94.5,-753.5 145.5,-753.5 145.5,-732.5 94.5,-732.5\" stroke=\"black\"/>\n",
       "<text fill=\"blue\" font-family=\"Times New Roman,serif\" font-size=\"14.00\" text-anchor=\"start\" x=\"106\" y=\"-739.3\">2020</text>\n",
       "<polygon fill=\"none\" points=\"147.5,-732.5 147.5,-753.5 198.5,-753.5 198.5,-732.5 147.5,-732.5\" stroke=\"black\"/>\n",
       "<text fill=\"blue\" font-family=\"Times New Roman,serif\" font-size=\"14.00\" text-anchor=\"start\" x=\"159\" y=\"-739.3\">2021</text>\n",
       "<polygon fill=\"none\" points=\"5.5,-709.5 5.5,-730.5 39.5,-730.5 39.5,-709.5 5.5,-709.5\" stroke=\"black\"/>\n",
       "<text fill=\"blue\" font-family=\"Times New Roman,serif\" font-size=\"14.00\" text-anchor=\"start\" x=\"8.5\" y=\"-716.3\">Base</text>\n",
       "<polygon fill=\"none\" points=\"41.5,-709.5 41.5,-730.5 92.5,-730.5 92.5,-709.5 41.5,-709.5\" stroke=\"black\"/>\n",
       "<text fill=\"blue\" font-family=\"Times New Roman,serif\" font-size=\"14.00\" text-anchor=\"start\" x=\"44.5\" y=\"-716.3\">120.000</text>\n",
       "<polygon fill=\"none\" points=\"94.5,-709.5 94.5,-730.5 145.5,-730.5 145.5,-709.5 94.5,-709.5\" stroke=\"black\"/>\n",
       "<text fill=\"blue\" font-family=\"Times New Roman,serif\" font-size=\"14.00\" text-anchor=\"start\" x=\"97.5\" y=\"-716.3\">150.000</text>\n",
       "<polygon fill=\"none\" points=\"147.5,-709.5 147.5,-730.5 198.5,-730.5 198.5,-709.5 147.5,-709.5\" stroke=\"black\"/>\n",
       "<text fill=\"blue\" font-family=\"Times New Roman,serif\" font-size=\"14.00\" text-anchor=\"start\" x=\"150.5\" y=\"-716.3\">190.000</text>\n",
       "<polygon fill=\"none\" points=\"5.5,-686.5 5.5,-707.5 39.5,-707.5 39.5,-686.5 5.5,-686.5\" stroke=\"black\"/>\n",
       "<text fill=\"blue\" font-family=\"Times New Roman,serif\" font-size=\"14.00\" text-anchor=\"start\" x=\"8.5\" y=\"-693.3\">Last</text>\n",
       "<polygon fill=\"none\" points=\"41.5,-686.5 41.5,-707.5 92.5,-707.5 92.5,-686.5 41.5,-686.5\" stroke=\"black\"/>\n",
       "<text fill=\"blue\" font-family=\"Times New Roman,serif\" font-size=\"14.00\" text-anchor=\"start\" x=\"44.5\" y=\"-693.3\">140.000</text>\n",
       "<polygon fill=\"none\" points=\"94.5,-686.5 94.5,-707.5 145.5,-707.5 145.5,-686.5 94.5,-686.5\" stroke=\"black\"/>\n",
       "<text fill=\"blue\" font-family=\"Times New Roman,serif\" font-size=\"14.00\" text-anchor=\"start\" x=\"97.5\" y=\"-693.3\">190.000</text>\n",
       "<polygon fill=\"none\" points=\"147.5,-686.5 147.5,-707.5 198.5,-707.5 198.5,-686.5 147.5,-686.5\" stroke=\"black\"/>\n",
       "<text fill=\"blue\" font-family=\"Times New Roman,serif\" font-size=\"14.00\" text-anchor=\"start\" x=\"150.5\" y=\"-693.3\">270.000</text>\n",
       "<polygon fill=\"none\" points=\"5.5,-663.5 5.5,-684.5 39.5,-684.5 39.5,-663.5 5.5,-663.5\" stroke=\"black\"/>\n",
       "<text fill=\"blue\" font-family=\"Times New Roman,serif\" font-size=\"14.00\" text-anchor=\"start\" x=\"8.5\" y=\"-670.3\">Diff</text>\n",
       "<polygon fill=\"none\" points=\"41.5,-663.5 41.5,-684.5 92.5,-684.5 92.5,-663.5 41.5,-663.5\" stroke=\"black\"/>\n",
       "<text fill=\"blue\" font-family=\"Times New Roman,serif\" font-size=\"14.00\" text-anchor=\"start\" x=\"51.5\" y=\"-670.3\">20.000</text>\n",
       "<polygon fill=\"none\" points=\"94.5,-663.5 94.5,-684.5 145.5,-684.5 145.5,-663.5 94.5,-663.5\" stroke=\"black\"/>\n",
       "<text fill=\"blue\" font-family=\"Times New Roman,serif\" font-size=\"14.00\" text-anchor=\"start\" x=\"104.5\" y=\"-670.3\">40.000</text>\n",
       "<polygon fill=\"none\" points=\"147.5,-663.5 147.5,-684.5 198.5,-684.5 198.5,-663.5 147.5,-663.5\" stroke=\"black\"/>\n",
       "<text fill=\"blue\" font-family=\"Times New Roman,serif\" font-size=\"14.00\" text-anchor=\"start\" x=\"157.5\" y=\"-670.3\">80.000</text>\n",
       "<polygon fill=\"none\" points=\"2,-661 2,-780 201,-780 201,-661 2,-661\" stroke=\"black\"/>\n",
       "</g>\n",
       "<!-- ASSETS -->\n",
       "<g class=\"node\" id=\"node3\"><title>ASSETS</title>\n",
       "<polygon fill=\"#63b8ff\" points=\"487,-623 284,-623 284,-500 487,-500 487,-623\" stroke=\"black\"/>\n",
       "<polygon fill=\"none\" points=\"289.5,-596.5 289.5,-617.5 482.5,-617.5 482.5,-596.5 289.5,-596.5\" stroke=\"black\"/>\n",
       "<text fill=\"blue\" font-family=\"Times New Roman,serif\" font-size=\"14.00\" text-anchor=\"start\" x=\"360\" y=\"-603.3\">ASSETS</text>\n",
       "<polygon fill=\"none\" points=\"289.5,-573.5 289.5,-594.5 323.5,-594.5 323.5,-573.5 289.5,-573.5\" stroke=\"black\"/>\n",
       "<text fill=\"blue\" font-family=\"Times New Roman,serif\" font-size=\"14.00\" text-anchor=\"start\" x=\"292.5\" y=\"-580.3\">Per</text>\n",
       "<polygon fill=\"none\" points=\"325.5,-573.5 325.5,-594.5 376.5,-594.5 376.5,-573.5 325.5,-573.5\" stroke=\"black\"/>\n",
       "<text fill=\"blue\" font-family=\"Times New Roman,serif\" font-size=\"14.00\" text-anchor=\"start\" x=\"337\" y=\"-580.3\">2019</text>\n",
       "<polygon fill=\"none\" points=\"378.5,-573.5 378.5,-594.5 429.5,-594.5 429.5,-573.5 378.5,-573.5\" stroke=\"black\"/>\n",
       "<text fill=\"blue\" font-family=\"Times New Roman,serif\" font-size=\"14.00\" text-anchor=\"start\" x=\"390\" y=\"-580.3\">2020</text>\n",
       "<polygon fill=\"none\" points=\"431.5,-573.5 431.5,-594.5 482.5,-594.5 482.5,-573.5 431.5,-573.5\" stroke=\"black\"/>\n",
       "<text fill=\"blue\" font-family=\"Times New Roman,serif\" font-size=\"14.00\" text-anchor=\"start\" x=\"443\" y=\"-580.3\">2021</text>\n",
       "<polygon fill=\"none\" points=\"289.5,-550.5 289.5,-571.5 323.5,-571.5 323.5,-550.5 289.5,-550.5\" stroke=\"black\"/>\n",
       "<text fill=\"blue\" font-family=\"Times New Roman,serif\" font-size=\"14.00\" text-anchor=\"start\" x=\"292.5\" y=\"-557.3\">Base</text>\n",
       "<polygon fill=\"none\" points=\"325.5,-550.5 325.5,-571.5 376.5,-571.5 376.5,-550.5 325.5,-550.5\" stroke=\"black\"/>\n",
       "<text fill=\"blue\" font-family=\"Times New Roman,serif\" font-size=\"14.00\" text-anchor=\"start\" x=\"328.5\" y=\"-557.3\">135.000</text>\n",
       "<polygon fill=\"none\" points=\"378.5,-550.5 378.5,-571.5 429.5,-571.5 429.5,-550.5 378.5,-550.5\" stroke=\"black\"/>\n",
       "<text fill=\"blue\" font-family=\"Times New Roman,serif\" font-size=\"14.00\" text-anchor=\"start\" x=\"381.5\" y=\"-557.3\">166.000</text>\n",
       "<polygon fill=\"none\" points=\"431.5,-550.5 431.5,-571.5 482.5,-571.5 482.5,-550.5 431.5,-550.5\" stroke=\"black\"/>\n",
       "<text fill=\"blue\" font-family=\"Times New Roman,serif\" font-size=\"14.00\" text-anchor=\"start\" x=\"434.5\" y=\"-557.3\">207.000</text>\n",
       "<polygon fill=\"none\" points=\"289.5,-527.5 289.5,-548.5 323.5,-548.5 323.5,-527.5 289.5,-527.5\" stroke=\"black\"/>\n",
       "<text fill=\"blue\" font-family=\"Times New Roman,serif\" font-size=\"14.00\" text-anchor=\"start\" x=\"292.5\" y=\"-534.3\">Last</text>\n",
       "<polygon fill=\"none\" points=\"325.5,-527.5 325.5,-548.5 376.5,-548.5 376.5,-527.5 325.5,-527.5\" stroke=\"black\"/>\n",
       "<text fill=\"blue\" font-family=\"Times New Roman,serif\" font-size=\"14.00\" text-anchor=\"start\" x=\"328.5\" y=\"-534.3\">155.000</text>\n",
       "<polygon fill=\"none\" points=\"378.5,-527.5 378.5,-548.5 429.5,-548.5 429.5,-527.5 378.5,-527.5\" stroke=\"black\"/>\n",
       "<text fill=\"blue\" font-family=\"Times New Roman,serif\" font-size=\"14.00\" text-anchor=\"start\" x=\"381.5\" y=\"-534.3\">206.000</text>\n",
       "<polygon fill=\"none\" points=\"431.5,-527.5 431.5,-548.5 482.5,-548.5 482.5,-527.5 431.5,-527.5\" stroke=\"black\"/>\n",
       "<text fill=\"blue\" font-family=\"Times New Roman,serif\" font-size=\"14.00\" text-anchor=\"start\" x=\"434.5\" y=\"-534.3\">287.000</text>\n",
       "<polygon fill=\"none\" points=\"289.5,-504.5 289.5,-525.5 323.5,-525.5 323.5,-504.5 289.5,-504.5\" stroke=\"black\"/>\n",
       "<text fill=\"blue\" font-family=\"Times New Roman,serif\" font-size=\"14.00\" text-anchor=\"start\" x=\"292.5\" y=\"-511.3\">Diff</text>\n",
       "<polygon fill=\"none\" points=\"325.5,-504.5 325.5,-525.5 376.5,-525.5 376.5,-504.5 325.5,-504.5\" stroke=\"black\"/>\n",
       "<text fill=\"blue\" font-family=\"Times New Roman,serif\" font-size=\"14.00\" text-anchor=\"start\" x=\"335.5\" y=\"-511.3\">20.000</text>\n",
       "<polygon fill=\"none\" points=\"378.5,-504.5 378.5,-525.5 429.5,-525.5 429.5,-504.5 378.5,-504.5\" stroke=\"black\"/>\n",
       "<text fill=\"blue\" font-family=\"Times New Roman,serif\" font-size=\"14.00\" text-anchor=\"start\" x=\"388.5\" y=\"-511.3\">40.000</text>\n",
       "<polygon fill=\"none\" points=\"431.5,-504.5 431.5,-525.5 482.5,-525.5 482.5,-504.5 431.5,-504.5\" stroke=\"black\"/>\n",
       "<text fill=\"blue\" font-family=\"Times New Roman,serif\" font-size=\"14.00\" text-anchor=\"start\" x=\"441.5\" y=\"-511.3\">80.000</text>\n",
       "<polygon fill=\"none\" points=\"286,-502 286,-621 485,-621 485,-502 286,-502\" stroke=\"black\"/>\n",
       "</g>\n",
       "<!-- LOAN&#45;&gt;ASSETS -->\n",
       "<g class=\"edge\" id=\"edge12\"><title>LOAN-&gt;ASSETS</title>\n",
       "<path d=\"M203.228,-663.263C226.374,-650.468 251.076,-636.812 274.582,-623.817\" fill=\"none\" stroke=\"black\"/>\n",
       "<polygon fill=\"black\" points=\"276.469,-626.773 283.527,-618.872 273.082,-620.647 276.469,-626.773\" stroke=\"black\"/>\n",
       "</g>\n",
       "<!-- LOAN(&#45;1) -->\n",
       "<g class=\"node\" id=\"node11\"><title>LOAN(-1)</title>\n",
       "<polygon fill=\"springgreen\" points=\"203,-623 0,-623 0,-500 203,-500 203,-623\" stroke=\"black\"/>\n",
       "<polygon fill=\"none\" points=\"5.5,-596.5 5.5,-617.5 198.5,-617.5 198.5,-596.5 5.5,-596.5\" stroke=\"black\"/>\n",
       "<text fill=\"blue\" font-family=\"Times New Roman,serif\" font-size=\"14.00\" text-anchor=\"start\" x=\"72.5\" y=\"-603.3\">LOAN(-1)</text>\n",
       "<polygon fill=\"none\" points=\"5.5,-573.5 5.5,-594.5 39.5,-594.5 39.5,-573.5 5.5,-573.5\" stroke=\"black\"/>\n",
       "<text fill=\"blue\" font-family=\"Times New Roman,serif\" font-size=\"14.00\" text-anchor=\"start\" x=\"8.5\" y=\"-580.3\">Per</text>\n",
       "<polygon fill=\"none\" points=\"41.5,-573.5 41.5,-594.5 92.5,-594.5 92.5,-573.5 41.5,-573.5\" stroke=\"black\"/>\n",
       "<text fill=\"blue\" font-family=\"Times New Roman,serif\" font-size=\"14.00\" text-anchor=\"start\" x=\"53\" y=\"-580.3\">2019</text>\n",
       "<polygon fill=\"none\" points=\"94.5,-573.5 94.5,-594.5 145.5,-594.5 145.5,-573.5 94.5,-573.5\" stroke=\"black\"/>\n",
       "<text fill=\"blue\" font-family=\"Times New Roman,serif\" font-size=\"14.00\" text-anchor=\"start\" x=\"106\" y=\"-580.3\">2020</text>\n",
       "<polygon fill=\"none\" points=\"147.5,-573.5 147.5,-594.5 198.5,-594.5 198.5,-573.5 147.5,-573.5\" stroke=\"black\"/>\n",
       "<text fill=\"blue\" font-family=\"Times New Roman,serif\" font-size=\"14.00\" text-anchor=\"start\" x=\"159\" y=\"-580.3\">2021</text>\n",
       "<polygon fill=\"none\" points=\"5.5,-550.5 5.5,-571.5 39.5,-571.5 39.5,-550.5 5.5,-550.5\" stroke=\"black\"/>\n",
       "<text fill=\"blue\" font-family=\"Times New Roman,serif\" font-size=\"14.00\" text-anchor=\"start\" x=\"8.5\" y=\"-557.3\">Base</text>\n",
       "<polygon fill=\"none\" points=\"41.5,-550.5 41.5,-571.5 92.5,-571.5 92.5,-550.5 41.5,-550.5\" stroke=\"black\"/>\n",
       "<text fill=\"blue\" font-family=\"Times New Roman,serif\" font-size=\"14.00\" text-anchor=\"start\" x=\"44.5\" y=\"-557.3\">100.000</text>\n",
       "<polygon fill=\"none\" points=\"94.5,-550.5 94.5,-571.5 145.5,-571.5 145.5,-550.5 94.5,-550.5\" stroke=\"black\"/>\n",
       "<text fill=\"blue\" font-family=\"Times New Roman,serif\" font-size=\"14.00\" text-anchor=\"start\" x=\"97.5\" y=\"-557.3\">120.000</text>\n",
       "<polygon fill=\"none\" points=\"147.5,-550.5 147.5,-571.5 198.5,-571.5 198.5,-550.5 147.5,-550.5\" stroke=\"black\"/>\n",
       "<text fill=\"blue\" font-family=\"Times New Roman,serif\" font-size=\"14.00\" text-anchor=\"start\" x=\"150.5\" y=\"-557.3\">150.000</text>\n",
       "<polygon fill=\"none\" points=\"5.5,-527.5 5.5,-548.5 39.5,-548.5 39.5,-527.5 5.5,-527.5\" stroke=\"black\"/>\n",
       "<text fill=\"blue\" font-family=\"Times New Roman,serif\" font-size=\"14.00\" text-anchor=\"start\" x=\"8.5\" y=\"-534.3\">Last</text>\n",
       "<polygon fill=\"none\" points=\"41.5,-527.5 41.5,-548.5 92.5,-548.5 92.5,-527.5 41.5,-527.5\" stroke=\"black\"/>\n",
       "<text fill=\"blue\" font-family=\"Times New Roman,serif\" font-size=\"14.00\" text-anchor=\"start\" x=\"44.5\" y=\"-534.3\">100.000</text>\n",
       "<polygon fill=\"none\" points=\"94.5,-527.5 94.5,-548.5 145.5,-548.5 145.5,-527.5 94.5,-527.5\" stroke=\"black\"/>\n",
       "<text fill=\"blue\" font-family=\"Times New Roman,serif\" font-size=\"14.00\" text-anchor=\"start\" x=\"97.5\" y=\"-534.3\">140.000</text>\n",
       "<polygon fill=\"none\" points=\"147.5,-527.5 147.5,-548.5 198.5,-548.5 198.5,-527.5 147.5,-527.5\" stroke=\"black\"/>\n",
       "<text fill=\"blue\" font-family=\"Times New Roman,serif\" font-size=\"14.00\" text-anchor=\"start\" x=\"150.5\" y=\"-534.3\">190.000</text>\n",
       "<polygon fill=\"none\" points=\"5.5,-504.5 5.5,-525.5 39.5,-525.5 39.5,-504.5 5.5,-504.5\" stroke=\"black\"/>\n",
       "<text fill=\"blue\" font-family=\"Times New Roman,serif\" font-size=\"14.00\" text-anchor=\"start\" x=\"8.5\" y=\"-511.3\">Diff</text>\n",
       "<polygon fill=\"none\" points=\"41.5,-504.5 41.5,-525.5 92.5,-525.5 92.5,-504.5 41.5,-504.5\" stroke=\"black\"/>\n",
       "<text fill=\"blue\" font-family=\"Times New Roman,serif\" font-size=\"14.00\" text-anchor=\"start\" x=\"58.5\" y=\"-511.3\">0.000</text>\n",
       "<polygon fill=\"none\" points=\"94.5,-504.5 94.5,-525.5 145.5,-525.5 145.5,-504.5 94.5,-504.5\" stroke=\"black\"/>\n",
       "<text fill=\"blue\" font-family=\"Times New Roman,serif\" font-size=\"14.00\" text-anchor=\"start\" x=\"104.5\" y=\"-511.3\">20.000</text>\n",
       "<polygon fill=\"none\" points=\"147.5,-504.5 147.5,-525.5 198.5,-525.5 198.5,-504.5 147.5,-504.5\" stroke=\"black\"/>\n",
       "<text fill=\"blue\" font-family=\"Times New Roman,serif\" font-size=\"14.00\" text-anchor=\"start\" x=\"157.5\" y=\"-511.3\">40.000</text>\n",
       "<polygon fill=\"none\" points=\"2,-502 2,-621 201,-621 201,-502 2,-502\" stroke=\"black\"/>\n",
       "</g>\n",
       "<!-- LOAN&#45;&gt;LOAN(&#45;1) -->\n",
       "<g class=\"edge\" id=\"edge8\"><title>LOAN-&gt;LOAN(-1)</title>\n",
       "<path d=\"M94.9067,-658.8C94.7558,-650.365 94.7139,-641.641 94.7809,-633.045\" fill=\"none\" stroke=\"black\"/>\n",
       "<polygon fill=\"black\" points=\"98.2806,-633.083 94.9096,-623.039 91.2812,-632.993 98.2806,-633.083\" stroke=\"black\"/>\n",
       "</g>\n",
       "<!-- EQUITY -->\n",
       "<g class=\"node\" id=\"node4\"><title>EQUITY</title>\n",
       "<polygon fill=\"#63b8ff\" points=\"879.5,-305 697.5,-305 697.5,-182 879.5,-182 879.5,-305\" stroke=\"black\"/>\n",
       "<polygon fill=\"none\" points=\"702.5,-278.5 702.5,-299.5 874.5,-299.5 874.5,-278.5 702.5,-278.5\" stroke=\"black\"/>\n",
       "<text fill=\"blue\" font-family=\"Times New Roman,serif\" font-size=\"14.00\" text-anchor=\"start\" x=\"762.5\" y=\"-285.3\">EQUITY</text>\n",
       "<polygon fill=\"none\" points=\"702.5,-255.5 702.5,-276.5 736.5,-276.5 736.5,-255.5 702.5,-255.5\" stroke=\"black\"/>\n",
       "<text fill=\"blue\" font-family=\"Times New Roman,serif\" font-size=\"14.00\" text-anchor=\"start\" x=\"705.5\" y=\"-262.3\">Per</text>\n",
       "<polygon fill=\"none\" points=\"738.5,-255.5 738.5,-276.5 782.5,-276.5 782.5,-255.5 738.5,-255.5\" stroke=\"black\"/>\n",
       "<text fill=\"blue\" font-family=\"Times New Roman,serif\" font-size=\"14.00\" text-anchor=\"start\" x=\"746.5\" y=\"-262.3\">2019</text>\n",
       "<polygon fill=\"none\" points=\"784.5,-255.5 784.5,-276.5 828.5,-276.5 828.5,-255.5 784.5,-255.5\" stroke=\"black\"/>\n",
       "<text fill=\"blue\" font-family=\"Times New Roman,serif\" font-size=\"14.00\" text-anchor=\"start\" x=\"792.5\" y=\"-262.3\">2020</text>\n",
       "<polygon fill=\"none\" points=\"830.5,-255.5 830.5,-276.5 874.5,-276.5 874.5,-255.5 830.5,-255.5\" stroke=\"black\"/>\n",
       "<text fill=\"blue\" font-family=\"Times New Roman,serif\" font-size=\"14.00\" text-anchor=\"start\" x=\"838.5\" y=\"-262.3\">2021</text>\n",
       "<polygon fill=\"none\" points=\"702.5,-232.5 702.5,-253.5 736.5,-253.5 736.5,-232.5 702.5,-232.5\" stroke=\"black\"/>\n",
       "<text fill=\"blue\" font-family=\"Times New Roman,serif\" font-size=\"14.00\" text-anchor=\"start\" x=\"705.5\" y=\"-239.3\">Base</text>\n",
       "<polygon fill=\"none\" points=\"738.5,-232.5 738.5,-253.5 782.5,-253.5 782.5,-232.5 738.5,-232.5\" stroke=\"black\"/>\n",
       "<text fill=\"blue\" font-family=\"Times New Roman,serif\" font-size=\"14.00\" text-anchor=\"start\" x=\"741.5\" y=\"-239.3\">14.000</text>\n",
       "<polygon fill=\"none\" points=\"784.5,-232.5 784.5,-253.5 828.5,-253.5 828.5,-232.5 784.5,-232.5\" stroke=\"black\"/>\n",
       "<text fill=\"blue\" font-family=\"Times New Roman,serif\" font-size=\"14.00\" text-anchor=\"start\" x=\"787.5\" y=\"-239.3\">15.000</text>\n",
       "<polygon fill=\"none\" points=\"830.5,-232.5 830.5,-253.5 874.5,-253.5 874.5,-232.5 830.5,-232.5\" stroke=\"black\"/>\n",
       "<text fill=\"blue\" font-family=\"Times New Roman,serif\" font-size=\"14.00\" text-anchor=\"start\" x=\"833.5\" y=\"-239.3\">16.000</text>\n",
       "<polygon fill=\"none\" points=\"702.5,-209.5 702.5,-230.5 736.5,-230.5 736.5,-209.5 702.5,-209.5\" stroke=\"black\"/>\n",
       "<text fill=\"blue\" font-family=\"Times New Roman,serif\" font-size=\"14.00\" text-anchor=\"start\" x=\"705.5\" y=\"-216.3\">Last</text>\n",
       "<polygon fill=\"none\" points=\"738.5,-209.5 738.5,-230.5 782.5,-230.5 782.5,-209.5 738.5,-209.5\" stroke=\"black\"/>\n",
       "<text fill=\"blue\" font-family=\"Times New Roman,serif\" font-size=\"14.00\" text-anchor=\"start\" x=\"741.5\" y=\"-216.3\">14.000</text>\n",
       "<polygon fill=\"none\" points=\"784.5,-209.5 784.5,-230.5 828.5,-230.5 828.5,-209.5 784.5,-209.5\" stroke=\"black\"/>\n",
       "<text fill=\"blue\" font-family=\"Times New Roman,serif\" font-size=\"14.00\" text-anchor=\"start\" x=\"787.5\" y=\"-216.3\">15.000</text>\n",
       "<polygon fill=\"none\" points=\"830.5,-209.5 830.5,-230.5 874.5,-230.5 874.5,-209.5 830.5,-209.5\" stroke=\"black\"/>\n",
       "<text fill=\"blue\" font-family=\"Times New Roman,serif\" font-size=\"14.00\" text-anchor=\"start\" x=\"833.5\" y=\"-216.3\">16.000</text>\n",
       "<polygon fill=\"none\" points=\"702.5,-186.5 702.5,-207.5 736.5,-207.5 736.5,-186.5 702.5,-186.5\" stroke=\"black\"/>\n",
       "<text fill=\"blue\" font-family=\"Times New Roman,serif\" font-size=\"14.00\" text-anchor=\"start\" x=\"705.5\" y=\"-193.3\">Diff</text>\n",
       "<polygon fill=\"none\" points=\"738.5,-186.5 738.5,-207.5 782.5,-207.5 782.5,-186.5 738.5,-186.5\" stroke=\"black\"/>\n",
       "<text fill=\"blue\" font-family=\"Times New Roman,serif\" font-size=\"14.00\" text-anchor=\"start\" x=\"748.5\" y=\"-193.3\">0.000</text>\n",
       "<polygon fill=\"none\" points=\"784.5,-186.5 784.5,-207.5 828.5,-207.5 828.5,-186.5 784.5,-186.5\" stroke=\"black\"/>\n",
       "<text fill=\"blue\" font-family=\"Times New Roman,serif\" font-size=\"14.00\" text-anchor=\"start\" x=\"794.5\" y=\"-193.3\">0.000</text>\n",
       "<polygon fill=\"none\" points=\"830.5,-186.5 830.5,-207.5 874.5,-207.5 874.5,-186.5 830.5,-186.5\" stroke=\"black\"/>\n",
       "<text fill=\"blue\" font-family=\"Times New Roman,serif\" font-size=\"14.00\" text-anchor=\"start\" x=\"840.5\" y=\"-193.3\">0.000</text>\n",
       "<polygon fill=\"none\" points=\"699.5,-184 699.5,-303 877.5,-303 877.5,-184 699.5,-184\" stroke=\"black\"/>\n",
       "</g>\n",
       "<!-- ASSETS&#45;&gt;EQUITY -->\n",
       "<g class=\"edge\" id=\"edge1\"><title>ASSETS-&gt;EQUITY</title>\n",
       "<path d=\"M432.746,-499.935C472.044,-452.406 531.411,-386.835 593.5,-341 622.265,-319.765 656.418,-301.04 688.042,-285.873\" fill=\"none\" stroke=\"black\"/>\n",
       "<polygon fill=\"black\" points=\"689.779,-288.923 697.325,-281.486 686.789,-282.594 689.779,-288.923\" stroke=\"black\"/>\n",
       "</g>\n",
       "<!-- EQUITY&#45;&gt;LIABILITIES -->\n",
       "<g class=\"edge\" id=\"edge3\"><title>EQUITY-&gt;LIABILITIES</title>\n",
       "<path d=\"M811.311,-181.8C814.55,-173.182 817.902,-164.261 821.2,-155.485\" fill=\"none\" stroke=\"black\"/>\n",
       "<polygon fill=\"black\" points=\"824.508,-156.631 824.75,-146.039 817.956,-154.168 824.508,-156.631\" stroke=\"black\"/>\n",
       "</g>\n",
       "<!-- NEW_DEPOSIT -->\n",
       "<g class=\"node\" id=\"node5\"><title>NEW_DEPOSIT</title>\n",
       "<polygon fill=\"yellow\" points=\"896.5,-941 714.5,-941 714.5,-818 896.5,-818 896.5,-941\" stroke=\"black\"/>\n",
       "<polygon fill=\"none\" points=\"719.5,-914.5 719.5,-935.5 891.5,-935.5 891.5,-914.5 719.5,-914.5\" stroke=\"black\"/>\n",
       "<text fill=\"blue\" font-family=\"Times New Roman,serif\" font-size=\"14.00\" text-anchor=\"start\" x=\"756.5\" y=\"-921.3\">NEW_DEPOSIT</text>\n",
       "<polygon fill=\"none\" points=\"719.5,-891.5 719.5,-912.5 753.5,-912.5 753.5,-891.5 719.5,-891.5\" stroke=\"black\"/>\n",
       "<text fill=\"blue\" font-family=\"Times New Roman,serif\" font-size=\"14.00\" text-anchor=\"start\" x=\"722.5\" y=\"-898.3\">Per</text>\n",
       "<polygon fill=\"none\" points=\"755.5,-891.5 755.5,-912.5 799.5,-912.5 799.5,-891.5 755.5,-891.5\" stroke=\"black\"/>\n",
       "<text fill=\"blue\" font-family=\"Times New Roman,serif\" font-size=\"14.00\" text-anchor=\"start\" x=\"763.5\" y=\"-898.3\">2019</text>\n",
       "<polygon fill=\"none\" points=\"801.5,-891.5 801.5,-912.5 845.5,-912.5 845.5,-891.5 801.5,-891.5\" stroke=\"black\"/>\n",
       "<text fill=\"blue\" font-family=\"Times New Roman,serif\" font-size=\"14.00\" text-anchor=\"start\" x=\"809.5\" y=\"-898.3\">2020</text>\n",
       "<polygon fill=\"none\" points=\"847.5,-891.5 847.5,-912.5 891.5,-912.5 891.5,-891.5 847.5,-891.5\" stroke=\"black\"/>\n",
       "<text fill=\"blue\" font-family=\"Times New Roman,serif\" font-size=\"14.00\" text-anchor=\"start\" x=\"855.5\" y=\"-898.3\">2021</text>\n",
       "<polygon fill=\"none\" points=\"719.5,-868.5 719.5,-889.5 753.5,-889.5 753.5,-868.5 719.5,-868.5\" stroke=\"black\"/>\n",
       "<text fill=\"blue\" font-family=\"Times New Roman,serif\" font-size=\"14.00\" text-anchor=\"start\" x=\"722.5\" y=\"-875.3\">Base</text>\n",
       "<polygon fill=\"none\" points=\"755.5,-868.5 755.5,-889.5 799.5,-889.5 799.5,-868.5 755.5,-868.5\" stroke=\"black\"/>\n",
       "<text fill=\"blue\" font-family=\"Times New Roman,serif\" font-size=\"14.00\" text-anchor=\"start\" x=\"765.5\" y=\"-875.3\">0.000</text>\n",
       "<polygon fill=\"none\" points=\"801.5,-868.5 801.5,-889.5 845.5,-889.5 845.5,-868.5 801.5,-868.5\" stroke=\"black\"/>\n",
       "<text fill=\"blue\" font-family=\"Times New Roman,serif\" font-size=\"14.00\" text-anchor=\"start\" x=\"811.5\" y=\"-875.3\">0.000</text>\n",
       "<polygon fill=\"none\" points=\"847.5,-868.5 847.5,-889.5 891.5,-889.5 891.5,-868.5 847.5,-868.5\" stroke=\"black\"/>\n",
       "<text fill=\"blue\" font-family=\"Times New Roman,serif\" font-size=\"14.00\" text-anchor=\"start\" x=\"857.5\" y=\"-875.3\">0.000</text>\n",
       "<polygon fill=\"none\" points=\"719.5,-845.5 719.5,-866.5 753.5,-866.5 753.5,-845.5 719.5,-845.5\" stroke=\"black\"/>\n",
       "<text fill=\"blue\" font-family=\"Times New Roman,serif\" font-size=\"14.00\" text-anchor=\"start\" x=\"722.5\" y=\"-852.3\">Last</text>\n",
       "<polygon fill=\"none\" points=\"755.5,-845.5 755.5,-866.5 799.5,-866.5 799.5,-845.5 755.5,-845.5\" stroke=\"black\"/>\n",
       "<text fill=\"blue\" font-family=\"Times New Roman,serif\" font-size=\"14.00\" text-anchor=\"start\" x=\"758.5\" y=\"-852.3\">30.000</text>\n",
       "<polygon fill=\"none\" points=\"801.5,-845.5 801.5,-866.5 845.5,-866.5 845.5,-845.5 801.5,-845.5\" stroke=\"black\"/>\n",
       "<text fill=\"blue\" font-family=\"Times New Roman,serif\" font-size=\"14.00\" text-anchor=\"start\" x=\"804.5\" y=\"-852.3\">25.000</text>\n",
       "<polygon fill=\"none\" points=\"847.5,-845.5 847.5,-866.5 891.5,-866.5 891.5,-845.5 847.5,-845.5\" stroke=\"black\"/>\n",
       "<text fill=\"blue\" font-family=\"Times New Roman,serif\" font-size=\"14.00\" text-anchor=\"start\" x=\"850.5\" y=\"-852.3\">50.000</text>\n",
       "<polygon fill=\"none\" points=\"719.5,-822.5 719.5,-843.5 753.5,-843.5 753.5,-822.5 719.5,-822.5\" stroke=\"black\"/>\n",
       "<text fill=\"blue\" font-family=\"Times New Roman,serif\" font-size=\"14.00\" text-anchor=\"start\" x=\"722.5\" y=\"-829.3\">Diff</text>\n",
       "<polygon fill=\"none\" points=\"755.5,-822.5 755.5,-843.5 799.5,-843.5 799.5,-822.5 755.5,-822.5\" stroke=\"black\"/>\n",
       "<text fill=\"blue\" font-family=\"Times New Roman,serif\" font-size=\"14.00\" text-anchor=\"start\" x=\"758.5\" y=\"-829.3\">30.000</text>\n",
       "<polygon fill=\"none\" points=\"801.5,-822.5 801.5,-843.5 845.5,-843.5 845.5,-822.5 801.5,-822.5\" stroke=\"black\"/>\n",
       "<text fill=\"blue\" font-family=\"Times New Roman,serif\" font-size=\"14.00\" text-anchor=\"start\" x=\"804.5\" y=\"-829.3\">25.000</text>\n",
       "<polygon fill=\"none\" points=\"847.5,-822.5 847.5,-843.5 891.5,-843.5 891.5,-822.5 847.5,-822.5\" stroke=\"black\"/>\n",
       "<text fill=\"blue\" font-family=\"Times New Roman,serif\" font-size=\"14.00\" text-anchor=\"start\" x=\"850.5\" y=\"-829.3\">50.000</text>\n",
       "<polygon fill=\"none\" points=\"716.5,-820 716.5,-939 894.5,-939 894.5,-820 716.5,-820\" stroke=\"black\"/>\n",
       "</g>\n",
       "<!-- NEW_BONDS -->\n",
       "<g class=\"node\" id=\"node8\"><title>NEW_BONDS</title>\n",
       "<polygon fill=\"#63b8ff\" points=\"793.5,-782 601.5,-782 601.5,-659 793.5,-659 793.5,-782\" stroke=\"black\"/>\n",
       "<polygon fill=\"none\" points=\"606.5,-755.5 606.5,-776.5 788.5,-776.5 788.5,-755.5 606.5,-755.5\" stroke=\"black\"/>\n",
       "<text fill=\"blue\" font-family=\"Times New Roman,serif\" font-size=\"14.00\" text-anchor=\"start\" x=\"654\" y=\"-762.3\">NEW_BONDS</text>\n",
       "<polygon fill=\"none\" points=\"606.5,-732.5 606.5,-753.5 640.5,-753.5 640.5,-732.5 606.5,-732.5\" stroke=\"black\"/>\n",
       "<text fill=\"blue\" font-family=\"Times New Roman,serif\" font-size=\"14.00\" text-anchor=\"start\" x=\"609.5\" y=\"-739.3\">Per</text>\n",
       "<polygon fill=\"none\" points=\"642.5,-732.5 642.5,-753.5 691.5,-753.5 691.5,-732.5 642.5,-732.5\" stroke=\"black\"/>\n",
       "<text fill=\"blue\" font-family=\"Times New Roman,serif\" font-size=\"14.00\" text-anchor=\"start\" x=\"653\" y=\"-739.3\">2019</text>\n",
       "<polygon fill=\"none\" points=\"693.5,-732.5 693.5,-753.5 737.5,-753.5 737.5,-732.5 693.5,-732.5\" stroke=\"black\"/>\n",
       "<text fill=\"blue\" font-family=\"Times New Roman,serif\" font-size=\"14.00\" text-anchor=\"start\" x=\"701.5\" y=\"-739.3\">2020</text>\n",
       "<polygon fill=\"none\" points=\"739.5,-732.5 739.5,-753.5 788.5,-753.5 788.5,-732.5 739.5,-732.5\" stroke=\"black\"/>\n",
       "<text fill=\"blue\" font-family=\"Times New Roman,serif\" font-size=\"14.00\" text-anchor=\"start\" x=\"750\" y=\"-739.3\">2021</text>\n",
       "<polygon fill=\"none\" points=\"606.5,-709.5 606.5,-730.5 640.5,-730.5 640.5,-709.5 606.5,-709.5\" stroke=\"black\"/>\n",
       "<text fill=\"blue\" font-family=\"Times New Roman,serif\" font-size=\"14.00\" text-anchor=\"start\" x=\"609.5\" y=\"-716.3\">Base</text>\n",
       "<polygon fill=\"none\" points=\"642.5,-709.5 642.5,-730.5 691.5,-730.5 691.5,-709.5 642.5,-709.5\" stroke=\"black\"/>\n",
       "<text fill=\"blue\" font-family=\"Times New Roman,serif\" font-size=\"14.00\" text-anchor=\"start\" x=\"650.5\" y=\"-716.3\">20.000</text>\n",
       "<polygon fill=\"none\" points=\"693.5,-709.5 693.5,-730.5 737.5,-730.5 737.5,-709.5 693.5,-709.5\" stroke=\"black\"/>\n",
       "<text fill=\"blue\" font-family=\"Times New Roman,serif\" font-size=\"14.00\" text-anchor=\"start\" x=\"696.5\" y=\"-716.3\">30.000</text>\n",
       "<polygon fill=\"none\" points=\"739.5,-709.5 739.5,-730.5 788.5,-730.5 788.5,-709.5 739.5,-709.5\" stroke=\"black\"/>\n",
       "<text fill=\"blue\" font-family=\"Times New Roman,serif\" font-size=\"14.00\" text-anchor=\"start\" x=\"747.5\" y=\"-716.3\">40.000</text>\n",
       "<polygon fill=\"none\" points=\"606.5,-686.5 606.5,-707.5 640.5,-707.5 640.5,-686.5 606.5,-686.5\" stroke=\"black\"/>\n",
       "<text fill=\"blue\" font-family=\"Times New Roman,serif\" font-size=\"14.00\" text-anchor=\"start\" x=\"609.5\" y=\"-693.3\">Last</text>\n",
       "<polygon fill=\"none\" points=\"642.5,-686.5 642.5,-707.5 691.5,-707.5 691.5,-686.5 642.5,-686.5\" stroke=\"black\"/>\n",
       "<text fill=\"blue\" font-family=\"Times New Roman,serif\" font-size=\"14.00\" text-anchor=\"start\" x=\"650.5\" y=\"-693.3\">10.000</text>\n",
       "<polygon fill=\"none\" points=\"693.5,-686.5 693.5,-707.5 737.5,-707.5 737.5,-686.5 693.5,-686.5\" stroke=\"black\"/>\n",
       "<text fill=\"blue\" font-family=\"Times New Roman,serif\" font-size=\"14.00\" text-anchor=\"start\" x=\"696.5\" y=\"-693.3\">25.000</text>\n",
       "<polygon fill=\"none\" points=\"739.5,-686.5 739.5,-707.5 788.5,-707.5 788.5,-686.5 739.5,-686.5\" stroke=\"black\"/>\n",
       "<text fill=\"blue\" font-family=\"Times New Roman,serif\" font-size=\"14.00\" text-anchor=\"start\" x=\"747.5\" y=\"-693.3\">30.000</text>\n",
       "<polygon fill=\"none\" points=\"606.5,-663.5 606.5,-684.5 640.5,-684.5 640.5,-663.5 606.5,-663.5\" stroke=\"black\"/>\n",
       "<text fill=\"blue\" font-family=\"Times New Roman,serif\" font-size=\"14.00\" text-anchor=\"start\" x=\"609.5\" y=\"-670.3\">Diff</text>\n",
       "<polygon fill=\"none\" points=\"642.5,-663.5 642.5,-684.5 691.5,-684.5 691.5,-663.5 642.5,-663.5\" stroke=\"black\"/>\n",
       "<text fill=\"blue\" font-family=\"Times New Roman,serif\" font-size=\"14.00\" text-anchor=\"start\" x=\"645.5\" y=\"-670.3\">-10.000</text>\n",
       "<polygon fill=\"none\" points=\"693.5,-663.5 693.5,-684.5 737.5,-684.5 737.5,-663.5 693.5,-663.5\" stroke=\"black\"/>\n",
       "<text fill=\"blue\" font-family=\"Times New Roman,serif\" font-size=\"14.00\" text-anchor=\"start\" x=\"698.5\" y=\"-670.3\">-5.000</text>\n",
       "<polygon fill=\"none\" points=\"739.5,-663.5 739.5,-684.5 788.5,-684.5 788.5,-663.5 739.5,-663.5\" stroke=\"black\"/>\n",
       "<text fill=\"blue\" font-family=\"Times New Roman,serif\" font-size=\"14.00\" text-anchor=\"start\" x=\"742.5\" y=\"-670.3\">-10.000</text>\n",
       "<polygon fill=\"none\" points=\"603.5,-661 603.5,-780 791.5,-780 791.5,-661 603.5,-661\" stroke=\"black\"/>\n",
       "</g>\n",
       "<!-- NEW_DEPOSIT&#45;&gt;NEW_BONDS -->\n",
       "<g class=\"edge\" id=\"edge6\"><title>NEW_DEPOSIT-&gt;NEW_BONDS</title>\n",
       "<path d=\"M763.744,-817.8C757.564,-808.815 751.157,-799.502 744.872,-790.365\" fill=\"none\" stroke=\"black\"/>\n",
       "<polygon fill=\"black\" points=\"747.696,-788.294 739.145,-782.039 741.929,-792.261 747.696,-788.294\" stroke=\"black\"/>\n",
       "</g>\n",
       "<!-- DEPOSIT -->\n",
       "<g class=\"node\" id=\"node10\"><title>DEPOSIT</title>\n",
       "<polygon fill=\"#63b8ff\" points=\"1015,-782 812,-782 812,-659 1015,-659 1015,-782\" stroke=\"black\"/>\n",
       "<polygon fill=\"none\" points=\"817.5,-755.5 817.5,-776.5 1010.5,-776.5 1010.5,-755.5 817.5,-755.5\" stroke=\"black\"/>\n",
       "<text fill=\"blue\" font-family=\"Times New Roman,serif\" font-size=\"14.00\" text-anchor=\"start\" x=\"884.5\" y=\"-762.3\">DEPOSIT</text>\n",
       "<polygon fill=\"none\" points=\"817.5,-732.5 817.5,-753.5 851.5,-753.5 851.5,-732.5 817.5,-732.5\" stroke=\"black\"/>\n",
       "<text fill=\"blue\" font-family=\"Times New Roman,serif\" font-size=\"14.00\" text-anchor=\"start\" x=\"820.5\" y=\"-739.3\">Per</text>\n",
       "<polygon fill=\"none\" points=\"853.5,-732.5 853.5,-753.5 904.5,-753.5 904.5,-732.5 853.5,-732.5\" stroke=\"black\"/>\n",
       "<text fill=\"blue\" font-family=\"Times New Roman,serif\" font-size=\"14.00\" text-anchor=\"start\" x=\"865\" y=\"-739.3\">2019</text>\n",
       "<polygon fill=\"none\" points=\"906.5,-732.5 906.5,-753.5 957.5,-753.5 957.5,-732.5 906.5,-732.5\" stroke=\"black\"/>\n",
       "<text fill=\"blue\" font-family=\"Times New Roman,serif\" font-size=\"14.00\" text-anchor=\"start\" x=\"918\" y=\"-739.3\">2020</text>\n",
       "<polygon fill=\"none\" points=\"959.5,-732.5 959.5,-753.5 1010.5,-753.5 1010.5,-732.5 959.5,-732.5\" stroke=\"black\"/>\n",
       "<text fill=\"blue\" font-family=\"Times New Roman,serif\" font-size=\"14.00\" text-anchor=\"start\" x=\"971\" y=\"-739.3\">2021</text>\n",
       "<polygon fill=\"none\" points=\"817.5,-709.5 817.5,-730.5 851.5,-730.5 851.5,-709.5 817.5,-709.5\" stroke=\"black\"/>\n",
       "<text fill=\"blue\" font-family=\"Times New Roman,serif\" font-size=\"14.00\" text-anchor=\"start\" x=\"820.5\" y=\"-716.3\">Base</text>\n",
       "<polygon fill=\"none\" points=\"853.5,-709.5 853.5,-730.5 904.5,-730.5 904.5,-709.5 853.5,-709.5\" stroke=\"black\"/>\n",
       "<text fill=\"blue\" font-family=\"Times New Roman,serif\" font-size=\"14.00\" text-anchor=\"start\" x=\"856.5\" y=\"-716.3\">100.000</text>\n",
       "<polygon fill=\"none\" points=\"906.5,-709.5 906.5,-730.5 957.5,-730.5 957.5,-709.5 906.5,-709.5\" stroke=\"black\"/>\n",
       "<text fill=\"blue\" font-family=\"Times New Roman,serif\" font-size=\"14.00\" text-anchor=\"start\" x=\"909.5\" y=\"-716.3\">100.000</text>\n",
       "<polygon fill=\"none\" points=\"959.5,-709.5 959.5,-730.5 1010.5,-730.5 1010.5,-709.5 959.5,-709.5\" stroke=\"black\"/>\n",
       "<text fill=\"blue\" font-family=\"Times New Roman,serif\" font-size=\"14.00\" text-anchor=\"start\" x=\"962.5\" y=\"-716.3\">100.000</text>\n",
       "<polygon fill=\"none\" points=\"817.5,-686.5 817.5,-707.5 851.5,-707.5 851.5,-686.5 817.5,-686.5\" stroke=\"black\"/>\n",
       "<text fill=\"blue\" font-family=\"Times New Roman,serif\" font-size=\"14.00\" text-anchor=\"start\" x=\"820.5\" y=\"-693.3\">Last</text>\n",
       "<polygon fill=\"none\" points=\"853.5,-686.5 853.5,-707.5 904.5,-707.5 904.5,-686.5 853.5,-686.5\" stroke=\"black\"/>\n",
       "<text fill=\"blue\" font-family=\"Times New Roman,serif\" font-size=\"14.00\" text-anchor=\"start\" x=\"856.5\" y=\"-693.3\">130.000</text>\n",
       "<polygon fill=\"none\" points=\"906.5,-686.5 906.5,-707.5 957.5,-707.5 957.5,-686.5 906.5,-686.5\" stroke=\"black\"/>\n",
       "<text fill=\"blue\" font-family=\"Times New Roman,serif\" font-size=\"14.00\" text-anchor=\"start\" x=\"909.5\" y=\"-693.3\">155.000</text>\n",
       "<polygon fill=\"none\" points=\"959.5,-686.5 959.5,-707.5 1010.5,-707.5 1010.5,-686.5 959.5,-686.5\" stroke=\"black\"/>\n",
       "<text fill=\"blue\" font-family=\"Times New Roman,serif\" font-size=\"14.00\" text-anchor=\"start\" x=\"962.5\" y=\"-693.3\">205.000</text>\n",
       "<polygon fill=\"none\" points=\"817.5,-663.5 817.5,-684.5 851.5,-684.5 851.5,-663.5 817.5,-663.5\" stroke=\"black\"/>\n",
       "<text fill=\"blue\" font-family=\"Times New Roman,serif\" font-size=\"14.00\" text-anchor=\"start\" x=\"820.5\" y=\"-670.3\">Diff</text>\n",
       "<polygon fill=\"none\" points=\"853.5,-663.5 853.5,-684.5 904.5,-684.5 904.5,-663.5 853.5,-663.5\" stroke=\"black\"/>\n",
       "<text fill=\"blue\" font-family=\"Times New Roman,serif\" font-size=\"14.00\" text-anchor=\"start\" x=\"863.5\" y=\"-670.3\">30.000</text>\n",
       "<polygon fill=\"none\" points=\"906.5,-663.5 906.5,-684.5 957.5,-684.5 957.5,-663.5 906.5,-663.5\" stroke=\"black\"/>\n",
       "<text fill=\"blue\" font-family=\"Times New Roman,serif\" font-size=\"14.00\" text-anchor=\"start\" x=\"916.5\" y=\"-670.3\">55.000</text>\n",
       "<polygon fill=\"none\" points=\"959.5,-663.5 959.5,-684.5 1010.5,-684.5 1010.5,-663.5 959.5,-663.5\" stroke=\"black\"/>\n",
       "<text fill=\"blue\" font-family=\"Times New Roman,serif\" font-size=\"14.00\" text-anchor=\"start\" x=\"962.5\" y=\"-670.3\">105.000</text>\n",
       "<polygon fill=\"none\" points=\"814,-661 814,-780 1013,-780 1013,-661 814,-661\" stroke=\"black\"/>\n",
       "</g>\n",
       "<!-- NEW_DEPOSIT&#45;&gt;DEPOSIT -->\n",
       "<g class=\"edge\" id=\"edge18\"><title>NEW_DEPOSIT-&gt;DEPOSIT</title>\n",
       "<path d=\"M847.256,-817.8C853.436,-808.815 859.843,-799.502 866.128,-790.365\" fill=\"none\" stroke=\"black\"/>\n",
       "<polygon fill=\"black\" points=\"869.071,-792.261 871.855,-782.039 863.304,-788.294 869.071,-792.261\" stroke=\"black\"/>\n",
       "</g>\n",
       "<!-- FUNDING -->\n",
       "<g class=\"node\" id=\"node6\"><title>FUNDING</title>\n",
       "<polygon fill=\"#63b8ff\" points=\"1009,-464 806,-464 806,-341 1009,-341 1009,-464\" stroke=\"black\"/>\n",
       "<polygon fill=\"none\" points=\"811.5,-437.5 811.5,-458.5 1004.5,-458.5 1004.5,-437.5 811.5,-437.5\" stroke=\"black\"/>\n",
       "<text fill=\"blue\" font-family=\"Times New Roman,serif\" font-size=\"14.00\" text-anchor=\"start\" x=\"876.5\" y=\"-444.3\">FUNDING</text>\n",
       "<polygon fill=\"none\" points=\"811.5,-414.5 811.5,-435.5 845.5,-435.5 845.5,-414.5 811.5,-414.5\" stroke=\"black\"/>\n",
       "<text fill=\"blue\" font-family=\"Times New Roman,serif\" font-size=\"14.00\" text-anchor=\"start\" x=\"814.5\" y=\"-421.3\">Per</text>\n",
       "<polygon fill=\"none\" points=\"847.5,-414.5 847.5,-435.5 898.5,-435.5 898.5,-414.5 847.5,-414.5\" stroke=\"black\"/>\n",
       "<text fill=\"blue\" font-family=\"Times New Roman,serif\" font-size=\"14.00\" text-anchor=\"start\" x=\"859\" y=\"-421.3\">2019</text>\n",
       "<polygon fill=\"none\" points=\"900.5,-414.5 900.5,-435.5 951.5,-435.5 951.5,-414.5 900.5,-414.5\" stroke=\"black\"/>\n",
       "<text fill=\"blue\" font-family=\"Times New Roman,serif\" font-size=\"14.00\" text-anchor=\"start\" x=\"912\" y=\"-421.3\">2020</text>\n",
       "<polygon fill=\"none\" points=\"953.5,-414.5 953.5,-435.5 1004.5,-435.5 1004.5,-414.5 953.5,-414.5\" stroke=\"black\"/>\n",
       "<text fill=\"blue\" font-family=\"Times New Roman,serif\" font-size=\"14.00\" text-anchor=\"start\" x=\"965\" y=\"-421.3\">2021</text>\n",
       "<polygon fill=\"none\" points=\"811.5,-391.5 811.5,-412.5 845.5,-412.5 845.5,-391.5 811.5,-391.5\" stroke=\"black\"/>\n",
       "<text fill=\"blue\" font-family=\"Times New Roman,serif\" font-size=\"14.00\" text-anchor=\"start\" x=\"814.5\" y=\"-398.3\">Base</text>\n",
       "<polygon fill=\"none\" points=\"847.5,-391.5 847.5,-412.5 898.5,-412.5 898.5,-391.5 847.5,-391.5\" stroke=\"black\"/>\n",
       "<text fill=\"blue\" font-family=\"Times New Roman,serif\" font-size=\"14.00\" text-anchor=\"start\" x=\"850.5\" y=\"-398.3\">121.000</text>\n",
       "<polygon fill=\"none\" points=\"900.5,-391.5 900.5,-412.5 951.5,-412.5 951.5,-391.5 900.5,-391.5\" stroke=\"black\"/>\n",
       "<text fill=\"blue\" font-family=\"Times New Roman,serif\" font-size=\"14.00\" text-anchor=\"start\" x=\"903.5\" y=\"-398.3\">151.000</text>\n",
       "<polygon fill=\"none\" points=\"953.5,-391.5 953.5,-412.5 1004.5,-412.5 1004.5,-391.5 953.5,-391.5\" stroke=\"black\"/>\n",
       "<text fill=\"blue\" font-family=\"Times New Roman,serif\" font-size=\"14.00\" text-anchor=\"start\" x=\"956.5\" y=\"-398.3\">191.000</text>\n",
       "<polygon fill=\"none\" points=\"811.5,-368.5 811.5,-389.5 845.5,-389.5 845.5,-368.5 811.5,-368.5\" stroke=\"black\"/>\n",
       "<text fill=\"blue\" font-family=\"Times New Roman,serif\" font-size=\"14.00\" text-anchor=\"start\" x=\"814.5\" y=\"-375.3\">Last</text>\n",
       "<polygon fill=\"none\" points=\"847.5,-368.5 847.5,-389.5 898.5,-389.5 898.5,-368.5 847.5,-368.5\" stroke=\"black\"/>\n",
       "<text fill=\"blue\" font-family=\"Times New Roman,serif\" font-size=\"14.00\" text-anchor=\"start\" x=\"850.5\" y=\"-375.3\">141.000</text>\n",
       "<polygon fill=\"none\" points=\"900.5,-368.5 900.5,-389.5 951.5,-389.5 951.5,-368.5 900.5,-368.5\" stroke=\"black\"/>\n",
       "<text fill=\"blue\" font-family=\"Times New Roman,serif\" font-size=\"14.00\" text-anchor=\"start\" x=\"903.5\" y=\"-375.3\">191.000</text>\n",
       "<polygon fill=\"none\" points=\"953.5,-368.5 953.5,-389.5 1004.5,-389.5 1004.5,-368.5 953.5,-368.5\" stroke=\"black\"/>\n",
       "<text fill=\"blue\" font-family=\"Times New Roman,serif\" font-size=\"14.00\" text-anchor=\"start\" x=\"956.5\" y=\"-375.3\">271.000</text>\n",
       "<polygon fill=\"none\" points=\"811.5,-345.5 811.5,-366.5 845.5,-366.5 845.5,-345.5 811.5,-345.5\" stroke=\"black\"/>\n",
       "<text fill=\"blue\" font-family=\"Times New Roman,serif\" font-size=\"14.00\" text-anchor=\"start\" x=\"814.5\" y=\"-352.3\">Diff</text>\n",
       "<polygon fill=\"none\" points=\"847.5,-345.5 847.5,-366.5 898.5,-366.5 898.5,-345.5 847.5,-345.5\" stroke=\"black\"/>\n",
       "<text fill=\"blue\" font-family=\"Times New Roman,serif\" font-size=\"14.00\" text-anchor=\"start\" x=\"857.5\" y=\"-352.3\">20.000</text>\n",
       "<polygon fill=\"none\" points=\"900.5,-345.5 900.5,-366.5 951.5,-366.5 951.5,-345.5 900.5,-345.5\" stroke=\"black\"/>\n",
       "<text fill=\"blue\" font-family=\"Times New Roman,serif\" font-size=\"14.00\" text-anchor=\"start\" x=\"910.5\" y=\"-352.3\">40.000</text>\n",
       "<polygon fill=\"none\" points=\"953.5,-345.5 953.5,-366.5 1004.5,-366.5 1004.5,-345.5 953.5,-345.5\" stroke=\"black\"/>\n",
       "<text fill=\"blue\" font-family=\"Times New Roman,serif\" font-size=\"14.00\" text-anchor=\"start\" x=\"963.5\" y=\"-352.3\">80.000</text>\n",
       "<polygon fill=\"none\" points=\"808,-343 808,-462 1007,-462 1007,-343 808,-343\" stroke=\"black\"/>\n",
       "</g>\n",
       "<!-- FUNDING&#45;&gt;LIABILITIES -->\n",
       "<g class=\"edge\" id=\"edge7\"><title>FUNDING-&gt;LIABILITIES</title>\n",
       "<path d=\"M907.346,-340.568C906.004,-296.041 901.578,-234.52 888.5,-182 886.32,-173.244 883.446,-164.261 880.23,-155.467\" fill=\"none\" stroke=\"black\"/>\n",
       "<polygon fill=\"black\" points=\"883.46,-154.112 876.623,-146.018 876.92,-156.609 883.46,-154.112\" stroke=\"black\"/>\n",
       "</g>\n",
       "<!-- FUNDING&#45;&gt;EQUITY -->\n",
       "<g class=\"edge\" id=\"edge16\"><title>FUNDING-&gt;EQUITY</title>\n",
       "<path d=\"M861.491,-340.8C854.612,-331.723 847.478,-322.312 840.485,-313.086\" fill=\"none\" stroke=\"black\"/>\n",
       "<polygon fill=\"black\" points=\"843.216,-310.894 834.386,-305.039 837.637,-315.123 843.216,-310.894\" stroke=\"black\"/>\n",
       "</g>\n",
       "<!-- SECURITIES -->\n",
       "<g class=\"node\" id=\"node7\"><title>SECURITIES</title>\n",
       "<polygon fill=\"yellow\" points=\"403.5,-782 221.5,-782 221.5,-659 403.5,-659 403.5,-782\" stroke=\"black\"/>\n",
       "<polygon fill=\"none\" points=\"226.5,-755.5 226.5,-776.5 398.5,-776.5 398.5,-755.5 226.5,-755.5\" stroke=\"black\"/>\n",
       "<text fill=\"blue\" font-family=\"Times New Roman,serif\" font-size=\"14.00\" text-anchor=\"start\" x=\"272\" y=\"-762.3\">SECURITIES</text>\n",
       "<polygon fill=\"none\" points=\"226.5,-732.5 226.5,-753.5 260.5,-753.5 260.5,-732.5 226.5,-732.5\" stroke=\"black\"/>\n",
       "<text fill=\"blue\" font-family=\"Times New Roman,serif\" font-size=\"14.00\" text-anchor=\"start\" x=\"229.5\" y=\"-739.3\">Per</text>\n",
       "<polygon fill=\"none\" points=\"262.5,-732.5 262.5,-753.5 306.5,-753.5 306.5,-732.5 262.5,-732.5\" stroke=\"black\"/>\n",
       "<text fill=\"blue\" font-family=\"Times New Roman,serif\" font-size=\"14.00\" text-anchor=\"start\" x=\"270.5\" y=\"-739.3\">2019</text>\n",
       "<polygon fill=\"none\" points=\"308.5,-732.5 308.5,-753.5 352.5,-753.5 352.5,-732.5 308.5,-732.5\" stroke=\"black\"/>\n",
       "<text fill=\"blue\" font-family=\"Times New Roman,serif\" font-size=\"14.00\" text-anchor=\"start\" x=\"316.5\" y=\"-739.3\">2020</text>\n",
       "<polygon fill=\"none\" points=\"354.5,-732.5 354.5,-753.5 398.5,-753.5 398.5,-732.5 354.5,-732.5\" stroke=\"black\"/>\n",
       "<text fill=\"blue\" font-family=\"Times New Roman,serif\" font-size=\"14.00\" text-anchor=\"start\" x=\"362.5\" y=\"-739.3\">2021</text>\n",
       "<polygon fill=\"none\" points=\"226.5,-709.5 226.5,-730.5 260.5,-730.5 260.5,-709.5 226.5,-709.5\" stroke=\"black\"/>\n",
       "<text fill=\"blue\" font-family=\"Times New Roman,serif\" font-size=\"14.00\" text-anchor=\"start\" x=\"229.5\" y=\"-716.3\">Base</text>\n",
       "<polygon fill=\"none\" points=\"262.5,-709.5 262.5,-730.5 306.5,-730.5 306.5,-709.5 262.5,-709.5\" stroke=\"black\"/>\n",
       "<text fill=\"blue\" font-family=\"Times New Roman,serif\" font-size=\"14.00\" text-anchor=\"start\" x=\"265.5\" y=\"-716.3\">11.000</text>\n",
       "<polygon fill=\"none\" points=\"308.5,-709.5 308.5,-730.5 352.5,-730.5 352.5,-709.5 308.5,-709.5\" stroke=\"black\"/>\n",
       "<text fill=\"blue\" font-family=\"Times New Roman,serif\" font-size=\"14.00\" text-anchor=\"start\" x=\"311.5\" y=\"-716.3\">12.000</text>\n",
       "<polygon fill=\"none\" points=\"354.5,-709.5 354.5,-730.5 398.5,-730.5 398.5,-709.5 354.5,-709.5\" stroke=\"black\"/>\n",
       "<text fill=\"blue\" font-family=\"Times New Roman,serif\" font-size=\"14.00\" text-anchor=\"start\" x=\"357.5\" y=\"-716.3\">13.000</text>\n",
       "<polygon fill=\"none\" points=\"226.5,-686.5 226.5,-707.5 260.5,-707.5 260.5,-686.5 226.5,-686.5\" stroke=\"black\"/>\n",
       "<text fill=\"blue\" font-family=\"Times New Roman,serif\" font-size=\"14.00\" text-anchor=\"start\" x=\"229.5\" y=\"-693.3\">Last</text>\n",
       "<polygon fill=\"none\" points=\"262.5,-686.5 262.5,-707.5 306.5,-707.5 306.5,-686.5 262.5,-686.5\" stroke=\"black\"/>\n",
       "<text fill=\"blue\" font-family=\"Times New Roman,serif\" font-size=\"14.00\" text-anchor=\"start\" x=\"265.5\" y=\"-693.3\">11.000</text>\n",
       "<polygon fill=\"none\" points=\"308.5,-686.5 308.5,-707.5 352.5,-707.5 352.5,-686.5 308.5,-686.5\" stroke=\"black\"/>\n",
       "<text fill=\"blue\" font-family=\"Times New Roman,serif\" font-size=\"14.00\" text-anchor=\"start\" x=\"311.5\" y=\"-693.3\">12.000</text>\n",
       "<polygon fill=\"none\" points=\"354.5,-686.5 354.5,-707.5 398.5,-707.5 398.5,-686.5 354.5,-686.5\" stroke=\"black\"/>\n",
       "<text fill=\"blue\" font-family=\"Times New Roman,serif\" font-size=\"14.00\" text-anchor=\"start\" x=\"357.5\" y=\"-693.3\">13.000</text>\n",
       "<polygon fill=\"none\" points=\"226.5,-663.5 226.5,-684.5 260.5,-684.5 260.5,-663.5 226.5,-663.5\" stroke=\"black\"/>\n",
       "<text fill=\"blue\" font-family=\"Times New Roman,serif\" font-size=\"14.00\" text-anchor=\"start\" x=\"229.5\" y=\"-670.3\">Diff</text>\n",
       "<polygon fill=\"none\" points=\"262.5,-663.5 262.5,-684.5 306.5,-684.5 306.5,-663.5 262.5,-663.5\" stroke=\"black\"/>\n",
       "<text fill=\"blue\" font-family=\"Times New Roman,serif\" font-size=\"14.00\" text-anchor=\"start\" x=\"272.5\" y=\"-670.3\">0.000</text>\n",
       "<polygon fill=\"none\" points=\"308.5,-663.5 308.5,-684.5 352.5,-684.5 352.5,-663.5 308.5,-663.5\" stroke=\"black\"/>\n",
       "<text fill=\"blue\" font-family=\"Times New Roman,serif\" font-size=\"14.00\" text-anchor=\"start\" x=\"318.5\" y=\"-670.3\">0.000</text>\n",
       "<polygon fill=\"none\" points=\"354.5,-663.5 354.5,-684.5 398.5,-684.5 398.5,-663.5 354.5,-663.5\" stroke=\"black\"/>\n",
       "<text fill=\"blue\" font-family=\"Times New Roman,serif\" font-size=\"14.00\" text-anchor=\"start\" x=\"364.5\" y=\"-670.3\">0.000</text>\n",
       "<polygon fill=\"none\" points=\"223.5,-661 223.5,-780 401.5,-780 401.5,-661 223.5,-661\" stroke=\"black\"/>\n",
       "</g>\n",
       "<!-- SECURITIES&#45;&gt;ASSETS -->\n",
       "<g class=\"edge\" id=\"edge2\"><title>SECURITIES-&gt;ASSETS</title>\n",
       "<path d=\"M340.724,-658.8C344.773,-650.09 348.967,-641.072 353.089,-632.205\" fill=\"none\" stroke=\"black\"/>\n",
       "<polygon fill=\"black\" points=\"356.309,-633.582 357.351,-623.039 349.961,-630.631 356.309,-633.582\" stroke=\"black\"/>\n",
       "</g>\n",
       "<!-- BONDS -->\n",
       "<g class=\"node\" id=\"node14\"><title>BONDS</title>\n",
       "<polygon fill=\"#63b8ff\" points=\"794,-623 597,-623 597,-500 794,-500 794,-623\" stroke=\"black\"/>\n",
       "<polygon fill=\"none\" points=\"602.5,-596.5 602.5,-617.5 789.5,-617.5 789.5,-596.5 602.5,-596.5\" stroke=\"black\"/>\n",
       "<text fill=\"blue\" font-family=\"Times New Roman,serif\" font-size=\"14.00\" text-anchor=\"start\" x=\"672\" y=\"-603.3\">BONDS</text>\n",
       "<polygon fill=\"none\" points=\"602.5,-573.5 602.5,-594.5 636.5,-594.5 636.5,-573.5 602.5,-573.5\" stroke=\"black\"/>\n",
       "<text fill=\"blue\" font-family=\"Times New Roman,serif\" font-size=\"14.00\" text-anchor=\"start\" x=\"605.5\" y=\"-580.3\">Per</text>\n",
       "<polygon fill=\"none\" points=\"638.5,-573.5 638.5,-594.5 687.5,-594.5 687.5,-573.5 638.5,-573.5\" stroke=\"black\"/>\n",
       "<text fill=\"blue\" font-family=\"Times New Roman,serif\" font-size=\"14.00\" text-anchor=\"start\" x=\"649\" y=\"-580.3\">2019</text>\n",
       "<polygon fill=\"none\" points=\"689.5,-573.5 689.5,-594.5 738.5,-594.5 738.5,-573.5 689.5,-573.5\" stroke=\"black\"/>\n",
       "<text fill=\"blue\" font-family=\"Times New Roman,serif\" font-size=\"14.00\" text-anchor=\"start\" x=\"700\" y=\"-580.3\">2020</text>\n",
       "<polygon fill=\"none\" points=\"740.5,-573.5 740.5,-594.5 789.5,-594.5 789.5,-573.5 740.5,-573.5\" stroke=\"black\"/>\n",
       "<text fill=\"blue\" font-family=\"Times New Roman,serif\" font-size=\"14.00\" text-anchor=\"start\" x=\"751\" y=\"-580.3\">2021</text>\n",
       "<polygon fill=\"none\" points=\"602.5,-550.5 602.5,-571.5 636.5,-571.5 636.5,-550.5 602.5,-550.5\" stroke=\"black\"/>\n",
       "<text fill=\"blue\" font-family=\"Times New Roman,serif\" font-size=\"14.00\" text-anchor=\"start\" x=\"605.5\" y=\"-557.3\">Base</text>\n",
       "<polygon fill=\"none\" points=\"638.5,-550.5 638.5,-571.5 687.5,-571.5 687.5,-550.5 638.5,-550.5\" stroke=\"black\"/>\n",
       "<text fill=\"blue\" font-family=\"Times New Roman,serif\" font-size=\"14.00\" text-anchor=\"start\" x=\"646.5\" y=\"-557.3\">21.000</text>\n",
       "<polygon fill=\"none\" points=\"689.5,-550.5 689.5,-571.5 738.5,-571.5 738.5,-550.5 689.5,-550.5\" stroke=\"black\"/>\n",
       "<text fill=\"blue\" font-family=\"Times New Roman,serif\" font-size=\"14.00\" text-anchor=\"start\" x=\"697.5\" y=\"-557.3\">51.000</text>\n",
       "<polygon fill=\"none\" points=\"740.5,-550.5 740.5,-571.5 789.5,-571.5 789.5,-550.5 740.5,-550.5\" stroke=\"black\"/>\n",
       "<text fill=\"blue\" font-family=\"Times New Roman,serif\" font-size=\"14.00\" text-anchor=\"start\" x=\"748.5\" y=\"-557.3\">91.000</text>\n",
       "<polygon fill=\"none\" points=\"602.5,-527.5 602.5,-548.5 636.5,-548.5 636.5,-527.5 602.5,-527.5\" stroke=\"black\"/>\n",
       "<text fill=\"blue\" font-family=\"Times New Roman,serif\" font-size=\"14.00\" text-anchor=\"start\" x=\"605.5\" y=\"-534.3\">Last</text>\n",
       "<polygon fill=\"none\" points=\"638.5,-527.5 638.5,-548.5 687.5,-548.5 687.5,-527.5 638.5,-527.5\" stroke=\"black\"/>\n",
       "<text fill=\"blue\" font-family=\"Times New Roman,serif\" font-size=\"14.00\" text-anchor=\"start\" x=\"646.5\" y=\"-534.3\">11.000</text>\n",
       "<polygon fill=\"none\" points=\"689.5,-527.5 689.5,-548.5 738.5,-548.5 738.5,-527.5 689.5,-527.5\" stroke=\"black\"/>\n",
       "<text fill=\"blue\" font-family=\"Times New Roman,serif\" font-size=\"14.00\" text-anchor=\"start\" x=\"697.5\" y=\"-534.3\">36.000</text>\n",
       "<polygon fill=\"none\" points=\"740.5,-527.5 740.5,-548.5 789.5,-548.5 789.5,-527.5 740.5,-527.5\" stroke=\"black\"/>\n",
       "<text fill=\"blue\" font-family=\"Times New Roman,serif\" font-size=\"14.00\" text-anchor=\"start\" x=\"748.5\" y=\"-534.3\">66.000</text>\n",
       "<polygon fill=\"none\" points=\"602.5,-504.5 602.5,-525.5 636.5,-525.5 636.5,-504.5 602.5,-504.5\" stroke=\"black\"/>\n",
       "<text fill=\"blue\" font-family=\"Times New Roman,serif\" font-size=\"14.00\" text-anchor=\"start\" x=\"605.5\" y=\"-511.3\">Diff</text>\n",
       "<polygon fill=\"none\" points=\"638.5,-504.5 638.5,-525.5 687.5,-525.5 687.5,-504.5 638.5,-504.5\" stroke=\"black\"/>\n",
       "<text fill=\"blue\" font-family=\"Times New Roman,serif\" font-size=\"14.00\" text-anchor=\"start\" x=\"641.5\" y=\"-511.3\">-10.000</text>\n",
       "<polygon fill=\"none\" points=\"689.5,-504.5 689.5,-525.5 738.5,-525.5 738.5,-504.5 689.5,-504.5\" stroke=\"black\"/>\n",
       "<text fill=\"blue\" font-family=\"Times New Roman,serif\" font-size=\"14.00\" text-anchor=\"start\" x=\"692.5\" y=\"-511.3\">-15.000</text>\n",
       "<polygon fill=\"none\" points=\"740.5,-504.5 740.5,-525.5 789.5,-525.5 789.5,-504.5 740.5,-504.5\" stroke=\"black\"/>\n",
       "<text fill=\"blue\" font-family=\"Times New Roman,serif\" font-size=\"14.00\" text-anchor=\"start\" x=\"743.5\" y=\"-511.3\">-25.000</text>\n",
       "<polygon fill=\"none\" points=\"599,-502 599,-621 792,-621 792,-502 599,-502\" stroke=\"black\"/>\n",
       "</g>\n",
       "<!-- NEW_BONDS&#45;&gt;BONDS -->\n",
       "<g class=\"edge\" id=\"edge4\"><title>NEW_BONDS-&gt;BONDS</title>\n",
       "<path d=\"M696.727,-658.8C696.619,-650.365 696.508,-641.641 696.399,-633.045\" fill=\"none\" stroke=\"black\"/>\n",
       "<polygon fill=\"black\" points=\"699.898,-632.993 696.271,-623.039 692.899,-633.083 699.898,-632.993\" stroke=\"black\"/>\n",
       "</g>\n",
       "<!-- DEPOSIT(&#45;1) -->\n",
       "<g class=\"node\" id=\"node9\"><title>DEPOSIT(-1)</title>\n",
       "<polygon fill=\"springgreen\" points=\"1015,-623 812,-623 812,-500 1015,-500 1015,-623\" stroke=\"black\"/>\n",
       "<polygon fill=\"none\" points=\"817.5,-596.5 817.5,-617.5 1010.5,-617.5 1010.5,-596.5 817.5,-596.5\" stroke=\"black\"/>\n",
       "<text fill=\"blue\" font-family=\"Times New Roman,serif\" font-size=\"14.00\" text-anchor=\"start\" x=\"874.5\" y=\"-603.3\">DEPOSIT(-1)</text>\n",
       "<polygon fill=\"none\" points=\"817.5,-573.5 817.5,-594.5 851.5,-594.5 851.5,-573.5 817.5,-573.5\" stroke=\"black\"/>\n",
       "<text fill=\"blue\" font-family=\"Times New Roman,serif\" font-size=\"14.00\" text-anchor=\"start\" x=\"820.5\" y=\"-580.3\">Per</text>\n",
       "<polygon fill=\"none\" points=\"853.5,-573.5 853.5,-594.5 904.5,-594.5 904.5,-573.5 853.5,-573.5\" stroke=\"black\"/>\n",
       "<text fill=\"blue\" font-family=\"Times New Roman,serif\" font-size=\"14.00\" text-anchor=\"start\" x=\"865\" y=\"-580.3\">2019</text>\n",
       "<polygon fill=\"none\" points=\"906.5,-573.5 906.5,-594.5 957.5,-594.5 957.5,-573.5 906.5,-573.5\" stroke=\"black\"/>\n",
       "<text fill=\"blue\" font-family=\"Times New Roman,serif\" font-size=\"14.00\" text-anchor=\"start\" x=\"918\" y=\"-580.3\">2020</text>\n",
       "<polygon fill=\"none\" points=\"959.5,-573.5 959.5,-594.5 1010.5,-594.5 1010.5,-573.5 959.5,-573.5\" stroke=\"black\"/>\n",
       "<text fill=\"blue\" font-family=\"Times New Roman,serif\" font-size=\"14.00\" text-anchor=\"start\" x=\"971\" y=\"-580.3\">2021</text>\n",
       "<polygon fill=\"none\" points=\"817.5,-550.5 817.5,-571.5 851.5,-571.5 851.5,-550.5 817.5,-550.5\" stroke=\"black\"/>\n",
       "<text fill=\"blue\" font-family=\"Times New Roman,serif\" font-size=\"14.00\" text-anchor=\"start\" x=\"820.5\" y=\"-557.3\">Base</text>\n",
       "<polygon fill=\"none\" points=\"853.5,-550.5 853.5,-571.5 904.5,-571.5 904.5,-550.5 853.5,-550.5\" stroke=\"black\"/>\n",
       "<text fill=\"blue\" font-family=\"Times New Roman,serif\" font-size=\"14.00\" text-anchor=\"start\" x=\"856.5\" y=\"-557.3\">100.000</text>\n",
       "<polygon fill=\"none\" points=\"906.5,-550.5 906.5,-571.5 957.5,-571.5 957.5,-550.5 906.5,-550.5\" stroke=\"black\"/>\n",
       "<text fill=\"blue\" font-family=\"Times New Roman,serif\" font-size=\"14.00\" text-anchor=\"start\" x=\"909.5\" y=\"-557.3\">100.000</text>\n",
       "<polygon fill=\"none\" points=\"959.5,-550.5 959.5,-571.5 1010.5,-571.5 1010.5,-550.5 959.5,-550.5\" stroke=\"black\"/>\n",
       "<text fill=\"blue\" font-family=\"Times New Roman,serif\" font-size=\"14.00\" text-anchor=\"start\" x=\"962.5\" y=\"-557.3\">100.000</text>\n",
       "<polygon fill=\"none\" points=\"817.5,-527.5 817.5,-548.5 851.5,-548.5 851.5,-527.5 817.5,-527.5\" stroke=\"black\"/>\n",
       "<text fill=\"blue\" font-family=\"Times New Roman,serif\" font-size=\"14.00\" text-anchor=\"start\" x=\"820.5\" y=\"-534.3\">Last</text>\n",
       "<polygon fill=\"none\" points=\"853.5,-527.5 853.5,-548.5 904.5,-548.5 904.5,-527.5 853.5,-527.5\" stroke=\"black\"/>\n",
       "<text fill=\"blue\" font-family=\"Times New Roman,serif\" font-size=\"14.00\" text-anchor=\"start\" x=\"856.5\" y=\"-534.3\">100.000</text>\n",
       "<polygon fill=\"none\" points=\"906.5,-527.5 906.5,-548.5 957.5,-548.5 957.5,-527.5 906.5,-527.5\" stroke=\"black\"/>\n",
       "<text fill=\"blue\" font-family=\"Times New Roman,serif\" font-size=\"14.00\" text-anchor=\"start\" x=\"909.5\" y=\"-534.3\">130.000</text>\n",
       "<polygon fill=\"none\" points=\"959.5,-527.5 959.5,-548.5 1010.5,-548.5 1010.5,-527.5 959.5,-527.5\" stroke=\"black\"/>\n",
       "<text fill=\"blue\" font-family=\"Times New Roman,serif\" font-size=\"14.00\" text-anchor=\"start\" x=\"962.5\" y=\"-534.3\">155.000</text>\n",
       "<polygon fill=\"none\" points=\"817.5,-504.5 817.5,-525.5 851.5,-525.5 851.5,-504.5 817.5,-504.5\" stroke=\"black\"/>\n",
       "<text fill=\"blue\" font-family=\"Times New Roman,serif\" font-size=\"14.00\" text-anchor=\"start\" x=\"820.5\" y=\"-511.3\">Diff</text>\n",
       "<polygon fill=\"none\" points=\"853.5,-504.5 853.5,-525.5 904.5,-525.5 904.5,-504.5 853.5,-504.5\" stroke=\"black\"/>\n",
       "<text fill=\"blue\" font-family=\"Times New Roman,serif\" font-size=\"14.00\" text-anchor=\"start\" x=\"870.5\" y=\"-511.3\">0.000</text>\n",
       "<polygon fill=\"none\" points=\"906.5,-504.5 906.5,-525.5 957.5,-525.5 957.5,-504.5 906.5,-504.5\" stroke=\"black\"/>\n",
       "<text fill=\"blue\" font-family=\"Times New Roman,serif\" font-size=\"14.00\" text-anchor=\"start\" x=\"916.5\" y=\"-511.3\">30.000</text>\n",
       "<polygon fill=\"none\" points=\"959.5,-504.5 959.5,-525.5 1010.5,-525.5 1010.5,-504.5 959.5,-504.5\" stroke=\"black\"/>\n",
       "<text fill=\"blue\" font-family=\"Times New Roman,serif\" font-size=\"14.00\" text-anchor=\"start\" x=\"969.5\" y=\"-511.3\">55.000</text>\n",
       "<polygon fill=\"none\" points=\"814,-502 814,-621 1013,-621 1013,-502 814,-502\" stroke=\"black\"/>\n",
       "</g>\n",
       "<!-- DEPOSIT(&#45;1)&#45;&gt;DEPOSIT -->\n",
       "<g class=\"edge\" id=\"edge17\"><title>DEPOSIT(-1)-&gt;DEPOSIT</title>\n",
       "<path d=\"M920.09,-623.039C920.243,-631.47 920.286,-640.193 920.22,-648.79\" fill=\"none\" stroke=\"black\"/>\n",
       "<polygon fill=\"black\" points=\"916.721,-648.756 920.093,-658.8 923.72,-648.845 916.721,-648.756\" stroke=\"black\"/>\n",
       "</g>\n",
       "<!-- DEPOSIT&#45;&gt;FUNDING -->\n",
       "<g class=\"edge\" id=\"edge15\"><title>DEPOSIT-&gt;FUNDING</title>\n",
       "<path d=\"M999.766,-658.946C1009.77,-648.162 1018.52,-636.128 1024.5,-623 1047.17,-573.255 1047.81,-549.447 1024.5,-500 1019.68,-489.777 1013.19,-480.269 1005.72,-471.524\" fill=\"none\" stroke=\"black\"/>\n",
       "<polygon fill=\"black\" points=\"1008.23,-469.087 998.919,-464.036 1003.05,-473.793 1008.23,-469.087\" stroke=\"black\"/>\n",
       "</g>\n",
       "<!-- DEPOSIT&#45;&gt;DEPOSIT(&#45;1) -->\n",
       "<g class=\"edge\" id=\"edge5\"><title>DEPOSIT-&gt;DEPOSIT(-1)</title>\n",
       "<path d=\"M906.907,-658.8C906.756,-650.365 906.714,-641.641 906.781,-633.045\" fill=\"none\" stroke=\"black\"/>\n",
       "<polygon fill=\"black\" points=\"910.281,-633.083 906.91,-623.039 903.281,-632.993 910.281,-633.083\" stroke=\"black\"/>\n",
       "</g>\n",
       "<!-- LOAN(&#45;1)&#45;&gt;LOAN -->\n",
       "<g class=\"edge\" id=\"edge20\"><title>LOAN(-1)-&gt;LOAN</title>\n",
       "<path d=\"M108.09,-623.039C108.243,-631.47 108.286,-640.193 108.22,-648.79\" fill=\"none\" stroke=\"black\"/>\n",
       "<polygon fill=\"black\" points=\"104.721,-648.756 108.093,-658.8 111.72,-648.845 104.721,-648.756\" stroke=\"black\"/>\n",
       "</g>\n",
       "<!-- BONDS(&#45;1) -->\n",
       "<g class=\"node\" id=\"node12\"><title>BONDS(-1)</title>\n",
       "<polygon fill=\"springgreen\" points=\"788,-464 603,-464 603,-341 788,-341 788,-464\" stroke=\"black\"/>\n",
       "<polygon fill=\"none\" points=\"608.5,-437.5 608.5,-458.5 783.5,-458.5 783.5,-437.5 608.5,-437.5\" stroke=\"black\"/>\n",
       "<text fill=\"blue\" font-family=\"Times New Roman,serif\" font-size=\"14.00\" text-anchor=\"start\" x=\"662\" y=\"-444.3\">BONDS(-1)</text>\n",
       "<polygon fill=\"none\" points=\"608.5,-414.5 608.5,-435.5 642.5,-435.5 642.5,-414.5 608.5,-414.5\" stroke=\"black\"/>\n",
       "<text fill=\"blue\" font-family=\"Times New Roman,serif\" font-size=\"14.00\" text-anchor=\"start\" x=\"611.5\" y=\"-421.3\">Per</text>\n",
       "<polygon fill=\"none\" points=\"644.5,-414.5 644.5,-435.5 681.5,-435.5 681.5,-414.5 644.5,-414.5\" stroke=\"black\"/>\n",
       "<text fill=\"blue\" font-family=\"Times New Roman,serif\" font-size=\"14.00\" text-anchor=\"start\" x=\"649\" y=\"-421.3\">2019</text>\n",
       "<polygon fill=\"none\" points=\"683.5,-414.5 683.5,-435.5 732.5,-435.5 732.5,-414.5 683.5,-414.5\" stroke=\"black\"/>\n",
       "<text fill=\"blue\" font-family=\"Times New Roman,serif\" font-size=\"14.00\" text-anchor=\"start\" x=\"694\" y=\"-421.3\">2020</text>\n",
       "<polygon fill=\"none\" points=\"734.5,-414.5 734.5,-435.5 783.5,-435.5 783.5,-414.5 734.5,-414.5\" stroke=\"black\"/>\n",
       "<text fill=\"blue\" font-family=\"Times New Roman,serif\" font-size=\"14.00\" text-anchor=\"start\" x=\"745\" y=\"-421.3\">2021</text>\n",
       "<polygon fill=\"none\" points=\"608.5,-391.5 608.5,-412.5 642.5,-412.5 642.5,-391.5 608.5,-391.5\" stroke=\"black\"/>\n",
       "<text fill=\"blue\" font-family=\"Times New Roman,serif\" font-size=\"14.00\" text-anchor=\"start\" x=\"611.5\" y=\"-398.3\">Base</text>\n",
       "<polygon fill=\"none\" points=\"644.5,-391.5 644.5,-412.5 681.5,-412.5 681.5,-391.5 644.5,-391.5\" stroke=\"black\"/>\n",
       "<text fill=\"blue\" font-family=\"Times New Roman,serif\" font-size=\"14.00\" text-anchor=\"start\" x=\"647.5\" y=\"-398.3\">1.000</text>\n",
       "<polygon fill=\"none\" points=\"683.5,-391.5 683.5,-412.5 732.5,-412.5 732.5,-391.5 683.5,-391.5\" stroke=\"black\"/>\n",
       "<text fill=\"blue\" font-family=\"Times New Roman,serif\" font-size=\"14.00\" text-anchor=\"start\" x=\"691.5\" y=\"-398.3\">21.000</text>\n",
       "<polygon fill=\"none\" points=\"734.5,-391.5 734.5,-412.5 783.5,-412.5 783.5,-391.5 734.5,-391.5\" stroke=\"black\"/>\n",
       "<text fill=\"blue\" font-family=\"Times New Roman,serif\" font-size=\"14.00\" text-anchor=\"start\" x=\"742.5\" y=\"-398.3\">51.000</text>\n",
       "<polygon fill=\"none\" points=\"608.5,-368.5 608.5,-389.5 642.5,-389.5 642.5,-368.5 608.5,-368.5\" stroke=\"black\"/>\n",
       "<text fill=\"blue\" font-family=\"Times New Roman,serif\" font-size=\"14.00\" text-anchor=\"start\" x=\"611.5\" y=\"-375.3\">Last</text>\n",
       "<polygon fill=\"none\" points=\"644.5,-368.5 644.5,-389.5 681.5,-389.5 681.5,-368.5 644.5,-368.5\" stroke=\"black\"/>\n",
       "<text fill=\"blue\" font-family=\"Times New Roman,serif\" font-size=\"14.00\" text-anchor=\"start\" x=\"647.5\" y=\"-375.3\">1.000</text>\n",
       "<polygon fill=\"none\" points=\"683.5,-368.5 683.5,-389.5 732.5,-389.5 732.5,-368.5 683.5,-368.5\" stroke=\"black\"/>\n",
       "<text fill=\"blue\" font-family=\"Times New Roman,serif\" font-size=\"14.00\" text-anchor=\"start\" x=\"691.5\" y=\"-375.3\">11.000</text>\n",
       "<polygon fill=\"none\" points=\"734.5,-368.5 734.5,-389.5 783.5,-389.5 783.5,-368.5 734.5,-368.5\" stroke=\"black\"/>\n",
       "<text fill=\"blue\" font-family=\"Times New Roman,serif\" font-size=\"14.00\" text-anchor=\"start\" x=\"742.5\" y=\"-375.3\">36.000</text>\n",
       "<polygon fill=\"none\" points=\"608.5,-345.5 608.5,-366.5 642.5,-366.5 642.5,-345.5 608.5,-345.5\" stroke=\"black\"/>\n",
       "<text fill=\"blue\" font-family=\"Times New Roman,serif\" font-size=\"14.00\" text-anchor=\"start\" x=\"611.5\" y=\"-352.3\">Diff</text>\n",
       "<polygon fill=\"none\" points=\"644.5,-345.5 644.5,-366.5 681.5,-366.5 681.5,-345.5 644.5,-345.5\" stroke=\"black\"/>\n",
       "<text fill=\"blue\" font-family=\"Times New Roman,serif\" font-size=\"14.00\" text-anchor=\"start\" x=\"647.5\" y=\"-352.3\">0.000</text>\n",
       "<polygon fill=\"none\" points=\"683.5,-345.5 683.5,-366.5 732.5,-366.5 732.5,-345.5 683.5,-345.5\" stroke=\"black\"/>\n",
       "<text fill=\"blue\" font-family=\"Times New Roman,serif\" font-size=\"14.00\" text-anchor=\"start\" x=\"686.5\" y=\"-352.3\">-10.000</text>\n",
       "<polygon fill=\"none\" points=\"734.5,-345.5 734.5,-366.5 783.5,-366.5 783.5,-345.5 734.5,-345.5\" stroke=\"black\"/>\n",
       "<text fill=\"blue\" font-family=\"Times New Roman,serif\" font-size=\"14.00\" text-anchor=\"start\" x=\"737.5\" y=\"-352.3\">-15.000</text>\n",
       "<polygon fill=\"none\" points=\"605,-343 605,-462 786,-462 786,-343 605,-343\" stroke=\"black\"/>\n",
       "</g>\n",
       "<!-- BONDS(&#45;1)&#45;&gt;BONDS -->\n",
       "<g class=\"edge\" id=\"edge9\"><title>BONDS(-1)-&gt;BONDS</title>\n",
       "<path d=\"M702.09,-464.039C702.243,-472.47 702.286,-481.193 702.22,-489.79\" fill=\"none\" stroke=\"black\"/>\n",
       "<polygon fill=\"black\" points=\"698.721,-489.756 702.093,-499.8 705.72,-489.845 698.721,-489.756\" stroke=\"black\"/>\n",
       "</g>\n",
       "<!-- NEW_LOAN -->\n",
       "<g class=\"node\" id=\"node13\"><title>NEW_LOAN</title>\n",
       "<polygon fill=\"yellow\" points=\"498.5,-941 316.5,-941 316.5,-818 498.5,-818 498.5,-941\" stroke=\"black\"/>\n",
       "<polygon fill=\"none\" points=\"321.5,-914.5 321.5,-935.5 493.5,-935.5 493.5,-914.5 321.5,-914.5\" stroke=\"black\"/>\n",
       "<text fill=\"blue\" font-family=\"Times New Roman,serif\" font-size=\"14.00\" text-anchor=\"start\" x=\"368.5\" y=\"-921.3\">NEW_LOAN</text>\n",
       "<polygon fill=\"none\" points=\"321.5,-891.5 321.5,-912.5 355.5,-912.5 355.5,-891.5 321.5,-891.5\" stroke=\"black\"/>\n",
       "<text fill=\"blue\" font-family=\"Times New Roman,serif\" font-size=\"14.00\" text-anchor=\"start\" x=\"324.5\" y=\"-898.3\">Per</text>\n",
       "<polygon fill=\"none\" points=\"357.5,-891.5 357.5,-912.5 401.5,-912.5 401.5,-891.5 357.5,-891.5\" stroke=\"black\"/>\n",
       "<text fill=\"blue\" font-family=\"Times New Roman,serif\" font-size=\"14.00\" text-anchor=\"start\" x=\"365.5\" y=\"-898.3\">2019</text>\n",
       "<polygon fill=\"none\" points=\"403.5,-891.5 403.5,-912.5 447.5,-912.5 447.5,-891.5 403.5,-891.5\" stroke=\"black\"/>\n",
       "<text fill=\"blue\" font-family=\"Times New Roman,serif\" font-size=\"14.00\" text-anchor=\"start\" x=\"411.5\" y=\"-898.3\">2020</text>\n",
       "<polygon fill=\"none\" points=\"449.5,-891.5 449.5,-912.5 493.5,-912.5 493.5,-891.5 449.5,-891.5\" stroke=\"black\"/>\n",
       "<text fill=\"blue\" font-family=\"Times New Roman,serif\" font-size=\"14.00\" text-anchor=\"start\" x=\"457.5\" y=\"-898.3\">2021</text>\n",
       "<polygon fill=\"none\" points=\"321.5,-868.5 321.5,-889.5 355.5,-889.5 355.5,-868.5 321.5,-868.5\" stroke=\"black\"/>\n",
       "<text fill=\"blue\" font-family=\"Times New Roman,serif\" font-size=\"14.00\" text-anchor=\"start\" x=\"324.5\" y=\"-875.3\">Base</text>\n",
       "<polygon fill=\"none\" points=\"357.5,-868.5 357.5,-889.5 401.5,-889.5 401.5,-868.5 357.5,-868.5\" stroke=\"black\"/>\n",
       "<text fill=\"blue\" font-family=\"Times New Roman,serif\" font-size=\"14.00\" text-anchor=\"start\" x=\"360.5\" y=\"-875.3\">20.000</text>\n",
       "<polygon fill=\"none\" points=\"403.5,-868.5 403.5,-889.5 447.5,-889.5 447.5,-868.5 403.5,-868.5\" stroke=\"black\"/>\n",
       "<text fill=\"blue\" font-family=\"Times New Roman,serif\" font-size=\"14.00\" text-anchor=\"start\" x=\"406.5\" y=\"-875.3\">30.000</text>\n",
       "<polygon fill=\"none\" points=\"449.5,-868.5 449.5,-889.5 493.5,-889.5 493.5,-868.5 449.5,-868.5\" stroke=\"black\"/>\n",
       "<text fill=\"blue\" font-family=\"Times New Roman,serif\" font-size=\"14.00\" text-anchor=\"start\" x=\"452.5\" y=\"-875.3\">40.000</text>\n",
       "<polygon fill=\"none\" points=\"321.5,-845.5 321.5,-866.5 355.5,-866.5 355.5,-845.5 321.5,-845.5\" stroke=\"black\"/>\n",
       "<text fill=\"blue\" font-family=\"Times New Roman,serif\" font-size=\"14.00\" text-anchor=\"start\" x=\"324.5\" y=\"-852.3\">Last</text>\n",
       "<polygon fill=\"none\" points=\"357.5,-845.5 357.5,-866.5 401.5,-866.5 401.5,-845.5 357.5,-845.5\" stroke=\"black\"/>\n",
       "<text fill=\"blue\" font-family=\"Times New Roman,serif\" font-size=\"14.00\" text-anchor=\"start\" x=\"360.5\" y=\"-852.3\">40.000</text>\n",
       "<polygon fill=\"none\" points=\"403.5,-845.5 403.5,-866.5 447.5,-866.5 447.5,-845.5 403.5,-845.5\" stroke=\"black\"/>\n",
       "<text fill=\"blue\" font-family=\"Times New Roman,serif\" font-size=\"14.00\" text-anchor=\"start\" x=\"406.5\" y=\"-852.3\">50.000</text>\n",
       "<polygon fill=\"none\" points=\"449.5,-845.5 449.5,-866.5 493.5,-866.5 493.5,-845.5 449.5,-845.5\" stroke=\"black\"/>\n",
       "<text fill=\"blue\" font-family=\"Times New Roman,serif\" font-size=\"14.00\" text-anchor=\"start\" x=\"452.5\" y=\"-852.3\">80.000</text>\n",
       "<polygon fill=\"none\" points=\"321.5,-822.5 321.5,-843.5 355.5,-843.5 355.5,-822.5 321.5,-822.5\" stroke=\"black\"/>\n",
       "<text fill=\"blue\" font-family=\"Times New Roman,serif\" font-size=\"14.00\" text-anchor=\"start\" x=\"324.5\" y=\"-829.3\">Diff</text>\n",
       "<polygon fill=\"none\" points=\"357.5,-822.5 357.5,-843.5 401.5,-843.5 401.5,-822.5 357.5,-822.5\" stroke=\"black\"/>\n",
       "<text fill=\"blue\" font-family=\"Times New Roman,serif\" font-size=\"14.00\" text-anchor=\"start\" x=\"360.5\" y=\"-829.3\">20.000</text>\n",
       "<polygon fill=\"none\" points=\"403.5,-822.5 403.5,-843.5 447.5,-843.5 447.5,-822.5 403.5,-822.5\" stroke=\"black\"/>\n",
       "<text fill=\"blue\" font-family=\"Times New Roman,serif\" font-size=\"14.00\" text-anchor=\"start\" x=\"406.5\" y=\"-829.3\">20.000</text>\n",
       "<polygon fill=\"none\" points=\"449.5,-822.5 449.5,-843.5 493.5,-843.5 493.5,-822.5 449.5,-822.5\" stroke=\"black\"/>\n",
       "<text fill=\"blue\" font-family=\"Times New Roman,serif\" font-size=\"14.00\" text-anchor=\"start\" x=\"452.5\" y=\"-829.3\">40.000</text>\n",
       "<polygon fill=\"none\" points=\"318.5,-820 318.5,-939 496.5,-939 496.5,-820 318.5,-820\" stroke=\"black\"/>\n",
       "</g>\n",
       "<!-- NEW_LOAN&#45;&gt;LOAN -->\n",
       "<g class=\"edge\" id=\"edge11\"><title>NEW_LOAN-&gt;LOAN</title>\n",
       "<path d=\"M316.347,-834.317C283.474,-818.139 246.184,-799.506 212.5,-782 212.305,-781.899 212.11,-781.797 211.915,-781.696\" fill=\"none\" stroke=\"black\"/>\n",
       "<polygon fill=\"black\" points=\"213.521,-778.586 203.038,-777.051 210.275,-784.788 213.521,-778.586\" stroke=\"black\"/>\n",
       "</g>\n",
       "<!-- NEW_LOAN&#45;&gt;NEW_BONDS -->\n",
       "<g class=\"edge\" id=\"edge13\"><title>NEW_LOAN-&gt;NEW_BONDS</title>\n",
       "<path d=\"M498.623,-831.528C528.353,-815.985 561.441,-798.454 591.5,-782 591.805,-781.833 592.11,-781.666 592.416,-781.498\" fill=\"none\" stroke=\"black\"/>\n",
       "<polygon fill=\"black\" points=\"594.319,-784.446 601.388,-776.554 590.94,-778.315 594.319,-784.446\" stroke=\"black\"/>\n",
       "</g>\n",
       "<!-- BONDS&#45;&gt;FUNDING -->\n",
       "<g class=\"edge\" id=\"edge19\"><title>BONDS-&gt;FUNDING</title>\n",
       "<path d=\"M777.465,-499.8C790.587,-490.081 804.229,-479.979 817.526,-470.132\" fill=\"none\" stroke=\"black\"/>\n",
       "<polygon fill=\"black\" points=\"819.8,-472.803 825.753,-464.039 815.634,-467.178 819.8,-472.803\" stroke=\"black\"/>\n",
       "</g>\n",
       "<!-- BONDS&#45;&gt;BONDS(&#45;1) -->\n",
       "<g class=\"edge\" id=\"edge14\"><title>BONDS-&gt;BONDS(-1)</title>\n",
       "<path d=\"M688.907,-499.8C688.756,-491.365 688.714,-482.641 688.781,-474.045\" fill=\"none\" stroke=\"black\"/>\n",
       "<polygon fill=\"black\" points=\"692.281,-474.083 688.91,-464.039 685.281,-473.993 692.281,-474.083\" stroke=\"black\"/>\n",
       "</g>\n",
       "<!-- CASH -->\n",
       "<g class=\"node\" id=\"node15\"><title>CASH</title>\n",
       "<polygon fill=\"yellow\" points=\"583,-782 422,-782 422,-659 583,-659 583,-782\" stroke=\"black\"/>\n",
       "<polygon fill=\"none\" points=\"427.5,-755.5 427.5,-776.5 578.5,-776.5 578.5,-755.5 427.5,-755.5\" stroke=\"black\"/>\n",
       "<text fill=\"blue\" font-family=\"Times New Roman,serif\" font-size=\"14.00\" text-anchor=\"start\" x=\"484\" y=\"-762.3\">CASH</text>\n",
       "<polygon fill=\"none\" points=\"427.5,-732.5 427.5,-753.5 461.5,-753.5 461.5,-732.5 427.5,-732.5\" stroke=\"black\"/>\n",
       "<text fill=\"blue\" font-family=\"Times New Roman,serif\" font-size=\"14.00\" text-anchor=\"start\" x=\"430.5\" y=\"-739.3\">Per</text>\n",
       "<polygon fill=\"none\" points=\"463.5,-732.5 463.5,-753.5 500.5,-753.5 500.5,-732.5 463.5,-732.5\" stroke=\"black\"/>\n",
       "<text fill=\"blue\" font-family=\"Times New Roman,serif\" font-size=\"14.00\" text-anchor=\"start\" x=\"468\" y=\"-739.3\">2019</text>\n",
       "<polygon fill=\"none\" points=\"502.5,-732.5 502.5,-753.5 539.5,-753.5 539.5,-732.5 502.5,-732.5\" stroke=\"black\"/>\n",
       "<text fill=\"blue\" font-family=\"Times New Roman,serif\" font-size=\"14.00\" text-anchor=\"start\" x=\"507\" y=\"-739.3\">2020</text>\n",
       "<polygon fill=\"none\" points=\"541.5,-732.5 541.5,-753.5 578.5,-753.5 578.5,-732.5 541.5,-732.5\" stroke=\"black\"/>\n",
       "<text fill=\"blue\" font-family=\"Times New Roman,serif\" font-size=\"14.00\" text-anchor=\"start\" x=\"546\" y=\"-739.3\">2021</text>\n",
       "<polygon fill=\"none\" points=\"427.5,-709.5 427.5,-730.5 461.5,-730.5 461.5,-709.5 427.5,-709.5\" stroke=\"black\"/>\n",
       "<text fill=\"blue\" font-family=\"Times New Roman,serif\" font-size=\"14.00\" text-anchor=\"start\" x=\"430.5\" y=\"-716.3\">Base</text>\n",
       "<polygon fill=\"none\" points=\"463.5,-709.5 463.5,-730.5 500.5,-730.5 500.5,-709.5 463.5,-709.5\" stroke=\"black\"/>\n",
       "<text fill=\"blue\" font-family=\"Times New Roman,serif\" font-size=\"14.00\" text-anchor=\"start\" x=\"466.5\" y=\"-716.3\">4.000</text>\n",
       "<polygon fill=\"none\" points=\"502.5,-709.5 502.5,-730.5 539.5,-730.5 539.5,-709.5 502.5,-709.5\" stroke=\"black\"/>\n",
       "<text fill=\"blue\" font-family=\"Times New Roman,serif\" font-size=\"14.00\" text-anchor=\"start\" x=\"505.5\" y=\"-716.3\">4.000</text>\n",
       "<polygon fill=\"none\" points=\"541.5,-709.5 541.5,-730.5 578.5,-730.5 578.5,-709.5 541.5,-709.5\" stroke=\"black\"/>\n",
       "<text fill=\"blue\" font-family=\"Times New Roman,serif\" font-size=\"14.00\" text-anchor=\"start\" x=\"544.5\" y=\"-716.3\">4.000</text>\n",
       "<polygon fill=\"none\" points=\"427.5,-686.5 427.5,-707.5 461.5,-707.5 461.5,-686.5 427.5,-686.5\" stroke=\"black\"/>\n",
       "<text fill=\"blue\" font-family=\"Times New Roman,serif\" font-size=\"14.00\" text-anchor=\"start\" x=\"430.5\" y=\"-693.3\">Last</text>\n",
       "<polygon fill=\"none\" points=\"463.5,-686.5 463.5,-707.5 500.5,-707.5 500.5,-686.5 463.5,-686.5\" stroke=\"black\"/>\n",
       "<text fill=\"blue\" font-family=\"Times New Roman,serif\" font-size=\"14.00\" text-anchor=\"start\" x=\"466.5\" y=\"-693.3\">4.000</text>\n",
       "<polygon fill=\"none\" points=\"502.5,-686.5 502.5,-707.5 539.5,-707.5 539.5,-686.5 502.5,-686.5\" stroke=\"black\"/>\n",
       "<text fill=\"blue\" font-family=\"Times New Roman,serif\" font-size=\"14.00\" text-anchor=\"start\" x=\"505.5\" y=\"-693.3\">4.000</text>\n",
       "<polygon fill=\"none\" points=\"541.5,-686.5 541.5,-707.5 578.5,-707.5 578.5,-686.5 541.5,-686.5\" stroke=\"black\"/>\n",
       "<text fill=\"blue\" font-family=\"Times New Roman,serif\" font-size=\"14.00\" text-anchor=\"start\" x=\"544.5\" y=\"-693.3\">4.000</text>\n",
       "<polygon fill=\"none\" points=\"427.5,-663.5 427.5,-684.5 461.5,-684.5 461.5,-663.5 427.5,-663.5\" stroke=\"black\"/>\n",
       "<text fill=\"blue\" font-family=\"Times New Roman,serif\" font-size=\"14.00\" text-anchor=\"start\" x=\"430.5\" y=\"-670.3\">Diff</text>\n",
       "<polygon fill=\"none\" points=\"463.5,-663.5 463.5,-684.5 500.5,-684.5 500.5,-663.5 463.5,-663.5\" stroke=\"black\"/>\n",
       "<text fill=\"blue\" font-family=\"Times New Roman,serif\" font-size=\"14.00\" text-anchor=\"start\" x=\"466.5\" y=\"-670.3\">0.000</text>\n",
       "<polygon fill=\"none\" points=\"502.5,-663.5 502.5,-684.5 539.5,-684.5 539.5,-663.5 502.5,-663.5\" stroke=\"black\"/>\n",
       "<text fill=\"blue\" font-family=\"Times New Roman,serif\" font-size=\"14.00\" text-anchor=\"start\" x=\"505.5\" y=\"-670.3\">0.000</text>\n",
       "<polygon fill=\"none\" points=\"541.5,-663.5 541.5,-684.5 578.5,-684.5 578.5,-663.5 541.5,-663.5\" stroke=\"black\"/>\n",
       "<text fill=\"blue\" font-family=\"Times New Roman,serif\" font-size=\"14.00\" text-anchor=\"start\" x=\"544.5\" y=\"-670.3\">0.000</text>\n",
       "<polygon fill=\"none\" points=\"424,-661 424,-780 581,-780 581,-661 424,-661\" stroke=\"black\"/>\n",
       "</g>\n",
       "<!-- CASH&#45;&gt;ASSETS -->\n",
       "<g class=\"edge\" id=\"edge10\"><title>CASH-&gt;ASSETS</title>\n",
       "<path d=\"M457.265,-658.8C450.501,-649.723 443.487,-640.312 436.612,-631.086\" fill=\"none\" stroke=\"black\"/>\n",
       "<polygon fill=\"black\" points=\"439.397,-628.966 430.615,-623.039 433.784,-633.149 439.397,-628.966\" stroke=\"black\"/>\n",
       "</g>\n",
       "</g>\n",
       "</svg>"
      ],
      "text/plain": [
       "<IPython.core.display.SVG object>"
      ]
     },
     "metadata": {},
     "output_type": "display_data"
    }
   ],
   "source": [
    "df.mf.drawmodel(all =1,svg=1) "
   ]
  },
  {
   "cell_type": "markdown",
   "metadata": {
    "slideshow": {
     "slide_type": "slide"
    }
   },
   "source": [
    "# What explains the difference for a variable \n",
    "Which of the input variables explains the difference of the results of a formula between two runs."
   ]
  },
  {
   "cell_type": "markdown",
   "metadata": {
    "slideshow": {
     "slide_type": "subslide"
    }
   },
   "source": [
    "If we have:\n",
    "\n",
    "$y = f(a,b)$\n",
    "\n",
    "and we have two solutions where the variables differs by $\\Delta y, \\Delta a, \\Delta b$\n",
    "\n",
    "How much of $\\Delta y$ can be explained by $\\Delta a$ and $\\Delta b$ ?\n",
    "\n",
    "Analytical the attributions $\\Omega a$ and $\\Omega b$ can  be calculated like this: \n",
    "\n",
    "$\\Delta y = \\underbrace{\\Delta a \\frac{\\partial {f}}{\\partial{a}}(a,b)}_{\\Omega a} + \n",
    "\\underbrace{\\Delta b \\frac{\\partial {f}}{\\partial{b}}(a,b)}_{\\Omega b}+Residual$"
   ]
  },
  {
   "cell_type": "markdown",
   "metadata": {
    "slideshow": {
     "slide_type": "subslide"
    }
   },
   "source": [
    "If we have two experiments:\n",
    "\n",
    "\\begin{eqnarray}  \n",
    "y_0&=&𝑓(a_{0},b_{0}) \\\\\n",
    "y_1&=&𝑓(a_0+\\Delta a,b_{0}+ \\Delta b)\n",
    "\\end{eqnarray}\n",
    "\n",
    "ModelFlow will do a numerical approximation of $\\Omega a$ and $\\Omega b$.\n",
    "\n",
    "\\begin{eqnarray}  \n",
    "\\Omega f_a&=&f(a_1,b_1 )-f(a_1-\\Delta a,b_1) \\\\\n",
    "\\Omega f_b&=&f(a_1,b_1 )-f(a_1,b_1-\\Delta  b)\n",
    "\\end{eqnarray}\n",
    "\n",
    "\n",
    "\n",
    "If the model is fairly linear, the residual will be small. \n",
    "\n",
    "\\begin{eqnarray}\n",
    "residual = \\Omega f_a + \\Omega f_b -(y_1 - y_0) \n",
    "\\end{eqnarray}"
   ]
  },
  {
   "cell_type": "markdown",
   "metadata": {},
   "source": [
    "Now look at generations of attributions "
   ]
  },
  {
   "cell_type": "code",
   "execution_count": 22,
   "metadata": {
    "slideshow": {
     "slide_type": "slide"
    }
   },
   "outputs": [
    {
     "data": {
      "image/png": "[encoded data removed]",
      "text/plain": [
       "<IPython.core.display.Image object>"
      ]
     },
     "metadata": {},
     "output_type": "display_data"
    }
   ],
   "source": [
    "_= df.mf.bonds.explain(up=2,HR=0,pdf=0)"
   ]
  },
  {
   "cell_type": "markdown",
   "metadata": {
    "slideshow": {
     "slide_type": "slide"
    }
   },
   "source": [
    "# Beyond a simpel model\n",
    "\n",
    "This was a simple model. You don't even need a computer to solve it, or you could use Excel to handle the model.  However sometime you want to:\n",
    "\n",
    "* Invert the model to solve for targets as function of instruments.\n",
    "* Use a a more rich business logic language\n",
    "* Let variables be matrices (dense or sparse) \n",
    "* Scale to large model (even millions of equations)\n",
    "* Handle simultaneous models\n",
    "* Make identical models for a lot of banks/sectors or whatever\n",
    "* Solve models fast  \n",
    "* Grab a model from Matlab/Dynare/Excel/Latex\n",
    "* Attribute difference between scenarios to individual variables or groups of variables.\n",
    "* Speed up the model by compiling the model \n",
    "* Linearize the model using symbolic differentiation \n",
    "* Calculate stability of a linearized model. "
   ]
  }
 ],
 "metadata": {
  "celltoolbar": "Slideshow",
  "kernelspec": {
   "display_name": "Python 3",
   "language": "python",
   "name": "python3"
  },
  "language_info": {
   "codemirror_mode": {
    "name": "ipython",
    "version": 3
   },
   "file_extension": ".py",
   "mimetype": "text/x-python",
   "name": "python",
   "nbconvert_exporter": "python",
   "pygments_lexer": "ipython3",
   "version": "3.7.5"
  },
  "toc": {
   "base_numbering": 1,
   "nav_menu": {},
   "number_sections": true,
   "sideBar": true,
   "skip_h1_title": false,
   "title_cell": "Table of Contents",
   "title_sidebar": "Contents",
   "toc_cell": false,
   "toc_position": {
    "height": "calc(100% - 180px)",
    "left": "10px",
    "top": "150px",
    "width": "284px"
   },
   "toc_section_display": true,
   "toc_window_display": false
  },
  "varInspector": {
   "cols": {
    "lenName": 16,
    "lenType": 16,
    "lenVar": 40
   },
   "kernels_config": {
    "python": {
     "delete_cmd_postfix": "",
     "delete_cmd_prefix": "del ",
     "library": "var_list.py",
     "varRefreshCmd": "print(var_dic_list())"
    },
    "r": {
     "delete_cmd_postfix": ") ",
     "delete_cmd_prefix": "rm(",
     "library": "var_list.r",
     "varRefreshCmd": "cat(var_dic_list()) "
    }
   },
   "oldHeight": 122.4,
   "position": {
    "height": "40px",
    "left": "945.36px",
    "right": "20px",
    "top": "120px",
    "width": "250px"
   },
   "types_to_exclude": [
    "module",
    "function",
    "builtin_function_or_method",
    "instance",
    "_Feature"
   ],
   "varInspector_section_display": "none",
   "window_display": true
  }
 },
 "nbformat": 4,
 "nbformat_minor": 1
}
