{
 "cells": [
  {
   "cell_type": "markdown",
   "metadata": {
    "nbpresent": {
     "id": "7ab9d0f4-4022-4846-90af-a16b74ba748f"
    },
    "slideshow": {
     "slide_type": "slide"
    }
   },
   "source": [
    "# A transpiler demonstrator\n",
    "\n",
    "This workbook gives a simple example of how a model in a simple business logic language can be transpiled to a Python function. \n",
    "\n",
    "It don't depend on Modelflow. The purpose is to illustrate how to use Python to write a Python program which can solve a model on data in a Pandas DataFrame\n",
    "\n",
    "The Workbook shows how expressions are tokenized, and how a list of tokens can be used to manufacture a python function. \n",
    "This function can then be used to evaluate the expressions (the model).\n",
    "\n",
    "In this mini business logic language time (t) is implicit. only lags [(-<lag>)] need to be specified. "
   ]
  },
  {
   "cell_type": "code",
   "execution_count": 8,
   "metadata": {
    "nbpresent": {
     "id": "31bf81f2-a25a-432b-83b5-2d929ecce96e"
    },
    "slideshow": {
     "slide_type": "skip"
    }
   },
   "outputs": [],
   "source": [
    "%matplotlib inline\n",
    "import matplotlib.pyplot as plt\n",
    "import re\n",
    "import pandas as pd"
   ]
  },
  {
   "cell_type": "markdown",
   "metadata": {
    "nbpresent": {
     "id": "5e89aee1-fba1-4261-866f-8216429db432"
    },
    "slideshow": {
     "slide_type": "slide"
    }
   },
   "source": [
    "The transpiler consists of two phases\n",
    "-------------------------------------\n",
    "- Tokenize an expressions into terms \n",
    "- recombining the terms as legal python code. But substitution **var** -\\> dataframe.loc[periode+lag,**var**]  \n",
    "\n",
    "This will access the relevant row and column in a Pandas dataframe "
   ]
  },
  {
   "cell_type": "markdown",
   "metadata": {
    "nbpresent": {
     "id": "97c9b8e3-3504-4770-a7bf-88debb8034b9"
    },
    "slideshow": {
     "slide_type": "slide"
    }
   },
   "source": [
    "## A model is a collection of expressions "
   ]
  },
  {
   "cell_type": "code",
   "execution_count": 9,
   "metadata": {
    "nbpresent": {
     "id": "6d0b349e-f531-481a-a9c1-4293f00b3d4c"
    },
    "slideshow": {
     "slide_type": "subslide"
    }
   },
   "outputs": [
    {
     "name": "stdout",
     "output_type": "stream",
     "text": [
      "a = b+c(-1) \n",
      "d = a+ (x(-1)) \n",
      "x = a+b \n"
     ]
    }
   ],
   "source": [
    "fmodel      = '''\\\n",
    "a = b+c(-1) \n",
    "d = a+ (x(-1)) \n",
    "x = a+b '''\n",
    "print(fmodel)"
   ]
  },
  {
   "cell_type": "markdown",
   "metadata": {
    "nbpresent": {
     "id": "934302c6-e5c9-426d-8d0b-0dcd59f12ac9"
    },
    "slideshow": {
     "slide_type": "slide"
    }
   },
   "source": [
    "## To tokenizer\n",
    "Using Regular expressions"
   ]
  },
  {
   "cell_type": "code",
   "execution_count": 10,
   "metadata": {
    "slideshow": {
     "slide_type": "subslide"
    }
   },
   "outputs": [
    {
     "data": {
      "text/plain": [
       "[nterm(number='', op='', var='A', lag=''),\n",
       " nterm(number='', op='=', var='', lag=''),\n",
       " nterm(number='', op='', var='B', lag=''),\n",
       " nterm(number='', op='+', var='', lag=''),\n",
       " nterm(number='', op='', var='C', lag='-1'),\n",
       " nterm(number='', op='+', var='', lag=''),\n",
       " nterm(number='', op='LOG', var='', lag=''),\n",
       " nterm(number='', op='(', var='', lag=''),\n",
       " nterm(number='10', op='', var='', lag=''),\n",
       " nterm(number='', op=')', var='', lag='')]"
      ]
     },
     "execution_count": 10,
     "metadata": {},
     "output_type": "execute_result"
    }
   ],
   "source": [
    "expression ='a  =b+c(-1)+log(10)'\n",
    "\n",
    "funkname    = 'LOG MIN'.split() # names of functions \n",
    "funkname2   = [i+r'(?=\\()' for i in funkname]                                 # a function is followed by a (, ?= is positive lookahead \n",
    "opname      = r'=+-/*()]'.split()                                            # list of ordinary operators \n",
    "oppat       = '('+'|'.join(['(?:' + i + ')' for i in funkname2+opname])+')'   # the pattern for operators \n",
    "numpat      = r'([0-9]+)'                                                     # the pattern for a number \n",
    "namepat     = r'([A-Z][A-Z0-9_]*)' # a name                                      # the pattern for a variable name \n",
    "lagpat      = r'(?:\\(([+-][0-9]+)\\))?'                                        # the pattern for a lag or lead \n",
    "\n",
    "xxx    = re.findall(numpat + '|' + oppat + '|' + namepat + lagpat ,  expression.upper())  # the actual parsing \n",
    "\n",
    "from collections import namedtuple\n",
    "nterm  = namedtuple('nterm', [ 'number', 'op', 'var', 'lag'])\n",
    "ibh = [nterm._make(t) for t in xxx]   # Easier to remember by using named tupels . \n",
    "ibh"
   ]
  },
  {
   "cell_type": "code",
   "execution_count": 11,
   "metadata": {
    "nbpresent": {
     "id": "3579ddde-fcd2-4daa-93c2-ce3f14beb0a3"
    },
    "slideshow": {
     "slide_type": "skip"
    }
   },
   "outputs": [
    {
     "data": {
      "text/plain": [
       "['LOG(?=\\\\()', 'MIN(?=\\\\()']"
      ]
     },
     "execution_count": 11,
     "metadata": {},
     "output_type": "execute_result"
    }
   ],
   "source": [
    "funkname2"
   ]
  },
  {
   "cell_type": "code",
   "execution_count": 12,
   "metadata": {
    "nbpresent": {
     "id": "88bc2d26-6187-4ac6-96c5-89b8c4561fef"
    },
    "slideshow": {
     "slide_type": "slide"
    }
   },
   "outputs": [
    {
     "data": {
      "text/plain": [
       "'((?:LOG(?=\\\\())|(?:MIN(?=\\\\())|(?:[=+-/*()]))'"
      ]
     },
     "execution_count": 12,
     "metadata": {},
     "output_type": "execute_result"
    }
   ],
   "source": [
    "oppat"
   ]
  },
  {
   "cell_type": "markdown",
   "metadata": {
    "slideshow": {
     "slide_type": "slide"
    }
   },
   "source": [
    "## Now we are in business, lets make af function which can tokenize"
   ]
  },
  {
   "cell_type": "code",
   "execution_count": 13,
   "metadata": {
    "nbpresent": {
     "id": "9e276857-254b-4773-b921-8be9edd59aef"
    },
    "slideshow": {
     "slide_type": "fragment"
    }
   },
   "outputs": [],
   "source": [
    "def expression_tokenize(expression):\n",
    "    from collections import namedtuple\n",
    "    \n",
    "    funkname    = 'DLOG LOG DIFF EXP MIN MAX MATRIX MV_OPT MV_OPT_PROP TRANS FLOAT SUM_EXCEL'.split() # names of functions \n",
    "    funkname2   = [i+r'(?=\\()' for i in funkname]                                 # a function is followed by a (, ?= is positive lookahead \n",
    "    opname      = r'\\*\\*  >=  <=  ==  [=+-/*()$><,.\\]\\[]'.split()                 # list of ordinary operators \n",
    "    oppat       = '('+'|'.join(['(?:' + i + ')' for i in funkname2+opname])+')'   # the pattern for operators \n",
    "    numpat      = r'((?:\\d+(?:\\.\\d*)?|\\.\\d+)(?:[eE][+-]\\d+)?)'                    # the pattern for a number \n",
    "    namepat     = r'([A-Za-z_]\\w*)' # a name                                      # the pattern for a variable name \n",
    "    lagpat      = r'(?:\\(([+-][0-9]+)\\))?'                                        # the pattern for a lag or lead \n",
    "    \n",
    "    temp   = re.sub(r'\\s+', '', expression.upper()) # remove all blanks \n",
    "    \n",
    "    xxx    = re.findall( numpat + '|' + oppat + '|' + namepat + lagpat , temp)  # the actual parsing \n",
    "    nterm  = namedtuple('nterm', [ 'number', 'op', 'var', 'lag'])\n",
    "    ibh = [nterm._make(t) for t in xxx]   # Easier to remember by using named tupels . \n",
    "    return ibh"
   ]
  },
  {
   "cell_type": "markdown",
   "metadata": {
    "nbpresent": {
     "id": "1ac0de7b-f1af-4946-85cf-f68ea8c94c04"
    },
    "slideshow": {
     "slide_type": "slide"
    }
   },
   "source": [
    "## Example of output from tokenizer \n",
    "A list of lists of terms "
   ]
  },
  {
   "cell_type": "code",
   "execution_count": 14,
   "metadata": {
    "nbpresent": {
     "id": "32e46794-7372-4c2f-b196-02835c428a85"
    },
    "slideshow": {
     "slide_type": "fragment"
    }
   },
   "outputs": [
    {
     "data": {
      "text/plain": [
       "[[nterm(number='', op='', var='A', lag=''),\n",
       "  nterm(number='', op='=', var='', lag=''),\n",
       "  nterm(number='', op='', var='B', lag=''),\n",
       "  nterm(number='', op='+', var='', lag=''),\n",
       "  nterm(number='', op='', var='C', lag='-1')],\n",
       " [nterm(number='', op='', var='D', lag=''),\n",
       "  nterm(number='', op='=', var='', lag=''),\n",
       "  nterm(number='', op='', var='A', lag=''),\n",
       "  nterm(number='', op='+', var='', lag=''),\n",
       "  nterm(number='', op='(', var='', lag=''),\n",
       "  nterm(number='', op='', var='X', lag='-1'),\n",
       "  nterm(number='', op=')', var='', lag='')],\n",
       " [nterm(number='', op='', var='X', lag=''),\n",
       "  nterm(number='', op='=', var='', lag=''),\n",
       "  nterm(number='', op='', var='A', lag=''),\n",
       "  nterm(number='', op='+', var='', lag=''),\n",
       "  nterm(number='', op='', var='B', lag='')]]"
      ]
     },
     "execution_count": 14,
     "metadata": {},
     "output_type": "execute_result"
    }
   ],
   "source": [
    "termslist = [expression_tokenize(i) for i in fmodel.split('\\n')]\n",
    "termslist"
   ]
  },
  {
   "cell_type": "markdown",
   "metadata": {
    "nbpresent": {
     "id": "d8198b7c-9c4f-48c2-9e71-a682b59ad0b9"
    },
    "slideshow": {
     "slide_type": "slide"
    }
   },
   "source": [
    "## Create a function which creates a factory function "
   ]
  },
  {
   "cell_type": "code",
   "execution_count": 15,
   "metadata": {
    "nbpresent": {
     "id": "fcc69514-fc78-49dd-bfbe-e583ad0f25fe"
    },
    "slideshow": {
     "slide_type": "-"
    }
   },
   "outputs": [],
   "source": [
    "def output(t):\n",
    "    '''This function returns a python term '''\n",
    "    return t.op.lower() if t.op else t.number if t.number else \"df.loc[periode\" + t.lag + \",'\"+t.var+\"']\"\n",
    "\n",
    "def xouteval(termslist):\n",
    "    ''' takes a list of terms and translates to a evaluater function called los    \n",
    "    \n",
    "    Basicly var(lag) is translated to: Dataframe.loc[<periode>+<lag>,<name>]    \n",
    "    '''\n",
    "    fib2=[]\n",
    "    short = ' ' *7 \n",
    "    fib='''\\\n",
    "def make_los():\n",
    "  from math import exp, log\n",
    "  def los(df,periode):\\n'''\n",
    "    uib = '\\n'.join([ short+''.join([output(t)  for t in terms]) for terms in termslist])\n",
    "    fib2.append('\\n'+ short +'return \\n')\n",
    "    fib2.append('  return los\\n')\n",
    "    return (''.join(fib)) +uib + ''.join(fib2)"
   ]
  },
  {
   "cell_type": "code",
   "execution_count": 17,
   "metadata": {
    "nbpresent": {
     "id": "30ce48f4-43e4-44c6-af64-a6c5b35c4bf0"
    },
    "slideshow": {
     "slide_type": "slide"
    }
   },
   "outputs": [
    {
     "name": "stdout",
     "output_type": "stream",
     "text": [
      "Model:\n",
      "a = b+c(-1) \n",
      "d = a+ (x(-1)) \n",
      "x = a+b \n",
      "\n",
      "And the resulting calculating function: \n",
      "def make_los():\n",
      "  from math import exp, log\n",
      "  def los(df,periode):\n",
      "       df.loc[periode,'A']=df.loc[periode,'B']+df.loc[periode-1,'C']\n",
      "       df.loc[periode,'D']=df.loc[periode,'A']+(df.loc[periode-1,'X'])\n",
      "       df.loc[periode,'X']=df.loc[periode,'A']+df.loc[periode,'B']\n",
      "       return \n",
      "  return los\n",
      "\n"
     ]
    }
   ],
   "source": [
    "modelterms = [expression_tokenize(i) for i in fmodel.split('\\n')]  # tokenize the expressions in the model \n",
    "text       = xouteval(modelterms)                     # Create the text for the factory function \n",
    "exec(text)                                           # Execute the text to create the factory function \n",
    "calc     = make_los()                               # Execute the factory function to get the calculation function \n",
    "\n",
    "print(f'Model:\\n{fmodel}\\n')\n",
    "print(f'And the resulting calculating function: \\n{text}')"
   ]
  },
  {
   "cell_type": "markdown",
   "metadata": {},
   "source": [
    "# Now create some data "
   ]
  },
  {
   "cell_type": "code",
   "execution_count": 18,
   "metadata": {
    "nbpresent": {
     "id": "b6b7149e-d746-4316-8a61-dc56ccc35f8f"
    },
    "slideshow": {
     "slide_type": "fragment"
    }
   },
   "outputs": [
    {
     "name": "stdout",
     "output_type": "stream",
     "text": [
      "      B  C  X  A  D\n",
      "2015  1  1  4  0  0\n",
      "2016  1  2  4  0  0\n",
      "2017  1  3  4  0  0\n",
      "2018  1  4  4  0  0\n"
     ]
    }
   ],
   "source": [
    "import pandas as pd\n",
    "dates= [2015,2016,2017,2018]\n",
    "df = pd.DataFrame({'B': [1,1,1,1],'C':[1,2,3,4],'X':[4,4,4,4]},index=dates)\n",
    "df['A']=0\n",
    "df['D']=0\n",
    "print(df)"
   ]
  },
  {
   "cell_type": "code",
   "execution_count": 19,
   "metadata": {
    "nbpresent": {
     "id": "d9ea340e-3eab-417e-a69f-7fa99f266d63"
    },
    "slideshow": {
     "slide_type": "skip"
    }
   },
   "outputs": [
    {
     "name": "stdout",
     "output_type": "stream",
     "text": [
      "a = b+c(-1) \n",
      "d = a+ (x(-1)) \n",
      "x = a+b \n"
     ]
    }
   ],
   "source": [
    "print(fmodel)    # so we remember the model "
   ]
  },
  {
   "cell_type": "code",
   "execution_count": 20,
   "metadata": {
    "nbpresent": {
     "id": "ee9aa893-004f-4146-b650-38c1e21b2fd7"
    },
    "scrolled": true,
    "slideshow": {
     "slide_type": "slide"
    }
   },
   "outputs": [
    {
     "name": "stdout",
     "output_type": "stream",
     "text": [
      "      B  C  X  A  D\n",
      "2015  1  1  4  0  0\n",
      "2016  1  2  3  2  6\n",
      "2017  1  3  4  3  6\n",
      "2018  1  4  5  4  8\n"
     ]
    }
   ],
   "source": [
    "for d in dates[1:]:     # we have to start at period 1 as there is a lag \n",
    "    calc(df,d)\n",
    "print(df)"
   ]
  },
  {
   "cell_type": "markdown",
   "metadata": {
    "nbpresent": {
     "id": "132ec2ab-93fd-46e9-88df-281cb5ecb7ee"
    },
    "slideshow": {
     "slide_type": "slide"
    }
   },
   "source": [
    "## Find dependecies  \n",
    "For each left hand side variable find all the variables on the right hand side"
   ]
  },
  {
   "cell_type": "code",
   "execution_count": 27,
   "metadata": {
    "nbpresent": {
     "id": "dc03eb0e-50af-4c52-893e-39cd26fe7995"
    },
    "slideshow": {
     "slide_type": "slide"
    }
   },
   "outputs": [
    {
     "name": "stdout",
     "output_type": "stream",
     "text": [
      "{'A': {'B', 'C'}, 'D': {'X', 'A'}, 'X': {'B', 'A'}}\n"
     ]
    }
   ],
   "source": [
    "causal={termslist[0].var: \n",
    "         set([term.var for term in termslist if term.var][1:])\n",
    "         for termslist in modelterms }\n",
    "print(causal)"
   ]
  },
  {
   "cell_type": "markdown",
   "metadata": {
    "nbpresent": {
     "id": "812d5967-3896-4707-9f40-f767a6ac9fe7"
    },
    "slideshow": {
     "slide_type": "slide"
    }
   },
   "source": [
    "## Create causality graph"
   ]
  },
  {
   "cell_type": "code",
   "execution_count": 28,
   "metadata": {
    "nbpresent": {
     "id": "251208e9-f043-41cf-aad6-60e2b6c252e3"
    }
   },
   "outputs": [],
   "source": [
    "import networkx as nx\n",
    "gall   = nx.DiGraph()\n",
    "for endo,rhv  in causal.items() :\n",
    "    for v in rhv:\n",
    "        gall.add_edge(v,endo)"
   ]
  },
  {
   "cell_type": "code",
   "execution_count": 29,
   "metadata": {
    "nbpresent": {
     "id": "2d4573f8-a1b1-4e92-8760-76d85c9edae4"
    },
    "slideshow": {
     "slide_type": "slide"
    }
   },
   "outputs": [
    {
     "data": {
      "image/png": "[encoded data removed]",
      "text/plain": [
       "<Figure size 432x288 with 1 Axes>"
      ]
     },
     "metadata": {},
     "output_type": "display_data"
    }
   ],
   "source": [
    "pos=nx.spectral_layout(gall) \n",
    "nx.draw(gall,pos=pos,node_size=1200)\n",
    "nx.draw_networkx_labels(gall,pos=pos,font_size=25)\n",
    "plt.show()        "
   ]
  },
  {
   "cell_type": "markdown",
   "metadata": {
    "nbpresent": {
     "id": "e0b4650c-6082-4fbd-9a5e-fa05a89e8935"
    },
    "slideshow": {
     "slide_type": "slide"
    }
   },
   "source": [
    "# Find all endogeneous and exogeneous variables "
   ]
  },
  {
   "cell_type": "code",
   "execution_count": 30,
   "metadata": {
    "nbpresent": {
     "id": "86b42814-3369-4557-af63-092bbd7a1e71"
    }
   },
   "outputs": [
    {
     "name": "stdout",
     "output_type": "stream",
     "text": [
      "{'X', 'B', 'C', 'A', 'D'}\n"
     ]
    }
   ],
   "source": [
    "all_var  = set([v.var for e in modelterms for v in e if v.var])\n",
    "print(all_var)"
   ]
  },
  {
   "cell_type": "code",
   "execution_count": 31,
   "metadata": {
    "nbpresent": {
     "id": "2a687a3f-08f2-4016-8b32-283b7df33261"
    }
   },
   "outputs": [
    {
     "name": "stdout",
     "output_type": "stream",
     "text": [
      "{'X', 'A', 'D'}\n"
     ]
    }
   ],
   "source": [
    "endo_var = set([e[0].var for e in modelterms ])\n",
    "print(endo_var)"
   ]
  },
  {
   "cell_type": "code",
   "execution_count": 32,
   "metadata": {
    "nbpresent": {
     "id": "342033a6-1385-40bf-b817-83b023442e30"
    }
   },
   "outputs": [
    {
     "name": "stdout",
     "output_type": "stream",
     "text": [
      "{'B', 'C'}\n"
     ]
    }
   ],
   "source": [
    "exo_var = all_var - endo_var\n",
    "print(exo_var)"
   ]
  },
  {
   "cell_type": "markdown",
   "metadata": {
    "slideshow": {
     "slide_type": "slide"
    }
   },
   "source": [
    "## This not all  \n",
    "This was an simple example. To get a really useful model evaluater/solver we need more: \n",
    "\n",
    "-  Syntax chekking \n",
    "-  Error catching \n",
    "-  Real speedup \n",
    "-  Equation Sequencing \n",
    "\n",
    "Python makes theese tasks easy to perform. "
   ]
  }
 ],
 "metadata": {
  "anaconda-cloud": {},
  "hide_input": false,
  "kernelspec": {
   "display_name": "Python 3 (ipykernel)",
   "language": "python",
   "name": "python3"
  },
  "language_info": {
   "codemirror_mode": {
    "name": "ipython",
    "version": 3
   },
   "file_extension": ".py",
   "mimetype": "text/x-python",
   "name": "python",
   "nbconvert_exporter": "python",
   "pygments_lexer": "ipython3",
   "version": "3.8.8"
  },
  "nbpresent": {
   "slides": {
    "064f2623-c73e-4fe4-84e8-c8d030a3c709": {
     "id": "064f2623-c73e-4fe4-84e8-c8d030a3c709",
     "prev": "69508e14-78a2-4c1e-a3db-b301e1d58f6e",
     "regions": {
      "32217264-2799-4b33-9fca-0aae551458b6": {
       "attrs": {
        "height": 0.8,
        "width": 0.8,
        "x": 0.1,
        "y": 0.1
       },
       "content": {
        "cell": "b6b7149e-d746-4316-8a61-dc56ccc35f8f",
        "part": "whole"
       },
       "id": "32217264-2799-4b33-9fca-0aae551458b6"
      }
     }
    },
    "1b113bc7-d58f-44fe-bf8a-fac80ab2869e": {
     "id": "1b113bc7-d58f-44fe-bf8a-fac80ab2869e",
     "prev": "4aa70649-0ab9-43a6-8342-e324d2fcdd88",
     "regions": {
      "7dac1a08-4e96-449c-a063-5b33880a239d": {
       "attrs": {
        "height": 0.8,
        "width": 0.8,
        "x": 0.1,
        "y": 0.1
       },
       "content": {
        "cell": "dc03eb0e-50af-4c52-893e-39cd26fe7995",
        "part": "whole"
       },
       "id": "7dac1a08-4e96-449c-a063-5b33880a239d"
      }
     }
    },
    "289891d5-84e7-478c-833d-e76fb107f9b8": {
     "id": "289891d5-84e7-478c-833d-e76fb107f9b8",
     "prev": "6fb21ce5-6920-4c19-a7ff-59e25971b8dc",
     "regions": {
      "9b660e07-70c5-4334-80c5-9a02feda4ab5": {
       "attrs": {
        "height": 0.8,
        "width": 0.8,
        "x": 0.1,
        "y": 0.1
       },
       "content": {
        "cell": "2d4573f8-a1b1-4e92-8760-76d85c9edae4",
        "part": "whole"
       },
       "id": "9b660e07-70c5-4334-80c5-9a02feda4ab5"
      }
     }
    },
    "2cd5d6a9-9e56-476b-9762-a4963f3b0130": {
     "id": "2cd5d6a9-9e56-476b-9762-a4963f3b0130",
     "prev": "a1341685-304b-4e95-bbaf-b819d8500057",
     "regions": {
      "c1cb8dd6-72fe-48ad-be75-dc1b85c07f2f": {
       "attrs": {
        "height": 0.8,
        "width": 0.8,
        "x": 0.1,
        "y": 0.1
       },
       "content": {
        "cell": "97c9b8e3-3504-4770-a7bf-88debb8034b9",
        "part": "whole"
       },
       "id": "c1cb8dd6-72fe-48ad-be75-dc1b85c07f2f"
      }
     }
    },
    "33fe53a1-b7d5-407e-b071-aaf44167de3e": {
     "id": "33fe53a1-b7d5-407e-b071-aaf44167de3e",
     "prev": "d3139690-8b48-435a-adcf-69d21f66c66f",
     "regions": {
      "309f81af-c56a-434d-a74c-bb47851365c6": {
       "attrs": {
        "height": 0.8,
        "width": 0.8,
        "x": 0.1,
        "y": 0.1
       },
       "content": {
        "cell": "31bf81f2-a25a-432b-83b5-2d929ecce96e",
        "part": "whole"
       },
       "id": "309f81af-c56a-434d-a74c-bb47851365c6"
      }
     }
    },
    "3de8bc14-0122-4262-af23-9c4756be2b64": {
     "id": "3de8bc14-0122-4262-af23-9c4756be2b64",
     "prev": "b0bdb73a-c066-4c76-ba01-de15851f960b",
     "regions": {
      "b1798c54-c115-432b-93b8-854ee1384473": {
       "attrs": {
        "height": 0.8,
        "width": 0.8,
        "x": 0.1,
        "y": 0.1
       },
       "content": {
        "cell": "30ce48f4-43e4-44c6-af64-a6c5b35c4bf0",
        "part": "whole"
       },
       "id": "b1798c54-c115-432b-93b8-854ee1384473"
      }
     }
    },
    "43440ebb-9cd2-4e58-a5a5-b88a184b5db1": {
     "id": "43440ebb-9cd2-4e58-a5a5-b88a184b5db1",
     "prev": "80da4cd2-bbb3-4b11-8e2b-f6721556de69",
     "regions": {
      "93772097-f670-492d-b99d-79d5d72a0bd3": {
       "attrs": {
        "height": 0.8,
        "width": 0.8,
        "x": 0.1,
        "y": 0.1
       },
       "content": {
        "cell": "934302c6-e5c9-426d-8d0b-0dcd59f12ac9",
        "part": "whole"
       },
       "id": "93772097-f670-492d-b99d-79d5d72a0bd3"
      }
     }
    },
    "46e9718c-007b-494e-98ed-d1c476c0a0c3": {
     "id": "46e9718c-007b-494e-98ed-d1c476c0a0c3",
     "prev": "289891d5-84e7-478c-833d-e76fb107f9b8",
     "regions": {
      "4a29aa26-9888-4eb1-8cca-3bb3943fc0a1": {
       "attrs": {
        "height": 0.8,
        "width": 0.8,
        "x": 0.1,
        "y": 0.1
       },
       "content": {
        "cell": "e0b4650c-6082-4fbd-9a5e-fa05a89e8935",
        "part": "whole"
       },
       "id": "4a29aa26-9888-4eb1-8cca-3bb3943fc0a1"
      }
     }
    },
    "4aa70649-0ab9-43a6-8342-e324d2fcdd88": {
     "id": "4aa70649-0ab9-43a6-8342-e324d2fcdd88",
     "prev": "4b2c48df-be74-4b88-8f2c-f79a8131f887",
     "regions": {
      "bb3a6099-6b37-4373-8ae9-2477c115bb56": {
       "attrs": {
        "height": 0.8,
        "width": 0.8,
        "x": 0.1,
        "y": 0.1
       },
       "content": {
        "cell": "132ec2ab-93fd-46e9-88df-281cb5ecb7ee",
        "part": "whole"
       },
       "id": "bb3a6099-6b37-4373-8ae9-2477c115bb56"
      }
     }
    },
    "4b2c48df-be74-4b88-8f2c-f79a8131f887": {
     "id": "4b2c48df-be74-4b88-8f2c-f79a8131f887",
     "prev": "ab5e3ad7-68da-4458-bc0e-a2dfd37274a7",
     "regions": {
      "3fa4d4cf-3d6a-410b-abed-e31ef5264846": {
       "attrs": {
        "height": 0.8,
        "width": 0.8,
        "x": 0.1,
        "y": 0.1
       },
       "content": {
        "cell": "ee9aa893-004f-4146-b650-38c1e21b2fd7",
        "part": "whole"
       },
       "id": "3fa4d4cf-3d6a-410b-abed-e31ef5264846"
      }
     }
    },
    "4bc29813-8a0f-43ff-8bac-20d9365f8e98": {
     "id": "4bc29813-8a0f-43ff-8bac-20d9365f8e98",
     "prev": "f8eb2076-13e3-493a-9ab4-b368926b813c",
     "regions": {
      "522aa024-cbd9-4932-8bf6-180564c58ad5": {
       "attrs": {
        "height": 0.8,
        "width": 0.8,
        "x": 0.1,
        "y": 0.1
       },
       "content": {
        "cell": "1ac0de7b-f1af-4946-85cf-f68ea8c94c04",
        "part": "whole"
       },
       "id": "522aa024-cbd9-4932-8bf6-180564c58ad5"
      }
     }
    },
    "50eb7bb1-1cd0-4956-abd7-28f8e97c7179": {
     "id": "50eb7bb1-1cd0-4956-abd7-28f8e97c7179",
     "prev": "b2b28870-a0b7-4bb7-9919-d67ec1f37279",
     "regions": {
      "3b26ccca-53ae-45ae-9804-c35a7defaf6d": {
       "attrs": {
        "height": 0.8,
        "width": 0.8,
        "x": 0.1,
        "y": 0.1
       },
       "content": {
        "cell": "342033a6-1385-40bf-b817-83b023442e30",
        "part": "whole"
       },
       "id": "3b26ccca-53ae-45ae-9804-c35a7defaf6d"
      }
     }
    },
    "5c0b3e82-5541-4e16-ab3c-36bee44ccedf": {
     "id": "5c0b3e82-5541-4e16-ab3c-36bee44ccedf",
     "prev": "bbed7ec3-73d6-4429-90a9-6d1a37e10cda",
     "regions": {
      "359d8669-d7c2-4f71-9244-85048a8127dc": {
       "attrs": {
        "height": 0.8,
        "width": 0.8,
        "x": 0.1,
        "y": 0.1
       },
       "content": {
        "cell": "d8198b7c-9c4f-48c2-9e71-a682b59ad0b9",
        "part": "whole"
       },
       "id": "359d8669-d7c2-4f71-9244-85048a8127dc"
      }
     }
    },
    "69508e14-78a2-4c1e-a3db-b301e1d58f6e": {
     "id": "69508e14-78a2-4c1e-a3db-b301e1d58f6e",
     "prev": "3de8bc14-0122-4262-af23-9c4756be2b64",
     "regions": {
      "43123c3f-fd59-49d0-ad1a-fb312a92bd9a": {
       "attrs": {
        "height": 0.8,
        "width": 0.8,
        "x": 0.1,
        "y": 0.1
       },
       "content": {
        "cell": "2b7cfde4-425b-433e-9370-eeed272d45c1",
        "part": "whole"
       },
       "id": "43123c3f-fd59-49d0-ad1a-fb312a92bd9a"
      }
     }
    },
    "6b0df256-adac-42f5-8482-04e2cf7e1952": {
     "id": "6b0df256-adac-42f5-8482-04e2cf7e1952",
     "prev": "1b113bc7-d58f-44fe-bf8a-fac80ab2869e",
     "regions": {
      "8ff43e1e-3c37-4309-9385-3712d0d0af9f": {
       "attrs": {
        "height": 0.8,
        "width": 0.8,
        "x": 0.1,
        "y": 0.1
       },
       "content": {
        "cell": "812d5967-3896-4707-9f40-f767a6ac9fe7",
        "part": "whole"
       },
       "id": "8ff43e1e-3c37-4309-9385-3712d0d0af9f"
      }
     }
    },
    "6c72f25a-e75f-483c-ab46-c3c51faaa544": {
     "id": "6c72f25a-e75f-483c-ab46-c3c51faaa544",
     "prev": "46e9718c-007b-494e-98ed-d1c476c0a0c3",
     "regions": {
      "4a146309-4c59-4760-9064-8addcdd76975": {
       "attrs": {
        "height": 0.8,
        "width": 0.8,
        "x": 0.1,
        "y": 0.1
       },
       "content": {
        "cell": "86b42814-3369-4557-af63-092bbd7a1e71",
        "part": "whole"
       },
       "id": "4a146309-4c59-4760-9064-8addcdd76975"
      }
     }
    },
    "6e5b0b25-7eed-41f7-9bbe-9ae8223db337": {
     "id": "6e5b0b25-7eed-41f7-9bbe-9ae8223db337",
     "prev": "33fe53a1-b7d5-407e-b071-aaf44167de3e",
     "regions": {
      "8b07d8a9-dedc-45ea-aa62-94479617ee2b": {
       "attrs": {
        "height": 0.8,
        "width": 0.8,
        "x": 0.1,
        "y": 0.1
       },
       "content": {
        "cell": "7ab9d0f4-4022-4846-90af-a16b74ba748f",
        "part": "whole"
       },
       "id": "8b07d8a9-dedc-45ea-aa62-94479617ee2b"
      }
     }
    },
    "6fb21ce5-6920-4c19-a7ff-59e25971b8dc": {
     "id": "6fb21ce5-6920-4c19-a7ff-59e25971b8dc",
     "prev": "6b0df256-adac-42f5-8482-04e2cf7e1952",
     "regions": {
      "2d88b0f0-b06e-4d4c-a454-f757dcdc6f8e": {
       "attrs": {
        "height": 0.8,
        "width": 0.8,
        "x": 0.1,
        "y": 0.1
       },
       "content": {
        "cell": "251208e9-f043-41cf-aad6-60e2b6c252e3",
        "part": "whole"
       },
       "id": "2d88b0f0-b06e-4d4c-a454-f757dcdc6f8e"
      }
     }
    },
    "80da4cd2-bbb3-4b11-8e2b-f6721556de69": {
     "id": "80da4cd2-bbb3-4b11-8e2b-f6721556de69",
     "prev": "2cd5d6a9-9e56-476b-9762-a4963f3b0130",
     "regions": {
      "92a6260e-f2d9-4440-8a9e-9661b53ce109": {
       "attrs": {
        "height": 0.8,
        "width": 0.8,
        "x": 0.1,
        "y": 0.1
       },
       "content": {
        "cell": "6d0b349e-f531-481a-a9c1-4293f00b3d4c",
        "part": "whole"
       },
       "id": "92a6260e-f2d9-4440-8a9e-9661b53ce109"
      }
     }
    },
    "9c84a4b5-847f-4485-88c1-865813a4d5b7": {
     "id": "9c84a4b5-847f-4485-88c1-865813a4d5b7",
     "prev": "43440ebb-9cd2-4e58-a5a5-b88a184b5db1",
     "regions": {
      "f78f266b-e553-462d-b814-ade712fbf45d": {
       "attrs": {
        "height": 0.8,
        "width": 0.8,
        "x": 0.1,
        "y": 0.1
       },
       "content": {
        "cell": "9e276857-254b-4773-b921-8be9edd59aef",
        "part": "whole"
       },
       "id": "f78f266b-e553-462d-b814-ade712fbf45d"
      }
     }
    },
    "a1341685-304b-4e95-bbaf-b819d8500057": {
     "id": "a1341685-304b-4e95-bbaf-b819d8500057",
     "prev": "6e5b0b25-7eed-41f7-9bbe-9ae8223db337",
     "regions": {
      "481042a1-03f2-4d77-ae5d-90e1a5ee44cb": {
       "attrs": {
        "height": 0.8,
        "width": 0.8,
        "x": 0.1,
        "y": 0.1
       },
       "content": {
        "cell": "5e89aee1-fba1-4261-866f-8216429db432",
        "part": "whole"
       },
       "id": "481042a1-03f2-4d77-ae5d-90e1a5ee44cb"
      }
     }
    },
    "aa8a96dd-1516-48f3-8daa-ceb8de3d8595": {
     "id": "aa8a96dd-1516-48f3-8daa-ceb8de3d8595",
     "prev": "5c0b3e82-5541-4e16-ab3c-36bee44ccedf",
     "regions": {
      "4ca72052-d816-4ef2-b558-84f1d57ee432": {
       "attrs": {
        "height": 0.8,
        "width": 0.8,
        "x": 0.1,
        "y": 0.1
       },
       "content": {
        "cell": "fcc69514-fc78-49dd-bfbe-e583ad0f25fe",
        "part": "whole"
       },
       "id": "4ca72052-d816-4ef2-b558-84f1d57ee432"
      }
     }
    },
    "ab5e3ad7-68da-4458-bc0e-a2dfd37274a7": {
     "id": "ab5e3ad7-68da-4458-bc0e-a2dfd37274a7",
     "prev": "064f2623-c73e-4fe4-84e8-c8d030a3c709",
     "regions": {
      "8b58b685-b892-44ea-b616-66215b8a4298": {
       "attrs": {
        "height": 0.8,
        "width": 0.8,
        "x": 0.1,
        "y": 0.1
       },
       "content": {
        "cell": "d9ea340e-3eab-417e-a69f-7fa99f266d63",
        "part": "whole"
       },
       "id": "8b58b685-b892-44ea-b616-66215b8a4298"
      }
     }
    },
    "b0bdb73a-c066-4c76-ba01-de15851f960b": {
     "id": "b0bdb73a-c066-4c76-ba01-de15851f960b",
     "prev": "aa8a96dd-1516-48f3-8daa-ceb8de3d8595",
     "regions": {
      "cecf8035-b4e1-42df-9be3-9e6fe015335b": {
       "attrs": {
        "height": 0.8,
        "width": 0.8,
        "x": 0.1,
        "y": 0.1
       },
       "content": {
        "cell": "cb6883fb-da7f-4168-be5e-9e51f1e00b39",
        "part": "whole"
       },
       "id": "cecf8035-b4e1-42df-9be3-9e6fe015335b"
      }
     }
    },
    "b2b28870-a0b7-4bb7-9919-d67ec1f37279": {
     "id": "b2b28870-a0b7-4bb7-9919-d67ec1f37279",
     "prev": "6c72f25a-e75f-483c-ab46-c3c51faaa544",
     "regions": {
      "fe2565c1-45bd-46ed-acb3-6c0eb158421e": {
       "attrs": {
        "height": 0.8,
        "width": 0.8,
        "x": 0.1,
        "y": 0.1
       },
       "content": {
        "cell": "2a687a3f-08f2-4016-8b32-283b7df33261",
        "part": "whole"
       },
       "id": "fe2565c1-45bd-46ed-acb3-6c0eb158421e"
      }
     }
    },
    "b78f4d91-6373-4050-84d7-4dcf7b5b6918": {
     "id": "b78f4d91-6373-4050-84d7-4dcf7b5b6918",
     "prev": "9c84a4b5-847f-4485-88c1-865813a4d5b7",
     "regions": {
      "10cb4e68-be47-44a9-8b94-b93fc755a655": {
       "attrs": {
        "height": 0.8,
        "width": 0.8,
        "x": 0.1,
        "y": 0.1
       },
       "content": {
        "cell": "3579ddde-fcd2-4daa-93c2-ce3f14beb0a3",
        "part": "whole"
       },
       "id": "10cb4e68-be47-44a9-8b94-b93fc755a655"
      }
     }
    },
    "bbed7ec3-73d6-4429-90a9-6d1a37e10cda": {
     "id": "bbed7ec3-73d6-4429-90a9-6d1a37e10cda",
     "prev": "4bc29813-8a0f-43ff-8bac-20d9365f8e98",
     "regions": {
      "5f48ed5c-0d17-477e-9931-eebd43546562": {
       "attrs": {
        "height": 0.8,
        "width": 0.8,
        "x": 0.1,
        "y": 0.1
       },
       "content": {
        "cell": "32e46794-7372-4c2f-b196-02835c428a85",
        "part": "whole"
       },
       "id": "5f48ed5c-0d17-477e-9931-eebd43546562"
      }
     }
    },
    "cf75d163-55b6-44dc-b089-0261c59aa955": {
     "id": "cf75d163-55b6-44dc-b089-0261c59aa955",
     "prev": "dd2fda93-c1b2-4b15-97ac-13939964d48d",
     "regions": {
      "0068f546-71c3-4d30-9c27-c4ba88cd9760": {
       "attrs": {
        "height": 0.8,
        "width": 0.8,
        "x": 0.1,
        "y": 0.1
       },
       "content": {
        "cell": "b865757e-4af1-4bb5-9806-adfd9a4aa006",
        "part": "whole"
       },
       "id": "0068f546-71c3-4d30-9c27-c4ba88cd9760"
      }
     }
    },
    "d3139690-8b48-435a-adcf-69d21f66c66f": {
     "id": "d3139690-8b48-435a-adcf-69d21f66c66f",
     "prev": null,
     "regions": {
      "140fe745-b83c-4482-ab92-4060bbb351cd": {
       "attrs": {
        "height": 0.8,
        "width": 0.8,
        "x": 0.1,
        "y": 0.1
       },
       "content": {
        "cell": "0d9bf88b-75f5-4e66-9f21-6c22b3a98b67",
        "part": "whole"
       },
       "id": "140fe745-b83c-4482-ab92-4060bbb351cd"
      }
     }
    },
    "dd2fda93-c1b2-4b15-97ac-13939964d48d": {
     "id": "dd2fda93-c1b2-4b15-97ac-13939964d48d",
     "prev": "50eb7bb1-1cd0-4956-abd7-28f8e97c7179",
     "regions": {
      "f1b72a0c-262a-431f-a8e2-4f47d0d15247": {
       "attrs": {
        "height": 0.8,
        "width": 0.8,
        "x": 0.1,
        "y": 0.1
       },
       "content": {
        "cell": "89111f1b-2dbf-4c21-830c-5e7673c10363",
        "part": "whole"
       },
       "id": "f1b72a0c-262a-431f-a8e2-4f47d0d15247"
      }
     }
    },
    "f8eb2076-13e3-493a-9ab4-b368926b813c": {
     "id": "f8eb2076-13e3-493a-9ab4-b368926b813c",
     "prev": "b78f4d91-6373-4050-84d7-4dcf7b5b6918",
     "regions": {
      "9e9ed0e5-34d5-4ae4-9bab-a04bbeabb5de": {
       "attrs": {
        "height": 0.8,
        "width": 0.8,
        "x": 0.1,
        "y": 0.1
       },
       "content": {
        "cell": "88bc2d26-6187-4ac6-96c5-89b8c4561fef",
        "part": "whole"
       },
       "id": "9e9ed0e5-34d5-4ae4-9bab-a04bbeabb5de"
      }
     }
    }
   },
   "themes": {
    "default": "a160c09e-c577-442c-9b73-ca7ef02ebed6",
    "theme": {
     "a160c09e-c577-442c-9b73-ca7ef02ebed6": {
      "id": "a160c09e-c577-442c-9b73-ca7ef02ebed6",
      "palette": {
       "19cc588f-0593-49c9-9f4b-e4d7cc113b1c": {
        "id": "19cc588f-0593-49c9-9f4b-e4d7cc113b1c",
        "rgb": [
         252,
         252,
         252
        ]
       },
       "31af15d2-7e15-44c5-ab5e-e04b16a89eff": {
        "id": "31af15d2-7e15-44c5-ab5e-e04b16a89eff",
        "rgb": [
         68,
         68,
         68
        ]
       },
       "50f92c45-a630-455b-aec3-788680ec7410": {
        "id": "50f92c45-a630-455b-aec3-788680ec7410",
        "rgb": [
         155,
         177,
         192
        ]
       },
       "c5cc3653-2ee1-402a-aba2-7caae1da4f6c": {
        "id": "c5cc3653-2ee1-402a-aba2-7caae1da4f6c",
        "rgb": [
         43,
         126,
         184
        ]
       },
       "efa7f048-9acb-414c-8b04-a26811511a21": {
        "id": "efa7f048-9acb-414c-8b04-a26811511a21",
        "rgb": [
         25.118061674008803,
         73.60176211453744,
         107.4819383259912
        ]
       }
      },
      "rules": {
       "blockquote": {
        "color": "50f92c45-a630-455b-aec3-788680ec7410"
       },
       "code": {
        "font-family": "Anonymous Pro"
       },
       "h1": {
        "color": "c5cc3653-2ee1-402a-aba2-7caae1da4f6c",
        "font-family": "Lato",
        "font-size": 8
       },
       "h2": {
        "color": "c5cc3653-2ee1-402a-aba2-7caae1da4f6c",
        "font-family": "Lato",
        "font-size": 6
       },
       "h3": {
        "color": "50f92c45-a630-455b-aec3-788680ec7410",
        "font-family": "Lato",
        "font-size": 5.5
       },
       "h4": {
        "color": "c5cc3653-2ee1-402a-aba2-7caae1da4f6c",
        "font-family": "Lato",
        "font-size": 5
       },
       "h5": {
        "font-family": "Lato"
       },
       "h6": {
        "font-family": "Lato"
       },
       "h7": {
        "font-family": "Lato"
       },
       "pre": {
        "font-family": "Anonymous Pro",
        "font-size": 4
       }
      },
      "text-base": {
       "font-family": "Merriweather",
       "font-size": 4
      }
     }
    }
   }
  },
  "toc": {
   "base_numbering": 1,
   "nav_menu": {},
   "number_sections": true,
   "sideBar": true,
   "skip_h1_title": false,
   "title_cell": "Table of Contents",
   "title_sidebar": "Contents",
   "toc_cell": false,
   "toc_position": {
    "height": "46.88px",
    "left": "420px",
    "top": "359px",
    "width": "158.27px"
   },
   "toc_section_display": true,
   "toc_window_display": true
  },
  "varInspector": {
   "cols": {
    "lenName": 16,
    "lenType": 16,
    "lenVar": 40
   },
   "kernels_config": {
    "python": {
     "delete_cmd_postfix": "",
     "delete_cmd_prefix": "del ",
     "library": "var_list.py",
     "varRefreshCmd": "print(var_dic_list())"
    },
    "r": {
     "delete_cmd_postfix": ") ",
     "delete_cmd_prefix": "rm(",
     "library": "var_list.r",
     "varRefreshCmd": "cat(var_dic_list()) "
    }
   },
   "oldHeight": 122.4,
   "position": {
    "height": "39.9937px",
    "left": "4.78125px",
    "right": "20px",
    "top": "485px",
    "width": "249.994px"
   },
   "types_to_exclude": [
    "module",
    "function",
    "builtin_function_or_method",
    "instance",
    "_Feature"
   ],
   "varInspector_section_display": "none",
   "window_display": false
  }
 },
 "nbformat": 4,
 "nbformat_minor": 1
}
