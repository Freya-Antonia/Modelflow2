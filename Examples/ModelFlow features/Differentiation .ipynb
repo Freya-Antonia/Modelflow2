{
 "cells": [
  {
   "cell_type": "code",
   "execution_count": 5,
   "metadata": {},
   "outputs": [],
   "source": [
    "%matplotlib inline\n",
    "\n",
    "import pandas as pd\n",
    "import numpy as np\n",
    "\n",
    "from modelclass import model\n"
   ]
  },
  {
   "cell_type": "code",
   "execution_count": 7,
   "metadata": {},
   "outputs": [
    {
     "name": "stdout",
     "output_type": "stream",
     "text": [
      "Will start calculating: My first model\n",
      "2019  solved\n",
      "2020  solved\n",
      "2021  solved\n",
      "My first model calculated \n"
     ]
    },
    {
     "data": {
      "text/html": [
       "<div>\n",
       "<style scoped>\n",
       "    .dataframe tbody tr th:only-of-type {\n",
       "        vertical-align: middle;\n",
       "    }\n",
       "\n",
       "    .dataframe tbody tr th {\n",
       "        vertical-align: top;\n",
       "    }\n",
       "\n",
       "    .dataframe thead th {\n",
       "        text-align: right;\n",
       "    }\n",
       "</style>\n",
       "<table border=\"1\" class=\"dataframe\">\n",
       "  <thead>\n",
       "    <tr style=\"text-align: right;\">\n",
       "      <th></th>\n",
       "      <th>B</th>\n",
       "      <th>C</th>\n",
       "      <th>E</th>\n",
       "      <th>D1</th>\n",
       "      <th>D3</th>\n",
       "      <th>A</th>\n",
       "      <th>X</th>\n",
       "    </tr>\n",
       "  </thead>\n",
       "  <tbody>\n",
       "    <tr>\n",
       "      <th>2018</th>\n",
       "      <td>1.0</td>\n",
       "      <td>1.0</td>\n",
       "      <td>4.0</td>\n",
       "      <td>0.0</td>\n",
       "      <td>0.0</td>\n",
       "      <td>0.0</td>\n",
       "      <td>0.0</td>\n",
       "    </tr>\n",
       "    <tr>\n",
       "      <th>2019</th>\n",
       "      <td>1.0</td>\n",
       "      <td>2.0</td>\n",
       "      <td>4.0</td>\n",
       "      <td>19.0</td>\n",
       "      <td>9.0</td>\n",
       "      <td>2.0</td>\n",
       "      <td>1.0</td>\n",
       "    </tr>\n",
       "    <tr>\n",
       "      <th>2020</th>\n",
       "      <td>1.0</td>\n",
       "      <td>3.0</td>\n",
       "      <td>4.0</td>\n",
       "      <td>25.5</td>\n",
       "      <td>34.5</td>\n",
       "      <td>3.0</td>\n",
       "      <td>1.5</td>\n",
       "    </tr>\n",
       "    <tr>\n",
       "      <th>2021</th>\n",
       "      <td>1.0</td>\n",
       "      <td>4.0</td>\n",
       "      <td>4.0</td>\n",
       "      <td>34.0</td>\n",
       "      <td>75.0</td>\n",
       "      <td>4.0</td>\n",
       "      <td>2.0</td>\n",
       "    </tr>\n",
       "  </tbody>\n",
       "</table>\n",
       "</div>"
      ],
      "text/plain": [
       "        B    C    E    D1    D3    A    X\n",
       "2018  1.0  1.0  4.0   0.0   0.0  0.0  0.0\n",
       "2019  1.0  2.0  4.0  19.0   9.0  2.0  1.0\n",
       "2020  1.0  3.0  4.0  25.5  34.5  3.0  1.5\n",
       "2021  1.0  4.0  4.0  34.0  75.0  4.0  2.0"
      ]
     },
     "execution_count": 7,
     "metadata": {},
     "output_type": "execute_result"
    }
   ],
   "source": [
    "fmodel      = '''\n",
    "frml <> a = c(-1) + b $ \n",
    "frml <> d1 = x + 3 * e(-1)+ c **2 +a  $ \n",
    "frml <> d3 = x + 3 * a(-1)+c **3 $  \n",
    "Frml <> x = 0.5 * c $'''\n",
    "mmodel = model(fmodel,modelname = 'My first model')\n",
    "df = pd.DataFrame({'B': [1,1,1,1],'C':[1,2,3,4],'E':[4,4,4,4]},index=[2018,2019,2020,2021])\n",
    "base = mmodel(df)\n",
    "base"
   ]
  },
  {
   "cell_type": "code",
   "execution_count": 8,
   "metadata": {},
   "outputs": [],
   "source": [
    "from modelnewton import newton_diff\n",
    "newton = newton_diff(mmodel)\n",
    "newton2 = newton_diff(mmodel,forcenum=1)"
   ]
  },
  {
   "cell_type": "code",
   "execution_count": 10,
   "metadata": {},
   "outputs": [
    {
     "name": "stdout",
     "output_type": "stream",
     "text": [
      "FRML  <> D1__p__A___lag___0 = 1   $\n",
      "FRML  <> D1__p__X___lag___0 = 1   $\n",
      "FRML  <> D3__p__A___lag___1 = 3   $\n",
      "FRML  <> D3__p__X___lag___0 = 1   $\n"
     ]
    }
   ],
   "source": [
    "print(newton.diff_model.equations)"
   ]
  },
  {
   "cell_type": "code",
   "execution_count": 11,
   "metadata": {},
   "outputs": [
    {
     "name": "stdout",
     "output_type": "stream",
     "text": [
      "FRML  <> D1__p__A___lag___0 = ((X+3*E(-1)+C**2+(A+0.0025))-(X+3*E(-1)+C**2+(A-0.0025)))/0.005   $\n",
      "FRML  <> D1__p__X___lag___0 = (((X+0.0025)+3*E(-1)+C**2+A)-((X-0.0025)+3*E(-1)+C**2+A))/0.005   $\n",
      "FRML  <> D3__p__A___lag___1 = ((X+3*(A(-1)+0.0025)+C**3)-(X+3*(A(-1)-0.0025)+C**3))/0.005   $\n",
      "FRML  <> D3__p__X___lag___0 = (((X+0.0025)+3*A(-1)+C**3)-((X-0.0025)+3*A(-1)+C**3))/0.005   $\n"
     ]
    }
   ],
   "source": [
    "print(newton2.diff_model.equations)"
   ]
  },
  {
   "cell_type": "code",
   "execution_count": 12,
   "metadata": {},
   "outputs": [
    {
     "data": {
      "text/html": [
       "<style  type=\"text/css\" >\n",
       "</style><table id=\"T_38e169f6_1763_11eb_86e4_9822efd00a76\" ><thead>    <tr>        <th class=\"blank\" ></th>        <th class=\"index_name level0\" >per</th>        <th class=\"col_heading level0 col0\" colspan=4>2019</th>        <th class=\"col_heading level0 col4\" colspan=4>2020</th>        <th class=\"col_heading level0 col8\" colspan=4>2021</th>    </tr>    <tr>        <th class=\"blank\" ></th>        <th class=\"index_name level1\" >var</th>        <th class=\"col_heading level1 col0\" >A</th>        <th class=\"col_heading level1 col1\" >D1</th>        <th class=\"col_heading level1 col2\" >D3</th>        <th class=\"col_heading level1 col3\" >X</th>        <th class=\"col_heading level1 col4\" >A</th>        <th class=\"col_heading level1 col5\" >D1</th>        <th class=\"col_heading level1 col6\" >D3</th>        <th class=\"col_heading level1 col7\" >X</th>        <th class=\"col_heading level1 col8\" >A</th>        <th class=\"col_heading level1 col9\" >D1</th>        <th class=\"col_heading level1 col10\" >D3</th>        <th class=\"col_heading level1 col11\" >X</th>    </tr>    <tr>        <th class=\"index_name level0\" >per</th>        <th class=\"index_name level1\" >var</th>        <th class=\"blank\" ></th>        <th class=\"blank\" ></th>        <th class=\"blank\" ></th>        <th class=\"blank\" ></th>        <th class=\"blank\" ></th>        <th class=\"blank\" ></th>        <th class=\"blank\" ></th>        <th class=\"blank\" ></th>        <th class=\"blank\" ></th>        <th class=\"blank\" ></th>        <th class=\"blank\" ></th>        <th class=\"blank\" ></th>    </tr></thead><tbody>\n",
       "                <tr>\n",
       "                        <th id=\"T_38e169f6_1763_11eb_86e4_9822efd00a76level0_row0\" class=\"row_heading level0 row0\" rowspan=4>2019</th>\n",
       "                        <th id=\"T_38e169f6_1763_11eb_86e4_9822efd00a76level1_row0\" class=\"row_heading level1 row0\" >A</th>\n",
       "                        <td id=\"T_38e169f6_1763_11eb_86e4_9822efd00a76row0_col0\" class=\"data row0 col0\" >-1.000</td>\n",
       "                        <td id=\"T_38e169f6_1763_11eb_86e4_9822efd00a76row0_col1\" class=\"data row0 col1\" >0.000</td>\n",
       "                        <td id=\"T_38e169f6_1763_11eb_86e4_9822efd00a76row0_col2\" class=\"data row0 col2\" >0.000</td>\n",
       "                        <td id=\"T_38e169f6_1763_11eb_86e4_9822efd00a76row0_col3\" class=\"data row0 col3\" >0.000</td>\n",
       "                        <td id=\"T_38e169f6_1763_11eb_86e4_9822efd00a76row0_col4\" class=\"data row0 col4\" >0.000</td>\n",
       "                        <td id=\"T_38e169f6_1763_11eb_86e4_9822efd00a76row0_col5\" class=\"data row0 col5\" >0.000</td>\n",
       "                        <td id=\"T_38e169f6_1763_11eb_86e4_9822efd00a76row0_col6\" class=\"data row0 col6\" >0.000</td>\n",
       "                        <td id=\"T_38e169f6_1763_11eb_86e4_9822efd00a76row0_col7\" class=\"data row0 col7\" >0.000</td>\n",
       "                        <td id=\"T_38e169f6_1763_11eb_86e4_9822efd00a76row0_col8\" class=\"data row0 col8\" >0.000</td>\n",
       "                        <td id=\"T_38e169f6_1763_11eb_86e4_9822efd00a76row0_col9\" class=\"data row0 col9\" >0.000</td>\n",
       "                        <td id=\"T_38e169f6_1763_11eb_86e4_9822efd00a76row0_col10\" class=\"data row0 col10\" >0.000</td>\n",
       "                        <td id=\"T_38e169f6_1763_11eb_86e4_9822efd00a76row0_col11\" class=\"data row0 col11\" >0.000</td>\n",
       "            </tr>\n",
       "            <tr>\n",
       "                                <th id=\"T_38e169f6_1763_11eb_86e4_9822efd00a76level1_row1\" class=\"row_heading level1 row1\" >D1</th>\n",
       "                        <td id=\"T_38e169f6_1763_11eb_86e4_9822efd00a76row1_col0\" class=\"data row1 col0\" >1.000</td>\n",
       "                        <td id=\"T_38e169f6_1763_11eb_86e4_9822efd00a76row1_col1\" class=\"data row1 col1\" >-1.000</td>\n",
       "                        <td id=\"T_38e169f6_1763_11eb_86e4_9822efd00a76row1_col2\" class=\"data row1 col2\" >0.000</td>\n",
       "                        <td id=\"T_38e169f6_1763_11eb_86e4_9822efd00a76row1_col3\" class=\"data row1 col3\" >1.000</td>\n",
       "                        <td id=\"T_38e169f6_1763_11eb_86e4_9822efd00a76row1_col4\" class=\"data row1 col4\" >0.000</td>\n",
       "                        <td id=\"T_38e169f6_1763_11eb_86e4_9822efd00a76row1_col5\" class=\"data row1 col5\" >0.000</td>\n",
       "                        <td id=\"T_38e169f6_1763_11eb_86e4_9822efd00a76row1_col6\" class=\"data row1 col6\" >0.000</td>\n",
       "                        <td id=\"T_38e169f6_1763_11eb_86e4_9822efd00a76row1_col7\" class=\"data row1 col7\" >0.000</td>\n",
       "                        <td id=\"T_38e169f6_1763_11eb_86e4_9822efd00a76row1_col8\" class=\"data row1 col8\" >0.000</td>\n",
       "                        <td id=\"T_38e169f6_1763_11eb_86e4_9822efd00a76row1_col9\" class=\"data row1 col9\" >0.000</td>\n",
       "                        <td id=\"T_38e169f6_1763_11eb_86e4_9822efd00a76row1_col10\" class=\"data row1 col10\" >0.000</td>\n",
       "                        <td id=\"T_38e169f6_1763_11eb_86e4_9822efd00a76row1_col11\" class=\"data row1 col11\" >0.000</td>\n",
       "            </tr>\n",
       "            <tr>\n",
       "                                <th id=\"T_38e169f6_1763_11eb_86e4_9822efd00a76level1_row2\" class=\"row_heading level1 row2\" >D3</th>\n",
       "                        <td id=\"T_38e169f6_1763_11eb_86e4_9822efd00a76row2_col0\" class=\"data row2 col0\" >0.000</td>\n",
       "                        <td id=\"T_38e169f6_1763_11eb_86e4_9822efd00a76row2_col1\" class=\"data row2 col1\" >0.000</td>\n",
       "                        <td id=\"T_38e169f6_1763_11eb_86e4_9822efd00a76row2_col2\" class=\"data row2 col2\" >-1.000</td>\n",
       "                        <td id=\"T_38e169f6_1763_11eb_86e4_9822efd00a76row2_col3\" class=\"data row2 col3\" >1.000</td>\n",
       "                        <td id=\"T_38e169f6_1763_11eb_86e4_9822efd00a76row2_col4\" class=\"data row2 col4\" >0.000</td>\n",
       "                        <td id=\"T_38e169f6_1763_11eb_86e4_9822efd00a76row2_col5\" class=\"data row2 col5\" >0.000</td>\n",
       "                        <td id=\"T_38e169f6_1763_11eb_86e4_9822efd00a76row2_col6\" class=\"data row2 col6\" >0.000</td>\n",
       "                        <td id=\"T_38e169f6_1763_11eb_86e4_9822efd00a76row2_col7\" class=\"data row2 col7\" >0.000</td>\n",
       "                        <td id=\"T_38e169f6_1763_11eb_86e4_9822efd00a76row2_col8\" class=\"data row2 col8\" >0.000</td>\n",
       "                        <td id=\"T_38e169f6_1763_11eb_86e4_9822efd00a76row2_col9\" class=\"data row2 col9\" >0.000</td>\n",
       "                        <td id=\"T_38e169f6_1763_11eb_86e4_9822efd00a76row2_col10\" class=\"data row2 col10\" >0.000</td>\n",
       "                        <td id=\"T_38e169f6_1763_11eb_86e4_9822efd00a76row2_col11\" class=\"data row2 col11\" >0.000</td>\n",
       "            </tr>\n",
       "            <tr>\n",
       "                                <th id=\"T_38e169f6_1763_11eb_86e4_9822efd00a76level1_row3\" class=\"row_heading level1 row3\" >X</th>\n",
       "                        <td id=\"T_38e169f6_1763_11eb_86e4_9822efd00a76row3_col0\" class=\"data row3 col0\" >0.000</td>\n",
       "                        <td id=\"T_38e169f6_1763_11eb_86e4_9822efd00a76row3_col1\" class=\"data row3 col1\" >0.000</td>\n",
       "                        <td id=\"T_38e169f6_1763_11eb_86e4_9822efd00a76row3_col2\" class=\"data row3 col2\" >0.000</td>\n",
       "                        <td id=\"T_38e169f6_1763_11eb_86e4_9822efd00a76row3_col3\" class=\"data row3 col3\" >-1.000</td>\n",
       "                        <td id=\"T_38e169f6_1763_11eb_86e4_9822efd00a76row3_col4\" class=\"data row3 col4\" >0.000</td>\n",
       "                        <td id=\"T_38e169f6_1763_11eb_86e4_9822efd00a76row3_col5\" class=\"data row3 col5\" >0.000</td>\n",
       "                        <td id=\"T_38e169f6_1763_11eb_86e4_9822efd00a76row3_col6\" class=\"data row3 col6\" >0.000</td>\n",
       "                        <td id=\"T_38e169f6_1763_11eb_86e4_9822efd00a76row3_col7\" class=\"data row3 col7\" >0.000</td>\n",
       "                        <td id=\"T_38e169f6_1763_11eb_86e4_9822efd00a76row3_col8\" class=\"data row3 col8\" >0.000</td>\n",
       "                        <td id=\"T_38e169f6_1763_11eb_86e4_9822efd00a76row3_col9\" class=\"data row3 col9\" >0.000</td>\n",
       "                        <td id=\"T_38e169f6_1763_11eb_86e4_9822efd00a76row3_col10\" class=\"data row3 col10\" >0.000</td>\n",
       "                        <td id=\"T_38e169f6_1763_11eb_86e4_9822efd00a76row3_col11\" class=\"data row3 col11\" >0.000</td>\n",
       "            </tr>\n",
       "            <tr>\n",
       "                        <th id=\"T_38e169f6_1763_11eb_86e4_9822efd00a76level0_row4\" class=\"row_heading level0 row4\" rowspan=4>2020</th>\n",
       "                        <th id=\"T_38e169f6_1763_11eb_86e4_9822efd00a76level1_row4\" class=\"row_heading level1 row4\" >A</th>\n",
       "                        <td id=\"T_38e169f6_1763_11eb_86e4_9822efd00a76row4_col0\" class=\"data row4 col0\" >0.000</td>\n",
       "                        <td id=\"T_38e169f6_1763_11eb_86e4_9822efd00a76row4_col1\" class=\"data row4 col1\" >0.000</td>\n",
       "                        <td id=\"T_38e169f6_1763_11eb_86e4_9822efd00a76row4_col2\" class=\"data row4 col2\" >0.000</td>\n",
       "                        <td id=\"T_38e169f6_1763_11eb_86e4_9822efd00a76row4_col3\" class=\"data row4 col3\" >0.000</td>\n",
       "                        <td id=\"T_38e169f6_1763_11eb_86e4_9822efd00a76row4_col4\" class=\"data row4 col4\" >-1.000</td>\n",
       "                        <td id=\"T_38e169f6_1763_11eb_86e4_9822efd00a76row4_col5\" class=\"data row4 col5\" >0.000</td>\n",
       "                        <td id=\"T_38e169f6_1763_11eb_86e4_9822efd00a76row4_col6\" class=\"data row4 col6\" >0.000</td>\n",
       "                        <td id=\"T_38e169f6_1763_11eb_86e4_9822efd00a76row4_col7\" class=\"data row4 col7\" >0.000</td>\n",
       "                        <td id=\"T_38e169f6_1763_11eb_86e4_9822efd00a76row4_col8\" class=\"data row4 col8\" >0.000</td>\n",
       "                        <td id=\"T_38e169f6_1763_11eb_86e4_9822efd00a76row4_col9\" class=\"data row4 col9\" >0.000</td>\n",
       "                        <td id=\"T_38e169f6_1763_11eb_86e4_9822efd00a76row4_col10\" class=\"data row4 col10\" >0.000</td>\n",
       "                        <td id=\"T_38e169f6_1763_11eb_86e4_9822efd00a76row4_col11\" class=\"data row4 col11\" >0.000</td>\n",
       "            </tr>\n",
       "            <tr>\n",
       "                                <th id=\"T_38e169f6_1763_11eb_86e4_9822efd00a76level1_row5\" class=\"row_heading level1 row5\" >D1</th>\n",
       "                        <td id=\"T_38e169f6_1763_11eb_86e4_9822efd00a76row5_col0\" class=\"data row5 col0\" >0.000</td>\n",
       "                        <td id=\"T_38e169f6_1763_11eb_86e4_9822efd00a76row5_col1\" class=\"data row5 col1\" >0.000</td>\n",
       "                        <td id=\"T_38e169f6_1763_11eb_86e4_9822efd00a76row5_col2\" class=\"data row5 col2\" >0.000</td>\n",
       "                        <td id=\"T_38e169f6_1763_11eb_86e4_9822efd00a76row5_col3\" class=\"data row5 col3\" >0.000</td>\n",
       "                        <td id=\"T_38e169f6_1763_11eb_86e4_9822efd00a76row5_col4\" class=\"data row5 col4\" >1.000</td>\n",
       "                        <td id=\"T_38e169f6_1763_11eb_86e4_9822efd00a76row5_col5\" class=\"data row5 col5\" >-1.000</td>\n",
       "                        <td id=\"T_38e169f6_1763_11eb_86e4_9822efd00a76row5_col6\" class=\"data row5 col6\" >0.000</td>\n",
       "                        <td id=\"T_38e169f6_1763_11eb_86e4_9822efd00a76row5_col7\" class=\"data row5 col7\" >1.000</td>\n",
       "                        <td id=\"T_38e169f6_1763_11eb_86e4_9822efd00a76row5_col8\" class=\"data row5 col8\" >0.000</td>\n",
       "                        <td id=\"T_38e169f6_1763_11eb_86e4_9822efd00a76row5_col9\" class=\"data row5 col9\" >0.000</td>\n",
       "                        <td id=\"T_38e169f6_1763_11eb_86e4_9822efd00a76row5_col10\" class=\"data row5 col10\" >0.000</td>\n",
       "                        <td id=\"T_38e169f6_1763_11eb_86e4_9822efd00a76row5_col11\" class=\"data row5 col11\" >0.000</td>\n",
       "            </tr>\n",
       "            <tr>\n",
       "                                <th id=\"T_38e169f6_1763_11eb_86e4_9822efd00a76level1_row6\" class=\"row_heading level1 row6\" >D3</th>\n",
       "                        <td id=\"T_38e169f6_1763_11eb_86e4_9822efd00a76row6_col0\" class=\"data row6 col0\" >3.000</td>\n",
       "                        <td id=\"T_38e169f6_1763_11eb_86e4_9822efd00a76row6_col1\" class=\"data row6 col1\" >0.000</td>\n",
       "                        <td id=\"T_38e169f6_1763_11eb_86e4_9822efd00a76row6_col2\" class=\"data row6 col2\" >0.000</td>\n",
       "                        <td id=\"T_38e169f6_1763_11eb_86e4_9822efd00a76row6_col3\" class=\"data row6 col3\" >0.000</td>\n",
       "                        <td id=\"T_38e169f6_1763_11eb_86e4_9822efd00a76row6_col4\" class=\"data row6 col4\" >0.000</td>\n",
       "                        <td id=\"T_38e169f6_1763_11eb_86e4_9822efd00a76row6_col5\" class=\"data row6 col5\" >0.000</td>\n",
       "                        <td id=\"T_38e169f6_1763_11eb_86e4_9822efd00a76row6_col6\" class=\"data row6 col6\" >-1.000</td>\n",
       "                        <td id=\"T_38e169f6_1763_11eb_86e4_9822efd00a76row6_col7\" class=\"data row6 col7\" >1.000</td>\n",
       "                        <td id=\"T_38e169f6_1763_11eb_86e4_9822efd00a76row6_col8\" class=\"data row6 col8\" >0.000</td>\n",
       "                        <td id=\"T_38e169f6_1763_11eb_86e4_9822efd00a76row6_col9\" class=\"data row6 col9\" >0.000</td>\n",
       "                        <td id=\"T_38e169f6_1763_11eb_86e4_9822efd00a76row6_col10\" class=\"data row6 col10\" >0.000</td>\n",
       "                        <td id=\"T_38e169f6_1763_11eb_86e4_9822efd00a76row6_col11\" class=\"data row6 col11\" >0.000</td>\n",
       "            </tr>\n",
       "            <tr>\n",
       "                                <th id=\"T_38e169f6_1763_11eb_86e4_9822efd00a76level1_row7\" class=\"row_heading level1 row7\" >X</th>\n",
       "                        <td id=\"T_38e169f6_1763_11eb_86e4_9822efd00a76row7_col0\" class=\"data row7 col0\" >0.000</td>\n",
       "                        <td id=\"T_38e169f6_1763_11eb_86e4_9822efd00a76row7_col1\" class=\"data row7 col1\" >0.000</td>\n",
       "                        <td id=\"T_38e169f6_1763_11eb_86e4_9822efd00a76row7_col2\" class=\"data row7 col2\" >0.000</td>\n",
       "                        <td id=\"T_38e169f6_1763_11eb_86e4_9822efd00a76row7_col3\" class=\"data row7 col3\" >0.000</td>\n",
       "                        <td id=\"T_38e169f6_1763_11eb_86e4_9822efd00a76row7_col4\" class=\"data row7 col4\" >0.000</td>\n",
       "                        <td id=\"T_38e169f6_1763_11eb_86e4_9822efd00a76row7_col5\" class=\"data row7 col5\" >0.000</td>\n",
       "                        <td id=\"T_38e169f6_1763_11eb_86e4_9822efd00a76row7_col6\" class=\"data row7 col6\" >0.000</td>\n",
       "                        <td id=\"T_38e169f6_1763_11eb_86e4_9822efd00a76row7_col7\" class=\"data row7 col7\" >-1.000</td>\n",
       "                        <td id=\"T_38e169f6_1763_11eb_86e4_9822efd00a76row7_col8\" class=\"data row7 col8\" >0.000</td>\n",
       "                        <td id=\"T_38e169f6_1763_11eb_86e4_9822efd00a76row7_col9\" class=\"data row7 col9\" >0.000</td>\n",
       "                        <td id=\"T_38e169f6_1763_11eb_86e4_9822efd00a76row7_col10\" class=\"data row7 col10\" >0.000</td>\n",
       "                        <td id=\"T_38e169f6_1763_11eb_86e4_9822efd00a76row7_col11\" class=\"data row7 col11\" >0.000</td>\n",
       "            </tr>\n",
       "            <tr>\n",
       "                        <th id=\"T_38e169f6_1763_11eb_86e4_9822efd00a76level0_row8\" class=\"row_heading level0 row8\" rowspan=4>2021</th>\n",
       "                        <th id=\"T_38e169f6_1763_11eb_86e4_9822efd00a76level1_row8\" class=\"row_heading level1 row8\" >A</th>\n",
       "                        <td id=\"T_38e169f6_1763_11eb_86e4_9822efd00a76row8_col0\" class=\"data row8 col0\" >0.000</td>\n",
       "                        <td id=\"T_38e169f6_1763_11eb_86e4_9822efd00a76row8_col1\" class=\"data row8 col1\" >0.000</td>\n",
       "                        <td id=\"T_38e169f6_1763_11eb_86e4_9822efd00a76row8_col2\" class=\"data row8 col2\" >0.000</td>\n",
       "                        <td id=\"T_38e169f6_1763_11eb_86e4_9822efd00a76row8_col3\" class=\"data row8 col3\" >0.000</td>\n",
       "                        <td id=\"T_38e169f6_1763_11eb_86e4_9822efd00a76row8_col4\" class=\"data row8 col4\" >0.000</td>\n",
       "                        <td id=\"T_38e169f6_1763_11eb_86e4_9822efd00a76row8_col5\" class=\"data row8 col5\" >0.000</td>\n",
       "                        <td id=\"T_38e169f6_1763_11eb_86e4_9822efd00a76row8_col6\" class=\"data row8 col6\" >0.000</td>\n",
       "                        <td id=\"T_38e169f6_1763_11eb_86e4_9822efd00a76row8_col7\" class=\"data row8 col7\" >0.000</td>\n",
       "                        <td id=\"T_38e169f6_1763_11eb_86e4_9822efd00a76row8_col8\" class=\"data row8 col8\" >-1.000</td>\n",
       "                        <td id=\"T_38e169f6_1763_11eb_86e4_9822efd00a76row8_col9\" class=\"data row8 col9\" >0.000</td>\n",
       "                        <td id=\"T_38e169f6_1763_11eb_86e4_9822efd00a76row8_col10\" class=\"data row8 col10\" >0.000</td>\n",
       "                        <td id=\"T_38e169f6_1763_11eb_86e4_9822efd00a76row8_col11\" class=\"data row8 col11\" >0.000</td>\n",
       "            </tr>\n",
       "            <tr>\n",
       "                                <th id=\"T_38e169f6_1763_11eb_86e4_9822efd00a76level1_row9\" class=\"row_heading level1 row9\" >D1</th>\n",
       "                        <td id=\"T_38e169f6_1763_11eb_86e4_9822efd00a76row9_col0\" class=\"data row9 col0\" >0.000</td>\n",
       "                        <td id=\"T_38e169f6_1763_11eb_86e4_9822efd00a76row9_col1\" class=\"data row9 col1\" >0.000</td>\n",
       "                        <td id=\"T_38e169f6_1763_11eb_86e4_9822efd00a76row9_col2\" class=\"data row9 col2\" >0.000</td>\n",
       "                        <td id=\"T_38e169f6_1763_11eb_86e4_9822efd00a76row9_col3\" class=\"data row9 col3\" >0.000</td>\n",
       "                        <td id=\"T_38e169f6_1763_11eb_86e4_9822efd00a76row9_col4\" class=\"data row9 col4\" >0.000</td>\n",
       "                        <td id=\"T_38e169f6_1763_11eb_86e4_9822efd00a76row9_col5\" class=\"data row9 col5\" >0.000</td>\n",
       "                        <td id=\"T_38e169f6_1763_11eb_86e4_9822efd00a76row9_col6\" class=\"data row9 col6\" >0.000</td>\n",
       "                        <td id=\"T_38e169f6_1763_11eb_86e4_9822efd00a76row9_col7\" class=\"data row9 col7\" >0.000</td>\n",
       "                        <td id=\"T_38e169f6_1763_11eb_86e4_9822efd00a76row9_col8\" class=\"data row9 col8\" >1.000</td>\n",
       "                        <td id=\"T_38e169f6_1763_11eb_86e4_9822efd00a76row9_col9\" class=\"data row9 col9\" >-1.000</td>\n",
       "                        <td id=\"T_38e169f6_1763_11eb_86e4_9822efd00a76row9_col10\" class=\"data row9 col10\" >0.000</td>\n",
       "                        <td id=\"T_38e169f6_1763_11eb_86e4_9822efd00a76row9_col11\" class=\"data row9 col11\" >1.000</td>\n",
       "            </tr>\n",
       "            <tr>\n",
       "                                <th id=\"T_38e169f6_1763_11eb_86e4_9822efd00a76level1_row10\" class=\"row_heading level1 row10\" >D3</th>\n",
       "                        <td id=\"T_38e169f6_1763_11eb_86e4_9822efd00a76row10_col0\" class=\"data row10 col0\" >0.000</td>\n",
       "                        <td id=\"T_38e169f6_1763_11eb_86e4_9822efd00a76row10_col1\" class=\"data row10 col1\" >0.000</td>\n",
       "                        <td id=\"T_38e169f6_1763_11eb_86e4_9822efd00a76row10_col2\" class=\"data row10 col2\" >0.000</td>\n",
       "                        <td id=\"T_38e169f6_1763_11eb_86e4_9822efd00a76row10_col3\" class=\"data row10 col3\" >0.000</td>\n",
       "                        <td id=\"T_38e169f6_1763_11eb_86e4_9822efd00a76row10_col4\" class=\"data row10 col4\" >3.000</td>\n",
       "                        <td id=\"T_38e169f6_1763_11eb_86e4_9822efd00a76row10_col5\" class=\"data row10 col5\" >0.000</td>\n",
       "                        <td id=\"T_38e169f6_1763_11eb_86e4_9822efd00a76row10_col6\" class=\"data row10 col6\" >0.000</td>\n",
       "                        <td id=\"T_38e169f6_1763_11eb_86e4_9822efd00a76row10_col7\" class=\"data row10 col7\" >0.000</td>\n",
       "                        <td id=\"T_38e169f6_1763_11eb_86e4_9822efd00a76row10_col8\" class=\"data row10 col8\" >0.000</td>\n",
       "                        <td id=\"T_38e169f6_1763_11eb_86e4_9822efd00a76row10_col9\" class=\"data row10 col9\" >0.000</td>\n",
       "                        <td id=\"T_38e169f6_1763_11eb_86e4_9822efd00a76row10_col10\" class=\"data row10 col10\" >-1.000</td>\n",
       "                        <td id=\"T_38e169f6_1763_11eb_86e4_9822efd00a76row10_col11\" class=\"data row10 col11\" >1.000</td>\n",
       "            </tr>\n",
       "            <tr>\n",
       "                                <th id=\"T_38e169f6_1763_11eb_86e4_9822efd00a76level1_row11\" class=\"row_heading level1 row11\" >X</th>\n",
       "                        <td id=\"T_38e169f6_1763_11eb_86e4_9822efd00a76row11_col0\" class=\"data row11 col0\" >0.000</td>\n",
       "                        <td id=\"T_38e169f6_1763_11eb_86e4_9822efd00a76row11_col1\" class=\"data row11 col1\" >0.000</td>\n",
       "                        <td id=\"T_38e169f6_1763_11eb_86e4_9822efd00a76row11_col2\" class=\"data row11 col2\" >0.000</td>\n",
       "                        <td id=\"T_38e169f6_1763_11eb_86e4_9822efd00a76row11_col3\" class=\"data row11 col3\" >0.000</td>\n",
       "                        <td id=\"T_38e169f6_1763_11eb_86e4_9822efd00a76row11_col4\" class=\"data row11 col4\" >0.000</td>\n",
       "                        <td id=\"T_38e169f6_1763_11eb_86e4_9822efd00a76row11_col5\" class=\"data row11 col5\" >0.000</td>\n",
       "                        <td id=\"T_38e169f6_1763_11eb_86e4_9822efd00a76row11_col6\" class=\"data row11 col6\" >0.000</td>\n",
       "                        <td id=\"T_38e169f6_1763_11eb_86e4_9822efd00a76row11_col7\" class=\"data row11 col7\" >0.000</td>\n",
       "                        <td id=\"T_38e169f6_1763_11eb_86e4_9822efd00a76row11_col8\" class=\"data row11 col8\" >0.000</td>\n",
       "                        <td id=\"T_38e169f6_1763_11eb_86e4_9822efd00a76row11_col9\" class=\"data row11 col9\" >0.000</td>\n",
       "                        <td id=\"T_38e169f6_1763_11eb_86e4_9822efd00a76row11_col10\" class=\"data row11 col10\" >0.000</td>\n",
       "                        <td id=\"T_38e169f6_1763_11eb_86e4_9822efd00a76row11_col11\" class=\"data row11 col11\" >-1.000</td>\n",
       "            </tr>\n",
       "    </tbody></table>"
      ],
      "text/plain": [
       "<pandas.io.formats.style.Styler at 0x174330507c8>"
      ]
     },
     "execution_count": 12,
     "metadata": {},
     "output_type": "execute_result"
    }
   ],
   "source": [
    "stacked_df = newton2.get_diff_df()\n",
    "stacked_df.style.format('{0:,.3f}')"
   ]
  },
  {
   "cell_type": "code",
   "execution_count": null,
   "metadata": {},
   "outputs": [],
   "source": [
    "for l,m in matdir.items():\n",
    "    print(f'Lag:{l} \\n {m} \\n')\n",
    "\n",
    "for l,m in matdir.items():\n",
    "    endomat = m.loc[:,[c for c in m.columns if c in mmodel.endogene]]\n",
    "    print(f'Lag:{l} \\n {endomat} \\n')"
   ]
  },
  {
   "cell_type": "code",
   "execution_count": null,
   "metadata": {},
   "outputs": [],
   "source": []
  },
  {
   "cell_type": "code",
   "execution_count": null,
   "metadata": {},
   "outputs": [],
   "source": [
    "fam   = '''\n",
    "frml <> y = c+i $ \n",
    "frml <I> c = pa * y(-1) $\n",
    "frml <> i = pc * (c-c(-1)) + im$'''\n",
    "\n",
    "mma = mc.model(fam,modelname = 'Accelerator multiplicator model')\n",
    "fhma = mp.find_hist_model(fam)  # Find the model to generate lagged values of c\n",
    "mhma = mc.model(fhma)\n",
    "years = 10\n",
    "df = pd.DataFrame([[1000,200]]*years,index=range(2018,2018+years),columns=['Y','IM'])\n",
    "df.loc[:,'PA'] = 0.9\n",
    "df.loc[:,'PC'] = 0.9\n",
    "start = mhma(df,silent=True)                         \n",
    "base = mma(start,silent=True)\n",
    "\n",
    "#md.modeldiff(mma)\n",
    "#print(md.calculate_allmat(mma,base,2018))\n",
    "md.get_compagnion(mma,mma.lastdf,2018)"
   ]
  },
  {
   "cell_type": "code",
   "execution_count": null,
   "metadata": {},
   "outputs": [],
   "source": [
    "def geteigen(mul,acc,years=100,show=False):\n",
    "    '''Function which creates a Samuelson Multiplier accelerator model, runs it and \n",
    "    calculates the eigenvalues for the compaignion matrix in order to evaluate stability'''\n",
    "    \n",
    "    \n",
    "    fam   = f'''\n",
    "    frml <>  y = c+i $ \n",
    "    frml <I> c = {mul} * y(-1) $\n",
    "    frml <>  i = {acc} * (c-c(-1)) + im $'''\n",
    "\n",
    "    mma = mc.model(fam,modelname = 'Accelerator multiplicator model')\n",
    "\n",
    "    df = pd.DataFrame([[1000,200]]*years,index=range(2018,2018+years),columns=['Y','IM'])\n",
    "\n",
    "    start = mc.model(f'c = {mul} * y(-1)')(df,silent=True) # Generate lagged variables for c \n",
    "    base  = mma(start,silent=True)     # Solve the model \n",
    "\n",
    "    comp = md.get_compagnion(mma,mma.lastdf,2021) # get the compagnion matriox\n",
    "\n",
    "    compeeig=np.linalg.eig(comp)       # find the eigenvalues \n",
    "    if show:\n",
    "        _ = mma[['Y','C','i']].plot()  # Show the solution\n",
    "        md.eigplot(compeeig[0])        # show the eigenvalues \n",
    "    return  "
   ]
  },
  {
   "cell_type": "markdown",
   "metadata": {},
   "source": [
    "Stability   "
   ]
  },
  {
   "cell_type": "code",
   "execution_count": null,
   "metadata": {
    "scrolled": true
   },
   "outputs": [],
   "source": [
    "geteigen(mul=0.5,acc=0,years=30,show=1)"
   ]
  },
  {
   "cell_type": "markdown",
   "metadata": {},
   "source": [
    "Explosion "
   ]
  },
  {
   "cell_type": "code",
   "execution_count": null,
   "metadata": {},
   "outputs": [],
   "source": [
    "geteigen(mul=0.9,acc=2,years=30,show=1)"
   ]
  },
  {
   "cell_type": "markdown",
   "metadata": {},
   "source": [
    "Exploding oscillations"
   ]
  },
  {
   "cell_type": "code",
   "execution_count": null,
   "metadata": {},
   "outputs": [],
   "source": [
    "geteigen(mul=0.6,acc=2,years=30,show=1)"
   ]
  },
  {
   "cell_type": "markdown",
   "metadata": {},
   "source": [
    "Perpetual oscillations "
   ]
  },
  {
   "cell_type": "code",
   "execution_count": null,
   "metadata": {},
   "outputs": [],
   "source": [
    "geteigen(mul=0.5,acc=2,years=30,show=1)"
   ]
  },
  {
   "cell_type": "markdown",
   "metadata": {},
   "source": [
    "Dampened oscillations "
   ]
  },
  {
   "cell_type": "code",
   "execution_count": null,
   "metadata": {},
   "outputs": [],
   "source": [
    "geteigen(mul=0.7,acc=1,years=30,show=1)"
   ]
  },
  {
   "cell_type": "code",
   "execution_count": null,
   "metadata": {},
   "outputs": [],
   "source": []
  }
 ],
 "metadata": {
  "kernelspec": {
   "display_name": "Python 3",
   "language": "python",
   "name": "python3"
  },
  "language_info": {
   "codemirror_mode": {
    "name": "ipython",
    "version": 3
   },
   "file_extension": ".py",
   "mimetype": "text/x-python",
   "name": "python",
   "nbconvert_exporter": "python",
   "pygments_lexer": "ipython3",
   "version": "3.7.5"
  },
  "toc": {
   "base_numbering": 1,
   "nav_menu": {},
   "number_sections": true,
   "sideBar": true,
   "skip_h1_title": false,
   "title_cell": "Table of Contents",
   "title_sidebar": "Contents",
   "toc_cell": false,
   "toc_position": {},
   "toc_section_display": true,
   "toc_window_display": false
  },
  "varInspector": {
   "cols": {
    "lenName": 16,
    "lenType": 16,
    "lenVar": 40
   },
   "kernels_config": {
    "python": {
     "delete_cmd_postfix": "",
     "delete_cmd_prefix": "del ",
     "library": "var_list.py",
     "varRefreshCmd": "print(var_dic_list())"
    },
    "r": {
     "delete_cmd_postfix": ") ",
     "delete_cmd_prefix": "rm(",
     "library": "var_list.r",
     "varRefreshCmd": "cat(var_dic_list()) "
    }
   },
   "types_to_exclude": [
    "module",
    "function",
    "builtin_function_or_method",
    "instance",
    "_Feature"
   ],
   "window_display": false
  }
 },
 "nbformat": 4,
 "nbformat_minor": 2
}
