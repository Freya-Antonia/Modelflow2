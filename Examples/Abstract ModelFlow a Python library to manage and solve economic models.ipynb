{
 "cells": [
  {
   "cell_type": "markdown",
   "metadata": {
    "slideshow": {
     "slide_type": "skip"
    }
   },
   "source": [
    "ModelFlow is a Python toolkit which can handle a wide range of models from small to huge.  This covers on-boarding a model, analyse the logical structure, solve, analyse and compare the results. \n",
    "\n",
    "Modelflow is located on Github [here](https://github.com/IbHansen/ModelFlow2)  and some models (FRB/US, Q-JEM and ADAM) has been made available af Jupyter notebooks on a Binder virtual machine [here](https://mybinder.org/v2/gh/Ibhansen/modelflow2/tobinder?filepath=Examples%2FOverview.ipynb)\n",
    "\n",
    "By leveraging on the libraries from the Python ecosystem (especially the Pandas library) the toolkit is fast, lean, and agile.\n",
    "Models and results can be analysed and visualized using the full arsenal of Python data science tools. \n",
    "\n",
    "**A model i this context is a system of non-linear equations** specified either as:\n",
    "\n",
    " - a general model: $\\textbf{0}  = \\textbf{G}(\\textbf{y}_{t+u} \\cdots \\textbf{y}_t \\cdots \\textbf{y}_{t-r},\\textbf{x}_t \\cdots \\textbf{x}_{t-s})$ \n",
    " - or as  a normalized model: $\\textbf{y}_t  = \\textbf{F}(\\textbf{y}_{t+u} \\cdots \\textbf{y}_t \\cdots \\textbf{y}_{t-r},\\textbf{x}_t \\cdots \\textbf{x}_{t-s})$ \n",
    " \n",
    "Many stress test, liquidity, macro or other models conforms to this pattern - or can easy be made to conform.\n",
    "\n",
    "Simultaneous models can be solved by\n",
    "\n",
    " - Gauss-Seidle or Newton-Raphson algorithmes if no lead\n",
    " - Fair-Taylor or stacked Newton-Raphson if the model contains leads and lags\n",
    "    - The Jacobian matrice used by Newton-Raphson solvers will can be calculated either by symbolic or by numerical differentiation and handled by sparse matrix libraries. \n",
    "         \n",
    "Non-simultaneous models will be sequenced and calculated. \n",
    " \n",
    "**Models can be specified in a Business logic language**. The user can concentrate on the economic content. To specify models incorporating many banks or sectors a **Macro-business logic language** is part of the library. \n",
    "\n",
    "Creating a (Macro prudential) model often entails implementing models specified in different ways: Excel, Latex, Eviews, Dynare, Python or other languages. Python''s ecosystem makes it possible to transform such model specification into ModelFlow. \n",
    "\n",
    "The core function of the library is a transpiler which first parse and analyze a model specified in the Business logic language then generates Python code which can solved the model. "
   ]
  },
  {
   "cell_type": "code",
   "execution_count": null,
   "metadata": {},
   "outputs": [],
   "source": []
  }
 ],
 "metadata": {
  "kernelspec": {
   "display_name": "Python 3",
   "language": "python",
   "name": "python3"
  },
  "language_info": {
   "codemirror_mode": {
    "name": "ipython",
    "version": 3
   },
   "file_extension": ".py",
   "mimetype": "text/x-python",
   "name": "python",
   "nbconvert_exporter": "python",
   "pygments_lexer": "ipython3",
   "version": "3.7.5"
  },
  "toc": {
   "base_numbering": 1,
   "nav_menu": {},
   "number_sections": true,
   "sideBar": true,
   "skip_h1_title": false,
   "title_cell": "Table of Contents",
   "title_sidebar": "Contents",
   "toc_cell": false,
   "toc_position": {
    "height": "calc(100% - 180px)",
    "left": "10px",
    "top": "150px",
    "width": "256px"
   },
   "toc_section_display": true,
   "toc_window_display": true
  },
  "varInspector": {
   "cols": {
    "lenName": 16,
    "lenType": 16,
    "lenVar": 40
   },
   "kernels_config": {
    "python": {
     "delete_cmd_postfix": "",
     "delete_cmd_prefix": "del ",
     "library": "var_list.py",
     "varRefreshCmd": "print(var_dic_list())"
    },
    "r": {
     "delete_cmd_postfix": ") ",
     "delete_cmd_prefix": "rm(",
     "library": "var_list.r",
     "varRefreshCmd": "cat(var_dic_list()) "
    }
   },
   "oldHeight": 489.31922199999997,
   "position": {
    "height": "40px",
    "left": "702.8px",
    "right": "20px",
    "top": "51px",
    "width": "524.708px"
   },
   "types_to_exclude": [
    "module",
    "function",
    "builtin_function_or_method",
    "instance",
    "_Feature"
   ],
   "varInspector_section_display": "none",
   "window_display": true
  }
 },
 "nbformat": 4,
 "nbformat_minor": 2
}
