{
 "cells": [
  {
   "cell_type": "markdown",
   "metadata": {
    "slideshow": {
     "slide_type": "slide"
    }
   },
   "source": [
    "# A notebook with a simple Solow model \n",
    "You ca run each cell by pressing the run tool or shift+enter"
   ]
  },
  {
   "cell_type": "markdown",
   "metadata": {
    "slideshow": {
     "slide_type": "slide"
    }
   },
   "source": [
    "# Import Python libraries"
   ]
  },
  {
   "cell_type": "code",
   "execution_count": 1,
   "metadata": {
    "slideshow": {
     "slide_type": "-"
    }
   },
   "outputs": [
    {
     "data": {
      "text/html": [
       "            <script>\n",
       "                // AUTORUN ALL CELLS ON NOTEBOOK-LOAD!\n",
       "                require(\n",
       "                    ['base/js/namespace', 'jquery'], \n",
       "                    function(jupyter, $) {\n",
       "                        $(jupyter.events).on('kernel_ready.Kernel', function () {\n",
       "                            console.log('Auto-running all cells-below...');\n",
       "                            jupyter.actions.call('jupyter-notebook:run-all-cells-below');\n",
       "                            jupyter.actions.call('jupyter-notebook:save-notebook');\n",
       "                        });\n",
       "                    }\n",
       "                );\n",
       "            </script>"
      ],
      "text/plain": [
       "<IPython.core.display.HTML object>"
      ]
     },
     "metadata": {},
     "output_type": "display_data"
    }
   ],
   "source": [
    "%matplotlib inline\n",
    "import pandas as pd\n",
    "from modelclass import model\n",
    "model.modelflow_auto()"
   ]
  },
  {
   "cell_type": "markdown",
   "metadata": {
    "slideshow": {
     "slide_type": "slide"
    }
   },
   "source": [
    "# Specify the model \n",
    "The explode function will rewrite the business logic."
   ]
  },
  {
   "cell_type": "code",
   "execution_count": 2,
   "metadata": {
    "slideshow": {
     "slide_type": "-"
    }
   },
   "outputs": [
    {
     "name": "stdout",
     "output_type": "stream",
     "text": [
      "Y         = a * k**alfa * l **(1-alfa) \n",
      "C         = (1-SAVING_RATIO)  * Y \n",
      "I         = Y - C \n",
      "diff(K)   = I-depreciates_rate * K(-1)\n",
      "diff(l)   = labor_growth * L(-1) \n",
      "K_intense = K/L \n",
      "\n"
     ]
    }
   ],
   "source": [
    "fsolow = '''\\\n",
    "Y         = a * k**alfa * l **(1-alfa) \n",
    "C         = (1-SAVING_RATIO)  * Y \n",
    "I         = Y - C \n",
    "diff(K)   = I-depreciates_rate * K(-1)\n",
    "diff(l)   = labor_growth * L(-1) \n",
    "K_intense = K/L \n",
    "'''\n",
    "print(fsolow)"
   ]
  },
  {
   "cell_type": "markdown",
   "metadata": {
    "slideshow": {
     "slide_type": "slide"
    }
   },
   "source": [
    "# Create a model class instance"
   ]
  },
  {
   "cell_type": "code",
   "execution_count": 3,
   "metadata": {
    "slideshow": {
     "slide_type": "-"
    }
   },
   "outputs": [],
   "source": [
    "msolow = model.from_eq(fsolow,modelname='Solow model')"
   ]
  },
  {
   "cell_type": "markdown",
   "metadata": {
    "slideshow": {
     "slide_type": "slide"
    }
   },
   "source": [
    "# Show model structure"
   ]
  },
  {
   "cell_type": "code",
   "execution_count": 4,
   "metadata": {
    "slideshow": {
     "slide_type": "subslide"
    }
   },
   "outputs": [
    {
     "data": {
      "image/svg+xml": [
       "<svg height=\"144pt\" viewBox=\"0.00 0.00 81.84 144.00\" width=\"82pt\" xmlns=\"http://www.w3.org/2000/svg\" xmlns:xlink=\"http://www.w3.org/1999/xlink\">\n",
       "<g class=\"graph\" id=\"graph0\" transform=\"scale(0.252189 0.252189) rotate(0) translate(4 567)\">\n",
       "<title>TD</title>\n",
       "<polygon fill=\"white\" points=\"-4,4 -4,-567 320.5,-567 320.5,4 -4,4\" stroke=\"none\"/>\n",
       "<text font-family=\"Times New Roman,serif\" font-size=\"14.00\" text-anchor=\"middle\" x=\"158.25\" y=\"-7.8\">A_model_graph</text>\n",
       "<!-- L(&#45;1) -->\n",
       "<g class=\"node\" id=\"node1\"><title>L(-1)</title>\n",
       "<g id=\"a_node1\"><a xlink:title=\"L\">\n",
       "<polygon fill=\"springgreen\" points=\"54,-563 0,-563 0,-527 54,-527 54,-563\" stroke=\"black\"/>\n",
       "<text fill=\"blue\" font-family=\"Times New Roman,serif\" font-size=\"14.00\" text-anchor=\"start\" x=\"13\" y=\"-540.8\">L(-1)</text>\n",
       "</a>\n",
       "</g>\n",
       "</g>\n",
       "<!-- L -->\n",
       "<g class=\"node\" id=\"node3\"><title>L</title>\n",
       "<g id=\"a_node3\"><a xlink:title=\"L\">\n",
       "<polygon fill=\"#63b8ff\" points=\"54,-491 0,-491 0,-455 54,-455 54,-491\" stroke=\"black\"/>\n",
       "<text fill=\"blue\" font-family=\"Times New Roman,serif\" font-size=\"14.00\" text-anchor=\"start\" x=\"23\" y=\"-468.8\">L</text>\n",
       "</a>\n",
       "</g>\n",
       "</g>\n",
       "<!-- L(&#45;1)&#45;&gt;L -->\n",
       "<g class=\"edge\" id=\"edge13\"><title>L(-1)-&gt;L</title>\n",
       "<path d=\"M21.0843,-526.697C20.2886,-518.983 20.0621,-509.712 20.4047,-501.112\" fill=\"none\" stroke=\"black\"/>\n",
       "<polygon fill=\"black\" points=\"23.8984,-501.324 21.105,-491.104 16.9154,-500.836 23.8984,-501.324\" stroke=\"black\"/>\n",
       "</g>\n",
       "<!-- K -->\n",
       "<g class=\"node\" id=\"node2\"><title>K</title>\n",
       "<g id=\"a_node2\"><a xlink:title=\"K\">\n",
       "<polygon fill=\"#63b8ff\" points=\"137,-203 83,-203 83,-167 137,-167 137,-203\" stroke=\"black\"/>\n",
       "<text fill=\"blue\" font-family=\"Times New Roman,serif\" font-size=\"14.00\" text-anchor=\"start\" x=\"105\" y=\"-180.8\">K</text>\n",
       "</a>\n",
       "</g>\n",
       "</g>\n",
       "<!-- K(&#45;1) -->\n",
       "<g class=\"node\" id=\"node6\"><title>K(-1)</title>\n",
       "<g id=\"a_node6\"><a xlink:title=\"K\">\n",
       "<polygon fill=\"springgreen\" points=\"118,-131 64,-131 64,-95 118,-95 118,-131\" stroke=\"black\"/>\n",
       "<text fill=\"blue\" font-family=\"Times New Roman,serif\" font-size=\"14.00\" text-anchor=\"start\" x=\"76\" y=\"-108.8\">K(-1)</text>\n",
       "</a>\n",
       "</g>\n",
       "</g>\n",
       "<!-- K&#45;&gt;K(&#45;1) -->\n",
       "<g class=\"edge\" id=\"edge3\"><title>K-&gt;K(-1)</title>\n",
       "<path d=\"M99.3876,-166.697C96.4982,-158.983 93.7554,-149.712 91.7638,-141.112\" fill=\"none\" stroke=\"black\"/>\n",
       "<polygon fill=\"black\" points=\"95.1536,-140.216 89.7476,-131.104 88.2915,-141.599 95.1536,-140.216\" stroke=\"black\"/>\n",
       "</g>\n",
       "<!-- K_INTENSE -->\n",
       "<g class=\"node\" id=\"node9\"><title>K_INTENSE</title>\n",
       "<g id=\"a_node9\"><a xlink:title=\"K_INTENSE\">\n",
       "<polygon fill=\"#63b8ff\" points=\"130,-59 42,-59 42,-23 130,-23 130,-59\" stroke=\"black\"/>\n",
       "<text fill=\"blue\" font-family=\"Times New Roman,serif\" font-size=\"14.00\" text-anchor=\"start\" x=\"48\" y=\"-36.8\">K_INTENSE</text>\n",
       "</a>\n",
       "</g>\n",
       "</g>\n",
       "<!-- K&#45;&gt;K_INTENSE -->\n",
       "<g class=\"edge\" id=\"edge10\"><title>K-&gt;K_INTENSE</title>\n",
       "<path d=\"M118.383,-166.904C126.131,-148.711 135.29,-119.264 127,-95 123.559,-84.9272 117.34,-75.2841 110.768,-67.0504\" fill=\"none\" stroke=\"black\"/>\n",
       "<polygon fill=\"black\" points=\"113.324,-64.6543 104.169,-59.3227 108.001,-69.2001 113.324,-64.6543\" stroke=\"black\"/>\n",
       "</g>\n",
       "<!-- Y -->\n",
       "<g class=\"node\" id=\"node11\"><title>Y</title>\n",
       "<g id=\"a_node11\"><a xlink:title=\"Y\">\n",
       "<polygon fill=\"#63b8ff\" points=\"126,-419 72,-419 72,-383 126,-383 126,-419\" stroke=\"black\"/>\n",
       "<text fill=\"blue\" font-family=\"Times New Roman,serif\" font-size=\"14.00\" text-anchor=\"start\" x=\"94\" y=\"-396.8\">Y</text>\n",
       "</a>\n",
       "</g>\n",
       "</g>\n",
       "<!-- K&#45;&gt;Y -->\n",
       "<g class=\"edge\" id=\"edge8\"><title>K-&gt;Y</title>\n",
       "<path d=\"M98.9538,-203.389C93.2634,-213.385 86.9193,-226.421 84,-239 73.2809,-285.189 83.2363,-340.515 91.2509,-372.814\" fill=\"none\" stroke=\"black\"/>\n",
       "<polygon fill=\"black\" points=\"87.9542,-374.043 93.8618,-382.838 94.7282,-372.279 87.9542,-374.043\" stroke=\"black\"/>\n",
       "</g>\n",
       "<!-- L&#45;&gt;L(&#45;1) -->\n",
       "<g class=\"edge\" id=\"edge16\"><title>L-&gt;L(-1)</title>\n",
       "<path d=\"M32.895,-491.104C33.7005,-498.791 33.9369,-508.054 33.604,-516.665\" fill=\"none\" stroke=\"black\"/>\n",
       "<polygon fill=\"black\" points=\"30.1085,-516.48 32.9157,-526.697 37.0921,-516.96 30.1085,-516.48\" stroke=\"black\"/>\n",
       "</g>\n",
       "<!-- L&#45;&gt;K_INTENSE -->\n",
       "<g class=\"edge\" id=\"edge11\"><title>L-&gt;K_INTENSE</title>\n",
       "<path d=\"M27,-454.951C27,-428.292 27,-375.115 27,-330 27,-330 27,-330 27,-184 27,-140.827 50.5447,-95.5334 67.887,-68.0268\" fill=\"none\" stroke=\"black\"/>\n",
       "<polygon fill=\"black\" points=\"70.973,-69.7013 73.4876,-59.4092 65.1036,-65.8868 70.973,-69.7013\" stroke=\"black\"/>\n",
       "</g>\n",
       "<!-- L&#45;&gt;Y -->\n",
       "<g class=\"edge\" id=\"edge9\"><title>L-&gt;Y</title>\n",
       "<path d=\"M44.7978,-454.697C53.604,-446.135 64.3821,-435.656 74.0011,-426.304\" fill=\"none\" stroke=\"black\"/>\n",
       "<polygon fill=\"black\" points=\"76.6768,-428.585 81.407,-419.104 71.7972,-423.566 76.6768,-428.585\" stroke=\"black\"/>\n",
       "</g>\n",
       "<!-- A -->\n",
       "<g class=\"node\" id=\"node4\"><title>A</title>\n",
       "<g id=\"a_node4\"><a xlink:title=\"A\">\n",
       "<polygon fill=\"yellow\" points=\"126,-491 72,-491 72,-455 126,-455 126,-491\" stroke=\"black\"/>\n",
       "<text fill=\"blue\" font-family=\"Times New Roman,serif\" font-size=\"14.00\" text-anchor=\"start\" x=\"94\" y=\"-468.8\">A</text>\n",
       "</a>\n",
       "</g>\n",
       "</g>\n",
       "<!-- A&#45;&gt;Y -->\n",
       "<g class=\"edge\" id=\"edge17\"><title>A-&gt;Y</title>\n",
       "<path d=\"M99,-454.697C99,-446.983 99,-437.712 99,-429.112\" fill=\"none\" stroke=\"black\"/>\n",
       "<polygon fill=\"black\" points=\"102.5,-429.104 99,-419.104 95.5001,-429.104 102.5,-429.104\" stroke=\"black\"/>\n",
       "</g>\n",
       "<!-- ALFA -->\n",
       "<g class=\"node\" id=\"node5\"><title>ALFA</title>\n",
       "<g id=\"a_node5\"><a xlink:title=\"ALFA\">\n",
       "<polygon fill=\"yellow\" points=\"198,-491 144,-491 144,-455 198,-455 198,-491\" stroke=\"black\"/>\n",
       "<text fill=\"blue\" font-family=\"Times New Roman,serif\" font-size=\"14.00\" text-anchor=\"start\" x=\"153\" y=\"-468.8\">ALFA</text>\n",
       "</a>\n",
       "</g>\n",
       "</g>\n",
       "<!-- ALFA&#45;&gt;Y -->\n",
       "<g class=\"edge\" id=\"edge2\"><title>ALFA-&gt;Y</title>\n",
       "<path d=\"M153.202,-454.697C144.396,-446.135 133.618,-435.656 123.999,-426.304\" fill=\"none\" stroke=\"black\"/>\n",
       "<polygon fill=\"black\" points=\"126.203,-423.566 116.593,-419.104 121.323,-428.585 126.203,-423.566\" stroke=\"black\"/>\n",
       "</g>\n",
       "<!-- K(&#45;1)&#45;&gt;K -->\n",
       "<g class=\"edge\" id=\"edge4\"><title>K(-1)-&gt;K</title>\n",
       "<path d=\"M101.538,-131.104C104.43,-138.791 107.18,-148.054 109.185,-156.665\" fill=\"none\" stroke=\"black\"/>\n",
       "<polygon fill=\"black\" points=\"105.801,-157.592 111.219,-166.697 112.661,-156.2 105.801,-157.592\" stroke=\"black\"/>\n",
       "</g>\n",
       "<!-- I -->\n",
       "<g class=\"node\" id=\"node7\"><title>I</title>\n",
       "<g id=\"a_node7\"><a xlink:title=\"I\">\n",
       "<polygon fill=\"#63b8ff\" points=\"147,-275 93,-275 93,-239 147,-239 147,-275\" stroke=\"black\"/>\n",
       "<text fill=\"blue\" font-family=\"Times New Roman,serif\" font-size=\"14.00\" text-anchor=\"start\" x=\"118\" y=\"-252.8\">I</text>\n",
       "</a>\n",
       "</g>\n",
       "</g>\n",
       "<!-- I&#45;&gt;K -->\n",
       "<g class=\"edge\" id=\"edge7\"><title>I-&gt;K</title>\n",
       "<path d=\"M117.528,-238.697C116.426,-230.983 115.102,-221.712 113.873,-213.112\" fill=\"none\" stroke=\"black\"/>\n",
       "<polygon fill=\"black\" points=\"117.323,-212.509 112.443,-203.104 110.393,-213.499 117.323,-212.509\" stroke=\"black\"/>\n",
       "</g>\n",
       "<!-- DEPRECIATES_RATE -->\n",
       "<g class=\"node\" id=\"node8\"><title>DEPRECIATES_RATE</title>\n",
       "<g id=\"a_node8\"><a xlink:title=\"DEPRECIATES_RATE\">\n",
       "<polygon fill=\"yellow\" points=\"316.5,-275 165.5,-275 165.5,-239 316.5,-239 316.5,-275\" stroke=\"black\"/>\n",
       "<text fill=\"blue\" font-family=\"Times New Roman,serif\" font-size=\"14.00\" text-anchor=\"start\" x=\"172\" y=\"-252.8\">DEPRECIATES_RATE</text>\n",
       "</a>\n",
       "</g>\n",
       "</g>\n",
       "<!-- DEPRECIATES_RATE&#45;&gt;K -->\n",
       "<g class=\"edge\" id=\"edge6\"><title>DEPRECIATES_RATE-&gt;K</title>\n",
       "<path d=\"M208.954,-238.876C189.99,-228.743 165.913,-215.877 146.257,-205.374\" fill=\"none\" stroke=\"black\"/>\n",
       "<polygon fill=\"black\" points=\"147.758,-202.208 137.289,-200.582 144.459,-208.382 147.758,-202.208\" stroke=\"black\"/>\n",
       "</g>\n",
       "<!-- SAVING_RATIO -->\n",
       "<g class=\"node\" id=\"node10\"><title>SAVING_RATIO</title>\n",
       "<g id=\"a_node10\"><a xlink:title=\"SAVING_RATIO\">\n",
       "<polygon fill=\"yellow\" points=\"260,-419 144,-419 144,-383 260,-383 260,-419\" stroke=\"black\"/>\n",
       "<text fill=\"blue\" font-family=\"Times New Roman,serif\" font-size=\"14.00\" text-anchor=\"start\" x=\"150\" y=\"-396.8\">SAVING_RATIO</text>\n",
       "</a>\n",
       "</g>\n",
       "</g>\n",
       "<!-- C -->\n",
       "<g class=\"node\" id=\"node12\"><title>C</title>\n",
       "<g id=\"a_node12\"><a xlink:title=\"C\">\n",
       "<polygon fill=\"#63b8ff\" points=\"185,-347 131,-347 131,-311 185,-311 185,-347\" stroke=\"black\"/>\n",
       "<text fill=\"blue\" font-family=\"Times New Roman,serif\" font-size=\"14.00\" text-anchor=\"start\" x=\"153\" y=\"-324.8\">C</text>\n",
       "</a>\n",
       "</g>\n",
       "</g>\n",
       "<!-- SAVING_RATIO&#45;&gt;C -->\n",
       "<g class=\"edge\" id=\"edge14\"><title>SAVING_RATIO-&gt;C</title>\n",
       "<path d=\"M191.124,-382.697C186.008,-374.559 179.805,-364.689 174.155,-355.701\" fill=\"none\" stroke=\"black\"/>\n",
       "<polygon fill=\"black\" points=\"177.036,-353.708 168.751,-347.104 171.11,-357.433 177.036,-353.708\" stroke=\"black\"/>\n",
       "</g>\n",
       "<!-- Y&#45;&gt;I -->\n",
       "<g class=\"edge\" id=\"edge1\"><title>Y-&gt;I</title>\n",
       "<path d=\"M101.533,-382.871C105.112,-358.67 111.687,-314.211 115.949,-285.393\" fill=\"none\" stroke=\"black\"/>\n",
       "<polygon fill=\"black\" points=\"119.457,-285.594 117.458,-275.189 112.533,-284.57 119.457,-285.594\" stroke=\"black\"/>\n",
       "</g>\n",
       "<!-- Y&#45;&gt;C -->\n",
       "<g class=\"edge\" id=\"edge15\"><title>Y-&gt;C</title>\n",
       "<path d=\"M113.584,-382.697C120.658,-374.305 129.283,-364.07 137.045,-354.861\" fill=\"none\" stroke=\"black\"/>\n",
       "<polygon fill=\"black\" points=\"139.815,-357.006 143.583,-347.104 134.463,-352.495 139.815,-357.006\" stroke=\"black\"/>\n",
       "</g>\n",
       "<!-- C&#45;&gt;I -->\n",
       "<g class=\"edge\" id=\"edge5\"><title>C-&gt;I</title>\n",
       "<path d=\"M148.607,-310.697C144.235,-302.644 138.943,-292.894 134.105,-283.982\" fill=\"none\" stroke=\"black\"/>\n",
       "<polygon fill=\"black\" points=\"137.132,-282.223 129.285,-275.104 130.98,-285.563 137.132,-282.223\" stroke=\"black\"/>\n",
       "</g>\n",
       "<!-- LABOR_GROWTH -->\n",
       "<g class=\"node\" id=\"node13\"><title>LABOR_GROWTH</title>\n",
       "<g id=\"a_node13\"><a xlink:title=\"LABOR_GROWTH\">\n",
       "<polygon fill=\"yellow\" points=\"202,-563 72,-563 72,-527 202,-527 202,-563\" stroke=\"black\"/>\n",
       "<text fill=\"blue\" font-family=\"Times New Roman,serif\" font-size=\"14.00\" text-anchor=\"start\" x=\"78\" y=\"-540.8\">LABOR_GROWTH</text>\n",
       "</a>\n",
       "</g>\n",
       "</g>\n",
       "<!-- LABOR_GROWTH&#45;&gt;L -->\n",
       "<g class=\"edge\" id=\"edge12\"><title>LABOR_GROWTH-&gt;L</title>\n",
       "<path d=\"M110.091,-526.876C95.8416,-517.808 78.1537,-506.552 62.7644,-496.759\" fill=\"none\" stroke=\"black\"/>\n",
       "<polygon fill=\"black\" points=\"64.3282,-493.606 54.0125,-491.19 60.57,-499.511 64.3282,-493.606\" stroke=\"black\"/>\n",
       "</g>\n",
       "</g>\n",
       "</svg>"
      ],
      "text/plain": [
       "<IPython.core.display.SVG object>"
      ]
     },
     "metadata": {},
     "output_type": "display_data"
    }
   ],
   "source": [
    "msolow.drawmodel(sink = 'K_INTENSE',size=(2,2))"
   ]
  },
  {
   "cell_type": "markdown",
   "metadata": {
    "slideshow": {
     "slide_type": "slide"
    }
   },
   "source": [
    "# Show solving structure (only current year)"
   ]
  },
  {
   "cell_type": "code",
   "execution_count": 5,
   "metadata": {
    "slideshow": {
     "slide_type": "subslide"
    }
   },
   "outputs": [
    {
     "data": {
      "image/svg+xml": [
       "<svg height=\"144pt\" viewBox=\"0.00 0.00 61.71 144.00\" width=\"62pt\" xmlns=\"http://www.w3.org/2000/svg\" xmlns:xlink=\"http://www.w3.org/1999/xlink\">\n",
       "<g class=\"graph\" id=\"graph0\" transform=\"scale(0.337237 0.337237) rotate(0) translate(4 423)\">\n",
       "<title>TD</title>\n",
       "<polygon fill=\"white\" points=\"-4,4 -4,-423 179,-423 179,4 -4,4\" stroke=\"none\"/>\n",
       "<text font-family=\"Times New Roman,serif\" font-size=\"14.00\" text-anchor=\"middle\" x=\"87.5\" y=\"-7.8\">A_model_graph</text>\n",
       "<!-- K -->\n",
       "<g class=\"node\" id=\"node1\"><title>K</title>\n",
       "<g id=\"a_node1\"><a xlink:title=\"K\">\n",
       "<polygon fill=\"#63b8ff\" points=\"175,-347 121,-347 121,-311 175,-311 175,-347\" stroke=\"black\"/>\n",
       "<text fill=\"blue\" font-family=\"Times New Roman,serif\" font-size=\"14.00\" text-anchor=\"start\" x=\"143\" y=\"-324.8\">K</text>\n",
       "</a>\n",
       "</g>\n",
       "</g>\n",
       "<!-- K_INTENSE -->\n",
       "<g class=\"node\" id=\"node4\"><title>K_INTENSE</title>\n",
       "<g id=\"a_node4\"><a xlink:title=\"K_INTENSE\">\n",
       "<polygon fill=\"#63b8ff\" points=\"137,-59 49,-59 49,-23 137,-23 137,-59\" stroke=\"black\"/>\n",
       "<text fill=\"blue\" font-family=\"Times New Roman,serif\" font-size=\"14.00\" text-anchor=\"start\" x=\"55\" y=\"-36.8\">K_INTENSE</text>\n",
       "</a>\n",
       "</g>\n",
       "</g>\n",
       "<!-- K&#45;&gt;K_INTENSE -->\n",
       "<g class=\"edge\" id=\"edge6\"><title>K-&gt;K_INTENSE</title>\n",
       "<path d=\"M152.18,-310.714C160.939,-270.775 177.897,-169.793 146,-95 141.302,-83.9832 133.131,-74.0373 124.592,-65.8163\" fill=\"none\" stroke=\"black\"/>\n",
       "<polygon fill=\"black\" points=\"126.847,-63.1371 117.071,-59.0523 122.166,-68.3418 126.847,-63.1371\" stroke=\"black\"/>\n",
       "</g>\n",
       "<!-- Y -->\n",
       "<g class=\"node\" id=\"node5\"><title>Y</title>\n",
       "<g id=\"a_node5\"><a xlink:title=\"Y\">\n",
       "<polygon fill=\"#63b8ff\" points=\"101,-275 47,-275 47,-239 101,-239 101,-275\" stroke=\"black\"/>\n",
       "<text fill=\"blue\" font-family=\"Times New Roman,serif\" font-size=\"14.00\" text-anchor=\"start\" x=\"69\" y=\"-252.8\">Y</text>\n",
       "</a>\n",
       "</g>\n",
       "</g>\n",
       "<!-- K&#45;&gt;Y -->\n",
       "<g class=\"edge\" id=\"edge4\"><title>K-&gt;Y</title>\n",
       "<path d=\"M129.708,-310.697C120.567,-302.05 109.36,-291.449 99.4,-282.027\" fill=\"none\" stroke=\"black\"/>\n",
       "<polygon fill=\"black\" points=\"101.752,-279.434 92.0817,-275.104 96.9412,-284.519 101.752,-279.434\" stroke=\"black\"/>\n",
       "</g>\n",
       "<!-- L -->\n",
       "<g class=\"node\" id=\"node2\"><title>L</title>\n",
       "<g id=\"a_node2\"><a xlink:title=\"L\">\n",
       "<polygon fill=\"#63b8ff\" points=\"55,-419 1,-419 1,-383 55,-383 55,-419\" stroke=\"black\"/>\n",
       "<text fill=\"blue\" font-family=\"Times New Roman,serif\" font-size=\"14.00\" text-anchor=\"start\" x=\"24\" y=\"-396.8\">L</text>\n",
       "</a>\n",
       "</g>\n",
       "</g>\n",
       "<!-- L&#45;&gt;K_INTENSE -->\n",
       "<g class=\"edge\" id=\"edge7\"><title>L-&gt;K_INTENSE</title>\n",
       "<path d=\"M22.3338,-382.728C14.1521,-356.21 3.55271e-015,-303.732 0,-258 0,-258 0,-258 0,-184 0,-136.322 37.1451,-92.1915 64.4847,-66.1679\" fill=\"none\" stroke=\"black\"/>\n",
       "<polygon fill=\"black\" points=\"66.9267,-68.6769 71.8969,-59.3201 62.1766,-63.5352 66.9267,-68.6769\" stroke=\"black\"/>\n",
       "</g>\n",
       "<!-- L&#45;&gt;Y -->\n",
       "<g class=\"edge\" id=\"edge5\"><title>L-&gt;Y</title>\n",
       "<path d=\"M33.5487,-382.871C41.4231,-358.564 55.9179,-313.819 65.2492,-285.013\" fill=\"none\" stroke=\"black\"/>\n",
       "<polygon fill=\"black\" points=\"68.6795,-285.781 68.4316,-275.189 62.0202,-283.624 68.6795,-285.781\" stroke=\"black\"/>\n",
       "</g>\n",
       "<!-- I -->\n",
       "<g class=\"node\" id=\"node3\"><title>I</title>\n",
       "<g id=\"a_node3\"><a xlink:title=\"I\">\n",
       "<polygon fill=\"#63b8ff\" points=\"137,-131 83,-131 83,-95 137,-95 137,-131\" stroke=\"black\"/>\n",
       "<text fill=\"blue\" font-family=\"Times New Roman,serif\" font-size=\"14.00\" text-anchor=\"start\" x=\"108\" y=\"-108.8\">I</text>\n",
       "</a>\n",
       "</g>\n",
       "</g>\n",
       "<!-- I&#45;&gt;K -->\n",
       "<g class=\"edge\" id=\"edge3\"><title>I-&gt;K</title>\n",
       "<path d=\"M113.06,-131.232C119.66,-168.403 135.277,-256.352 143.205,-300.996\" fill=\"none\" stroke=\"black\"/>\n",
       "<polygon fill=\"black\" points=\"139.76,-301.615 144.955,-310.849 146.652,-300.391 139.76,-301.615\" stroke=\"black\"/>\n",
       "</g>\n",
       "<!-- Y&#45;&gt;I -->\n",
       "<g class=\"edge\" id=\"edge1\"><title>Y-&gt;I</title>\n",
       "<path d=\"M79.9507,-238.943C83.4329,-228.616 87.7662,-215.139 91,-203 96.4564,-182.518 101.412,-159.062 104.893,-141.373\" fill=\"none\" stroke=\"black\"/>\n",
       "<polygon fill=\"black\" points=\"108.401,-141.665 106.861,-131.183 101.528,-140.337 108.401,-141.665\" stroke=\"black\"/>\n",
       "</g>\n",
       "<!-- C -->\n",
       "<g class=\"node\" id=\"node6\"><title>C</title>\n",
       "<g id=\"a_node6\"><a xlink:title=\"C\">\n",
       "<polygon fill=\"#63b8ff\" points=\"82,-203 28,-203 28,-167 82,-167 82,-203\" stroke=\"black\"/>\n",
       "<text fill=\"blue\" font-family=\"Times New Roman,serif\" font-size=\"14.00\" text-anchor=\"start\" x=\"50\" y=\"-180.8\">C</text>\n",
       "</a>\n",
       "</g>\n",
       "</g>\n",
       "<!-- Y&#45;&gt;C -->\n",
       "<g class=\"edge\" id=\"edge8\"><title>Y-&gt;C</title>\n",
       "<path d=\"M69.3034,-238.697C67.1866,-230.898 64.638,-221.509 62.2822,-212.829\" fill=\"none\" stroke=\"black\"/>\n",
       "<polygon fill=\"black\" points=\"65.64,-211.838 59.6426,-203.104 58.8844,-213.672 65.64,-211.838\" stroke=\"black\"/>\n",
       "</g>\n",
       "<!-- C&#45;&gt;I -->\n",
       "<g class=\"edge\" id=\"edge2\"><title>C-&gt;I</title>\n",
       "<path d=\"M68.5955,-166.697C75.1227,-158.389 83.068,-148.277 90.2466,-139.141\" fill=\"none\" stroke=\"black\"/>\n",
       "<polygon fill=\"black\" points=\"93.1347,-141.13 96.5609,-131.104 87.6305,-136.805 93.1347,-141.13\" stroke=\"black\"/>\n",
       "</g>\n",
       "</g>\n",
       "</svg>"
      ],
      "text/plain": [
       "<IPython.core.display.SVG object>"
      ]
     },
     "metadata": {},
     "output_type": "display_data"
    }
   ],
   "source": [
    "msolow.drawendo(sink = 'K_INTENSE',source='L',size=(2,2))"
   ]
  },
  {
   "cell_type": "markdown",
   "metadata": {
    "code_folding": [],
    "slideshow": {
     "slide_type": "slide"
    }
   },
   "source": [
    "# Create DataFrame with baseline exogenous "
   ]
  },
  {
   "cell_type": "code",
   "execution_count": 6,
   "metadata": {
    "slideshow": {
     "slide_type": "-"
    }
   },
   "outputs": [
    {
     "data": {
      "text/html": [
       "<div>\n",
       "<style scoped>\n",
       "    .dataframe tbody tr th:only-of-type {\n",
       "        vertical-align: middle;\n",
       "    }\n",
       "\n",
       "    .dataframe tbody tr th {\n",
       "        vertical-align: top;\n",
       "    }\n",
       "\n",
       "    .dataframe thead th {\n",
       "        text-align: right;\n",
       "    }\n",
       "</style>\n",
       "<table border=\"1\" class=\"dataframe\">\n",
       "  <thead>\n",
       "    <tr style=\"text-align: right;\">\n",
       "      <th></th>\n",
       "      <th>L</th>\n",
       "      <th>K</th>\n",
       "      <th>ALFA</th>\n",
       "      <th>A</th>\n",
       "      <th>DEPRECIATES_RATE</th>\n",
       "      <th>LABOR_GROWTH</th>\n",
       "      <th>SAVING_RATIO</th>\n",
       "    </tr>\n",
       "  </thead>\n",
       "  <tbody>\n",
       "    <tr>\n",
       "      <th>0</th>\n",
       "      <td>100</td>\n",
       "      <td>100</td>\n",
       "      <td>0.5</td>\n",
       "      <td>1.0</td>\n",
       "      <td>0.05</td>\n",
       "      <td>0.01</td>\n",
       "      <td>0.05</td>\n",
       "    </tr>\n",
       "    <tr>\n",
       "      <th>1</th>\n",
       "      <td>100</td>\n",
       "      <td>100</td>\n",
       "      <td>0.5</td>\n",
       "      <td>1.0</td>\n",
       "      <td>0.05</td>\n",
       "      <td>0.01</td>\n",
       "      <td>0.05</td>\n",
       "    </tr>\n",
       "    <tr>\n",
       "      <th>2</th>\n",
       "      <td>100</td>\n",
       "      <td>100</td>\n",
       "      <td>0.5</td>\n",
       "      <td>1.0</td>\n",
       "      <td>0.05</td>\n",
       "      <td>0.01</td>\n",
       "      <td>0.05</td>\n",
       "    </tr>\n",
       "    <tr>\n",
       "      <th>3</th>\n",
       "      <td>100</td>\n",
       "      <td>100</td>\n",
       "      <td>0.5</td>\n",
       "      <td>1.0</td>\n",
       "      <td>0.05</td>\n",
       "      <td>0.01</td>\n",
       "      <td>0.05</td>\n",
       "    </tr>\n",
       "    <tr>\n",
       "      <th>4</th>\n",
       "      <td>100</td>\n",
       "      <td>100</td>\n",
       "      <td>0.5</td>\n",
       "      <td>1.0</td>\n",
       "      <td>0.05</td>\n",
       "      <td>0.01</td>\n",
       "      <td>0.05</td>\n",
       "    </tr>\n",
       "  </tbody>\n",
       "</table>\n",
       "</div>"
      ],
      "text/plain": [
       "     L    K  ALFA    A  DEPRECIATES_RATE  LABOR_GROWTH  SAVING_RATIO\n",
       "0  100  100   0.5  1.0              0.05          0.01          0.05\n",
       "1  100  100   0.5  1.0              0.05          0.01          0.05\n",
       "2  100  100   0.5  1.0              0.05          0.01          0.05\n",
       "3  100  100   0.5  1.0              0.05          0.01          0.05\n",
       "4  100  100   0.5  1.0              0.05          0.01          0.05"
      ]
     },
     "metadata": {},
     "output_type": "display_data"
    }
   ],
   "source": [
    "N = 300\n",
    "df = pd.DataFrame({'L':[100]*N,'K':[100]*N})\n",
    "df.loc[:,'ALFA'] = 0.5\n",
    "df.loc[:,'A'] = 1.\n",
    "df.loc[:,'DEPRECIATES_RATE'] = 0.05\n",
    "df.loc[:,'LABOR_GROWTH'] = 0.01\n",
    "df.loc[:,'SAVING_RATIO'] = 0.05\n",
    "display(df.head())"
   ]
  },
  {
   "cell_type": "markdown",
   "metadata": {
    "slideshow": {
     "slide_type": "slide"
    }
   },
   "source": [
    "# Run Baseline"
   ]
  },
  {
   "cell_type": "code",
   "execution_count": 7,
   "metadata": {
    "slideshow": {
     "slide_type": "-"
    }
   },
   "outputs": [
    {
     "data": {
      "text/html": [
       "<div>\n",
       "<style scoped>\n",
       "    .dataframe tbody tr th:only-of-type {\n",
       "        vertical-align: middle;\n",
       "    }\n",
       "\n",
       "    .dataframe tbody tr th {\n",
       "        vertical-align: top;\n",
       "    }\n",
       "\n",
       "    .dataframe thead th {\n",
       "        text-align: right;\n",
       "    }\n",
       "</style>\n",
       "<table border=\"1\" class=\"dataframe\">\n",
       "  <thead>\n",
       "    <tr style=\"text-align: right;\">\n",
       "      <th></th>\n",
       "      <th>L</th>\n",
       "      <th>K</th>\n",
       "      <th>ALFA</th>\n",
       "      <th>A</th>\n",
       "      <th>DEPRECIATES_RATE</th>\n",
       "      <th>LABOR_GROWTH</th>\n",
       "      <th>SAVING_RATIO</th>\n",
       "      <th>Y</th>\n",
       "      <th>I</th>\n",
       "      <th>C</th>\n",
       "      <th>K_INTENSE</th>\n",
       "    </tr>\n",
       "  </thead>\n",
       "  <tbody>\n",
       "    <tr>\n",
       "      <th>0</th>\n",
       "      <td>100.000000</td>\n",
       "      <td>100.000000</td>\n",
       "      <td>0.5</td>\n",
       "      <td>1.0</td>\n",
       "      <td>0.05</td>\n",
       "      <td>0.01</td>\n",
       "      <td>0.05</td>\n",
       "      <td>0.000000</td>\n",
       "      <td>0.000000</td>\n",
       "      <td>0.000000</td>\n",
       "      <td>0.000000</td>\n",
       "    </tr>\n",
       "    <tr>\n",
       "      <th>1</th>\n",
       "      <td>101.000000</td>\n",
       "      <td>100.025580</td>\n",
       "      <td>0.5</td>\n",
       "      <td>1.0</td>\n",
       "      <td>0.05</td>\n",
       "      <td>0.01</td>\n",
       "      <td>0.05</td>\n",
       "      <td>100.511609</td>\n",
       "      <td>5.025580</td>\n",
       "      <td>95.486029</td>\n",
       "      <td>0.990352</td>\n",
       "    </tr>\n",
       "    <tr>\n",
       "      <th>2</th>\n",
       "      <td>102.010000</td>\n",
       "      <td>100.076226</td>\n",
       "      <td>0.5</td>\n",
       "      <td>1.0</td>\n",
       "      <td>0.05</td>\n",
       "      <td>0.01</td>\n",
       "      <td>0.05</td>\n",
       "      <td>101.038487</td>\n",
       "      <td>5.051924</td>\n",
       "      <td>95.986562</td>\n",
       "      <td>0.981043</td>\n",
       "    </tr>\n",
       "    <tr>\n",
       "      <th>3</th>\n",
       "      <td>103.030100</td>\n",
       "      <td>100.151443</td>\n",
       "      <td>0.5</td>\n",
       "      <td>1.0</td>\n",
       "      <td>0.05</td>\n",
       "      <td>0.01</td>\n",
       "      <td>0.05</td>\n",
       "      <td>101.580575</td>\n",
       "      <td>5.079029</td>\n",
       "      <td>96.501546</td>\n",
       "      <td>0.972060</td>\n",
       "    </tr>\n",
       "    <tr>\n",
       "      <th>4</th>\n",
       "      <td>104.060401</td>\n",
       "      <td>100.250762</td>\n",
       "      <td>0.5</td>\n",
       "      <td>1.0</td>\n",
       "      <td>0.05</td>\n",
       "      <td>0.01</td>\n",
       "      <td>0.05</td>\n",
       "      <td>102.137821</td>\n",
       "      <td>5.106891</td>\n",
       "      <td>97.030930</td>\n",
       "      <td>0.963390</td>\n",
       "    </tr>\n",
       "  </tbody>\n",
       "</table>\n",
       "</div>"
      ],
      "text/plain": [
       "            L           K  ALFA    A  DEPRECIATES_RATE  LABOR_GROWTH  \\\n",
       "0  100.000000  100.000000   0.5  1.0              0.05          0.01   \n",
       "1  101.000000  100.025580   0.5  1.0              0.05          0.01   \n",
       "2  102.010000  100.076226   0.5  1.0              0.05          0.01   \n",
       "3  103.030100  100.151443   0.5  1.0              0.05          0.01   \n",
       "4  104.060401  100.250762   0.5  1.0              0.05          0.01   \n",
       "\n",
       "   SAVING_RATIO           Y         I          C  K_INTENSE  \n",
       "0          0.05    0.000000  0.000000   0.000000   0.000000  \n",
       "1          0.05  100.511609  5.025580  95.486029   0.990352  \n",
       "2          0.05  101.038487  5.051924  95.986562   0.981043  \n",
       "3          0.05  101.580575  5.079029  96.501546   0.972060  \n",
       "4          0.05  102.137821  5.106891  97.030930   0.963390  "
      ]
     },
     "metadata": {},
     "output_type": "display_data"
    }
   ],
   "source": [
    "res1 = msolow(df)\n",
    "display(res1.head())"
   ]
  },
  {
   "cell_type": "markdown",
   "metadata": {
    "slideshow": {
     "slide_type": "slide"
    }
   },
   "source": [
    "# Create interactive widgets \n",
    "If you are not familiar with Python and Ipywidgets, don't try to understand the code. \n",
    "Just notice that it is fairly short. \n",
    "\n",
    "You can try different parameter values"
   ]
  },
  {
   "cell_type": "code",
   "execution_count": 8,
   "metadata": {},
   "outputs": [
    {
     "data": {
      "application/vnd.jupyter.widget-view+json": {
       "model_id": "90b7fe016da74262949d7ad7a6a0e2a4",
       "version_major": 2,
       "version_minor": 0
      },
      "text/plain": [
       "VBox(children=(HBox(children=(Label(value='Input new parameter ', layout=Layout(width='52%')), Label(value='Al…"
      ]
     },
     "metadata": {},
     "output_type": "display_data"
    },
    {
     "data": {
      "application/vnd.jupyter.widget-view+json": {
       "model_id": "4da037bcd89b41b8967009a58b33b200",
       "version_major": 2,
       "version_minor": 0
      },
      "text/plain": [
       "VBox(children=(Tab(children=(VBox(children=(Tab(children=(Output(), Output(), Output(), Output()), _titles={'0…"
      ]
     },
     "metadata": {},
     "output_type": "display_data"
    }
   ],
   "source": [
    "slidedef =      {'Productivity'     : {'var':'ALFA',             'value': 0.5 ,'min':0.0, 'max':1.0},\n",
    "                 'DEPRECIATES_RATE' : {'var':'DEPRECIATES_RATE', 'value': 0.05,'min':0.0, 'max':1.0}, \n",
    "                 'LABOR_GROWTH'     : {'var':'LABOR_GROWTH',     'value': 0.01,'min':0.0, 'max':1.0},\n",
    "                 'SAVING_RATIO'     : {'var': 'SAVING_RATIO',    'value': 0.05,'min':0.0, 'max':1.0}\n",
    "                        }       \n",
    "\n",
    "input = msolow.inputwidget(basedf=res1,slidedef=slidedef,showout=True,varpat='Y C I K L K_INTENSE')"
   ]
  },
  {
   "cell_type": "code",
   "execution_count": null,
   "metadata": {},
   "outputs": [],
   "source": []
  }
 ],
 "metadata": {
  "celltoolbar": "Slideshow",
  "kernelspec": {
   "display_name": "Python 3",
   "language": "python",
   "name": "python3"
  },
  "language_info": {
   "codemirror_mode": {
    "name": "ipython",
    "version": 3
   },
   "file_extension": ".py",
   "mimetype": "text/x-python",
   "name": "python",
   "nbconvert_exporter": "python",
   "pygments_lexer": "ipython3",
   "version": "3.7.5"
  },
  "toc": {
   "base_numbering": 1,
   "nav_menu": {},
   "number_sections": true,
   "sideBar": true,
   "skip_h1_title": false,
   "title_cell": "Table of Contents",
   "title_sidebar": "Contents",
   "toc_cell": false,
   "toc_position": {},
   "toc_section_display": true,
   "toc_window_display": false
  },
  "varInspector": {
   "cols": {
    "lenName": 16,
    "lenType": 16,
    "lenVar": 40
   },
   "kernels_config": {
    "python": {
     "delete_cmd_postfix": "",
     "delete_cmd_prefix": "del ",
     "library": "var_list.py",
     "varRefreshCmd": "print(var_dic_list())"
    },
    "r": {
     "delete_cmd_postfix": ") ",
     "delete_cmd_prefix": "rm(",
     "library": "var_list.r",
     "varRefreshCmd": "cat(var_dic_list()) "
    }
   },
   "oldHeight": 122.4,
   "position": {
    "height": "143.68px",
    "left": "945.36px",
    "right": "20px",
    "top": "120px",
    "width": "250px"
   },
   "types_to_exclude": [
    "module",
    "function",
    "builtin_function_or_method",
    "instance",
    "_Feature"
   ],
   "varInspector_section_display": "block",
   "window_display": false
  }
 },
 "nbformat": 4,
 "nbformat_minor": 4
}
