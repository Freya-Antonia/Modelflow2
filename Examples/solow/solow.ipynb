{
 "cells": [
  {
   "cell_type": "markdown",
   "metadata": {
    "slideshow": {
     "slide_type": "slide"
    }
   },
   "source": [
    "# A notebook with a simple Solow model \n",
    "You ca run each cell by pressing the run tool or shift+enter"
   ]
  },
  {
   "cell_type": "markdown",
   "metadata": {
    "slideshow": {
     "slide_type": "slide"
    }
   },
   "source": [
    "# Import Python libraries"
   ]
  },
  {
   "cell_type": "code",
   "execution_count": 1,
   "metadata": {
    "slideshow": {
     "slide_type": "-"
    }
   },
   "outputs": [
    {
     "data": {
      "text/html": [
       "\n",
       "            <style>\n",
       "                div#notebook-container    { width: 95%; }\n",
       "                div#menubar-container     { width: 65%; }\n",
       "                div#maintoolbar-container { width: 99%; }\n",
       "            </style>\n",
       "            "
      ],
      "text/plain": [
       "<IPython.core.display.HTML object>"
      ]
     },
     "metadata": {},
     "output_type": "display_data"
    },
    {
     "data": {
      "text/html": [
       "            <script>\n",
       "                // AUTORUN ALL CELLS ON NOTEBOOK-LOAD!\n",
       "                require(\n",
       "                    ['base/js/namespace', 'jquery'], \n",
       "                    function(jupyter, $) {\n",
       "                        $(jupyter.events).on('kernel_ready.Kernel', function () {\n",
       "                            console.log('Auto-running all cells-below...');\n",
       "                            jupyter.actions.call('jupyter-notebook:run-all-cells-below');\n",
       "                            jupyter.actions.call('jupyter-notebook:save-notebook');\n",
       "                        });\n",
       "                    }\n",
       "                );\n",
       "            </script>"
      ],
      "text/plain": [
       "<IPython.core.display.HTML object>"
      ]
     },
     "metadata": {},
     "output_type": "display_data"
    }
   ],
   "source": [
    "%matplotlib inline\n",
    "import pandas as pd\n",
    "from modelclass import model\n",
    "model.modelflow_auto()"
   ]
  },
  {
   "cell_type": "markdown",
   "metadata": {
    "slideshow": {
     "slide_type": "slide"
    }
   },
   "source": [
    "# Specify the model \n",
    "The explode function will rewrite the business logic."
   ]
  },
  {
   "cell_type": "code",
   "execution_count": 2,
   "metadata": {
    "slideshow": {
     "slide_type": "-"
    }
   },
   "outputs": [
    {
     "name": "stdout",
     "output_type": "stream",
     "text": [
      "Y         = a * k**alfa * l **(1-alfa) \n",
      "C         = (1-SAVING_RATIO)  * Y \n",
      "I         = Y - C \n",
      "diff(K)   = I-depreciates_rate * K(-1)\n",
      "diff(l)   = labor_growth * L(-1) \n",
      "K_intense = K/L \n",
      "\n"
     ]
    }
   ],
   "source": [
    "fsolow = '''\\\n",
    "Y         = a * k**alfa * l **(1-alfa) \n",
    "C         = (1-SAVING_RATIO)  * Y \n",
    "I         = Y - C \n",
    "diff(K)   = I-depreciates_rate * K(-1)\n",
    "diff(l)   = labor_growth * L(-1) \n",
    "K_intense = K/L \n",
    "'''\n",
    "print(fsolow)"
   ]
  },
  {
   "cell_type": "markdown",
   "metadata": {
    "slideshow": {
     "slide_type": "slide"
    }
   },
   "source": [
    "# Create a model class instance"
   ]
  },
  {
   "cell_type": "code",
   "execution_count": 3,
   "metadata": {
    "slideshow": {
     "slide_type": "-"
    }
   },
   "outputs": [
    {
     "name": "stdout",
     "output_type": "stream",
     "text": [
      "FRML <> Y         = A * K**ALFA * L **(1-ALFA)  $\n",
      "FRML <> C         = (1-SAVING_RATIO)  * Y  $\n",
      "FRML <> I         = Y - C  $\n",
      "FRML <> K=K(-1)+(I-DEPRECIATES_RATE * K(-1))$\n",
      "FRML <> L=L(-1)+(LABOR_GROWTH * L(-1))$\n",
      "FRML <> K_INTENSE = K/L  $\n"
     ]
    }
   ],
   "source": [
    "msolow = model.from_eq(fsolow,modelname='Solow model')\n",
    "print(msolow.equations)  "
   ]
  },
  {
   "cell_type": "markdown",
   "metadata": {
    "slideshow": {
     "slide_type": "slide"
    }
   },
   "source": [
    "# Show model structure"
   ]
  },
  {
   "cell_type": "code",
   "execution_count": 4,
   "metadata": {
    "slideshow": {
     "slide_type": "subslide"
    }
   },
   "outputs": [
    {
     "data": {
      "image/svg+xml": [
       "<svg xmlns=\"http://www.w3.org/2000/svg\" xmlns:xlink=\"http://www.w3.org/1999/xlink\" width=\"236pt\" height=\"360pt\" viewBox=\"0.00 0.00 235.85 360.00\">\n",
       "<g id=\"graph0\" class=\"graph\" transform=\"scale(0.630473 0.630473) rotate(0) translate(4 567)\">\n",
       "<title>TD</title>\n",
       "<polygon fill=\"white\" stroke=\"none\" points=\"-4,4 -4,-567 370.089,-567 370.089,4 -4,4\"/>\n",
       "<text text-anchor=\"middle\" x=\"183.044\" y=\"-7.8\" font-family=\"Times New Roman,serif\" font-size=\"14.00\">A_model_graph</text>\n",
       "<!-- LABOR_GROWTH -->\n",
       "<g id=\"node1\" class=\"node\"><title>LABOR_GROWTH</title>\n",
       "<g id=\"a_node1\"><a xlink:title=\"LABOR_GROWTH\">\n",
       "<polygon fill=\"yellow\" stroke=\"black\" points=\"261.589,-563 128.589,-563 128.589,-527 261.589,-527 261.589,-563\"/>\n",
       "<text text-anchor=\"start\" x=\"135.089\" y=\"-540.8\" font-family=\"Times New Roman,serif\" font-size=\"14.00\" fill=\"blue\">LABOR_GROWTH:</text>\n",
       "</a>\n",
       "</g>\n",
       "</g>\n",
       "<!-- L -->\n",
       "<g id=\"node4\" class=\"node\"><title>L</title>\n",
       "<g id=\"a_node4\"><a xlink:title=\"L\">\n",
       "<polygon fill=\"#63b8ff\" stroke=\"black\" points=\"222.089,-491 168.089,-491 168.089,-455 222.089,-455 222.089,-491\"/>\n",
       "<text text-anchor=\"start\" x=\"189.089\" y=\"-468.8\" font-family=\"Times New Roman,serif\" font-size=\"14.00\" fill=\"blue\">L:</text>\n",
       "</a>\n",
       "</g>\n",
       "</g>\n",
       "<!-- LABOR_GROWTH&#45;&gt;L -->\n",
       "<g id=\"edge7\" class=\"edge\"><title>LABOR_GROWTH-&gt;L</title>\n",
       "<path fill=\"none\" stroke=\"black\" d=\"M195.089,-526.697C195.089,-518.983 195.089,-509.712 195.089,-501.112\"/>\n",
       "<polygon fill=\"black\" stroke=\"black\" points=\"198.589,-501.104 195.089,-491.104 191.589,-501.104 198.589,-501.104\"/>\n",
       "</g>\n",
       "<!-- K -->\n",
       "<g id=\"node2\" class=\"node\"><title>K</title>\n",
       "<g id=\"a_node2\"><a xlink:title=\"K\">\n",
       "<polygon fill=\"#63b8ff\" stroke=\"black\" points=\"159.089,-203 105.089,-203 105.089,-167 159.089,-167 159.089,-203\"/>\n",
       "<text text-anchor=\"start\" x=\"126.089\" y=\"-180.8\" font-family=\"Times New Roman,serif\" font-size=\"14.00\" fill=\"blue\">K:</text>\n",
       "</a>\n",
       "</g>\n",
       "</g>\n",
       "<!-- K(&#45;1) -->\n",
       "<g id=\"node3\" class=\"node\"><title>K(-1)</title>\n",
       "<g id=\"a_node3\"><a xlink:title=\"K\">\n",
       "<polygon fill=\"springgreen\" stroke=\"black\" points=\"131.589,-131 76.5885,-131 76.5885,-95 131.589,-95 131.589,-131\"/>\n",
       "<text text-anchor=\"start\" x=\"83.0885\" y=\"-108.8\" font-family=\"Times New Roman,serif\" font-size=\"14.00\" fill=\"blue\">K(-1):K</text>\n",
       "</a>\n",
       "</g>\n",
       "</g>\n",
       "<!-- K&#45;&gt;K(&#45;1) -->\n",
       "<g id=\"edge5\" class=\"edge\"><title>K-&gt;K(-1)</title>\n",
       "<path fill=\"none\" stroke=\"black\" d=\"M119.251,-166.697C115.328,-158.898 111.349,-149.509 108.236,-140.829\"/>\n",
       "<polygon fill=\"black\" stroke=\"black\" points=\"111.487,-139.509 105.035,-131.104 104.838,-141.697 111.487,-139.509\"/>\n",
       "</g>\n",
       "<!-- Y -->\n",
       "<g id=\"node7\" class=\"node\"><title>Y</title>\n",
       "<g id=\"a_node7\"><a xlink:title=\"Y\">\n",
       "<polygon fill=\"#63b8ff\" stroke=\"black\" points=\"294.089,-419 240.089,-419 240.089,-383 294.089,-383 294.089,-419\"/>\n",
       "<text text-anchor=\"start\" x=\"261.089\" y=\"-396.8\" font-family=\"Times New Roman,serif\" font-size=\"14.00\" fill=\"blue\">Y:</text>\n",
       "</a>\n",
       "</g>\n",
       "</g>\n",
       "<!-- K&#45;&gt;Y -->\n",
       "<g id=\"edge17\" class=\"edge\"><title>K-&gt;Y</title>\n",
       "<path fill=\"none\" stroke=\"black\" d=\"M159.209,-188.17C190.66,-192.299 241.23,-204.275 265.089,-239 292.561,-278.984 283.704,-338.747 275.15,-373.097\"/>\n",
       "<polygon fill=\"black\" stroke=\"black\" points=\"271.733,-372.328 272.545,-382.891 278.497,-374.127 271.733,-372.328\"/>\n",
       "</g>\n",
       "<!-- K_INTENSE -->\n",
       "<g id=\"node11\" class=\"node\"><title>K_INTENSE</title>\n",
       "<g id=\"a_node11\"><a xlink:title=\"K_INTENSE\">\n",
       "<polygon fill=\"#63b8ff\" stroke=\"black\" points=\"126.589,-59 35.5885,-59 35.5885,-23 126.589,-23 126.589,-59\"/>\n",
       "<text text-anchor=\"start\" x=\"42.0885\" y=\"-36.8\" font-family=\"Times New Roman,serif\" font-size=\"14.00\" fill=\"blue\">K_INTENSE:</text>\n",
       "</a>\n",
       "</g>\n",
       "</g>\n",
       "<!-- K&#45;&gt;K_INTENSE -->\n",
       "<g id=\"edge11\" class=\"edge\"><title>K-&gt;K_INTENSE</title>\n",
       "<path fill=\"none\" stroke=\"black\" d=\"M138.46,-166.782C144.253,-148.227 150.45,-118.237 140.089,-95 135.007,-83.6036 126.129,-73.634 116.78,-65.5093\"/>\n",
       "<polygon fill=\"black\" stroke=\"black\" points=\"118.865,-62.6943 108.889,-59.1276 114.463,-68.1372 118.865,-62.6943\"/>\n",
       "</g>\n",
       "<!-- K(&#45;1)&#45;&gt;K -->\n",
       "<g id=\"edge10\" class=\"edge\"><title>K(-1)-&gt;K</title>\n",
       "<path fill=\"none\" stroke=\"black\" d=\"M116.825,-131.104C120.748,-138.876 124.734,-148.257 127.861,-156.949\"/>\n",
       "<polygon fill=\"black\" stroke=\"black\" points=\"124.621,-158.3 131.083,-166.697 131.268,-156.103 124.621,-158.3\"/>\n",
       "</g>\n",
       "<!-- L&#45;&gt;Y -->\n",
       "<g id=\"edge2\" class=\"edge\"><title>L-&gt;Y</title>\n",
       "<path fill=\"none\" stroke=\"black\" d=\"M212.886,-454.697C221.693,-446.135 232.471,-435.656 242.09,-426.304\"/>\n",
       "<polygon fill=\"black\" stroke=\"black\" points=\"244.765,-428.585 249.496,-419.104 239.886,-423.566 244.765,-428.585\"/>\n",
       "</g>\n",
       "<!-- L&#45;&gt;K_INTENSE -->\n",
       "<g id=\"edge12\" class=\"edge\"><title>L-&gt;K_INTENSE</title>\n",
       "<path fill=\"none\" stroke=\"black\" d=\"M168.031,-471.816C129.545,-470.012 59.4236,-460.755 21.0885,-419 -6.26563,-389.206 2.08854,-370.447 2.08854,-330 2.08854,-330 2.08854,-330 2.08854,-184 2.08854,-138.236 33.8097,-93.4526 57.0507,-66.7827\"/>\n",
       "<polygon fill=\"black\" stroke=\"black\" points=\"59.8676,-68.8844 63.9467,-59.1063 54.6602,-64.2065 59.8676,-68.8844\"/>\n",
       "</g>\n",
       "<!-- L(&#45;1) -->\n",
       "<g id=\"node13\" class=\"node\"><title>L(-1)</title>\n",
       "<g id=\"a_node13\"><a xlink:title=\"L\">\n",
       "<polygon fill=\"springgreen\" stroke=\"black\" points=\"222.089,-419 168.089,-419 168.089,-383 222.089,-383 222.089,-419\"/>\n",
       "<text text-anchor=\"start\" x=\"175.089\" y=\"-396.8\" font-family=\"Times New Roman,serif\" font-size=\"14.00\" fill=\"blue\">L(-1):L</text>\n",
       "</a>\n",
       "</g>\n",
       "</g>\n",
       "<!-- L&#45;&gt;L(&#45;1) -->\n",
       "<g id=\"edge1\" class=\"edge\"><title>L-&gt;L(-1)</title>\n",
       "<path fill=\"none\" stroke=\"black\" d=\"M189.173,-454.697C188.377,-446.983 188.151,-437.712 188.493,-429.112\"/>\n",
       "<polygon fill=\"black\" stroke=\"black\" points=\"191.987,-429.324 189.194,-419.104 185.004,-428.836 191.987,-429.324\"/>\n",
       "</g>\n",
       "<!-- DEPRECIATES_RATE -->\n",
       "<g id=\"node5\" class=\"node\"><title>DEPRECIATES_RATE</title>\n",
       "<g id=\"a_node5\"><a xlink:title=\"DEPRECIATES_RATE\">\n",
       "<polygon fill=\"yellow\" stroke=\"black\" points=\"256.089,-275 102.089,-275 102.089,-239 256.089,-239 256.089,-275\"/>\n",
       "<text text-anchor=\"start\" x=\"108.089\" y=\"-252.8\" font-family=\"Times New Roman,serif\" font-size=\"14.00\" fill=\"blue\">DEPRECIATES_RATE:</text>\n",
       "</a>\n",
       "</g>\n",
       "</g>\n",
       "<!-- DEPRECIATES_RATE&#45;&gt;K -->\n",
       "<g id=\"edge15\" class=\"edge\"><title>DEPRECIATES_RATE-&gt;K</title>\n",
       "<path fill=\"none\" stroke=\"black\" d=\"M167.471,-238.697C161.95,-230.474 155.242,-220.483 149.157,-211.421\"/>\n",
       "<polygon fill=\"black\" stroke=\"black\" points=\"152.053,-209.456 143.573,-203.104 146.241,-213.358 152.053,-209.456\"/>\n",
       "</g>\n",
       "<!-- ALFA -->\n",
       "<g id=\"node6\" class=\"node\"><title>ALFA</title>\n",
       "<g id=\"a_node6\"><a xlink:title=\"ALFA\">\n",
       "<polygon fill=\"yellow\" stroke=\"black\" points=\"366.089,-491 312.089,-491 312.089,-455 366.089,-455 366.089,-491\"/>\n",
       "<text text-anchor=\"start\" x=\"319.089\" y=\"-468.8\" font-family=\"Times New Roman,serif\" font-size=\"14.00\" fill=\"blue\">ALFA:</text>\n",
       "</a>\n",
       "</g>\n",
       "</g>\n",
       "<!-- ALFA&#45;&gt;Y -->\n",
       "<g id=\"edge4\" class=\"edge\"><title>ALFA-&gt;Y</title>\n",
       "<path fill=\"none\" stroke=\"black\" d=\"M321.291,-454.697C312.485,-446.135 301.706,-435.656 292.087,-426.304\"/>\n",
       "<polygon fill=\"black\" stroke=\"black\" points=\"294.291,-423.566 284.682,-419.104 289.412,-428.585 294.291,-423.566\"/>\n",
       "</g>\n",
       "<!-- I -->\n",
       "<g id=\"node10\" class=\"node\"><title>I</title>\n",
       "<g id=\"a_node10\"><a xlink:title=\"I\">\n",
       "<polygon fill=\"#63b8ff\" stroke=\"black\" points=\"84.0885,-275 30.0885,-275 30.0885,-239 84.0885,-239 84.0885,-275\"/>\n",
       "<text text-anchor=\"start\" x=\"53.0885\" y=\"-252.8\" font-family=\"Times New Roman,serif\" font-size=\"14.00\" fill=\"blue\">I:</text>\n",
       "</a>\n",
       "</g>\n",
       "</g>\n",
       "<!-- Y&#45;&gt;I -->\n",
       "<g id=\"edge16\" class=\"edge\"><title>Y-&gt;I</title>\n",
       "<path fill=\"none\" stroke=\"black\" d=\"M241.758,-382.871C204.075,-357.391 133.182,-309.454 91.0426,-280.959\"/>\n",
       "<polygon fill=\"black\" stroke=\"black\" points=\"92.7538,-277.891 82.5093,-275.189 88.8327,-283.69 92.7538,-277.891\"/>\n",
       "</g>\n",
       "<!-- C -->\n",
       "<g id=\"node12\" class=\"node\"><title>C</title>\n",
       "<g id=\"a_node12\"><a xlink:title=\"C\">\n",
       "<polygon fill=\"#63b8ff\" stroke=\"black\" points=\"117.089,-347 63.0885,-347 63.0885,-311 117.089,-311 117.089,-347\"/>\n",
       "<text text-anchor=\"start\" x=\"84.0885\" y=\"-324.8\" font-family=\"Times New Roman,serif\" font-size=\"14.00\" fill=\"blue\">C:</text>\n",
       "</a>\n",
       "</g>\n",
       "</g>\n",
       "<!-- Y&#45;&gt;C -->\n",
       "<g id=\"edge13\" class=\"edge\"><title>Y-&gt;C</title>\n",
       "<path fill=\"none\" stroke=\"black\" d=\"M240.069,-386.951C237.055,-385.582 234.017,-384.239 231.089,-383 196.081,-368.184 155.368,-353.105 126.717,-342.839\"/>\n",
       "<polygon fill=\"black\" stroke=\"black\" points=\"127.709,-339.478 117.114,-339.417 125.359,-346.071 127.709,-339.478\"/>\n",
       "</g>\n",
       "<!-- A -->\n",
       "<g id=\"node8\" class=\"node\"><title>A</title>\n",
       "<g id=\"a_node8\"><a xlink:title=\"A\">\n",
       "<polygon fill=\"yellow\" stroke=\"black\" points=\"294.089,-491 240.089,-491 240.089,-455 294.089,-455 294.089,-491\"/>\n",
       "<text text-anchor=\"start\" x=\"261.089\" y=\"-468.8\" font-family=\"Times New Roman,serif\" font-size=\"14.00\" fill=\"blue\">A:</text>\n",
       "</a>\n",
       "</g>\n",
       "</g>\n",
       "<!-- A&#45;&gt;Y -->\n",
       "<g id=\"edge6\" class=\"edge\"><title>A-&gt;Y</title>\n",
       "<path fill=\"none\" stroke=\"black\" d=\"M267.089,-454.697C267.089,-446.983 267.089,-437.712 267.089,-429.112\"/>\n",
       "<polygon fill=\"black\" stroke=\"black\" points=\"270.589,-429.104 267.089,-419.104 263.589,-429.104 270.589,-429.104\"/>\n",
       "</g>\n",
       "<!-- SAVING_RATIO -->\n",
       "<g id=\"node9\" class=\"node\"><title>SAVING_RATIO</title>\n",
       "<g id=\"a_node9\"><a xlink:title=\"SAVING_RATIO\">\n",
       "<polygon fill=\"yellow\" stroke=\"black\" points=\"149.589,-419 30.5885,-419 30.5885,-383 149.589,-383 149.589,-419\"/>\n",
       "<text text-anchor=\"start\" x=\"37.0885\" y=\"-396.8\" font-family=\"Times New Roman,serif\" font-size=\"14.00\" fill=\"blue\">SAVING_RATIO:</text>\n",
       "</a>\n",
       "</g>\n",
       "</g>\n",
       "<!-- SAVING_RATIO&#45;&gt;C -->\n",
       "<g id=\"edge9\" class=\"edge\"><title>SAVING_RATIO-&gt;C</title>\n",
       "<path fill=\"none\" stroke=\"black\" d=\"M90.0885,-382.697C90.0885,-374.983 90.0885,-365.712 90.0885,-357.112\"/>\n",
       "<polygon fill=\"black\" stroke=\"black\" points=\"93.5886,-357.104 90.0885,-347.104 86.5886,-357.104 93.5886,-357.104\"/>\n",
       "</g>\n",
       "<!-- I&#45;&gt;K -->\n",
       "<g id=\"edge3\" class=\"edge\"><title>I-&gt;K</title>\n",
       "<path fill=\"none\" stroke=\"black\" d=\"M75.6279,-238.697C84.8918,-230.05 96.2508,-219.449 106.345,-210.027\"/>\n",
       "<polygon fill=\"black\" stroke=\"black\" points=\"108.84,-212.486 113.762,-203.104 104.064,-207.369 108.84,-212.486\"/>\n",
       "</g>\n",
       "<!-- C&#45;&gt;I -->\n",
       "<g id=\"edge14\" class=\"edge\"><title>C-&gt;I</title>\n",
       "<path fill=\"none\" stroke=\"black\" d=\"M81.9312,-310.697C78.1748,-302.728 73.6355,-293.1 69.4702,-284.264\"/>\n",
       "<polygon fill=\"black\" stroke=\"black\" points=\"72.5821,-282.657 65.152,-275.104 66.2504,-285.642 72.5821,-282.657\"/>\n",
       "</g>\n",
       "<!-- L(&#45;1)&#45;&gt;L -->\n",
       "<g id=\"edge8\" class=\"edge\"><title>L(-1)-&gt;L</title>\n",
       "<path fill=\"none\" stroke=\"black\" d=\"M200.984,-419.104C201.789,-426.791 202.025,-436.054 201.693,-444.665\"/>\n",
       "<polygon fill=\"black\" stroke=\"black\" points=\"198.197,-444.48 201.004,-454.697 205.181,-444.96 198.197,-444.48\"/>\n",
       "</g>\n",
       "</g>\n",
       "</svg>"
      ],
      "text/plain": [
       "<IPython.core.display.SVG object>"
      ]
     },
     "metadata": {},
     "output_type": "display_data"
    }
   ],
   "source": [
    "msolow.drawmodel(sink = 'K_INTENSE',size=(5,5))"
   ]
  },
  {
   "cell_type": "markdown",
   "metadata": {
    "slideshow": {
     "slide_type": "slide"
    }
   },
   "source": [
    "# Show solving structure (only current year)"
   ]
  },
  {
   "cell_type": "code",
   "execution_count": 5,
   "metadata": {
    "cell_style": "split",
    "slideshow": {
     "slide_type": "subslide"
    }
   },
   "outputs": [
    {
     "data": {
      "image/svg+xml": [
       "<svg xmlns=\"http://www.w3.org/2000/svg\" xmlns:xlink=\"http://www.w3.org/1999/xlink\" width=\"194pt\" height=\"360pt\" viewBox=\"0.00 0.00 194.33 360.00\">\n",
       "<g id=\"graph0\" class=\"graph\" transform=\"scale(0.843091 0.843091) rotate(0) translate(4 423)\">\n",
       "<title>TD</title>\n",
       "<polygon fill=\"white\" stroke=\"none\" points=\"-4,4 -4,-423 226.5,-423 226.5,4 -4,4\"/>\n",
       "<text text-anchor=\"middle\" x=\"111.25\" y=\"-7.8\" font-family=\"Times New Roman,serif\" font-size=\"14.00\">A_model_graph</text>\n",
       "<!-- K -->\n",
       "<g id=\"node1\" class=\"node\"><title>K</title>\n",
       "<g id=\"a_node1\"><a xlink:title=\"K\">\n",
       "<polygon fill=\"#63b8ff\" stroke=\"black\" points=\"129.5,-347 75.5,-347 75.5,-311 129.5,-311 129.5,-347\"/>\n",
       "<text text-anchor=\"start\" x=\"96.5\" y=\"-324.8\" font-family=\"Times New Roman,serif\" font-size=\"14.00\" fill=\"blue\">K:</text>\n",
       "</a>\n",
       "</g>\n",
       "</g>\n",
       "<!-- Y -->\n",
       "<g id=\"node3\" class=\"node\"><title>Y</title>\n",
       "<g id=\"a_node3\"><a xlink:title=\"Y\">\n",
       "<polygon fill=\"#63b8ff\" stroke=\"black\" points=\"184.5,-275 130.5,-275 130.5,-239 184.5,-239 184.5,-275\"/>\n",
       "<text text-anchor=\"start\" x=\"151.5\" y=\"-252.8\" font-family=\"Times New Roman,serif\" font-size=\"14.00\" fill=\"blue\">Y:</text>\n",
       "</a>\n",
       "</g>\n",
       "</g>\n",
       "<!-- K&#45;&gt;Y -->\n",
       "<g id=\"edge8\" class=\"edge\"><title>K-&gt;Y</title>\n",
       "<path fill=\"none\" stroke=\"black\" d=\"M116.096,-310.697C122.623,-302.389 130.568,-292.277 137.747,-283.141\"/>\n",
       "<polygon fill=\"black\" stroke=\"black\" points=\"140.635,-285.13 144.061,-275.104 135.131,-280.805 140.635,-285.13\"/>\n",
       "</g>\n",
       "<!-- K_INTENSE -->\n",
       "<g id=\"node5\" class=\"node\"><title>K_INTENSE</title>\n",
       "<g id=\"a_node5\"><a xlink:title=\"K_INTENSE\">\n",
       "<polygon fill=\"#63b8ff\" stroke=\"black\" points=\"91,-59 0,-59 0,-23 91,-23 91,-59\"/>\n",
       "<text text-anchor=\"start\" x=\"6.5\" y=\"-36.8\" font-family=\"Times New Roman,serif\" font-size=\"14.00\" fill=\"blue\">K_INTENSE:</text>\n",
       "</a>\n",
       "</g>\n",
       "</g>\n",
       "<!-- K&#45;&gt;K_INTENSE -->\n",
       "<g id=\"edge3\" class=\"edge\"><title>K-&gt;K_INTENSE</title>\n",
       "<path fill=\"none\" stroke=\"black\" d=\"M99.1051,-310.966C89.5837,-263.192 62.5646,-127.623 50.9341,-69.2658\"/>\n",
       "<polygon fill=\"black\" stroke=\"black\" points=\"54.3363,-68.4295 48.9492,-59.3065 47.4713,-69.7977 54.3363,-68.4295\"/>\n",
       "</g>\n",
       "<!-- L -->\n",
       "<g id=\"node2\" class=\"node\"><title>L</title>\n",
       "<g id=\"a_node2\"><a xlink:title=\"L\">\n",
       "<polygon fill=\"#63b8ff\" stroke=\"black\" points=\"118.5,-419 64.5,-419 64.5,-383 118.5,-383 118.5,-419\"/>\n",
       "<text text-anchor=\"start\" x=\"85.5\" y=\"-396.8\" font-family=\"Times New Roman,serif\" font-size=\"14.00\" fill=\"blue\">L:</text>\n",
       "</a>\n",
       "</g>\n",
       "</g>\n",
       "<!-- L&#45;&gt;Y -->\n",
       "<g id=\"edge1\" class=\"edge\"><title>L-&gt;Y</title>\n",
       "<path fill=\"none\" stroke=\"black\" d=\"M111.089,-382.645C120.742,-373.056 131.733,-360.391 138.5,-347 148.269,-327.668 153.024,-303.518 155.333,-285.254\"/>\n",
       "<polygon fill=\"black\" stroke=\"black\" points=\"158.818,-285.583 156.43,-275.261 151.86,-284.82 158.818,-285.583\"/>\n",
       "</g>\n",
       "<!-- L&#45;&gt;K_INTENSE -->\n",
       "<g id=\"edge4\" class=\"edge\"><title>L-&gt;K_INTENSE</title>\n",
       "<path fill=\"none\" stroke=\"black\" d=\"M77.7152,-382.789C58.635,-357.179 26.5,-306.803 26.5,-258 26.5,-258 26.5,-258 26.5,-184 26.5,-143.86 34.0507,-97.897 39.6322,-69.4045\"/>\n",
       "<polygon fill=\"black\" stroke=\"black\" points=\"43.1061,-69.8834 41.6551,-59.3884 36.2446,-68.4976 43.1061,-69.8834\"/>\n",
       "</g>\n",
       "<!-- I -->\n",
       "<g id=\"node4\" class=\"node\"><title>I</title>\n",
       "<g id=\"a_node4\"><a xlink:title=\"I\">\n",
       "<polygon fill=\"#63b8ff\" stroke=\"black\" points=\"167.5,-131 113.5,-131 113.5,-95 167.5,-95 167.5,-131\"/>\n",
       "<text text-anchor=\"start\" x=\"136.5\" y=\"-108.8\" font-family=\"Times New Roman,serif\" font-size=\"14.00\" fill=\"blue\">I:</text>\n",
       "</a>\n",
       "</g>\n",
       "</g>\n",
       "<!-- Y&#45;&gt;I -->\n",
       "<g id=\"edge7\" class=\"edge\"><title>Y-&gt;I</title>\n",
       "<path fill=\"none\" stroke=\"black\" d=\"M155.449,-238.871C152.552,-214.67 147.229,-170.211 143.779,-141.393\"/>\n",
       "<polygon fill=\"black\" stroke=\"black\" points=\"147.222,-140.702 142.558,-131.189 140.271,-141.534 147.222,-140.702\"/>\n",
       "</g>\n",
       "<!-- C -->\n",
       "<g id=\"node6\" class=\"node\"><title>C</title>\n",
       "<g id=\"a_node6\"><a xlink:title=\"C\">\n",
       "<polygon fill=\"#63b8ff\" stroke=\"black\" points=\"222.5,-203 168.5,-203 168.5,-167 222.5,-167 222.5,-203\"/>\n",
       "<text text-anchor=\"start\" x=\"189.5\" y=\"-180.8\" font-family=\"Times New Roman,serif\" font-size=\"14.00\" fill=\"blue\">C:</text>\n",
       "</a>\n",
       "</g>\n",
       "</g>\n",
       "<!-- Y&#45;&gt;C -->\n",
       "<g id=\"edge5\" class=\"edge\"><title>Y-&gt;C</title>\n",
       "<path fill=\"none\" stroke=\"black\" d=\"M166.893,-238.697C171.265,-230.644 176.557,-220.894 181.395,-211.982\"/>\n",
       "<polygon fill=\"black\" stroke=\"black\" points=\"184.52,-213.563 186.215,-203.104 178.368,-210.223 184.52,-213.563\"/>\n",
       "</g>\n",
       "<!-- I&#45;&gt;K -->\n",
       "<g id=\"edge2\" class=\"edge\"><title>I-&gt;K</title>\n",
       "<path fill=\"none\" stroke=\"black\" d=\"M137.44,-131.232C130.84,-168.403 115.223,-256.352 107.295,-300.996\"/>\n",
       "<polygon fill=\"black\" stroke=\"black\" points=\"103.848,-300.391 105.545,-310.849 110.74,-301.615 103.848,-300.391\"/>\n",
       "</g>\n",
       "<!-- C&#45;&gt;I -->\n",
       "<g id=\"edge6\" class=\"edge\"><title>C-&gt;I</title>\n",
       "<path fill=\"none\" stroke=\"black\" d=\"M181.904,-166.697C175.377,-158.389 167.432,-148.277 160.253,-139.141\"/>\n",
       "<polygon fill=\"black\" stroke=\"black\" points=\"162.869,-136.805 153.939,-131.104 157.365,-141.13 162.869,-136.805\"/>\n",
       "</g>\n",
       "</g>\n",
       "</svg>"
      ],
      "text/plain": [
       "<IPython.core.display.SVG object>"
      ]
     },
     "metadata": {},
     "output_type": "display_data"
    }
   ],
   "source": [
    "msolow.drawendo(sink = 'K_INTENSE',source='L',size=(5,5))"
   ]
  },
  {
   "cell_type": "code",
   "execution_count": 6,
   "metadata": {
    "cell_style": "split"
   },
   "outputs": [
    {
     "data": {
      "image/png": "[encoded data removed]",
      "text/plain": [
       "<Figure size 360x360 with 1 Axes>"
      ]
     },
     "metadata": {
      "needs_background": "light"
     },
     "output_type": "display_data"
    }
   ],
   "source": [
    "msolow.plotadjacency();"
   ]
  },
  {
   "cell_type": "markdown",
   "metadata": {
    "code_folding": [],
    "slideshow": {
     "slide_type": "slide"
    }
   },
   "source": [
    "# Create DataFrame with baseline exogenous "
   ]
  },
  {
   "cell_type": "code",
   "execution_count": 7,
   "metadata": {
    "slideshow": {
     "slide_type": "-"
    }
   },
   "outputs": [
    {
     "data": {
      "text/html": [
       "<div>\n",
       "<style scoped>\n",
       "    .dataframe tbody tr th:only-of-type {\n",
       "        vertical-align: middle;\n",
       "    }\n",
       "\n",
       "    .dataframe tbody tr th {\n",
       "        vertical-align: top;\n",
       "    }\n",
       "\n",
       "    .dataframe thead th {\n",
       "        text-align: right;\n",
       "    }\n",
       "</style>\n",
       "<table border=\"1\" class=\"dataframe\">\n",
       "  <thead>\n",
       "    <tr style=\"text-align: right;\">\n",
       "      <th></th>\n",
       "      <th>L</th>\n",
       "      <th>K</th>\n",
       "      <th>ALFA</th>\n",
       "      <th>A</th>\n",
       "      <th>DEPRECIATES_RATE</th>\n",
       "      <th>LABOR_GROWTH</th>\n",
       "      <th>SAVING_RATIO</th>\n",
       "    </tr>\n",
       "  </thead>\n",
       "  <tbody>\n",
       "    <tr>\n",
       "      <th>0</th>\n",
       "      <td>100</td>\n",
       "      <td>100</td>\n",
       "      <td>0.5</td>\n",
       "      <td>1.0</td>\n",
       "      <td>0.05</td>\n",
       "      <td>0.01</td>\n",
       "      <td>0.05</td>\n",
       "    </tr>\n",
       "    <tr>\n",
       "      <th>1</th>\n",
       "      <td>100</td>\n",
       "      <td>100</td>\n",
       "      <td>0.5</td>\n",
       "      <td>1.0</td>\n",
       "      <td>0.05</td>\n",
       "      <td>0.01</td>\n",
       "      <td>0.05</td>\n",
       "    </tr>\n",
       "    <tr>\n",
       "      <th>2</th>\n",
       "      <td>100</td>\n",
       "      <td>100</td>\n",
       "      <td>0.5</td>\n",
       "      <td>1.0</td>\n",
       "      <td>0.05</td>\n",
       "      <td>0.01</td>\n",
       "      <td>0.05</td>\n",
       "    </tr>\n",
       "    <tr>\n",
       "      <th>3</th>\n",
       "      <td>100</td>\n",
       "      <td>100</td>\n",
       "      <td>0.5</td>\n",
       "      <td>1.0</td>\n",
       "      <td>0.05</td>\n",
       "      <td>0.01</td>\n",
       "      <td>0.05</td>\n",
       "    </tr>\n",
       "    <tr>\n",
       "      <th>4</th>\n",
       "      <td>100</td>\n",
       "      <td>100</td>\n",
       "      <td>0.5</td>\n",
       "      <td>1.0</td>\n",
       "      <td>0.05</td>\n",
       "      <td>0.01</td>\n",
       "      <td>0.05</td>\n",
       "    </tr>\n",
       "  </tbody>\n",
       "</table>\n",
       "</div>"
      ],
      "text/plain": [
       "     L    K  ALFA    A  DEPRECIATES_RATE  LABOR_GROWTH  SAVING_RATIO\n",
       "0  100  100   0.5  1.0              0.05          0.01          0.05\n",
       "1  100  100   0.5  1.0              0.05          0.01          0.05\n",
       "2  100  100   0.5  1.0              0.05          0.01          0.05\n",
       "3  100  100   0.5  1.0              0.05          0.01          0.05\n",
       "4  100  100   0.5  1.0              0.05          0.01          0.05"
      ]
     },
     "metadata": {},
     "output_type": "display_data"
    }
   ],
   "source": [
    "N = 300  \n",
    "df = pd.DataFrame({'L':[100]*N,'K':[100]*N})\n",
    "df.loc[:,'ALFA'] = 0.5\n",
    "df.loc[:,'A'] = 1.\n",
    "df.loc[:,'DEPRECIATES_RATE'] = 0.05\n",
    "df.loc[:,'LABOR_GROWTH'] = 0.01\n",
    "df.loc[:,'SAVING_RATIO'] = 0.05\n",
    "display(df.head())"
   ]
  },
  {
   "cell_type": "markdown",
   "metadata": {
    "slideshow": {
     "slide_type": "slide"
    }
   },
   "source": [
    "# Run Baseline"
   ]
  },
  {
   "cell_type": "code",
   "execution_count": 8,
   "metadata": {
    "slideshow": {
     "slide_type": "-"
    }
   },
   "outputs": [
    {
     "data": {
      "text/html": [
       "<div>\n",
       "<style scoped>\n",
       "    .dataframe tbody tr th:only-of-type {\n",
       "        vertical-align: middle;\n",
       "    }\n",
       "\n",
       "    .dataframe tbody tr th {\n",
       "        vertical-align: top;\n",
       "    }\n",
       "\n",
       "    .dataframe thead th {\n",
       "        text-align: right;\n",
       "    }\n",
       "</style>\n",
       "<table border=\"1\" class=\"dataframe\">\n",
       "  <thead>\n",
       "    <tr style=\"text-align: right;\">\n",
       "      <th></th>\n",
       "      <th>L</th>\n",
       "      <th>K</th>\n",
       "      <th>ALFA</th>\n",
       "      <th>A</th>\n",
       "      <th>DEPRECIATES_RATE</th>\n",
       "      <th>LABOR_GROWTH</th>\n",
       "      <th>SAVING_RATIO</th>\n",
       "      <th>Y</th>\n",
       "      <th>K_INTENSE</th>\n",
       "      <th>C</th>\n",
       "      <th>I</th>\n",
       "    </tr>\n",
       "  </thead>\n",
       "  <tbody>\n",
       "    <tr>\n",
       "      <th>0</th>\n",
       "      <td>100.000000</td>\n",
       "      <td>100.000000</td>\n",
       "      <td>0.5</td>\n",
       "      <td>1.0</td>\n",
       "      <td>0.05</td>\n",
       "      <td>0.01</td>\n",
       "      <td>0.05</td>\n",
       "      <td>0.000000</td>\n",
       "      <td>0.000000</td>\n",
       "      <td>0.000000</td>\n",
       "      <td>0.000000</td>\n",
       "    </tr>\n",
       "    <tr>\n",
       "      <th>1</th>\n",
       "      <td>101.000000</td>\n",
       "      <td>100.025580</td>\n",
       "      <td>0.5</td>\n",
       "      <td>1.0</td>\n",
       "      <td>0.05</td>\n",
       "      <td>0.01</td>\n",
       "      <td>0.05</td>\n",
       "      <td>100.511609</td>\n",
       "      <td>0.990352</td>\n",
       "      <td>95.486029</td>\n",
       "      <td>5.025580</td>\n",
       "    </tr>\n",
       "    <tr>\n",
       "      <th>2</th>\n",
       "      <td>102.010000</td>\n",
       "      <td>100.076226</td>\n",
       "      <td>0.5</td>\n",
       "      <td>1.0</td>\n",
       "      <td>0.05</td>\n",
       "      <td>0.01</td>\n",
       "      <td>0.05</td>\n",
       "      <td>101.038487</td>\n",
       "      <td>0.981043</td>\n",
       "      <td>95.986562</td>\n",
       "      <td>5.051924</td>\n",
       "    </tr>\n",
       "    <tr>\n",
       "      <th>3</th>\n",
       "      <td>103.030100</td>\n",
       "      <td>100.151443</td>\n",
       "      <td>0.5</td>\n",
       "      <td>1.0</td>\n",
       "      <td>0.05</td>\n",
       "      <td>0.01</td>\n",
       "      <td>0.05</td>\n",
       "      <td>101.580575</td>\n",
       "      <td>0.972060</td>\n",
       "      <td>96.501546</td>\n",
       "      <td>5.079029</td>\n",
       "    </tr>\n",
       "    <tr>\n",
       "      <th>4</th>\n",
       "      <td>104.060401</td>\n",
       "      <td>100.250762</td>\n",
       "      <td>0.5</td>\n",
       "      <td>1.0</td>\n",
       "      <td>0.05</td>\n",
       "      <td>0.01</td>\n",
       "      <td>0.05</td>\n",
       "      <td>102.137821</td>\n",
       "      <td>0.963390</td>\n",
       "      <td>97.030930</td>\n",
       "      <td>5.106891</td>\n",
       "    </tr>\n",
       "  </tbody>\n",
       "</table>\n",
       "</div>"
      ],
      "text/plain": [
       "            L           K  ALFA    A  DEPRECIATES_RATE  LABOR_GROWTH  \\\n",
       "0  100.000000  100.000000   0.5  1.0              0.05          0.01   \n",
       "1  101.000000  100.025580   0.5  1.0              0.05          0.01   \n",
       "2  102.010000  100.076226   0.5  1.0              0.05          0.01   \n",
       "3  103.030100  100.151443   0.5  1.0              0.05          0.01   \n",
       "4  104.060401  100.250762   0.5  1.0              0.05          0.01   \n",
       "\n",
       "   SAVING_RATIO           Y  K_INTENSE          C         I  \n",
       "0          0.05    0.000000   0.000000   0.000000  0.000000  \n",
       "1          0.05  100.511609   0.990352  95.486029  5.025580  \n",
       "2          0.05  101.038487   0.981043  95.986562  5.051924  \n",
       "3          0.05  101.580575   0.972060  96.501546  5.079029  \n",
       "4          0.05  102.137821   0.963390  97.030930  5.106891  "
      ]
     },
     "metadata": {},
     "output_type": "display_data"
    }
   ],
   "source": [
    "res1 = msolow(df)\n",
    "display(res1.head())"
   ]
  },
  {
   "cell_type": "markdown",
   "metadata": {
    "slideshow": {
     "slide_type": "slide"
    }
   },
   "source": [
    "# Create interactive widgets \n",
    "If you are not familiar with Python and Ipywidgets, don't try to understand the code. \n",
    "Just notice that it is fairly short. \n",
    "\n",
    "You can try different parameter values"
   ]
  },
  {
   "cell_type": "code",
   "execution_count": 9,
   "metadata": {
    "cell_style": "split"
   },
   "outputs": [
    {
     "data": {
      "application/vnd.jupyter.widget-view+json": {
       "model_id": "5be9947856df440e86a4eb9e71c15774",
       "version_major": 2,
       "version_minor": 0
      },
      "text/plain": [
       "VBox(children=(HBox(children=(Label(value='Input new parameter ', layout=Layout(width='52%')), Label(value='Al…"
      ]
     },
     "metadata": {},
     "output_type": "display_data"
    },
    {
     "data": {
      "application/vnd.jupyter.widget-view+json": {
       "model_id": "aa428ae3fe0341d293792140b73a7a20",
       "version_major": 2,
       "version_minor": 0
      },
      "text/plain": [
       "VBox(children=(Tab(children=(VBox(children=(Tab(children=(Output(), Output(), Output(), Output()), _titles={'0…"
      ]
     },
     "metadata": {},
     "output_type": "display_data"
    }
   ],
   "source": [
    "slidedef =      {'Productivity'     : {'var':'ALFA',             'value': 0.5 ,'min':0.0, 'max':1.0},\n",
    "                 'DEPRECIATES_RATE' : {'var':'DEPRECIATES_RATE', 'value': 0.05,'min':0.0, 'max':1.0}, \n",
    "                 'LABOR_GROWTH'     : {'var':'LABOR_GROWTH',     'value': 0.01,'min':0.0, 'max':1.0},\n",
    "                 'SAVING_RATIO'     : {'var': 'SAVING_RATIO',    'value': 0.05,'min':0.0, 'max':1.0}\n",
    "                        }       \n",
    "\n",
    "input = msolow.inputwidget(basedf=res1,slidedef=slidedef,showout=True,varpat='Y C I K L K_INTENSE')"
   ]
  },
  {
   "cell_type": "code",
   "execution_count": null,
   "metadata": {},
   "outputs": [],
   "source": []
  }
 ],
 "metadata": {
  "celltoolbar": "Slideshow",
  "kernelspec": {
   "display_name": "Python 3",
   "language": "python",
   "name": "python3"
  },
  "language_info": {
   "codemirror_mode": {
    "name": "ipython",
    "version": 3
   },
   "file_extension": ".py",
   "mimetype": "text/x-python",
   "name": "python",
   "nbconvert_exporter": "python",
   "pygments_lexer": "ipython3",
   "version": "3.8.6"
  },
  "toc": {
   "base_numbering": 1,
   "nav_menu": {},
   "number_sections": true,
   "sideBar": true,
   "skip_h1_title": false,
   "title_cell": "Table of Contents",
   "title_sidebar": "Contents",
   "toc_cell": false,
   "toc_position": {},
   "toc_section_display": true,
   "toc_window_display": false
  },
  "varInspector": {
   "cols": {
    "lenName": 16,
    "lenType": 16,
    "lenVar": 40
   },
   "kernels_config": {
    "python": {
     "delete_cmd_postfix": "",
     "delete_cmd_prefix": "del ",
     "library": "var_list.py",
     "varRefreshCmd": "print(var_dic_list())"
    },
    "r": {
     "delete_cmd_postfix": ") ",
     "delete_cmd_prefix": "rm(",
     "library": "var_list.r",
     "varRefreshCmd": "cat(var_dic_list()) "
    }
   },
   "oldHeight": 122.4,
   "position": {
    "height": "143.68px",
    "left": "945.36px",
    "right": "20px",
    "top": "120px",
    "width": "250px"
   },
   "types_to_exclude": [
    "module",
    "function",
    "builtin_function_or_method",
    "instance",
    "_Feature"
   ],
   "varInspector_section_display": "block",
   "window_display": false
  }
 },
 "nbformat": 4,
 "nbformat_minor": 4
}
