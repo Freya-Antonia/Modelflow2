{
 "cells": [
  {
   "cell_type": "markdown",
   "metadata": {
    "slideshow": {
     "slide_type": "slide"
    }
   },
   "source": [
    "# A notebook with a simple Solow model \n",
    "You ca run each cell by pressing the run tool or shift+enter"
   ]
  },
  {
   "cell_type": "markdown",
   "metadata": {
    "slideshow": {
     "slide_type": "slide"
    }
   },
   "source": [
    "# Import Python libraries"
   ]
  },
  {
   "cell_type": "code",
   "execution_count": 1,
   "metadata": {
    "slideshow": {
     "slide_type": "-"
    }
   },
   "outputs": [
    {
     "data": {
      "text/html": [
       "\n",
       "            <style>\n",
       "                div#notebook-container    { width: 95%; }\n",
       "                div#menubar-container     { width: 65%; }\n",
       "                div#maintoolbar-container { width: 99%; }\n",
       "            </style>\n",
       "            "
      ],
      "text/plain": [
       "<IPython.core.display.HTML object>"
      ]
     },
     "metadata": {},
     "output_type": "display_data"
    },
    {
     "data": {
      "text/html": [
       "            <script>\n",
       "                // AUTORUN ALL CELLS ON NOTEBOOK-LOAD!\n",
       "                require(\n",
       "                    ['base/js/namespace', 'jquery'], \n",
       "                    function(jupyter, $) {\n",
       "                        $(jupyter.events).on('kernel_ready.Kernel', function () {\n",
       "                            console.log('Auto-running all cells-below...');\n",
       "                            jupyter.actions.call('jupyter-notebook:run-all-cells-below');\n",
       "                            jupyter.actions.call('jupyter-notebook:save-notebook');\n",
       "                        });\n",
       "                    }\n",
       "                );\n",
       "            </script>"
      ],
      "text/plain": [
       "<IPython.core.display.HTML object>"
      ]
     },
     "metadata": {},
     "output_type": "display_data"
    }
   ],
   "source": [
    "%matplotlib inline\n",
    "import pandas as pd\n",
    "from modelclass import model\n",
    "model.modelflow_auto()"
   ]
  },
  {
   "cell_type": "markdown",
   "metadata": {
    "slideshow": {
     "slide_type": "slide"
    }
   },
   "source": [
    "# Specify the model \n",
    "The explode function will rewrite the business logic."
   ]
  },
  {
   "cell_type": "code",
   "execution_count": 2,
   "metadata": {
    "slideshow": {
     "slide_type": "-"
    }
   },
   "outputs": [
    {
     "name": "stdout",
     "output_type": "stream",
     "text": [
      "Y         = a * k**alfa * l **(1-alfa) \n",
      "C         = (1-SAVING_RATIO)  * Y \n",
      "I         = Y - C \n",
      "diff(K)   = I-depreciates_rate * K(-1)\n",
      "diff(l)   = labor_growth * L(-1) \n",
      "K_intense = K/L \n",
      "\n"
     ]
    }
   ],
   "source": [
    "fsolow = '''\\\n",
    "Y         = a * k**alfa * l **(1-alfa) \n",
    "C         = (1-SAVING_RATIO)  * Y \n",
    "I         = Y - C \n",
    "diff(K)   = I-depreciates_rate * K(-1)\n",
    "diff(l)   = labor_growth * L(-1) \n",
    "K_intense = K/L \n",
    "'''\n",
    "print(fsolow)"
   ]
  },
  {
   "cell_type": "markdown",
   "metadata": {
    "slideshow": {
     "slide_type": "slide"
    }
   },
   "source": [
    "# Create a model class instance"
   ]
  },
  {
   "cell_type": "code",
   "execution_count": 3,
   "metadata": {
    "slideshow": {
     "slide_type": "-"
    }
   },
   "outputs": [
    {
     "name": "stdout",
     "output_type": "stream",
     "text": [
      "FRML <> Y         = A * K**ALFA * L **(1-ALFA)  $\n",
      "FRML <> C         = (1-SAVING_RATIO)  * Y  $\n",
      "FRML <> I         = Y - C  $\n",
      "FRML <> K=K(-1)+(I-DEPRECIATES_RATE * K(-1))$\n",
      "FRML <> L=L(-1)+(LABOR_GROWTH * L(-1))$\n",
      "FRML <> K_INTENSE = K/L  $\n"
     ]
    }
   ],
   "source": [
    "msolow = model.from_eq(fsolow,modelname='Solow model')\n",
    "print(msolow.equations)  "
   ]
  },
  {
   "cell_type": "markdown",
   "metadata": {
    "slideshow": {
     "slide_type": "slide"
    }
   },
   "source": [
    "# Show model structure"
   ]
  },
  {
   "cell_type": "code",
   "execution_count": 4,
   "metadata": {
    "slideshow": {
     "slide_type": "subslide"
    }
   },
   "outputs": [
    {
     "data": {
      "image/svg+xml": [
       "<svg xmlns=\"http://www.w3.org/2000/svg\" xmlns:xlink=\"http://www.w3.org/1999/xlink\" width=\"360pt\" height=\"103pt\" viewBox=\"0.00 0.00 360.00 103.27\">\n",
       "<g id=\"graph0\" class=\"graph\" transform=\"scale(0.36961 0.36961) rotate(0) translate(4 275.403)\">\n",
       "<title>TD</title>\n",
       "<polygon fill=\"white\" stroke=\"none\" points=\"-4,4 -4,-275.403 970,-275.403 970,4 -4,4\"/>\n",
       "<text text-anchor=\"middle\" x=\"483\" y=\"-7.8\" font-family=\"Times New Roman,serif\" font-size=\"14.00\">A_model_graph</text>\n",
       "<!-- LABOR_GROWTH -->\n",
       "<g id=\"node1\" class=\"node\"><title>LABOR_GROWTH</title>\n",
       "<g id=\"a_node1\"><a xlink:title=\"LABOR_GROWTH\n",
       "Exogen\">\n",
       "<polygon fill=\"yellow\" stroke=\"black\" points=\"133,-243 0,-243 0,-207 133,-207 133,-243\"/>\n",
       "<text text-anchor=\"start\" x=\"6.5\" y=\"-220.8\" font-family=\"Times New Roman,serif\" font-size=\"14.00\" fill=\"blue\">LABOR_GROWTH:</text>\n",
       "</a>\n",
       "</g>\n",
       "</g>\n",
       "<!-- L -->\n",
       "<g id=\"node2\" class=\"node\"><title>L</title>\n",
       "<g id=\"a_node2\"><a xlink:title=\"L\n",
       "FRML &lt;&gt; L=L(-1)+(LABOR_GROWTH * L(-1))$\">\n",
       "<polygon fill=\"#63b8ff\" stroke=\"black\" points=\"223,-243 169,-243 169,-207 223,-207 223,-243\"/>\n",
       "<text text-anchor=\"start\" x=\"190\" y=\"-220.8\" font-family=\"Times New Roman,serif\" font-size=\"14.00\" fill=\"blue\">L:</text>\n",
       "</a>\n",
       "</g>\n",
       "</g>\n",
       "<!-- LABOR_GROWTH&#45;&gt;L -->\n",
       "<g id=\"edge3\" class=\"edge\"><title>LABOR_GROWTH-&gt;L</title>\n",
       "<g id=\"a_edge3\"><a xlink:href=\"bogus\" xlink:title=\"NA\">\n",
       "<path fill=\"none\" stroke=\"black\" stroke-width=\"0.5\" d=\"M133.117,-225C141.942,-225 150.719,-225 158.771,-225\"/>\n",
       "<polygon fill=\"black\" stroke=\"black\" stroke-width=\"0.5\" points=\"158.881,-228.5 168.881,-225 158.881,-221.5 158.881,-228.5\"/>\n",
       "</a>\n",
       "</g>\n",
       "</g>\n",
       "<!-- Y -->\n",
       "<g id=\"node4\" class=\"node\"><title>Y</title>\n",
       "<g id=\"a_node4\"><a xlink:title=\"Y\n",
       "FRML &lt;&gt; Y         = A * K**ALFA * L **(1-ALFA)  $\">\n",
       "<polygon fill=\"#63b8ff\" stroke=\"black\" points=\"345.5,-135 291.5,-135 291.5,-99 345.5,-99 345.5,-135\"/>\n",
       "<text text-anchor=\"start\" x=\"312.5\" y=\"-112.8\" font-family=\"Times New Roman,serif\" font-size=\"14.00\" fill=\"blue\">Y:</text>\n",
       "</a>\n",
       "</g>\n",
       "</g>\n",
       "<!-- L&#45;&gt;Y -->\n",
       "<g id=\"edge13\" class=\"edge\"><title>L-&gt;Y</title>\n",
       "<g id=\"a_edge13\"><a xlink:href=\"bogus\" xlink:title=\"NA\">\n",
       "<path fill=\"none\" stroke=\"black\" stroke-width=\"0.5\" d=\"M207.284,-206.84C218.19,-188.919 236.878,-161.705 259,-144 265.905,-138.474 274.124,-133.786 282.188,-129.945\"/>\n",
       "<polygon fill=\"black\" stroke=\"black\" stroke-width=\"0.5\" points=\"283.766,-133.074 291.494,-125.827 280.933,-126.673 283.766,-133.074\"/>\n",
       "</a>\n",
       "</g>\n",
       "</g>\n",
       "<!-- L(&#45;1) -->\n",
       "<g id=\"node6\" class=\"node\"><title>L(-1)</title>\n",
       "<g id=\"a_node6\"><a xlink:title=\"L\n",
       "FRML &lt;&gt; L=L(-1)+(LABOR_GROWTH * L(-1))$\">\n",
       "<polygon fill=\"springgreen\" stroke=\"black\" points=\"345.5,-243 291.5,-243 291.5,-207 345.5,-207 345.5,-243\"/>\n",
       "<text text-anchor=\"start\" x=\"298.5\" y=\"-220.8\" font-family=\"Times New Roman,serif\" font-size=\"14.00\" fill=\"blue\">L(-1):L</text>\n",
       "</a>\n",
       "</g>\n",
       "</g>\n",
       "<!-- L&#45;&gt;L(&#45;1) -->\n",
       "<g id=\"edge9\" class=\"edge\"><title>L-&gt;L(-1)</title>\n",
       "<g id=\"a_edge9\"><a xlink:href=\"bogus\" xlink:title=\"NA\">\n",
       "<path fill=\"none\" stroke=\"black\" stroke-width=\"0.5\" d=\"M223.147,-219.322C240.122,-218.121 262.481,-217.929 281.174,-218.747\"/>\n",
       "<polygon fill=\"black\" stroke=\"black\" stroke-width=\"0.5\" points=\"281.223,-222.255 291.404,-219.325 281.618,-215.267 281.223,-222.255\"/>\n",
       "</a>\n",
       "</g>\n",
       "</g>\n",
       "<!-- K_INTENSE -->\n",
       "<g id=\"node13\" class=\"node\"><title>K_INTENSE</title>\n",
       "<g id=\"a_node13\"><a xlink:title=\"K_INTENSE\n",
       "FRML &lt;&gt; K_INTENSE = K/L  $\">\n",
       "<polygon fill=\"#63b8ff\" stroke=\"black\" points=\"966,-208 875,-208 875,-172 966,-172 966,-208\"/>\n",
       "<text text-anchor=\"start\" x=\"881.5\" y=\"-185.8\" font-family=\"Times New Roman,serif\" font-size=\"14.00\" fill=\"blue\">K_INTENSE:</text>\n",
       "</a>\n",
       "</g>\n",
       "</g>\n",
       "<!-- L&#45;&gt;K_INTENSE -->\n",
       "<g id=\"edge14\" class=\"edge\"><title>L-&gt;K_INTENSE</title>\n",
       "<g id=\"a_edge14\"><a xlink:href=\"bogus\" xlink:title=\"NA\">\n",
       "<path fill=\"none\" stroke=\"black\" stroke-width=\"0.5\" d=\"M223.215,-238.539C234.028,-243.557 246.853,-248.799 259,-252 337.216,-272.611 359.114,-271 440,-271 440,-271 440,-271 722,-271 782.899,-271 846.993,-237.625 885.087,-213.722\"/>\n",
       "<polygon fill=\"black\" stroke=\"black\" stroke-width=\"0.5\" points=\"887.205,-216.522 893.733,-208.178 883.426,-210.63 887.205,-216.522\"/>\n",
       "</a>\n",
       "</g>\n",
       "</g>\n",
       "<!-- A -->\n",
       "<g id=\"node3\" class=\"node\"><title>A</title>\n",
       "<g id=\"a_node3\"><a xlink:title=\"A\n",
       "Exogen\">\n",
       "<polygon fill=\"yellow\" stroke=\"black\" points=\"223,-162 169,-162 169,-126 223,-126 223,-162\"/>\n",
       "<text text-anchor=\"start\" x=\"190\" y=\"-139.8\" font-family=\"Times New Roman,serif\" font-size=\"14.00\" fill=\"blue\">A:</text>\n",
       "</a>\n",
       "</g>\n",
       "</g>\n",
       "<!-- A&#45;&gt;Y -->\n",
       "<g id=\"edge5\" class=\"edge\"><title>A-&gt;Y</title>\n",
       "<g id=\"a_edge5\"><a xlink:href=\"bogus\" xlink:title=\"NA\">\n",
       "<path fill=\"none\" stroke=\"black\" stroke-width=\"0.5\" d=\"M223.147,-138.141C240.2,-134.32 262.69,-129.281 281.434,-125.081\"/>\n",
       "<polygon fill=\"black\" stroke=\"black\" stroke-width=\"0.5\" points=\"282.412,-128.449 291.404,-122.847 280.881,-121.618 282.412,-128.449\"/>\n",
       "</a>\n",
       "</g>\n",
       "</g>\n",
       "<!-- C -->\n",
       "<g id=\"node8\" class=\"node\"><title>C</title>\n",
       "<g id=\"a_node8\"><a xlink:title=\"C\n",
       "FRML &lt;&gt; C         = (1-SAVING_RATIO)  * Y  $\">\n",
       "<polygon fill=\"#63b8ff\" stroke=\"black\" points=\"468,-189 414,-189 414,-153 468,-153 468,-189\"/>\n",
       "<text text-anchor=\"start\" x=\"435\" y=\"-166.8\" font-family=\"Times New Roman,serif\" font-size=\"14.00\" fill=\"blue\">C:</text>\n",
       "</a>\n",
       "</g>\n",
       "</g>\n",
       "<!-- Y&#45;&gt;C -->\n",
       "<g id=\"edge17\" class=\"edge\"><title>Y-&gt;C</title>\n",
       "<g id=\"a_edge17\"><a xlink:href=\"bogus\" xlink:title=\"NA\">\n",
       "<path fill=\"none\" stroke=\"black\" stroke-width=\"0.5\" d=\"M345.647,-128.717C362.937,-136.466 385.815,-146.718 404.713,-155.187\"/>\n",
       "<polygon fill=\"black\" stroke=\"black\" stroke-width=\"0.5\" points=\"403.347,-158.41 413.904,-159.306 406.21,-152.022 403.347,-158.41\"/>\n",
       "</a>\n",
       "</g>\n",
       "</g>\n",
       "<!-- I -->\n",
       "<g id=\"node10\" class=\"node\"><title>I</title>\n",
       "<g id=\"a_node10\"><a xlink:title=\"I\n",
       "FRML &lt;&gt; I         = Y - C  $\">\n",
       "<polygon fill=\"#63b8ff\" stroke=\"black\" points=\"608,-151 554,-151 554,-115 608,-115 608,-151\"/>\n",
       "<text text-anchor=\"start\" x=\"577\" y=\"-128.8\" font-family=\"Times New Roman,serif\" font-size=\"14.00\" fill=\"blue\">I:</text>\n",
       "</a>\n",
       "</g>\n",
       "</g>\n",
       "<!-- Y&#45;&gt;I -->\n",
       "<g id=\"edge8\" class=\"edge\"><title>Y-&gt;I</title>\n",
       "<g id=\"a_edge8\"><a xlink:href=\"bogus\" xlink:title=\"NA\">\n",
       "<path fill=\"none\" stroke=\"black\" stroke-width=\"0.5\" d=\"M345.912,-118.622C392.841,-121.505 490.805,-127.522 543.911,-130.783\"/>\n",
       "<polygon fill=\"black\" stroke=\"black\" stroke-width=\"0.5\" points=\"543.71,-134.278 553.906,-131.397 544.139,-127.291 543.71,-134.278\"/>\n",
       "</a>\n",
       "</g>\n",
       "</g>\n",
       "<!-- ALFA -->\n",
       "<g id=\"node5\" class=\"node\"><title>ALFA</title>\n",
       "<g id=\"a_node5\"><a xlink:title=\"ALFA\n",
       "Exogen\">\n",
       "<polygon fill=\"yellow\" stroke=\"black\" points=\"223,-108 169,-108 169,-72 223,-72 223,-108\"/>\n",
       "<text text-anchor=\"start\" x=\"176\" y=\"-85.8\" font-family=\"Times New Roman,serif\" font-size=\"14.00\" fill=\"blue\">ALFA:</text>\n",
       "</a>\n",
       "</g>\n",
       "</g>\n",
       "<!-- ALFA&#45;&gt;Y -->\n",
       "<g id=\"edge4\" class=\"edge\"><title>ALFA-&gt;Y</title>\n",
       "<g id=\"a_edge4\"><a xlink:href=\"bogus\" xlink:title=\"NA\">\n",
       "<path fill=\"none\" stroke=\"black\" stroke-width=\"0.5\" d=\"M223.147,-95.8586C240.2,-99.6798 262.69,-104.719 281.434,-108.919\"/>\n",
       "<polygon fill=\"black\" stroke=\"black\" stroke-width=\"0.5\" points=\"280.881,-112.382 291.404,-111.153 282.412,-105.551 280.881,-112.382\"/>\n",
       "</a>\n",
       "</g>\n",
       "</g>\n",
       "<!-- L(&#45;1)&#45;&gt;L -->\n",
       "<g id=\"edge10\" class=\"edge\"><title>L(-1)-&gt;L</title>\n",
       "<g id=\"a_edge10\"><a xlink:href=\"bogus\" xlink:title=\"NA\">\n",
       "<path fill=\"none\" stroke=\"black\" stroke-width=\"0.5\" d=\"M291.404,-230.675C274.44,-231.878 252.082,-232.071 233.383,-231.255\"/>\n",
       "<polygon fill=\"black\" stroke=\"black\" stroke-width=\"0.5\" points=\"233.328,-227.747 223.147,-230.678 232.934,-234.736 233.328,-227.747\"/>\n",
       "</a>\n",
       "</g>\n",
       "</g>\n",
       "<!-- SAVING_RATIO -->\n",
       "<g id=\"node7\" class=\"node\"><title>SAVING_RATIO</title>\n",
       "<g id=\"a_node7\"><a xlink:title=\"SAVING_RATIO\n",
       "Exogen\">\n",
       "<polygon fill=\"yellow\" stroke=\"black\" points=\"378,-189 259,-189 259,-153 378,-153 378,-189\"/>\n",
       "<text text-anchor=\"start\" x=\"265.5\" y=\"-166.8\" font-family=\"Times New Roman,serif\" font-size=\"14.00\" fill=\"blue\">SAVING_RATIO:</text>\n",
       "</a>\n",
       "</g>\n",
       "</g>\n",
       "<!-- SAVING_RATIO&#45;&gt;C -->\n",
       "<g id=\"edge16\" class=\"edge\"><title>SAVING_RATIO-&gt;C</title>\n",
       "<g id=\"a_edge16\"><a xlink:href=\"bogus\" xlink:title=\"NA\">\n",
       "<path fill=\"none\" stroke=\"black\" stroke-width=\"0.5\" d=\"M378.338,-171C386.978,-171 395.657,-171 403.664,-171\"/>\n",
       "<polygon fill=\"black\" stroke=\"black\" stroke-width=\"0.5\" points=\"403.742,-174.5 413.742,-171 403.742,-167.5 403.742,-174.5\"/>\n",
       "</a>\n",
       "</g>\n",
       "</g>\n",
       "<!-- C&#45;&gt;I -->\n",
       "<g id=\"edge1\" class=\"edge\"><title>C-&gt;I</title>\n",
       "<g id=\"a_edge1\"><a xlink:href=\"bogus\" xlink:title=\"NA\">\n",
       "<path fill=\"none\" stroke=\"black\" stroke-width=\"0.5\" d=\"M468.282,-163.763C489.768,-157.847 520.365,-149.421 544.107,-142.884\"/>\n",
       "<polygon fill=\"black\" stroke=\"black\" stroke-width=\"0.5\" points=\"545.104,-146.239 553.816,-140.21 543.246,-139.49 545.104,-146.239\"/>\n",
       "</a>\n",
       "</g>\n",
       "</g>\n",
       "<!-- K -->\n",
       "<g id=\"node9\" class=\"node\"><title>K</title>\n",
       "<g id=\"a_node9\"><a xlink:title=\"K\n",
       "FRML &lt;&gt; K=K(-1)+(I-DEPRECIATES_RATE * K(-1))$\">\n",
       "<polygon fill=\"#63b8ff\" stroke=\"black\" points=\"748,-128 694,-128 694,-92 748,-92 748,-128\"/>\n",
       "<text text-anchor=\"start\" x=\"715\" y=\"-105.8\" font-family=\"Times New Roman,serif\" font-size=\"14.00\" fill=\"blue\">K:</text>\n",
       "</a>\n",
       "</g>\n",
       "</g>\n",
       "<!-- K&#45;&gt;Y -->\n",
       "<g id=\"edge15\" class=\"edge\"><title>K-&gt;Y</title>\n",
       "<g id=\"a_edge15\"><a xlink:href=\"bogus\" xlink:title=\"NA\">\n",
       "<path fill=\"none\" stroke=\"black\" stroke-width=\"0.5\" d=\"M693.772,-107.933C682.735,-107.16 669.751,-106.379 658,-106 589.591,-103.796 572.414,-103.962 504,-106 452.622,-107.53 393.302,-111.452 356.096,-114.174\"/>\n",
       "<polygon fill=\"black\" stroke=\"black\" stroke-width=\"0.5\" points=\"355.467,-110.711 345.754,-114.941 355.985,-117.692 355.467,-110.711\"/>\n",
       "</a>\n",
       "</g>\n",
       "</g>\n",
       "<!-- K(&#45;1) -->\n",
       "<g id=\"node12\" class=\"node\"><title>K(-1)</title>\n",
       "<g id=\"a_node12\"><a xlink:title=\"K\n",
       "FRML &lt;&gt; K=K(-1)+(I-DEPRECIATES_RATE * K(-1))$\">\n",
       "<polygon fill=\"springgreen\" stroke=\"black\" points=\"839,-151 784,-151 784,-115 839,-115 839,-151\"/>\n",
       "<text text-anchor=\"start\" x=\"790.5\" y=\"-128.8\" font-family=\"Times New Roman,serif\" font-size=\"14.00\" fill=\"blue\">K(-1):K</text>\n",
       "</a>\n",
       "</g>\n",
       "</g>\n",
       "<!-- K&#45;&gt;K(&#45;1) -->\n",
       "<g id=\"edge2\" class=\"edge\"><title>K-&gt;K(-1)</title>\n",
       "<g id=\"a_edge2\"><a xlink:href=\"bogus\" xlink:title=\"NA\">\n",
       "<path fill=\"none\" stroke=\"black\" stroke-width=\"0.5\" d=\"M748.074,-110.56C756.298,-112.187 765.536,-114.443 774.333,-116.952\"/>\n",
       "<polygon fill=\"black\" stroke=\"black\" stroke-width=\"0.5\" points=\"773.415,-120.331 784,-119.871 775.438,-113.629 773.415,-120.331\"/>\n",
       "</a>\n",
       "</g>\n",
       "</g>\n",
       "<!-- K&#45;&gt;K_INTENSE -->\n",
       "<g id=\"edge12\" class=\"edge\"><title>K-&gt;K_INTENSE</title>\n",
       "<g id=\"a_edge12\"><a xlink:href=\"bogus\" xlink:title=\"NA\">\n",
       "<path fill=\"none\" stroke=\"black\" stroke-width=\"0.5\" d=\"M748.262,-102.949C772.771,-97.7633 809.838,-93.5558 839,-106 866.188,-117.602 888.598,-143.39 902.808,-163.353\"/>\n",
       "<polygon fill=\"black\" stroke=\"black\" stroke-width=\"0.5\" points=\"900.031,-165.492 908.567,-171.768 905.808,-161.539 900.031,-165.492\"/>\n",
       "</a>\n",
       "</g>\n",
       "</g>\n",
       "<!-- I&#45;&gt;K -->\n",
       "<g id=\"edge11\" class=\"edge\"><title>I-&gt;K</title>\n",
       "<g id=\"a_edge11\"><a xlink:href=\"bogus\" xlink:title=\"NA\">\n",
       "<path fill=\"none\" stroke=\"black\" stroke-width=\"0.5\" d=\"M608.282,-128.62C629.672,-125.055 660.092,-119.985 683.789,-116.035\"/>\n",
       "<polygon fill=\"black\" stroke=\"black\" stroke-width=\"0.5\" points=\"684.528,-119.46 693.816,-114.364 683.377,-112.556 684.528,-119.46\"/>\n",
       "</a>\n",
       "</g>\n",
       "</g>\n",
       "<!-- DEPRECIATES_RATE -->\n",
       "<g id=\"node11\" class=\"node\"><title>DEPRECIATES_RATE</title>\n",
       "<g id=\"a_node11\"><a xlink:title=\"DEPRECIATES_RATE\n",
       "Exogen\">\n",
       "<polygon fill=\"yellow\" stroke=\"black\" points=\"658,-59 504,-59 504,-23 658,-23 658,-59\"/>\n",
       "<text text-anchor=\"start\" x=\"510\" y=\"-36.8\" font-family=\"Times New Roman,serif\" font-size=\"14.00\" fill=\"blue\">DEPRECIATES_RATE:</text>\n",
       "</a>\n",
       "</g>\n",
       "</g>\n",
       "<!-- DEPRECIATES_RATE&#45;&gt;K -->\n",
       "<g id=\"edge7\" class=\"edge\"><title>DEPRECIATES_RATE-&gt;K</title>\n",
       "<g id=\"a_edge7\"><a xlink:href=\"bogus\" xlink:title=\"NA\">\n",
       "<path fill=\"none\" stroke=\"black\" stroke-width=\"0.5\" d=\"M627.884,-59.1017C637.928,-63.4004 648.419,-68.1537 658,-73 666.966,-77.535 676.395,-82.8575 685.119,-88.0297\"/>\n",
       "<polygon fill=\"black\" stroke=\"black\" stroke-width=\"0.5\" points=\"683.535,-91.1613 693.906,-93.3261 687.149,-85.1661 683.535,-91.1613\"/>\n",
       "</a>\n",
       "</g>\n",
       "</g>\n",
       "<!-- K(&#45;1)&#45;&gt;K -->\n",
       "<g id=\"edge6\" class=\"edge\"><title>K(-1)-&gt;K</title>\n",
       "<g id=\"a_edge6\"><a xlink:href=\"bogus\" xlink:title=\"NA\">\n",
       "<path fill=\"none\" stroke=\"black\" stroke-width=\"0.5\" d=\"M784,-132.355C775.741,-130.707 766.494,-128.435 757.713,-125.918\"/>\n",
       "<polygon fill=\"black\" stroke=\"black\" stroke-width=\"0.5\" points=\"758.66,-122.548 748.074,-122.992 756.626,-129.246 758.66,-122.548\"/>\n",
       "</a>\n",
       "</g>\n",
       "</g>\n",
       "</g>\n",
       "</svg>"
      ],
      "text/plain": [
       "<IPython.core.display.SVG object>"
      ]
     },
     "metadata": {},
     "output_type": "display_data"
    }
   ],
   "source": [
    "msolow.drawmodel(sink = 'K_INTENSE',size=(5,5))"
   ]
  },
  {
   "cell_type": "markdown",
   "metadata": {
    "slideshow": {
     "slide_type": "slide"
    }
   },
   "source": [
    "# Show solving structure (only current year)"
   ]
  },
  {
   "cell_type": "code",
   "execution_count": 5,
   "metadata": {
    "cell_style": "split",
    "slideshow": {
     "slide_type": "subslide"
    }
   },
   "outputs": [
    {
     "data": {
      "image/svg+xml": [
       "<svg xmlns=\"http://www.w3.org/2000/svg\" xmlns:xlink=\"http://www.w3.org/1999/xlink\" width=\"360pt\" height=\"112pt\" viewBox=\"0.00 0.00 360.00 112.13\">\n",
       "<g id=\"graph0\" class=\"graph\" transform=\"scale(0.655738 0.655738) rotate(0) translate(4 167)\">\n",
       "<title>TD</title>\n",
       "<polygon fill=\"white\" stroke=\"none\" points=\"-4,4 -4,-167 545,-167 545,4 -4,4\"/>\n",
       "<text text-anchor=\"middle\" x=\"270.5\" y=\"-7.8\" font-family=\"Times New Roman,serif\" font-size=\"14.00\">A_model_graph</text>\n",
       "<!-- L -->\n",
       "<g id=\"node1\" class=\"node\"><title>L</title>\n",
       "<g id=\"a_node1\"><a xlink:title=\"L\n",
       "FRML &lt;&gt; L=L(-1)+(LABOR_GROWTH * L(-1))$\">\n",
       "<polygon fill=\"#63b8ff\" stroke=\"black\" points=\"54,-71 0,-71 0,-35 54,-35 54,-71\"/>\n",
       "<text text-anchor=\"start\" x=\"21\" y=\"-48.8\" font-family=\"Times New Roman,serif\" font-size=\"14.00\" fill=\"blue\">L:</text>\n",
       "</a>\n",
       "</g>\n",
       "</g>\n",
       "<!-- Y -->\n",
       "<g id=\"node2\" class=\"node\"><title>Y</title>\n",
       "<g id=\"a_node2\"><a xlink:title=\"Y\n",
       "FRML &lt;&gt; Y         = A * K**ALFA * L **(1-ALFA)  $\">\n",
       "<polygon fill=\"#63b8ff\" stroke=\"black\" points=\"144,-102 90,-102 90,-66 144,-66 144,-102\"/>\n",
       "<text text-anchor=\"start\" x=\"111\" y=\"-79.8\" font-family=\"Times New Roman,serif\" font-size=\"14.00\" fill=\"blue\">Y:</text>\n",
       "</a>\n",
       "</g>\n",
       "</g>\n",
       "<!-- L&#45;&gt;Y -->\n",
       "<g id=\"edge5\" class=\"edge\"><title>L-&gt;Y</title>\n",
       "<g id=\"a_edge5\"><a xlink:href=\"bogus\" xlink:title=\"NA\">\n",
       "<path fill=\"none\" stroke=\"black\" stroke-width=\"0.5\" d=\"M54.4029,-62.301C62.5689,-65.1777 71.703,-68.3954 80.3848,-71.4537\"/>\n",
       "<polygon fill=\"black\" stroke=\"black\" stroke-width=\"0.5\" points=\"79.3242,-74.7909 89.919,-74.8124 81.65,-68.1886 79.3242,-74.7909\"/>\n",
       "</a>\n",
       "</g>\n",
       "</g>\n",
       "<!-- K_INTENSE -->\n",
       "<g id=\"node6\" class=\"node\"><title>K_INTENSE</title>\n",
       "<g id=\"a_node6\"><a xlink:title=\"K_INTENSE\n",
       "FRML &lt;&gt; K_INTENSE = K/L  $\">\n",
       "<polygon fill=\"#63b8ff\" stroke=\"black\" points=\"541,-64 450,-64 450,-28 541,-28 541,-64\"/>\n",
       "<text text-anchor=\"start\" x=\"456.5\" y=\"-41.8\" font-family=\"Times New Roman,serif\" font-size=\"14.00\" fill=\"blue\">K_INTENSE:</text>\n",
       "</a>\n",
       "</g>\n",
       "</g>\n",
       "<!-- L&#45;&gt;K_INTENSE -->\n",
       "<g id=\"edge6\" class=\"edge\"><title>L-&gt;K_INTENSE</title>\n",
       "<g id=\"a_edge6\"><a xlink:href=\"bogus\" xlink:title=\"NA\">\n",
       "<path fill=\"none\" stroke=\"black\" stroke-width=\"0.5\" d=\"M54.0078,-45.8143C88.4756,-36.939 151.314,-23 206,-23 206,-23 206,-23 298,-23 346.185,-23 400.569,-29.907 439.888,-36.1509\"/>\n",
       "<polygon fill=\"black\" stroke=\"black\" stroke-width=\"0.5\" points=\"439.368,-39.6122 449.799,-37.7614 440.49,-32.7028 439.368,-39.6122\"/>\n",
       "</a>\n",
       "</g>\n",
       "</g>\n",
       "<!-- C -->\n",
       "<g id=\"node3\" class=\"node\"><title>C</title>\n",
       "<g id=\"a_node3\"><a xlink:title=\"C\n",
       "FRML &lt;&gt; C         = (1-SAVING_RATIO)  * Y  $\">\n",
       "<polygon fill=\"#63b8ff\" stroke=\"black\" points=\"234,-163 180,-163 180,-127 234,-127 234,-163\"/>\n",
       "<text text-anchor=\"start\" x=\"201\" y=\"-140.8\" font-family=\"Times New Roman,serif\" font-size=\"14.00\" fill=\"blue\">C:</text>\n",
       "</a>\n",
       "</g>\n",
       "</g>\n",
       "<!-- Y&#45;&gt;C -->\n",
       "<g id=\"edge8\" class=\"edge\"><title>Y-&gt;C</title>\n",
       "<g id=\"a_edge8\"><a xlink:href=\"bogus\" xlink:title=\"NA\">\n",
       "<path fill=\"none\" stroke=\"black\" stroke-width=\"0.5\" d=\"M144.403,-102.302C152.92,-108.206 162.49,-114.84 171.502,-121.087\"/>\n",
       "<polygon fill=\"black\" stroke=\"black\" stroke-width=\"0.5\" points=\"169.706,-124.101 179.919,-126.921 173.694,-118.348 169.706,-124.101\"/>\n",
       "</a>\n",
       "</g>\n",
       "</g>\n",
       "<!-- I -->\n",
       "<g id=\"node5\" class=\"node\"><title>I</title>\n",
       "<g id=\"a_node5\"><a xlink:title=\"I\n",
       "FRML &lt;&gt; I         = Y - C  $\">\n",
       "<polygon fill=\"#63b8ff\" stroke=\"black\" points=\"324,-125 270,-125 270,-89 324,-89 324,-125\"/>\n",
       "<text text-anchor=\"start\" x=\"293\" y=\"-102.8\" font-family=\"Times New Roman,serif\" font-size=\"14.00\" fill=\"blue\">I:</text>\n",
       "</a>\n",
       "</g>\n",
       "</g>\n",
       "<!-- Y&#45;&gt;I -->\n",
       "<g id=\"edge2\" class=\"edge\"><title>Y-&gt;I</title>\n",
       "<g id=\"a_edge2\"><a xlink:href=\"bogus\" xlink:title=\"NA\">\n",
       "<path fill=\"none\" stroke=\"black\" stroke-width=\"0.5\" d=\"M144.265,-87.3937C174.851,-91.3459 225.551,-97.897 259.843,-102.328\"/>\n",
       "<polygon fill=\"black\" stroke=\"black\" stroke-width=\"0.5\" points=\"259.552,-105.819 269.918,-103.63 260.449,-98.8771 259.552,-105.819\"/>\n",
       "</a>\n",
       "</g>\n",
       "</g>\n",
       "<!-- C&#45;&gt;I -->\n",
       "<g id=\"edge1\" class=\"edge\"><title>C-&gt;I</title>\n",
       "<g id=\"a_edge1\"><a xlink:href=\"bogus\" xlink:title=\"NA\">\n",
       "<path fill=\"none\" stroke=\"black\" stroke-width=\"0.5\" d=\"M234.403,-133.599C242.657,-130.035 251.9,-126.043 260.665,-122.258\"/>\n",
       "<polygon fill=\"black\" stroke=\"black\" stroke-width=\"0.5\" points=\"262.126,-125.44 269.919,-118.262 259.351,-119.013 262.126,-125.44\"/>\n",
       "</a>\n",
       "</g>\n",
       "</g>\n",
       "<!-- K -->\n",
       "<g id=\"node4\" class=\"node\"><title>K</title>\n",
       "<g id=\"a_node4\"><a xlink:title=\"K\n",
       "FRML &lt;&gt; K=K(-1)+(I-DEPRECIATES_RATE * K(-1))$\">\n",
       "<polygon fill=\"#63b8ff\" stroke=\"black\" points=\"414,-87 360,-87 360,-51 414,-51 414,-87\"/>\n",
       "<text text-anchor=\"start\" x=\"381\" y=\"-64.8\" font-family=\"Times New Roman,serif\" font-size=\"14.00\" fill=\"blue\">K:</text>\n",
       "</a>\n",
       "</g>\n",
       "</g>\n",
       "<!-- K&#45;&gt;Y -->\n",
       "<g id=\"edge7\" class=\"edge\"><title>K-&gt;Y</title>\n",
       "<g id=\"a_edge7\"><a xlink:href=\"bogus\" xlink:title=\"NA\">\n",
       "<path fill=\"none\" stroke=\"black\" stroke-width=\"0.5\" d=\"M359.709,-70.4715C311.596,-73.1644 209.3,-78.8899 154.485,-81.9579\"/>\n",
       "<polygon fill=\"black\" stroke=\"black\" stroke-width=\"0.5\" points=\"153.974,-78.481 144.185,-82.5344 154.365,-85.47 153.974,-78.481\"/>\n",
       "</a>\n",
       "</g>\n",
       "</g>\n",
       "<!-- K&#45;&gt;K_INTENSE -->\n",
       "<g id=\"edge4\" class=\"edge\"><title>K-&gt;K_INTENSE</title>\n",
       "<g id=\"a_edge4\"><a xlink:href=\"bogus\" xlink:title=\"NA\">\n",
       "<path fill=\"none\" stroke=\"black\" stroke-width=\"0.5\" d=\"M414.053,-63.3736C421.838,-61.6923 430.683,-59.782 439.59,-57.8584\"/>\n",
       "<polygon fill=\"black\" stroke=\"black\" stroke-width=\"0.5\" points=\"440.584,-61.2245 449.62,-55.6924 439.107,-54.3823 440.584,-61.2245\"/>\n",
       "</a>\n",
       "</g>\n",
       "</g>\n",
       "<!-- I&#45;&gt;K -->\n",
       "<g id=\"edge3\" class=\"edge\"><title>I-&gt;K</title>\n",
       "<g id=\"a_edge3\"><a xlink:href=\"bogus\" xlink:title=\"NA\">\n",
       "<path fill=\"none\" stroke=\"black\" stroke-width=\"0.5\" d=\"M324.403,-95.5987C332.657,-92.0346 341.9,-88.0434 350.665,-84.2584\"/>\n",
       "<polygon fill=\"black\" stroke=\"black\" stroke-width=\"0.5\" points=\"352.126,-87.4399 359.919,-80.2623 349.351,-81.0135 352.126,-87.4399\"/>\n",
       "</a>\n",
       "</g>\n",
       "</g>\n",
       "</g>\n",
       "</svg>"
      ],
      "text/plain": [
       "<IPython.core.display.SVG object>"
      ]
     },
     "metadata": {},
     "output_type": "display_data"
    }
   ],
   "source": [
    "msolow.drawendo(sink = 'K_INTENSE',source='L',size=(5,5))"
   ]
  },
  {
   "cell_type": "code",
   "execution_count": 6,
   "metadata": {
    "cell_style": "split"
   },
   "outputs": [
    {
     "data": {
      "image/png": "[encoded data removed]",
      "text/plain": [
       "<Figure size 360x360 with 1 Axes>"
      ]
     },
     "metadata": {
      "needs_background": "light"
     },
     "output_type": "display_data"
    }
   ],
   "source": [
    "msolow.plotadjacency();"
   ]
  },
  {
   "cell_type": "markdown",
   "metadata": {
    "code_folding": [],
    "slideshow": {
     "slide_type": "slide"
    }
   },
   "source": [
    "# Create DataFrame with baseline exogenous "
   ]
  },
  {
   "cell_type": "code",
   "execution_count": 7,
   "metadata": {
    "slideshow": {
     "slide_type": "-"
    }
   },
   "outputs": [
    {
     "data": {
      "text/html": [
       "<div>\n",
       "<style scoped>\n",
       "    .dataframe tbody tr th:only-of-type {\n",
       "        vertical-align: middle;\n",
       "    }\n",
       "\n",
       "    .dataframe tbody tr th {\n",
       "        vertical-align: top;\n",
       "    }\n",
       "\n",
       "    .dataframe thead th {\n",
       "        text-align: right;\n",
       "    }\n",
       "</style>\n",
       "<table border=\"1\" class=\"dataframe\">\n",
       "  <thead>\n",
       "    <tr style=\"text-align: right;\">\n",
       "      <th></th>\n",
       "      <th>L</th>\n",
       "      <th>K</th>\n",
       "      <th>ALFA</th>\n",
       "      <th>A</th>\n",
       "      <th>DEPRECIATES_RATE</th>\n",
       "      <th>LABOR_GROWTH</th>\n",
       "      <th>SAVING_RATIO</th>\n",
       "    </tr>\n",
       "  </thead>\n",
       "  <tbody>\n",
       "    <tr>\n",
       "      <th>0</th>\n",
       "      <td>100</td>\n",
       "      <td>100</td>\n",
       "      <td>0.5</td>\n",
       "      <td>1.0</td>\n",
       "      <td>0.05</td>\n",
       "      <td>0.01</td>\n",
       "      <td>0.05</td>\n",
       "    </tr>\n",
       "    <tr>\n",
       "      <th>1</th>\n",
       "      <td>100</td>\n",
       "      <td>100</td>\n",
       "      <td>0.5</td>\n",
       "      <td>1.0</td>\n",
       "      <td>0.05</td>\n",
       "      <td>0.01</td>\n",
       "      <td>0.05</td>\n",
       "    </tr>\n",
       "    <tr>\n",
       "      <th>2</th>\n",
       "      <td>100</td>\n",
       "      <td>100</td>\n",
       "      <td>0.5</td>\n",
       "      <td>1.0</td>\n",
       "      <td>0.05</td>\n",
       "      <td>0.01</td>\n",
       "      <td>0.05</td>\n",
       "    </tr>\n",
       "    <tr>\n",
       "      <th>3</th>\n",
       "      <td>100</td>\n",
       "      <td>100</td>\n",
       "      <td>0.5</td>\n",
       "      <td>1.0</td>\n",
       "      <td>0.05</td>\n",
       "      <td>0.01</td>\n",
       "      <td>0.05</td>\n",
       "    </tr>\n",
       "    <tr>\n",
       "      <th>4</th>\n",
       "      <td>100</td>\n",
       "      <td>100</td>\n",
       "      <td>0.5</td>\n",
       "      <td>1.0</td>\n",
       "      <td>0.05</td>\n",
       "      <td>0.01</td>\n",
       "      <td>0.05</td>\n",
       "    </tr>\n",
       "  </tbody>\n",
       "</table>\n",
       "</div>"
      ],
      "text/plain": [
       "     L    K  ALFA    A  DEPRECIATES_RATE  LABOR_GROWTH  SAVING_RATIO\n",
       "0  100  100   0.5  1.0              0.05          0.01          0.05\n",
       "1  100  100   0.5  1.0              0.05          0.01          0.05\n",
       "2  100  100   0.5  1.0              0.05          0.01          0.05\n",
       "3  100  100   0.5  1.0              0.05          0.01          0.05\n",
       "4  100  100   0.5  1.0              0.05          0.01          0.05"
      ]
     },
     "metadata": {},
     "output_type": "display_data"
    }
   ],
   "source": [
    "N = 300  \n",
    "df = pd.DataFrame({'L':[100]*N,'K':[100]*N})\n",
    "df.loc[:,'ALFA'] = 0.5\n",
    "df.loc[:,'A'] = 1.\n",
    "df.loc[:,'DEPRECIATES_RATE'] = 0.05\n",
    "df.loc[:,'LABOR_GROWTH'] = 0.01\n",
    "df.loc[:,'SAVING_RATIO'] = 0.05\n",
    "display(df.head())"
   ]
  },
  {
   "cell_type": "markdown",
   "metadata": {
    "slideshow": {
     "slide_type": "slide"
    }
   },
   "source": [
    "# Run Baseline"
   ]
  },
  {
   "cell_type": "code",
   "execution_count": 8,
   "metadata": {
    "slideshow": {
     "slide_type": "-"
    }
   },
   "outputs": [
    {
     "data": {
      "text/html": [
       "<div>\n",
       "<style scoped>\n",
       "    .dataframe tbody tr th:only-of-type {\n",
       "        vertical-align: middle;\n",
       "    }\n",
       "\n",
       "    .dataframe tbody tr th {\n",
       "        vertical-align: top;\n",
       "    }\n",
       "\n",
       "    .dataframe thead th {\n",
       "        text-align: right;\n",
       "    }\n",
       "</style>\n",
       "<table border=\"1\" class=\"dataframe\">\n",
       "  <thead>\n",
       "    <tr style=\"text-align: right;\">\n",
       "      <th></th>\n",
       "      <th>L</th>\n",
       "      <th>K</th>\n",
       "      <th>ALFA</th>\n",
       "      <th>A</th>\n",
       "      <th>DEPRECIATES_RATE</th>\n",
       "      <th>LABOR_GROWTH</th>\n",
       "      <th>SAVING_RATIO</th>\n",
       "      <th>C</th>\n",
       "      <th>Y</th>\n",
       "      <th>I</th>\n",
       "      <th>K_INTENSE</th>\n",
       "    </tr>\n",
       "  </thead>\n",
       "  <tbody>\n",
       "    <tr>\n",
       "      <th>0</th>\n",
       "      <td>100.000000</td>\n",
       "      <td>100.000000</td>\n",
       "      <td>0.5</td>\n",
       "      <td>1.0</td>\n",
       "      <td>0.05</td>\n",
       "      <td>0.01</td>\n",
       "      <td>0.05</td>\n",
       "      <td>0.000000</td>\n",
       "      <td>0.000000</td>\n",
       "      <td>0.000000</td>\n",
       "      <td>0.000000</td>\n",
       "    </tr>\n",
       "    <tr>\n",
       "      <th>1</th>\n",
       "      <td>101.000000</td>\n",
       "      <td>100.025580</td>\n",
       "      <td>0.5</td>\n",
       "      <td>1.0</td>\n",
       "      <td>0.05</td>\n",
       "      <td>0.01</td>\n",
       "      <td>0.05</td>\n",
       "      <td>95.486029</td>\n",
       "      <td>100.511609</td>\n",
       "      <td>5.025580</td>\n",
       "      <td>0.990352</td>\n",
       "    </tr>\n",
       "    <tr>\n",
       "      <th>2</th>\n",
       "      <td>102.010000</td>\n",
       "      <td>100.076226</td>\n",
       "      <td>0.5</td>\n",
       "      <td>1.0</td>\n",
       "      <td>0.05</td>\n",
       "      <td>0.01</td>\n",
       "      <td>0.05</td>\n",
       "      <td>95.986562</td>\n",
       "      <td>101.038487</td>\n",
       "      <td>5.051924</td>\n",
       "      <td>0.981043</td>\n",
       "    </tr>\n",
       "    <tr>\n",
       "      <th>3</th>\n",
       "      <td>103.030100</td>\n",
       "      <td>100.151443</td>\n",
       "      <td>0.5</td>\n",
       "      <td>1.0</td>\n",
       "      <td>0.05</td>\n",
       "      <td>0.01</td>\n",
       "      <td>0.05</td>\n",
       "      <td>96.501546</td>\n",
       "      <td>101.580575</td>\n",
       "      <td>5.079029</td>\n",
       "      <td>0.972060</td>\n",
       "    </tr>\n",
       "    <tr>\n",
       "      <th>4</th>\n",
       "      <td>104.060401</td>\n",
       "      <td>100.250762</td>\n",
       "      <td>0.5</td>\n",
       "      <td>1.0</td>\n",
       "      <td>0.05</td>\n",
       "      <td>0.01</td>\n",
       "      <td>0.05</td>\n",
       "      <td>97.030930</td>\n",
       "      <td>102.137821</td>\n",
       "      <td>5.106891</td>\n",
       "      <td>0.963390</td>\n",
       "    </tr>\n",
       "  </tbody>\n",
       "</table>\n",
       "</div>"
      ],
      "text/plain": [
       "            L           K  ALFA    A  DEPRECIATES_RATE  LABOR_GROWTH  \\\n",
       "0  100.000000  100.000000   0.5  1.0              0.05          0.01   \n",
       "1  101.000000  100.025580   0.5  1.0              0.05          0.01   \n",
       "2  102.010000  100.076226   0.5  1.0              0.05          0.01   \n",
       "3  103.030100  100.151443   0.5  1.0              0.05          0.01   \n",
       "4  104.060401  100.250762   0.5  1.0              0.05          0.01   \n",
       "\n",
       "   SAVING_RATIO          C           Y         I  K_INTENSE  \n",
       "0          0.05   0.000000    0.000000  0.000000   0.000000  \n",
       "1          0.05  95.486029  100.511609  5.025580   0.990352  \n",
       "2          0.05  95.986562  101.038487  5.051924   0.981043  \n",
       "3          0.05  96.501546  101.580575  5.079029   0.972060  \n",
       "4          0.05  97.030930  102.137821  5.106891   0.963390  "
      ]
     },
     "metadata": {},
     "output_type": "display_data"
    }
   ],
   "source": [
    "res1 = msolow(df)\n",
    "display(res1.head())"
   ]
  },
  {
   "cell_type": "markdown",
   "metadata": {
    "slideshow": {
     "slide_type": "slide"
    }
   },
   "source": [
    "# Create interactive widgets \n",
    "If you are not familiar with Python and Ipywidgets, don't try to understand the code. \n",
    "Just notice that it is fairly short. \n",
    "\n",
    "You can try different parameter values"
   ]
  },
  {
   "cell_type": "code",
   "execution_count": 9,
   "metadata": {},
   "outputs": [],
   "source": [
    "slidedef =      {'Productivity'     : {'var':'ALFA',             'value': 0.5 ,'min':0.0, 'max':1.0},\n",
    "                 'DEPRECIATES_RATE' : {'var':'DEPRECIATES_RATE', 'value': 0.05,'min':0.0, 'max':1.0}, \n",
    "                 'LABOR_GROWTH'     : {'var':'LABOR_GROWTH',     'value': 0.01,'min':0.0, 'max':1.0},\n",
    "                 'SAVING_RATIO'     : {'var': 'SAVING_RATIO',    'value': 0.05,'min':0.0, 'max':1.0}\n",
    "                        }  "
   ]
  },
  {
   "cell_type": "code",
   "execution_count": 10,
   "metadata": {
    "slideshow": {
     "slide_type": "slide"
    }
   },
   "outputs": [
    {
     "data": {
      "application/vnd.jupyter.widget-view+json": {
       "model_id": "b3411a68ceaa44ddb2e8ce6adecc4438",
       "version_major": 2,
       "version_minor": 0
      },
      "text/plain": [
       "VBox(children=(HBox(children=(Label(value='Input new parameter ', layout=Layout(width='52%')), Label(value='Al…"
      ]
     },
     "metadata": {},
     "output_type": "display_data"
    },
    {
     "data": {
      "application/vnd.jupyter.widget-view+json": {
       "model_id": "49cd0db85b6a4c9eabb5208172bfbf97",
       "version_major": 2,
       "version_minor": 0
      },
      "text/plain": [
       "VBox(children=(Tab(children=(VBox(children=(Tab(children=(Output(), Output(), Output(), Output()), _titles={'0…"
      ]
     },
     "metadata": {},
     "output_type": "display_data"
    }
   ],
   "source": [
    "     \n",
    "input = msolow.inputwidget(basedf=res1,slidedef=slidedef,showout=True,varpat='Y C I K L K_INTENSE')"
   ]
  },
  {
   "cell_type": "code",
   "execution_count": null,
   "metadata": {},
   "outputs": [],
   "source": []
  }
 ],
 "metadata": {
  "celltoolbar": "Slideshow",
  "hide_input": false,
  "kernelspec": {
   "display_name": "Python 3 (ipykernel)",
   "language": "python",
   "name": "python3"
  },
  "language_info": {
   "codemirror_mode": {
    "name": "ipython",
    "version": 3
   },
   "file_extension": ".py",
   "mimetype": "text/x-python",
   "name": "python",
   "nbconvert_exporter": "python",
   "pygments_lexer": "ipython3",
   "version": "3.8.8"
  },
  "toc": {
   "base_numbering": 1,
   "nav_menu": {},
   "number_sections": true,
   "sideBar": true,
   "skip_h1_title": false,
   "title_cell": "Table of Contents",
   "title_sidebar": "Contents",
   "toc_cell": false,
   "toc_position": {},
   "toc_section_display": true,
   "toc_window_display": false
  },
  "varInspector": {
   "cols": {
    "lenName": 16,
    "lenType": 16,
    "lenVar": 40
   },
   "kernels_config": {
    "python": {
     "delete_cmd_postfix": "",
     "delete_cmd_prefix": "del ",
     "library": "var_list.py",
     "varRefreshCmd": "print(var_dic_list())"
    },
    "r": {
     "delete_cmd_postfix": ") ",
     "delete_cmd_prefix": "rm(",
     "library": "var_list.r",
     "varRefreshCmd": "cat(var_dic_list()) "
    }
   },
   "oldHeight": 122.4,
   "position": {
    "height": "143.68px",
    "left": "945.36px",
    "right": "20px",
    "top": "120px",
    "width": "250px"
   },
   "types_to_exclude": [
    "module",
    "function",
    "builtin_function_or_method",
    "instance",
    "_Feature"
   ],
   "varInspector_section_display": "block",
   "window_display": false
  }
 },
 "nbformat": 4,
 "nbformat_minor": 4
}
